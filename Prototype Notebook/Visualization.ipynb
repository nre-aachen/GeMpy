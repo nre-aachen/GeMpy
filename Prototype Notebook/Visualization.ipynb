{
 "cells": [
  {
   "cell_type": "code",
   "execution_count": 1,
   "metadata": {
    "collapsed": true
   },
   "outputs": [],
   "source": [
    "# Importing and data\n",
    "import theano.tensor as T\n",
    "import theano\n",
    "import sys, os\n",
    "sys.path.append(\"../GeMpy\")\n",
    "\n",
    "# Importing GeMpy modules\n",
    "import GeMpy\n",
    "\n",
    "# Reloading (only for development purposes)\n",
    "import importlib\n",
    "importlib.reload(GeMpy)\n",
    "\n",
    "# Usuful packages\n",
    "import numpy as np\n",
    "import pandas as pn\n",
    "\n",
    "import matplotlib.pyplot as plt\n",
    "\n",
    "# This was to choose the gpu\n",
    "os.environ['CUDA_LAUNCH_BLOCKING'] = '1'\n",
    "\n",
    "# Default options of printin\n",
    "np.set_printoptions(precision = 6, linewidth= 130, suppress =  True)\n",
    "\n",
    "#%matplotlib inline\n",
    "%matplotlib inline\n",
    "\n",
    "\n",
    "\n",
    "# Setting the extent\n",
    "geo_data = GeMpy.import_data([0,10,0,10,0,10], [50,50,50])\n",
    "\n",
    "\n",
    "# =========================\n",
    "# DATA GENERATION IN PYTHON\n",
    "# =========================\n",
    "# Layers coordinates\n",
    "layer_1 = np.array([[0.5,4,7], [2,4,6.5], [4,4,7], [5,4,6]])#-np.array([5,5,4]))/8+0.5\n",
    "layer_2 = np.array([[3,4,5], [6,4,4],[8,4,4], [7,4,3], [1,4,6]])\n",
    "layers = np.asarray([layer_1,layer_2])\n",
    "\n",
    "# Foliations coordinates\n",
    "dip_pos_1 = np.array([7,4,7])#- np.array([5,5,4]))/8+0.5\n",
    "dip_pos_2 = np.array([2.,4,4])\n",
    "\n",
    "# Dips\n",
    "dip_angle_1 = float(15)\n",
    "dip_angle_2 = float(340)\n",
    "dips_angles = np.asarray([dip_angle_1, dip_angle_2], dtype=\"float64\")\n",
    "\n",
    "# Azimuths\n",
    "azimuths = np.asarray([90,90], dtype=\"float64\")\n",
    "\n",
    "# Polarity\n",
    "polarity = np.asarray([1,1], dtype=\"float64\")\n",
    "\n",
    "# Setting foliations and interfaces values\n",
    "GeMpy.set_interfaces(geo_data, pn.DataFrame(\n",
    "    data = {\"X\" :np.append(layer_1[:, 0],layer_2[:,0]),\n",
    "            \"Y\" :np.append(layer_1[:, 1],layer_2[:,1]),\n",
    "            \"Z\" :np.append(layer_1[:, 2],layer_2[:,2]),\n",
    "            \"formation\" : np.append(\n",
    "               np.tile(\"Layer 1\", len(layer_1)), \n",
    "               np.tile(\"Layer 2\", len(layer_2))),\n",
    "            \"labels\" : [r'${\\bf{x}}_{\\alpha \\, 0}^1$',\n",
    "               r'${\\bf{x}}_{\\alpha \\, 1}^1$',\n",
    "               r'${\\bf{x}}_{\\alpha \\, 2}^1$',\n",
    "               r'${\\bf{x}}_{\\alpha \\, 3}^1$',\n",
    "               r'${\\bf{x}}_{\\alpha \\, 0}^2$',\n",
    "               r'${\\bf{x}}_{\\alpha \\, 1}^2$',\n",
    "               r'${\\bf{x}}_{\\alpha \\, 2}^2$',\n",
    "               r'${\\bf{x}}_{\\alpha \\, 3}^2$',\n",
    "        \n",
    "                        r'${\\bf{x}}_{\\alpha \\, 4}^2$'] }))\n",
    "\n",
    "GeMpy.set_foliations(geo_data,  pn.DataFrame(\n",
    "    data = {\"X\" :np.append(dip_pos_1[0],dip_pos_2[0]),\n",
    "            \"Y\" :np.append(dip_pos_1[ 1],dip_pos_2[1]),\n",
    "            \"Z\" :np.append(dip_pos_1[ 2],dip_pos_2[2]),\n",
    "            \"azimuth\" : azimuths,\n",
    "            \"dip\" : dips_angles,\n",
    "            \"polarity\" : polarity,\n",
    "            \"formation\" : [\"Layer 1\", \"Layer 2\"],\n",
    "            \"labels\" : [r'${\\bf{x}}_{\\beta \\,{0}}$',\n",
    "              r'${\\bf{x}}_{\\beta \\,{1}}$'] })) "
   ]
  },
  {
   "cell_type": "code",
   "execution_count": 7,
   "metadata": {
    "collapsed": true
   },
   "outputs": [],
   "source": [
    "renderer.SetBackground?"
   ]
  },
  {
   "cell_type": "code",
   "execution_count": 90,
   "metadata": {
    "collapsed": false,
    "scrolled": true
   },
   "outputs": [
    {
     "name": "stdout",
     "output_type": "stream",
     "text": [
      "Center: 5.0, 5.0, 1.0\n",
      "Center: 5.0, 5.0, 1.0\n",
      "Center: 5.0, 5.0, 1.0\n",
      "Center: 5.0, 5.0, 1.0\n",
      "Center: 5.0, 5.0, 1.0\n",
      "Center: 5.0, 5.0, 1.0\n",
      "Center: 5.0, 5.0, 1.0\n",
      "Center: 5.0, 5.0, 1.0\n",
      "Center: 5.0, 5.0, 1.0\n",
      "Center: 5.0, 5.0, 1.0\n",
      "Center: 5.0, 5.0, 1.0\n",
      "Center: 0.0, 0.026246149905908234, 0.0\n",
      "Center: 0.0, 0.05246991244410837, 0.0\n",
      "Center: 0.0, 0.05246991244410837, 0.02620143259110852\n",
      "Center: 0.0, 0.07864894388114102, 0.02620143259110852\n",
      "Center: 0.0, 0.10480570271692219, 0.02620143259110852\n",
      "Center: 0.0, 0.10480570271692219, 0.052335976108302484\n",
      "Center: 0.0, 0.13091790233202016, 0.052335976108302484\n",
      "Center: 0.0, 0.1570079438156739, 0.052335976108302484\n",
      "Center: 0.0, 0.20916630747303933, 0.052335976108302484\n",
      "Center: 0.0, 0.23524548930172107, 0.07841515793698611\n",
      "Center: 0.0, 0.2613023843709433, 0.07841515793698611\n",
      "Center: 0.0, 0.28735927944016926, 0.07841515793698611\n",
      "Center: 0.0, 0.3134161745093933, 0.07841515793698611\n",
      "Center: 0.0, 0.3394730695786193, 0.07841515793698611\n",
      "Center: 0.0, 0.3655299646478434, 0.10447205300621021\n",
      "Center: 0.0, 0.39156463000974756, 0.10447205300621021\n",
      "Center: 0.0, 0.41759929537164986, 0.10447205300621021\n",
      "Center: 0.0, 0.4436339607335531, 0.10447205300621021\n",
      "Center: 0.0, 0.4696686260954573, 0.10447205300621021\n",
      "Center: 0.0, 0.5217379568192656, 0.1305067183681125\n",
      "Center: 0.0, 0.6257879275186771, 0.1305067183681125\n",
      "Center: 0.0, 0.7818628835677962, 0.15651921104296534\n",
      "Center: 0.0, 0.9118147682904445, 0.18250958798749634\n",
      "Center: 0.0, 1.067721981031263, 0.18250958798749634\n",
      "Center: 0.0, 1.2236291937720816, 0.18250958798749634\n",
      "Center: 0.0, 1.3535518710560974, 0.18250958798749634\n",
      "Center: 0.0, 1.431505477426506, 0.20849412344430004\n",
      "Center: 0.0, 1.5094590837969162, 0.20849412344430004\n",
      "Center: 0.0, 1.5354436192537197, 0.20849412344430004\n",
      "Center: 0.0, 1.5874126901673262, 0.20849412344430004\n",
      "Center: 0.0, 1.6133972256241282, 0.18250958798749634\n"
     ]
    }
   ],
   "source": [
    "import vtk\n",
    " \n",
    "# Call back function\n",
    "def sphereCallback(obj, event):\n",
    "    camera.SetFocalPoint(5, 5, 5);\n",
    "    camera.SetPosition(0,5,5)\n",
    "    camera.SetViewUp(0,0,1)\n",
    "    renderer.ResetCamera()\n",
    "    print('Center: {}, {}, {}'.format(*obj.GetCenter()))\n",
    " \n",
    "# A renderer and render window\n",
    "renderer = vtk.vtkRenderer()\n",
    "# renderer.SetBackground(10, 10, 10)\n",
    "#renderer.SetBackground(0, 0, 1)\n",
    "renwin = vtk.vtkRenderWindow()\n",
    "renwin.AddRenderer(renderer)\n",
    "renwin.SetSize(700, 700)\n",
    "renwin.SetWindowName('RW: Multiple ViewPorts')\n",
    "#renderer.SetViewport(0.8,0,1,1)\n",
    "\n",
    "# An interactor\n",
    "interactor = vtk.vtkRenderWindowInteractor()\n",
    "interactor.SetRenderWindow(renwin)\n",
    "\n",
    "\n",
    "\n",
    "\n",
    "# A Sphere widget\n",
    "sphereWidget = vtk.vtkSphereWidget()\n",
    "sphereWidget.SetCenter(5,5,1)\n",
    "sphereWidget.SetInteractor(interactor)\n",
    "sphereWidget.SetRepresentationToSurface()\n",
    "sphereWidget.On()\n",
    "\n",
    "sphereWidget2 = vtk.vtkSphereWidget()\n",
    "sphereWidget2.SetInteractor(interactor)\n",
    "sphereWidget2.SetRepresentationToSurface()\n",
    "sphereWidget2.On()\n",
    " \n",
    "# Connect the event to a function\n",
    "sphereWidget.AddObserver(\"InteractionEvent\", sphereCallback)\n",
    "sphereWidget2.AddObserver(\"InteractionEvent\", sphereCallback)\n",
    " \n",
    "    \n",
    "    \n",
    "\n",
    "\n",
    "cubeAxesActor = vtk.vtkCubeAxesActor()\n",
    "cubeAxesActor.SetBounds(0, 10, 0, 10, 0, 10)\n",
    "#cubeAxesActor.SetAxisBaseForZ(0,1,0)\n",
    "#cubeAxesActor.SetAxisBaseForY(0,0,1)\n",
    "cubeAxesActor.SetCamera(renderer.GetActiveCamera())\n",
    "cubeAxesActor.GetTitleTextProperty(0).SetColor(1.0, 0.0, 0.0)\n",
    "cubeAxesActor.GetLabelTextProperty(0).SetColor(1.0, 0.0, 0.0)\n",
    " \n",
    "cubeAxesActor.GetTitleTextProperty(1).SetColor(0.0, 1.0, 0.0)\n",
    "cubeAxesActor.GetLabelTextProperty(1).SetColor(0.0, 1.0, 0.0)\n",
    " \n",
    "cubeAxesActor.GetTitleTextProperty(2).SetColor(1.0, 1.0, 1.0)\n",
    "cubeAxesActor.GetLabelTextProperty(2).SetColor(1.0, 1.0, 1.0)\n",
    " \n",
    "cubeAxesActor.DrawXGridlinesOn()\n",
    "cubeAxesActor.DrawYGridlinesOn()\n",
    "cubeAxesActor.DrawZGridlinesOn()\n",
    "if vtk.VTK_MAJOR_VERSION > 5:\n",
    "    cubeAxesActor.SetGridLineLocation(vtk.VTK_GRID_LINES_FURTHEST)\n",
    " \n",
    "# cubeAxesActor.XAxisMinorTickVisibilityOff()\n",
    "# cubeAxesActor.YAxisMinorTickVisibilityOff()\n",
    "# cubeAxesActor.ZAxisMinorTickVisibilityOff()\n",
    " \n",
    "renderer.AddActor(cubeAxesActor)\n",
    "\n",
    "camera =vtk.vtkCamera ();\n",
    "camera.SetFocalPoint(5, 5, 5);\n",
    "camera.SetPosition(0,5,5)\n",
    "camera.SetViewUp(0,0,1)\n",
    "\n",
    "\n",
    "renderer.SetActiveCamera(camera);\n",
    "\n",
    "renderer.ResetCamera()\n",
    "cubeAxesActor.SetCamera(renderer.GetActiveCamera())\n",
    "\n",
    "\n",
    "# AXES\n",
    "transform = vtk.vtkTransform()\n",
    "transform.Translate(1.0, 0.0, 0.0)\n",
    "\n",
    " \n",
    "# properties of the axes labels can be set as follows\n",
    "# this sets the x axis label to red\n",
    "# axes->GetXAxisCaptionActor2D()->GetCaptionTextProperty()->SetColor(1,0,0);\n",
    " \n",
    "# the actual text of the axis label can be changed:\n",
    "# axes->SetXAxisLabelText(\"test\");\n",
    " \n",
    "#renderer.AddActor(axes)\n",
    "\n",
    "arrowSource = vtk.vtkArrowSource()\n",
    "#arrowSource.SetShaftRadius(0.01)\n",
    "#arrowSource.SetTipLength(.9)\n",
    " \n",
    "# Create a mapper and actor\n",
    "mapper = vtk.vtkPolyDataMapper()\n",
    "mapper.SetInputConnection(arrowSource.GetOutputPort())\n",
    "actor = vtk.vtkActor()\n",
    "actor.SetMapper(mapper)\n",
    "actor.AddObserver(\"InteractionEvent\", sphereCallback)\n",
    "renderer.AddActor(actor)\n",
    "\n",
    "# Start\n",
    "interactor.Initialize()\n",
    "interactor.Start()\n",
    "\n",
    "del renwin, interactor"
   ]
  },
  {
   "cell_type": "code",
   "execution_count": 87,
   "metadata": {
    "collapsed": true
   },
   "outputs": [],
   "source": [
    "axes.SetPosition(-5, -5, - 5)"
   ]
  },
  {
   "cell_type": "code",
   "execution_count": 25,
   "metadata": {
    "collapsed": true
   },
   "outputs": [],
   "source": [
    "camera =vtk.vtkCamera ();\n",
    "camera."
   ]
  },
  {
   "cell_type": "code",
   "execution_count": 37,
   "metadata": {
    "collapsed": false
   },
   "outputs": [
    {
     "ename": "TypeError",
     "evalue": "no overloads of SetEventInformation() take 0 arguments",
     "output_type": "error",
     "traceback": [
      "\u001b[1;31m---------------------------------------------------------------------------\u001b[0m",
      "\u001b[1;31mTypeError\u001b[0m                                 Traceback (most recent call last)",
      "\u001b[1;32m<ipython-input-37-1e87bded737a>\u001b[0m in \u001b[0;36m<module>\u001b[1;34m()\u001b[0m\n\u001b[0;32m      1\u001b[0m \u001b[0minteractor\u001b[0m \u001b[1;33m=\u001b[0m \u001b[0mvtk\u001b[0m\u001b[1;33m.\u001b[0m\u001b[0mvtkRenderWindowInteractor\u001b[0m\u001b[1;33m(\u001b[0m\u001b[1;33m)\u001b[0m\u001b[1;33m\u001b[0m\u001b[0m\n\u001b[1;32m----> 2\u001b[1;33m \u001b[0minteractor\u001b[0m\u001b[1;33m.\u001b[0m\u001b[0mSetEventInformation\u001b[0m\u001b[1;33m(\u001b[0m\u001b[1;33m)\u001b[0m\u001b[1;33m\u001b[0m\u001b[0m\n\u001b[0m",
      "\u001b[1;31mTypeError\u001b[0m: no overloads of SetEventInformation() take 0 arguments"
     ]
    }
   ],
   "source": [
    "interactor = vtk.vtkRenderWindowInteractor()\n",
    "interactor.SetEventInformation()"
   ]
  },
  {
   "cell_type": "code",
   "execution_count": 23,
   "metadata": {
    "collapsed": false
   },
   "outputs": [],
   "source": [
    "renderer = vtk.vtkRenderer()\n",
    "# renderer.SetBackground(10, 10, 10)\n",
    " \n",
    "renderer.SetViewport?"
   ]
  },
  {
   "cell_type": "markdown",
   "metadata": {},
   "source": [
    "### Box limit?"
   ]
  },
  {
   "cell_type": "code",
   "execution_count": 67,
   "metadata": {
    "collapsed": false
   },
   "outputs": [],
   "source": [
    "import vtk\n",
    " \n",
    "# Call back function to resize the cone\n",
    "def boxCallback(obj, event):\n",
    "    t = vtk.vtkTransform()\n",
    "    obj.GetTransform(t)\n",
    "    obj.GetProp3D().SetUserTransform( t )\n",
    "\n",
    "    \n",
    "    \n",
    "    \n",
    "    \n",
    "# A renderer and render window\n",
    "renderer = vtk.vtkRenderer()\n",
    "renderer.SetBackground(0, 0, 1)\n",
    "# renderer.AddActor(coneActor)\n",
    " \n",
    "renwin = vtk.vtkRenderWindow()\n",
    "renwin.AddRenderer(renderer)\n",
    " \n",
    "# An interactor\n",
    "interactor = vtk.vtkRenderWindowInteractor()\n",
    "interactor.SetRenderWindow(renwin)\n",
    "\n",
    "\n",
    "\n",
    "cubeAxesActor = vtk.vtkCubeAxesActor()\n",
    "cubeAxesActor.SetBounds(0, 10, 0, 10, 0, 10)\n",
    "cubeAxesActor.SetCamera(renderer.GetActiveCamera())\n",
    "cubeAxesActor.GetTitleTextProperty(0).SetColor(1.0, 0.0, 0.0)\n",
    "cubeAxesActor.GetLabelTextProperty(0).SetColor(1.0, 0.0, 0.0)\n",
    " \n",
    "cubeAxesActor.GetTitleTextProperty(1).SetColor(0.0, 1.0, 0.0)\n",
    "cubeAxesActor.GetLabelTextProperty(1).SetColor(0.0, 1.0, 0.0)\n",
    " \n",
    "cubeAxesActor.GetTitleTextProperty(2).SetColor(0.0, 0.0, 1.0)\n",
    "cubeAxesActor.GetLabelTextProperty(2).SetColor(0.0, 0.0, 1.0)\n",
    " \n",
    "#cubeAxesActor.DrawXGridlinesOn()\n",
    "#cubeAxesActor.DrawYGridlinesOn()\n",
    "#cubeAxesActor.DrawZGridlinesOn()\n",
    "if vtk.VTK_MAJOR_VERSION > 5:\n",
    "    cubeAxesActor.SetGridLineLocation(vtk.VTK_GRID_LINES_FURTHEST)\n",
    " \n",
    "cubeAxesActor.XAxisMinorTickVisibilityOff()\n",
    "cubeAxesActor.YAxisMinorTickVisibilityOff()\n",
    "cubeAxesActor.ZAxisMinorTickVisibilityOff()\n",
    "\n",
    "  \n",
    "renderer.AddActor(cubeAxesActor)\n",
    "\n",
    "# A Box widget\n",
    "boxWidget = vtk.vtkBoxWidget()\n",
    "boxWidget.SetInteractor(interactor)\n",
    "boxWidget.SetProp3D(cubeAxesActor)\n",
    "boxWidget.SetPlaceFactor( 1.25 ) # Make the box 1.25x larger than the actor\n",
    "boxWidget.PlaceWidget()\n",
    "boxWidget.On()\n",
    " \n",
    "# Connect the event to a function\n",
    "boxWidget.AddObserver(\"InteractionEvent\", boxCallback)\n",
    " \n",
    "# Start\n",
    "interactor.Initialize()\n",
    "interactor.Start()\n",
    "\n",
    "del renwin, interactor"
   ]
  },
  {
   "cell_type": "code",
   "execution_count": 58,
   "metadata": {
    "collapsed": false
   },
   "outputs": [
    {
     "data": {
      "text/plain": [
       "(-1.0, 1.0, -1.0, 1.0, -1.0, 1.0)"
      ]
     },
     "execution_count": 58,
     "metadata": {},
     "output_type": "execute_result"
    }
   ],
   "source": [
    "cubeAxesActor.GetBounds()"
   ]
  },
  {
   "cell_type": "code",
   "execution_count": null,
   "metadata": {
    "collapsed": true
   },
   "outputs": [],
   "source": []
  },
  {
   "cell_type": "code",
   "execution_count": null,
   "metadata": {
    "collapsed": true
   },
   "outputs": [],
   "source": []
  },
  {
   "cell_type": "code",
   "execution_count": null,
   "metadata": {
    "collapsed": true
   },
   "outputs": [],
   "source": []
  },
  {
   "cell_type": "code",
   "execution_count": 40,
   "metadata": {
    "collapsed": true
   },
   "outputs": [],
   "source": [
    "#!/usr/bin/env python\n",
    " \n",
    "import vtk\n",
    " \n",
    "# Create a superquadric\n",
    "superquadricSource = vtk.vtkSuperquadricSource()\n",
    "superquadricSource.SetPhiRoundness(3.1)\n",
    "superquadricSource.SetThetaRoundness(1.0)\n",
    "superquadricSource.Update()  # needed to GetBounds later\n",
    " \n",
    "renderer = vtk.vtkRenderer()\n",
    " \n",
    "mapper = vtk.vtkPolyDataMapper()\n",
    "mapper.SetInputConnection(superquadricSource.GetOutputPort())\n",
    " \n",
    "superquadricActor = vtk.vtkActor()\n",
    "superquadricActor.SetMapper(mapper)\n",
    " \n",
    "cubeAxesActor = vtk.vtkCubeAxesActor()\n",
    "cubeAxesActor.SetBounds(superquadricSource.GetOutput().GetBounds())\n",
    "cubeAxesActor.SetCamera(renderer.GetActiveCamera())\n",
    "cubeAxesActor.GetTitleTextProperty(0).SetColor(1.0, 0.0, 0.0)\n",
    "cubeAxesActor.GetLabelTextProperty(0).SetColor(1.0, 0.0, 0.0)\n",
    " \n",
    "cubeAxesActor.GetTitleTextProperty(1).SetColor(0.0, 1.0, 0.0)\n",
    "cubeAxesActor.GetLabelTextProperty(1).SetColor(0.0, 1.0, 0.0)\n",
    " \n",
    "cubeAxesActor.GetTitleTextProperty(2).SetColor(0.0, 0.0, 1.0)\n",
    "cubeAxesActor.GetLabelTextProperty(2).SetColor(0.0, 0.0, 1.0)\n",
    " \n",
    "cubeAxesActor.DrawXGridlinesOn()\n",
    "cubeAxesActor.DrawYGridlinesOn()\n",
    "cubeAxesActor.DrawZGridlinesOn()\n",
    "if vtk.VTK_MAJOR_VERSION > 5:\n",
    "    cubeAxesActor.SetGridLineLocation(vtk.VTK_GRID_LINES_FURTHEST)\n",
    " \n",
    "cubeAxesActor.XAxisMinorTickVisibilityOff()\n",
    "cubeAxesActor.YAxisMinorTickVisibilityOff()\n",
    "cubeAxesActor.ZAxisMinorTickVisibilityOff()\n",
    " \n",
    "renderer.AddActor(cubeAxesActor)\n",
    "renderer.AddActor(superquadricActor)\n",
    "renderer.GetActiveCamera().Azimuth(30)\n",
    "renderer.GetActiveCamera().Elevation(30)\n",
    " \n",
    "renderer.ResetCamera()\n",
    " \n",
    "renderWindow = vtk.vtkRenderWindow()\n",
    "renderWindow.AddRenderer(renderer)\n",
    " \n",
    "renderWindowInteractor = vtk.vtkRenderWindowInteractor()\n",
    "renderWindowInteractor.SetRenderWindow(renderWindow)\n",
    " \n",
    "renderWindow.Render()\n",
    "renderWindowInteractor.Start()\n",
    "\n",
    "del renderWindow, renderWindowInteractor"
   ]
  },
  {
   "cell_type": "code",
   "execution_count": 31,
   "metadata": {
    "collapsed": false
   },
   "outputs": [],
   "source": [
    "cubeAxesActor.SetBounds?"
   ]
  },
  {
   "cell_type": "code",
   "execution_count": null,
   "metadata": {
    "collapsed": true
   },
   "outputs": [],
   "source": []
  }
 ],
 "metadata": {
  "anaconda-cloud": {},
  "kernelspec": {
   "display_name": "Python [Root]",
   "language": "python",
   "name": "Python [Root]"
  },
  "language_info": {
   "codemirror_mode": {
    "name": "ipython",
    "version": 3
   },
   "file_extension": ".py",
   "mimetype": "text/x-python",
   "name": "python",
   "nbconvert_exporter": "python",
   "pygments_lexer": "ipython3",
   "version": "3.5.3"
  }
 },
 "nbformat": 4,
 "nbformat_minor": 0
}
