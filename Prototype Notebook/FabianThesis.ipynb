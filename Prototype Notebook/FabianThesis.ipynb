{
 "cells": [
  {
   "cell_type": "markdown",
   "metadata": {
    "hide_input": true
   },
   "source": [
    "# Risk analysis"
   ]
  },
  {
   "cell_type": "markdown",
   "metadata": {},
   "source": [
    "### Generating data"
   ]
  },
  {
   "cell_type": "code",
   "execution_count": 1,
   "metadata": {},
   "outputs": [],
   "source": [
    "# Importing and data\n",
    "import theano.tensor as T\n",
    "import theano\n",
    "import sys, os\n",
    "sys.path.append(\"../\")\n",
    "sys.path.append(\"../gempy\")\n",
    "\n",
    "# Importing GeMpy modules\n",
    "import gempy as GeMpy\n",
    "\n",
    "# Reloading (only for development purposes)\n",
    "#import importlib\n",
    "#importlib.reload(GeMpy)\n",
    "\n",
    "# Usuful packages\n",
    "import numpy as np\n",
    "import pandas as pn\n",
    "\n",
    "import matplotlib.pyplot as plt\n",
    "\n",
    "# This was to choose the gpu\n",
    "os.environ['CUDA_LAUNCH_BLOCKING'] = '1'\n",
    "\n",
    "# Default options of printin\n",
    "np.set_printoptions(precision = 6, linewidth= 130, suppress =  True)\n",
    "\n",
    "%matplotlib qt5\n",
    "#%matplotlib notebook\n",
    "\n",
    "\n",
    "\n",
    "# Importing the data from csv files and settign extent and resolution\n",
    "geo_data = GeMpy.create_data([0,2000,0,2000,-2000,0],[ 50,50,50],\n",
    "                         path_f = os.pardir+\"/input_data/FabLessPoints_Foliations.csv\",\n",
    "                         path_i = os.pardir+\"/input_data/FabLessPoints_Points.csv\")"
   ]
  },
  {
   "cell_type": "code",
   "execution_count": 2,
   "metadata": {},
   "outputs": [],
   "source": [
    "# Assigning series to formations as well as their order (timewise)\n",
    "GeMpy.set_data_series(geo_data, {\"fault\":geo_data.formations[4], \n",
    "                      \"Rest\":np.delete(geo_data.formations, 4)},\n",
    "                       order_series = [\"fault\",\n",
    "                                       \"Rest\",\n",
    "                                       ], verbose=0)"
   ]
  },
  {
   "cell_type": "code",
   "execution_count": 5,
   "metadata": {},
   "outputs": [],
   "source": [
    "geo_data.n_faults = 1"
   ]
  },
  {
   "cell_type": "code",
   "execution_count": 6,
   "metadata": {},
   "outputs": [],
   "source": [
    "GeMpy.data_to_pickle(GeMpy.select_series(geo_data, ['Rest']), 'NoFault')"
   ]
  },
  {
   "cell_type": "code",
   "execution_count": 3,
   "metadata": {
    "run_control": {
     "marked": true
    }
   },
   "outputs": [],
   "source": [
    "GeMpy.data_to_pickle(geo_data, 'BasicFault')"
   ]
  },
  {
   "cell_type": "code",
   "execution_count": 6,
   "metadata": {},
   "outputs": [
    {
     "name": "stdout",
     "output_type": "stream",
     "text": [
      "I am in the setting\n",
      "float64\n",
      "I am here\n",
      "[2, 2]\n",
      "[0 9]\n"
     ]
    }
   ],
   "source": [
    "data_int = GeMpy.InterpolatorInput(geo_data, dtype='float64',\n",
    "                                  verbose = ['potential_field_at_interfaces'])\n",
    "f = data_int.compile_th_fn()\n",
    "i = data_int.get_input_data()"
   ]
  },
  {
   "cell_type": "code",
   "execution_count": 7,
   "metadata": {},
   "outputs": [
    {
     "name": "stdout",
     "output_type": "stream",
     "text": [
      "Value of the potential field at the interfaces __str__ = [-0.008189 -0.075733 -0.084526 -0.115309 -0.13576 ]\n",
      "Value of the potential field at the interfaces __str__ = [ 0.211156  0.157476  0.274137  0.254995  0.094725]\n"
     ]
    },
    {
     "data": {
      "text/plain": [
       "(1, 3, 125000)"
      ]
     },
     "execution_count": 7,
     "metadata": {},
     "output_type": "execute_result"
    }
   ],
   "source": [
    "s = f(*i)\n",
    "s.shape"
   ]
  },
  {
   "cell_type": "code",
   "execution_count": 6,
   "metadata": {},
   "outputs": [],
   "source": [
    "np.save('pot_field', s[0,1,:])"
   ]
  },
  {
   "cell_type": "code",
   "execution_count": 67,
   "metadata": {},
   "outputs": [],
   "source": [
    "a = (np.zeros_like(geo_data.grid.grid[:, 0]).astype(bool).\n",
    "reshape(9,9,9))"
   ]
  },
  {
   "cell_type": "code",
   "execution_count": 65,
   "metadata": {
    "scrolled": false
   },
   "outputs": [
    {
     "data": {
      "text/plain": [
       "array([[0, 1, 2, 3, 4, 5, 6, 7, 8],\n",
       "       [0, 1, 2, 3, 4, 5, 6, 7, 8],\n",
       "       [0, 1, 2, 3, 4, 5, 6, 7, 8],\n",
       "       [0, 1, 2, 3, 4, 5, 6, 7, 8],\n",
       "       [0, 1, 2, 3, 4, 5, 6, 7, 8],\n",
       "       [0, 1, 2, 3, 4, 5, 6, 7, 8],\n",
       "       [0, 1, 2, 3, 4, 5, 6, 7, 8],\n",
       "       [0, 1, 2, 3, 4, 5, 6, 7, 8],\n",
       "       [0, 1, 2, 3, 4, 5, 6, 7, 8]])"
      ]
     },
     "execution_count": 65,
     "metadata": {},
     "output_type": "execute_result"
    }
   ],
   "source": [
    "b = np.indices((9,9,9))\n",
    "b[2, 0, :, :]"
   ]
  },
  {
   "cell_type": "code",
   "execution_count": 59,
   "metadata": {},
   "outputs": [
    {
     "data": {
      "text/plain": [
       "array([[0, 0, 0, 0, 0, 0, 0, 0, 0],\n",
       "       [1, 1, 1, 1, 1, 1, 1, 1, 1],\n",
       "       [2, 2, 2, 2, 2, 2, 2, 2, 2],\n",
       "       [3, 3, 3, 3, 3, 3, 3, 3, 3],\n",
       "       [4, 4, 4, 4, 4, 4, 4, 4, 4],\n",
       "       [5, 5, 5, 5, 5, 5, 5, 5, 5],\n",
       "       [6, 6, 6, 6, 6, 6, 6, 6, 6],\n",
       "       [7, 7, 7, 7, 7, 7, 7, 7, 7],\n",
       "       [8, 8, 8, 8, 8, 8, 8, 8, 8]])"
      ]
     },
     "execution_count": 59,
     "metadata": {},
     "output_type": "execute_result"
    }
   ],
   "source": [
    "b[1, 0, :, :]"
   ]
  },
  {
   "cell_type": "code",
   "execution_count": 76,
   "metadata": {},
   "outputs": [
    {
     "data": {
      "text/plain": [
       "array([[2, 2],\n",
       "       [3, 3]])"
      ]
     },
     "execution_count": 76,
     "metadata": {},
     "output_type": "execute_result"
    }
   ],
   "source": [
    "b[1,0,2:4,2:4]"
   ]
  },
  {
   "cell_type": "code",
   "execution_count": 75,
   "metadata": {},
   "outputs": [
    {
     "data": {
      "text/plain": [
       "array([[    0.,  1000.,  -250.],\n",
       "       [ 1750.,  1000., -2000.]], dtype=float32)"
      ]
     },
     "execution_count": 75,
     "metadata": {},
     "output_type": "execute_result"
    }
   ],
   "source": [
    "a[7,4,0] = True\n",
    "geo_data.grid.grid[np.ravel(a)]"
   ]
  },
  {
   "cell_type": "code",
   "execution_count": 60,
   "metadata": {},
   "outputs": [
    {
     "ename": "IndexError",
     "evalue": "too many indices for array",
     "output_type": "error",
     "traceback": [
      "\u001b[0;31m---------------------------------------------------------------------------\u001b[0m",
      "\u001b[0;31mIndexError\u001b[0m                                Traceback (most recent call last)",
      "\u001b[0;32m<ipython-input-60-fb79736ab3b5>\u001b[0m in \u001b[0;36m<module>\u001b[0;34m()\u001b[0m\n\u001b[0;32m----> 1\u001b[0;31m \u001b[0mgeo_data\u001b[0m\u001b[0;34m.\u001b[0m\u001b[0mgrid\u001b[0m\u001b[0;34m.\u001b[0m\u001b[0mgrid\u001b[0m\u001b[0;34m[\u001b[0m\u001b[0;36m0\u001b[0m\u001b[0;34m,\u001b[0m \u001b[0;36m4\u001b[0m\u001b[0;34m,\u001b[0m \u001b[0;36m7\u001b[0m\u001b[0;34m]\u001b[0m\u001b[0;34m\u001b[0m\u001b[0m\n\u001b[0m",
      "\u001b[0;31mIndexError\u001b[0m: too many indices for array"
     ]
    }
   ],
   "source": [
    "geo_data.grid.grid[0, 4, 7]"
   ]
  },
  {
   "cell_type": "code",
   "execution_count": null,
   "metadata": {},
   "outputs": [],
   "source": []
  },
  {
   "cell_type": "code",
   "execution_count": null,
   "metadata": {},
   "outputs": [],
   "source": []
  },
  {
   "cell_type": "code",
   "execution_count": 34,
   "metadata": {},
   "outputs": [],
   "source": [
    "np.indices?"
   ]
  },
  {
   "cell_type": "code",
   "execution_count": 22,
   "metadata": {},
   "outputs": [
    {
     "data": {
      "text/plain": [
       "<gempy.Visualization.PlotData at 0x7f8e481189e8>"
      ]
     },
     "execution_count": 22,
     "metadata": {},
     "output_type": "execute_result"
    }
   ],
   "source": [
    "GeMpy.plot_data(geo_data)"
   ]
  },
  {
   "cell_type": "code",
   "execution_count": 74,
   "metadata": {},
   "outputs": [],
   "source": [
    "from mpl_toolkits.mplot3d import Axes3D\n",
    "import matplotlib.pyplot as plt\n",
    "import numpy as np\n",
    "\n",
    "fig = plt.figure()\n",
    "ax = fig.add_subplot(111, projection='3d')\n",
    "xs = geo_data.grid.grid[:,0]\n",
    "ys = geo_data.grid.grid[:,1]\n",
    "zs = geo_data.grid.grid[:,2]\n",
    "\n",
    "ax.scatter(xs, ys, zs, )\n",
    "\n",
    "ax.set_xlabel('X Label')\n",
    "ax.set_ylabel('Y Label')\n",
    "ax.set_zlabel('Z Label')\n",
    "\n",
    "plt.show()\n"
   ]
  },
  {
   "cell_type": "code",
   "execution_count": 4,
   "metadata": {
    "scrolled": true
   },
   "outputs": [
    {
     "data": {
      "text/html": [
       "<div>\n",
       "<table border=\"1\" class=\"dataframe\">\n",
       "  <thead>\n",
       "    <tr style=\"text-align: right;\">\n",
       "      <th></th>\n",
       "      <th>X</th>\n",
       "      <th>Y</th>\n",
       "      <th>Z</th>\n",
       "      <th>formation</th>\n",
       "      <th>series</th>\n",
       "      <th>order_series</th>\n",
       "    </tr>\n",
       "  </thead>\n",
       "  <tbody>\n",
       "    <tr>\n",
       "      <th>0</th>\n",
       "      <td>800.0</td>\n",
       "      <td>200.0</td>\n",
       "      <td>-1400.0</td>\n",
       "      <td>Reservoir</td>\n",
       "      <td>Default serie</td>\n",
       "      <td>1</td>\n",
       "    </tr>\n",
       "    <tr>\n",
       "      <th>21</th>\n",
       "      <td>600.0</td>\n",
       "      <td>1000.0</td>\n",
       "      <td>-650.0</td>\n",
       "      <td>Seal</td>\n",
       "      <td>Default serie</td>\n",
       "      <td>1</td>\n",
       "    </tr>\n",
       "    <tr>\n",
       "      <th>22</th>\n",
       "      <td>1300.0</td>\n",
       "      <td>1000.0</td>\n",
       "      <td>-700.0</td>\n",
       "      <td>Seal</td>\n",
       "      <td>Default serie</td>\n",
       "      <td>1</td>\n",
       "    </tr>\n",
       "    <tr>\n",
       "      <th>23</th>\n",
       "      <td>1600.0</td>\n",
       "      <td>1000.0</td>\n",
       "      <td>-800.0</td>\n",
       "      <td>Seal</td>\n",
       "      <td>Default serie</td>\n",
       "      <td>1</td>\n",
       "    </tr>\n",
       "    <tr>\n",
       "      <th>24</th>\n",
       "      <td>1900.0</td>\n",
       "      <td>1000.0</td>\n",
       "      <td>-900.0</td>\n",
       "      <td>Seal</td>\n",
       "      <td>Default serie</td>\n",
       "      <td>1</td>\n",
       "    </tr>\n",
       "    <tr>\n",
       "      <th>25</th>\n",
       "      <td>2000.0</td>\n",
       "      <td>1000.0</td>\n",
       "      <td>-875.0</td>\n",
       "      <td>Seal</td>\n",
       "      <td>Default serie</td>\n",
       "      <td>1</td>\n",
       "    </tr>\n",
       "    <tr>\n",
       "      <th>26</th>\n",
       "      <td>600.0</td>\n",
       "      <td>1000.0</td>\n",
       "      <td>-1350.0</td>\n",
       "      <td>NonReservoirDeep</td>\n",
       "      <td>Default serie</td>\n",
       "      <td>1</td>\n",
       "    </tr>\n",
       "    <tr>\n",
       "      <th>27</th>\n",
       "      <td>300.0</td>\n",
       "      <td>1000.0</td>\n",
       "      <td>-1250.0</td>\n",
       "      <td>NonReservoirDeep</td>\n",
       "      <td>Default serie</td>\n",
       "      <td>1</td>\n",
       "    </tr>\n",
       "    <tr>\n",
       "      <th>20</th>\n",
       "      <td>900.0</td>\n",
       "      <td>1000.0</td>\n",
       "      <td>-750.0</td>\n",
       "      <td>Seal</td>\n",
       "      <td>Default serie</td>\n",
       "      <td>1</td>\n",
       "    </tr>\n",
       "    <tr>\n",
       "      <th>28</th>\n",
       "      <td>2000.0</td>\n",
       "      <td>1000.0</td>\n",
       "      <td>-1575.0</td>\n",
       "      <td>NonReservoirDeep</td>\n",
       "      <td>Default serie</td>\n",
       "      <td>1</td>\n",
       "    </tr>\n",
       "    <tr>\n",
       "      <th>30</th>\n",
       "      <td>1300.0</td>\n",
       "      <td>1000.0</td>\n",
       "      <td>-1400.0</td>\n",
       "      <td>NonReservoirDeep</td>\n",
       "      <td>Default serie</td>\n",
       "      <td>1</td>\n",
       "    </tr>\n",
       "    <tr>\n",
       "      <th>31</th>\n",
       "      <td>1600.0</td>\n",
       "      <td>1000.0</td>\n",
       "      <td>-1500.0</td>\n",
       "      <td>NonReservoirDeep</td>\n",
       "      <td>Default serie</td>\n",
       "      <td>1</td>\n",
       "    </tr>\n",
       "    <tr>\n",
       "      <th>32</th>\n",
       "      <td>1750.0</td>\n",
       "      <td>1000.0</td>\n",
       "      <td>-1550.0</td>\n",
       "      <td>NonReservoirDeep</td>\n",
       "      <td>Default serie</td>\n",
       "      <td>1</td>\n",
       "    </tr>\n",
       "    <tr>\n",
       "      <th>33</th>\n",
       "      <td>1000.0</td>\n",
       "      <td>1000.0</td>\n",
       "      <td>-1300.0</td>\n",
       "      <td>NonReservoirDeep</td>\n",
       "      <td>Default serie</td>\n",
       "      <td>1</td>\n",
       "    </tr>\n",
       "    <tr>\n",
       "      <th>34</th>\n",
       "      <td>1000.0</td>\n",
       "      <td>1000.0</td>\n",
       "      <td>-1000.0</td>\n",
       "      <td>MainFault</td>\n",
       "      <td>Default serie</td>\n",
       "      <td>1</td>\n",
       "    </tr>\n",
       "    <tr>\n",
       "      <th>35</th>\n",
       "      <td>900.0</td>\n",
       "      <td>1000.0</td>\n",
       "      <td>-1300.0</td>\n",
       "      <td>MainFault</td>\n",
       "      <td>Default serie</td>\n",
       "      <td>1</td>\n",
       "    </tr>\n",
       "    <tr>\n",
       "      <th>36</th>\n",
       "      <td>1100.0</td>\n",
       "      <td>1000.0</td>\n",
       "      <td>-700.0</td>\n",
       "      <td>MainFault</td>\n",
       "      <td>Default serie</td>\n",
       "      <td>1</td>\n",
       "    </tr>\n",
       "    <tr>\n",
       "      <th>29</th>\n",
       "      <td>1900.0</td>\n",
       "      <td>1000.0</td>\n",
       "      <td>-1600.0</td>\n",
       "      <td>NonReservoirDeep</td>\n",
       "      <td>Default serie</td>\n",
       "      <td>1</td>\n",
       "    </tr>\n",
       "    <tr>\n",
       "      <th>37</th>\n",
       "      <td>1200.0</td>\n",
       "      <td>1000.0</td>\n",
       "      <td>-400.0</td>\n",
       "      <td>MainFault</td>\n",
       "      <td>Default serie</td>\n",
       "      <td>1</td>\n",
       "    </tr>\n",
       "    <tr>\n",
       "      <th>19</th>\n",
       "      <td>2000.0</td>\n",
       "      <td>1000.0</td>\n",
       "      <td>-775.0</td>\n",
       "      <td>SecondaryReservoir</td>\n",
       "      <td>Default serie</td>\n",
       "      <td>1</td>\n",
       "    </tr>\n",
       "    <tr>\n",
       "      <th>17</th>\n",
       "      <td>1600.0</td>\n",
       "      <td>1000.0</td>\n",
       "      <td>-700.0</td>\n",
       "      <td>SecondaryReservoir</td>\n",
       "      <td>Default serie</td>\n",
       "      <td>1</td>\n",
       "    </tr>\n",
       "    <tr>\n",
       "      <th>1</th>\n",
       "      <td>800.0</td>\n",
       "      <td>1800.0</td>\n",
       "      <td>-1400.0</td>\n",
       "      <td>Reservoir</td>\n",
       "      <td>Default serie</td>\n",
       "      <td>1</td>\n",
       "    </tr>\n",
       "    <tr>\n",
       "      <th>2</th>\n",
       "      <td>600.0</td>\n",
       "      <td>1000.0</td>\n",
       "      <td>-1050.0</td>\n",
       "      <td>Reservoir</td>\n",
       "      <td>Default serie</td>\n",
       "      <td>1</td>\n",
       "    </tr>\n",
       "    <tr>\n",
       "      <th>3</th>\n",
       "      <td>300.0</td>\n",
       "      <td>1000.0</td>\n",
       "      <td>-950.0</td>\n",
       "      <td>Reservoir</td>\n",
       "      <td>Default serie</td>\n",
       "      <td>1</td>\n",
       "    </tr>\n",
       "    <tr>\n",
       "      <th>4</th>\n",
       "      <td>2000.0</td>\n",
       "      <td>1000.0</td>\n",
       "      <td>-1275.0</td>\n",
       "      <td>Reservoir</td>\n",
       "      <td>Default serie</td>\n",
       "      <td>1</td>\n",
       "    </tr>\n",
       "    <tr>\n",
       "      <th>5</th>\n",
       "      <td>1900.0</td>\n",
       "      <td>1000.0</td>\n",
       "      <td>-1300.0</td>\n",
       "      <td>Reservoir</td>\n",
       "      <td>Default serie</td>\n",
       "      <td>1</td>\n",
       "    </tr>\n",
       "    <tr>\n",
       "      <th>6</th>\n",
       "      <td>1300.0</td>\n",
       "      <td>1000.0</td>\n",
       "      <td>-1100.0</td>\n",
       "      <td>Reservoir</td>\n",
       "      <td>Default serie</td>\n",
       "      <td>1</td>\n",
       "    </tr>\n",
       "    <tr>\n",
       "      <th>7</th>\n",
       "      <td>1600.0</td>\n",
       "      <td>1000.0</td>\n",
       "      <td>-1200.0</td>\n",
       "      <td>Reservoir</td>\n",
       "      <td>Default serie</td>\n",
       "      <td>1</td>\n",
       "    </tr>\n",
       "    <tr>\n",
       "      <th>18</th>\n",
       "      <td>1900.0</td>\n",
       "      <td>1000.0</td>\n",
       "      <td>-800.0</td>\n",
       "      <td>SecondaryReservoir</td>\n",
       "      <td>Default serie</td>\n",
       "      <td>1</td>\n",
       "    </tr>\n",
       "    <tr>\n",
       "      <th>8</th>\n",
       "      <td>1750.0</td>\n",
       "      <td>1000.0</td>\n",
       "      <td>-1250.0</td>\n",
       "      <td>Reservoir</td>\n",
       "      <td>Default serie</td>\n",
       "      <td>1</td>\n",
       "    </tr>\n",
       "    <tr>\n",
       "      <th>10</th>\n",
       "      <td>1000.0</td>\n",
       "      <td>25.0</td>\n",
       "      <td>-1050.0</td>\n",
       "      <td>Reservoir</td>\n",
       "      <td>Default serie</td>\n",
       "      <td>1</td>\n",
       "    </tr>\n",
       "    <tr>\n",
       "      <th>11</th>\n",
       "      <td>1000.0</td>\n",
       "      <td>100.0</td>\n",
       "      <td>-1100.0</td>\n",
       "      <td>Reservoir</td>\n",
       "      <td>Default serie</td>\n",
       "      <td>1</td>\n",
       "    </tr>\n",
       "    <tr>\n",
       "      <th>12</th>\n",
       "      <td>1000.0</td>\n",
       "      <td>1975.0</td>\n",
       "      <td>-1050.0</td>\n",
       "      <td>Reservoir</td>\n",
       "      <td>Default serie</td>\n",
       "      <td>1</td>\n",
       "    </tr>\n",
       "    <tr>\n",
       "      <th>13</th>\n",
       "      <td>1000.0</td>\n",
       "      <td>1900.0</td>\n",
       "      <td>-1100.0</td>\n",
       "      <td>Reservoir</td>\n",
       "      <td>Default serie</td>\n",
       "      <td>1</td>\n",
       "    </tr>\n",
       "    <tr>\n",
       "      <th>14</th>\n",
       "      <td>900.0</td>\n",
       "      <td>1000.0</td>\n",
       "      <td>-650.0</td>\n",
       "      <td>SecondaryReservoir</td>\n",
       "      <td>Default serie</td>\n",
       "      <td>1</td>\n",
       "    </tr>\n",
       "    <tr>\n",
       "      <th>15</th>\n",
       "      <td>600.0</td>\n",
       "      <td>1000.0</td>\n",
       "      <td>-550.0</td>\n",
       "      <td>SecondaryReservoir</td>\n",
       "      <td>Default serie</td>\n",
       "      <td>1</td>\n",
       "    </tr>\n",
       "    <tr>\n",
       "      <th>16</th>\n",
       "      <td>1300.0</td>\n",
       "      <td>1000.0</td>\n",
       "      <td>-600.0</td>\n",
       "      <td>SecondaryReservoir</td>\n",
       "      <td>Default serie</td>\n",
       "      <td>1</td>\n",
       "    </tr>\n",
       "    <tr>\n",
       "      <th>9</th>\n",
       "      <td>1150.0</td>\n",
       "      <td>1000.0</td>\n",
       "      <td>-1050.0</td>\n",
       "      <td>Reservoir</td>\n",
       "      <td>Default serie</td>\n",
       "      <td>1</td>\n",
       "    </tr>\n",
       "    <tr>\n",
       "      <th>38</th>\n",
       "      <td>800.0</td>\n",
       "      <td>1000.0</td>\n",
       "      <td>-1600.0</td>\n",
       "      <td>MainFault</td>\n",
       "      <td>Default serie</td>\n",
       "      <td>1</td>\n",
       "    </tr>\n",
       "  </tbody>\n",
       "</table>\n",
       "</div>"
      ],
      "text/plain": [
       "         X       Y       Z           formation         series  order_series\n",
       "0    800.0   200.0 -1400.0           Reservoir  Default serie             1\n",
       "21   600.0  1000.0  -650.0                Seal  Default serie             1\n",
       "22  1300.0  1000.0  -700.0                Seal  Default serie             1\n",
       "23  1600.0  1000.0  -800.0                Seal  Default serie             1\n",
       "24  1900.0  1000.0  -900.0                Seal  Default serie             1\n",
       "25  2000.0  1000.0  -875.0                Seal  Default serie             1\n",
       "26   600.0  1000.0 -1350.0    NonReservoirDeep  Default serie             1\n",
       "27   300.0  1000.0 -1250.0    NonReservoirDeep  Default serie             1\n",
       "20   900.0  1000.0  -750.0                Seal  Default serie             1\n",
       "28  2000.0  1000.0 -1575.0    NonReservoirDeep  Default serie             1\n",
       "30  1300.0  1000.0 -1400.0    NonReservoirDeep  Default serie             1\n",
       "31  1600.0  1000.0 -1500.0    NonReservoirDeep  Default serie             1\n",
       "32  1750.0  1000.0 -1550.0    NonReservoirDeep  Default serie             1\n",
       "33  1000.0  1000.0 -1300.0    NonReservoirDeep  Default serie             1\n",
       "34  1000.0  1000.0 -1000.0           MainFault  Default serie             1\n",
       "35   900.0  1000.0 -1300.0           MainFault  Default serie             1\n",
       "36  1100.0  1000.0  -700.0           MainFault  Default serie             1\n",
       "29  1900.0  1000.0 -1600.0    NonReservoirDeep  Default serie             1\n",
       "37  1200.0  1000.0  -400.0           MainFault  Default serie             1\n",
       "19  2000.0  1000.0  -775.0  SecondaryReservoir  Default serie             1\n",
       "17  1600.0  1000.0  -700.0  SecondaryReservoir  Default serie             1\n",
       "1    800.0  1800.0 -1400.0           Reservoir  Default serie             1\n",
       "2    600.0  1000.0 -1050.0           Reservoir  Default serie             1\n",
       "3    300.0  1000.0  -950.0           Reservoir  Default serie             1\n",
       "4   2000.0  1000.0 -1275.0           Reservoir  Default serie             1\n",
       "5   1900.0  1000.0 -1300.0           Reservoir  Default serie             1\n",
       "6   1300.0  1000.0 -1100.0           Reservoir  Default serie             1\n",
       "7   1600.0  1000.0 -1200.0           Reservoir  Default serie             1\n",
       "18  1900.0  1000.0  -800.0  SecondaryReservoir  Default serie             1\n",
       "8   1750.0  1000.0 -1250.0           Reservoir  Default serie             1\n",
       "10  1000.0    25.0 -1050.0           Reservoir  Default serie             1\n",
       "11  1000.0   100.0 -1100.0           Reservoir  Default serie             1\n",
       "12  1000.0  1975.0 -1050.0           Reservoir  Default serie             1\n",
       "13  1000.0  1900.0 -1100.0           Reservoir  Default serie             1\n",
       "14   900.0  1000.0  -650.0  SecondaryReservoir  Default serie             1\n",
       "15   600.0  1000.0  -550.0  SecondaryReservoir  Default serie             1\n",
       "16  1300.0  1000.0  -600.0  SecondaryReservoir  Default serie             1\n",
       "9   1150.0  1000.0 -1050.0           Reservoir  Default serie             1\n",
       "38   800.0  1000.0 -1600.0           MainFault  Default serie             1"
      ]
     },
     "execution_count": 4,
     "metadata": {},
     "output_type": "execute_result"
    }
   ],
   "source": [
    "geo_data.interfaces"
   ]
  },
  {
   "cell_type": "code",
   "execution_count": 11,
   "metadata": {},
   "outputs": [
    {
     "data": {
      "text/plain": [
       "array([    0,  2000,     0,  2000, -2000,     0])"
      ]
     },
     "execution_count": 11,
     "metadata": {},
     "output_type": "execute_result"
    }
   ],
   "source": [
    "geo_data.extent"
   ]
  },
  {
   "cell_type": "code",
   "execution_count": 5,
   "metadata": {
    "run_control": {
     "marked": false
    }
   },
   "outputs": [],
   "source": [
    "import visualization_vtk as vv\n",
    "vv.visualize(geo_data)"
   ]
  },
  {
   "cell_type": "code",
   "execution_count": 5,
   "metadata": {},
   "outputs": [],
   "source": [
    "#!/usr/bin/env python\n",
    " \n",
    "import vtk\n",
    " \n",
    "# Create a superquadric\n",
    "superquadricSource = vtk.vtkSuperquadricSource()\n",
    "superquadricSource.SetPhiRoundness(3.1)\n",
    "superquadricSource.SetThetaRoundness(1.0)\n",
    "superquadricSource.Update()  # needed to GetBounds later\n",
    " \n",
    "renderer = vtk.vtkRenderer()\n",
    " \n",
    "mapper = vtk.vtkPolyDataMapper()\n",
    "mapper.SetInputConnection(superquadricSource.GetOutputPort())\n",
    " \n",
    "superquadricActor = vtk.vtkActor()\n",
    "superquadricActor.SetMapper(mapper)\n",
    " \n",
    "cubeAxesActor = vtk.vtkCubeAxesActor()\n",
    "cubeAxesActor.SetBounds(superquadricSource.GetOutput().GetBounds())\n",
    "cubeAxesActor.SetCamera(renderer.GetActiveCamera())\n",
    "cubeAxesActor.GetTitleTextProperty(0).SetColor(1.0, 0.0, 0.0)\n",
    "cubeAxesActor.GetLabelTextProperty(0).SetColor(1.0, 0.0, 0.0)\n",
    " \n",
    "cubeAxesActor.GetTitleTextProperty(1).SetColor(0.0, 1.0, 0.0)\n",
    "cubeAxesActor.GetLabelTextProperty(1).SetColor(0.0, 1.0, 0.0)\n",
    " \n",
    "cubeAxesActor.GetTitleTextProperty(2).SetColor(0.0, 0.0, 1.0)\n",
    "cubeAxesActor.GetLabelTextProperty(2).SetColor(0.0, 0.0, 1.0)\n",
    " \n",
    "cubeAxesActor.DrawXGridlinesOn()\n",
    "cubeAxesActor.DrawYGridlinesOn()\n",
    "cubeAxesActor.DrawZGridlinesOn()\n",
    "if vtk.VTK_MAJOR_VERSION > 5:\n",
    "    cubeAxesActor.SetGridLineLocation(vtk.VTK_GRID_LINES_FURTHEST)\n",
    " \n",
    "cubeAxesActor.XAxisMinorTickVisibilityOff()\n",
    "cubeAxesActor.YAxisMinorTickVisibilityOff()\n",
    "cubeAxesActor.ZAxisMinorTickVisibilityOff()\n",
    " \n",
    "renderer.AddActor(cubeAxesActor)\n",
    "renderer.AddActor(superquadricActor)\n",
    "renderer.GetActiveCamera().Azimuth(30)\n",
    "renderer.GetActiveCamera().Elevation(30)\n",
    " \n",
    "renderer.ResetCamera()\n",
    " \n",
    "renderWindow = vtk.vtkRenderWindow()\n",
    "renderWindow.AddRenderer(renderer)\n",
    " \n",
    "renderWindowInteractor = vtk.vtkRenderWindowInteractor()\n",
    "renderWindowInteractor.SetRenderWindow(renderWindow)\n",
    " \n",
    "renderWindow.Render()\n",
    "renderWindowInteractor.Start()\n",
    "del renderWindow, renderWindowInteractor"
   ]
  },
  {
   "cell_type": "code",
   "execution_count": 3,
   "metadata": {},
   "outputs": [],
   "source": [
    "GeMpy.data_to_pickle(geo_data)"
   ]
  },
  {
   "cell_type": "code",
   "execution_count": 3,
   "metadata": {},
   "outputs": [],
   "source": [
    "geo_data.data_to_pickle()"
   ]
  },
  {
   "cell_type": "code",
   "execution_count": 3,
   "metadata": {},
   "outputs": [
    {
     "data": {
      "text/plain": [
       "array(['Reservoir', 'SecondaryReservoir', 'Seal', 'NonReservoirDeep', 'MainFault'], dtype=object)"
      ]
     },
     "execution_count": 3,
     "metadata": {},
     "output_type": "execute_result"
    }
   ],
   "source": [
    "geo_data.formations"
   ]
  },
  {
   "cell_type": "code",
   "execution_count": 4,
   "metadata": {},
   "outputs": [],
   "source": [
    "# Assigning series to formations as well as their order (timewise)\n",
    "GeMpy.set_data_series(geo_data, {\"fault\":geo_data.formations[4], \n",
    "                      \"Rest\":np.delete(geo_data.formations, 4)},\n",
    "                       order_series = [\"fault\",\n",
    "                                       \"Rest\",\n",
    "                                       ], verbose=0)"
   ]
  },
  {
   "cell_type": "code",
   "execution_count": 30,
   "metadata": {},
   "outputs": [],
   "source": [
    "geo_data_s = GeMpy.select_series(geo_data, [\"fault\"])"
   ]
  },
  {
   "cell_type": "code",
   "execution_count": 5,
   "metadata": {
    "scrolled": false
   },
   "outputs": [
    {
     "name": "stdout",
     "output_type": "stream",
     "text": [
      "I am in the setting\n",
      "I am here\n",
      "[2, 2]\n"
     ]
    }
   ],
   "source": [
    "# Select series to interpolate (if you do not want to interpolate all)\n",
    "data_interp = GeMpy.set_interpolator(geo_data,\n",
    "                                     verbose = ['potential_field_at_interfaces'],\n",
    "                                    dtype='float64')"
   ]
  },
  {
   "cell_type": "code",
   "execution_count": 32,
   "metadata": {},
   "outputs": [],
   "source": [
    "# This are the shared parameters and the compilation of the function. This will be hidden as well at some point\n",
    "input_data_T = data_interp.interpolator.tg.input_parameters_list()"
   ]
  },
  {
   "cell_type": "code",
   "execution_count": 33,
   "metadata": {},
   "outputs": [
    {
     "data": {
      "text/plain": [
       "array([ 0,  4, 34])"
      ]
     },
     "execution_count": 33,
     "metadata": {},
     "output_type": "execute_result"
    }
   ],
   "source": [
    "data_interp.interpolator.tg.len_series_i.get_value()"
   ]
  },
  {
   "cell_type": "code",
   "execution_count": 34,
   "metadata": {},
   "outputs": [
    {
     "name": "stdout",
     "output_type": "stream",
     "text": [
      "[3]\n"
     ]
    }
   ],
   "source": [
    "# This prepares the user data to the theano function\n",
    "input_data_P = data_interp.interpolator.data_prep(u_grade=[3]) "
   ]
  },
  {
   "cell_type": "code",
   "execution_count": 35,
   "metadata": {
    "scrolled": false
   },
   "outputs": [],
   "source": [
    "# HERE when we compile we have to pass the number of formations that are faults!!\n",
    "debugging = theano.function(input_data_T, data_interp.interpolator.tg.whole_block_model(0), on_unused_input='ignore', \n",
    "                            allow_input_downcast=True, profile=True);"
   ]
  },
  {
   "cell_type": "code",
   "execution_count": 36,
   "metadata": {
    "scrolled": false
   },
   "outputs": [
    {
     "name": "stdout",
     "output_type": "stream",
     "text": [
      "Value of the potential field at the interfaces __str__ = [-0.559606 -0.697137 -0.742045 -0.790696 -0.831238]\n"
     ]
    }
   ],
   "source": [
    "# Solution of theano\n",
    "sol = debugging(input_data_P[0], input_data_P[1], input_data_P[2], input_data_P[3],input_data_P[4], input_data_P[5])"
   ]
  },
  {
   "cell_type": "code",
   "execution_count": 12,
   "metadata": {},
   "outputs": [
    {
     "data": {
      "text/plain": [
       "3464.10151720047"
      ]
     },
     "execution_count": 12,
     "metadata": {},
     "output_type": "execute_result"
    }
   ],
   "source": [
    "data_interp.rescaling_factor*data_interp.interpolator.tg.a_T.get_value()"
   ]
  },
  {
   "cell_type": "code",
   "execution_count": 13,
   "metadata": {},
   "outputs": [
    {
     "data": {
      "image/png": "[encoded data removed]",
      "text/plain": [
       "<matplotlib.figure.Figure at 0x7fe72ced0320>"
      ]
     },
     "metadata": {},
     "output_type": "display_data"
    }
   ],
   "source": [
    "\n",
    "GeMpy.plot_potential_field(geo_data, sol[0, 1, :], 25, direction='x')"
   ]
  },
  {
   "cell_type": "code",
   "execution_count": null,
   "metadata": {},
   "outputs": [],
   "source": [
    "GeMpy.plot_section(geo_data, 100, block=sol[0,0, :], direction='y', plot_data=True)"
   ]
  },
  {
   "cell_type": "code",
   "execution_count": null,
   "metadata": {},
   "outputs": [],
   "source": []
  },
  {
   "cell_type": "code",
   "execution_count": null,
   "metadata": {},
   "outputs": [],
   "source": []
  },
  {
   "cell_type": "code",
   "execution_count": null,
   "metadata": {},
   "outputs": [],
   "source": []
  },
  {
   "cell_type": "code",
   "execution_count": 7,
   "metadata": {},
   "outputs": [],
   "source": [
    "import numpy as np\n",
    "import pandas as pn"
   ]
  },
  {
   "cell_type": "code",
   "execution_count": 8,
   "metadata": {},
   "outputs": [],
   "source": [
    "geo_res = pn.read_csv('voxet_sub.vox')"
   ]
  },
  {
   "cell_type": "code",
   "execution_count": 9,
   "metadata": {},
   "outputs": [
    {
     "data": {
      "text/plain": [
       "array([[[ 1,  1,  1, ...,  1,  1,  1],\n",
       "        [ 1,  1,  1, ...,  1,  1,  1],\n",
       "        [ 1,  1,  1, ...,  1,  1,  1],\n",
       "        ..., \n",
       "        [ 3,  3,  3, ...,  3,  3,  3],\n",
       "        [ 3,  3,  3, ...,  3,  3,  3],\n",
       "        [ 3,  3,  3, ...,  3,  3,  3]],\n",
       "\n",
       "       [[ 1,  1,  1, ...,  1,  1,  1],\n",
       "        [ 1,  1,  1, ...,  1,  1,  1],\n",
       "        [ 1,  1,  1, ...,  1,  1,  1],\n",
       "        ..., \n",
       "        [ 3,  3,  3, ...,  3,  3,  3],\n",
       "        [ 3,  3,  3, ...,  3,  3,  3],\n",
       "        [ 3,  3,  3, ...,  3,  3,  3]],\n",
       "\n",
       "       [[ 1,  1,  1, ...,  1,  1,  1],\n",
       "        [ 1,  1,  1, ...,  1,  1,  1],\n",
       "        [ 1,  1,  1, ...,  1,  1,  1],\n",
       "        ..., \n",
       "        [ 3,  3,  3, ...,  3,  3,  3],\n",
       "        [ 3,  3,  3, ...,  3,  3,  3],\n",
       "        [ 3,  3,  3, ...,  3,  3,  3]],\n",
       "\n",
       "       ..., \n",
       "       [[11, 11, 11, ..., 11, 11, 11],\n",
       "        [11, 11, 11, ..., 11, 11, 11],\n",
       "        [11, 11, 11, ..., 11, 11, 11],\n",
       "        ..., \n",
       "        [11, 11, 11, ..., 11, 11, 11],\n",
       "        [11, 11, 11, ..., 11, 11, 11],\n",
       "        [11, 11, 11, ...,  3,  3,  3]],\n",
       "\n",
       "       [[11, 11, 11, ..., 11, 11, 11],\n",
       "        [11, 11, 11, ..., 11, 11, 11],\n",
       "        [11, 11, 11, ..., 11, 11, 11],\n",
       "        ..., \n",
       "        [11, 11, 11, ..., 11, 11, 11],\n",
       "        [11, 11, 11, ..., 11, 11, 11],\n",
       "        [11, 11, 11, ..., 11,  3,  3]],\n",
       "\n",
       "       [[11, 11, 11, ..., 11, 11, 11],\n",
       "        [11, 11, 11, ..., 11, 11, 11],\n",
       "        [11, 11, 11, ..., 11, 11, 11],\n",
       "        ..., \n",
       "        [11, 11, 11, ..., 11, 11, 11],\n",
       "        [11, 11, 11, ..., 11, 11, 11],\n",
       "        [11, 11, 11, ..., 11, 11, 11]]])"
      ]
     },
     "execution_count": 9,
     "metadata": {},
     "output_type": "execute_result"
    }
   ],
   "source": [
    "geo_res = geo_res.iloc[9:]\n",
    "#, geo_data.formations\n",
    "ip_addresses = geo_res['nx 500'].unique()#geo_data.interfaces[\"formation\"].unique()\n",
    "ip_dict = dict(zip(ip_addresses, range(1, len(ip_addresses) + 1)))\n",
    "#ip_dict['Murchison'] = 0\n",
    "#ip_dict['out'] = 0\n",
    "#ip_dict['SimpleMafic'] = 4\n",
    "geo_res_num = geo_res['nx 500'].replace(ip_dict)\n"
   ]
  },
  {
   "cell_type": "code",
   "execution_count": 28,
   "metadata": {},
   "outputs": [],
   "source": [
    "a =  geo_res_num.as_matrix()"
   ]
  },
  {
   "cell_type": "code",
   "execution_count": 38,
   "metadata": {
    "run_control": {
     "marked": true
    }
   },
   "outputs": [],
   "source": [
    "\n",
    "#perth = np.tile(geo_res_num.as_matrix().reshape(500, 500, 8), (1,1,10))\n",
    "perth = a.reshape(500, 500, 8, order='F')\n",
    "#perth = np.tile(geo_res_num.as_matrix().reshape(500, 500, 8), (1,1,10))\n",
    "perth = np.repeat(perth, 10, axis=2)"
   ]
  },
  {
   "cell_type": "code",
   "execution_count": 39,
   "metadata": {},
   "outputs": [
    {
     "data": {
      "text/plain": [
       "(500, 500, 80)"
      ]
     },
     "execution_count": 39,
     "metadata": {},
     "output_type": "execute_result"
    }
   ],
   "source": [
    "perth.shape"
   ]
  },
  {
   "cell_type": "code",
   "execution_count": 40,
   "metadata": {},
   "outputs": [
    {
     "data": {
      "text/plain": [
       "{'Basement': 2,\n",
       " 'Cattamarra_Coal_Measures': 4,\n",
       " 'DefaultCover': 11,\n",
       " 'Eneabba_Fm': 5,\n",
       " 'Kockatea_Shale': 8,\n",
       " 'Late_Permian': 9,\n",
       " 'Lesueur_Ss': 6,\n",
       " 'Neocomian_Unc': 10,\n",
       " 'Woodada_Fm': 7,\n",
       " 'Yarragadee_Fm': 1,\n",
       " 'Yigarn': 3}"
      ]
     },
     "execution_count": 40,
     "metadata": {},
     "output_type": "execute_result"
    }
   ],
   "source": [
    "ip_dict"
   ]
  },
  {
   "cell_type": "code",
   "execution_count": 41,
   "metadata": {},
   "outputs": [
    {
     "data": {
      "text/plain": [
       "(500, 500, 80)"
      ]
     },
     "execution_count": 41,
     "metadata": {},
     "output_type": "execute_result"
    }
   ],
   "source": [
    "perth.shape"
   ]
  },
  {
   "cell_type": "code",
   "execution_count": 42,
   "metadata": {},
   "outputs": [
    {
     "data": {
      "text/plain": [
       "'/home/miguel/PycharmProjects/GeMpy/Prototype Notebook/PerthBasin.vti'"
      ]
     },
     "execution_count": 42,
     "metadata": {},
     "output_type": "execute_result"
    }
   ],
   "source": [
    "\n",
    "\n",
    "\n",
    "from evtk.hl import imageToVTK \n",
    "\n",
    "import numpy as np  \n",
    "\n",
    "# Dimensions \n",
    "\n",
    "nx, ny, nz = perth.shape\n",
    "\n",
    "ncells = nx * ny * nz \n",
    "\n",
    "npoints = (nx + 1) * (ny + 1) * (nz + 1) \n",
    "\n",
    "# Variables \n",
    "\n",
    "lith =  perth\n",
    "\n",
    "\n",
    "\n",
    "imageToVTK(\"./PerthBasin\", \n",
    "   #        cellData = {\"lith_cell\" : lith},\n",
    "           pointData = {\"lith_point\" : lith} \n",
    "          )\n"
   ]
  },
  {
   "cell_type": "code",
   "execution_count": 14,
   "metadata": {
    "scrolled": true
   },
   "outputs": [
    {
     "data": {
      "text/plain": [
       "'/home/miguel/PycharmProjects/GeMpy/Prototype Notebook/FabianModel_point_good_res.vti'"
      ]
     },
     "execution_count": 14,
     "metadata": {},
     "output_type": "execute_result"
    }
   ],
   "source": [
    "from evtk.hl import imageToVTK \n",
    "\n",
    "import numpy as np  \n",
    "\n",
    "# Dimensions \n",
    "\n",
    "nx, ny, nz = 200,200,200\n",
    "\n",
    "ncells = nx * ny * nz \n",
    "\n",
    "npoints = (nx + 1) * (ny + 1) * (nz + 1) \n",
    "\n",
    "# Variables \n",
    "\n",
    "lith = sol[0,0, :].reshape( (nx, ny, nz), order = 'C') \n",
    "\n",
    "\n",
    "\n",
    "imageToVTK(\"./FabianModel_point_good_res\", \n",
    "   #        cellData = {\"lith_cell\" : lith},\n",
    "           pointData = {\"lith_point\" : lith} \n",
    "          )"
   ]
  },
  {
   "cell_type": "code",
   "execution_count": 38,
   "metadata": {},
   "outputs": [
    {
     "data": {
      "text/plain": [
       "array([[ 1.      ,  1.      ,  1.      , ...,  0.      ,  0.      ,  0.      ],\n",
       "       [-0.23527 , -0.228651, -0.222032, ..., -0.897181, -0.890561, -0.883942]])"
      ]
     },
     "execution_count": 38,
     "metadata": {},
     "output_type": "execute_result"
    }
   ],
   "source": [
    "sol"
   ]
  },
  {
   "cell_type": "code",
   "execution_count": 37,
   "metadata": {},
   "outputs": [],
   "source": [
    "from skimage import measure\n",
    "\n",
    "\n",
    "\n",
    "vertices, simplices = measure.marching_cubes(sol[1,:].reshape(50,50,50), -0.559606,\n",
    "                                            spacing=(10.0, 10.0, 10.0),)\n",
    "x,y,z = zip(*vertices)\n",
    "# vertices, simplices = measure.marching_cubes(sol[1,:].reshape(50,50,50), 0.43724)\n",
    "# x2,y2,z2 = zip(*vertices)\n",
    "# vertices, simplices = measure.marching_cubes(sol[1,:].reshape(50,50,50), 0.414782)\n",
    "# x3,y3,z3 = zip(*vertices)\n",
    "# vertices, simplices = measure.marching_cubes(sol[1,:].reshape(50,50,50), 0.220775)\n",
    "# x4,y4,z4 = zip(*vertices)"
   ]
  },
  {
   "cell_type": "code",
   "execution_count": 22,
   "metadata": {},
   "outputs": [
    {
     "data": {
      "text/plain": [
       "490.0"
      ]
     },
     "execution_count": 22,
     "metadata": {},
     "output_type": "execute_result"
    }
   ],
   "source": [
    "vertices.max()"
   ]
  },
  {
   "cell_type": "code",
   "execution_count": 39,
   "metadata": {
    "run_control": {
     "marked": false
    }
   },
   "outputs": [
    {
     "data": {
      "text/plain": [
       "1"
      ]
     },
     "execution_count": 39,
     "metadata": {},
     "output_type": "execute_result"
    }
   ],
   "source": [
    "import vtk\n",
    "from vtk import *\n",
    " \n",
    "#setup points and vertices\n",
    "Points = vtk.vtkPoints()\n",
    "Triangles = vtk.vtkCellArray()\n",
    "Triangle = vtk.vtkTriangle()\n",
    "\n",
    "for p in vertices*0.4:\n",
    "    Points.InsertNextPoint(p)\n",
    "\n",
    "#Unfortunately in this simple example the following lines are ambiguous.\n",
    "#The first 0 is the index of the triangle vertex which is ALWAYS 0-2.\n",
    "#The second 0 is the index into the point (geometry) array, so this can range from 0-(NumPoints-1)\n",
    "#i.e. a more general statement is triangle->GetPointIds()->SetId(0, PointId);\n",
    "\n",
    "for i in simplices:\n",
    "\n",
    "    Triangle.GetPointIds().SetId(0, i[0])\n",
    "    Triangle.GetPointIds().SetId(1, i[1])\n",
    "    Triangle.GetPointIds().SetId(2, i[2])\n",
    "\n",
    "\n",
    "    Triangles.InsertNextCell(Triangle)\n",
    "\n",
    "polydata = vtk.vtkPolyData()\n",
    "polydata.SetPoints(Points)\n",
    "polydata.SetPolys(Triangles)\n",
    " \n",
    "polydata.Modified()\n",
    "if vtk.VTK_MAJOR_VERSION <= 5:\n",
    "    polydata.Update()\n",
    " \n",
    "writer = vtk.vtkXMLPolyDataWriter();\n",
    "writer.SetFileName(\"Fabian_f.vtp\");\n",
    "if vtk.VTK_MAJOR_VERSION <= 5:\n",
    "    writer.SetInput(polydata)\n",
    "else:\n",
    "    writer.SetInputData(polydata)\n",
    "writer.Write()"
   ]
  },
  {
   "cell_type": "code",
   "execution_count": 1,
   "metadata": {},
   "outputs": [],
   "source": [
    "import numpy as np\n",
    "vertices = np.load('vertices.npy')\n",
    "simpleces = np.load('simplices.npy')"
   ]
  },
  {
   "cell_type": "code",
   "execution_count": 6,
   "metadata": {},
   "outputs": [
    {
     "name": "stdout",
     "output_type": "stream",
     "text": [
      "Object `Triangle1.SetID` not found.\n"
     ]
    }
   ],
   "source": [
    "Triangle1."
   ]
  },
  {
   "cell_type": "code",
   "execution_count": null,
   "metadata": {},
   "outputs": [],
   "source": [
    "Triangle1.GetPointIds().SetId"
   ]
  },
  {
   "cell_type": "code",
   "execution_count": 10,
   "metadata": {},
   "outputs": [],
   "source": []
  },
  {
   "cell_type": "code",
   "execution_count": 21,
   "metadata": {},
   "outputs": [
    {
     "data": {
      "text/plain": [
       "(vtkCommonDataModelPython.vtkCellArray)0x7fe6b67906a8"
      ]
     },
     "execution_count": 21,
     "metadata": {},
     "output_type": "execute_result"
    }
   ],
   "source": [
    "Vertices"
   ]
  },
  {
   "cell_type": "code",
   "execution_count": 17,
   "metadata": {},
   "outputs": [],
   "source": [
    "Res = np.array([x,y,z]).T\n",
    "Non_res_deep = np.array([x4,y4,z4]).T\n",
    "seal = np.array([x3,y3,z3]).T\n",
    "sec_res = np.array([x2,y2,z2]).T\n",
    "#np.save('block_faults', sol[0,0,:])"
   ]
  },
  {
   "cell_type": "code",
   "execution_count": 23,
   "metadata": {},
   "outputs": [],
   "source": [
    "np.save('vertices', vertices)"
   ]
  },
  {
   "cell_type": "code",
   "execution_count": 24,
   "metadata": {},
   "outputs": [],
   "source": [
    "np.save('simplices', simplices)"
   ]
  },
  {
   "cell_type": "code",
   "execution_count": 17,
   "metadata": {
    "run_control": {
     "marked": false
    }
   },
   "outputs": [
    {
     "data": {
      "image/png": "[encoded data removed]",
      "text/plain": [
       "<matplotlib.figure.Figure at 0x7fe6a7eaf390>"
      ]
     },
     "metadata": {},
     "output_type": "display_data"
    }
   ],
   "source": [
    "from mpl_toolkits.mplot3d import Axes3D\n",
    "import matplotlib.pyplot as plt\n",
    "import numpy as np\n",
    "\n",
    "\n",
    "\n",
    "fig = plt.figure()\n",
    "ax = fig.add_subplot(111, projection='3d')\n",
    "\n",
    "\n",
    "# For each set of style and range settings, plot n random points in the box\n",
    "# defined by x in [23, 32], y in [0, 100], z in [zlow, zhigh].\n",
    "m = \".\"\n",
    "ax.scatter(x, y, z, marker=m)\n",
    "ax.scatter(x2, y2, z2, c='r', marker=m)\n",
    "ax.scatter(x3, y3, z3, c='g', marker=m)\n",
    "ax.scatter(x4, y4, z4, c='black', marker=m)\n",
    "\n",
    "ax.set_xlabel('X Label')\n",
    "ax.set_ylabel('Y Label')\n",
    "ax.set_zlabel('Z Label')\n",
    "\n",
    "plt.show()"
   ]
  },
  {
   "cell_type": "code",
   "execution_count": null,
   "metadata": {},
   "outputs": [],
   "source": [
    "np.min(z)"
   ]
  },
  {
   "cell_type": "markdown",
   "metadata": {},
   "source": [
    "\n",
    "## PyMC3"
   ]
  },
  {
   "cell_type": "markdown",
   "metadata": {},
   "source": [
    "Input data is a list of arrays with the different values as follows\n",
    "\n",
    "- Dips position\n",
    "- Dip Angles\n",
    "- Azimuth\n",
    "- Polarity\n",
    "- Interfaces points:\n",
    "    - Reference  points\n",
    "    - Rest points"
   ]
  },
  {
   "cell_type": "code",
   "execution_count": 6,
   "metadata": {},
   "outputs": [
    {
     "data": {
      "text/plain": [
       "array(['Reservoir', 'Seal', 'NonReservoirDeep', 'MainFault', 'SecondaryReservoir'], dtype=object)"
      ]
     },
     "execution_count": 6,
     "metadata": {},
     "output_type": "execute_result"
    }
   ],
   "source": [
    "data_interp.interfaces['formation'].unique()"
   ]
  },
  {
   "cell_type": "code",
   "execution_count": 7,
   "metadata": {},
   "outputs": [],
   "source": [
    "select = data_interp.interpolator.pandas_rest_layer_points['formation'] == 'Reservoir'"
   ]
  },
  {
   "cell_type": "markdown",
   "metadata": {},
   "source": [
    "It is important to notice that in the array ref_layer_points, the values are tiled so it would be necessary to change all of them. At some point it would be nice to tile them in theano I guess.\n",
    "\n",
    "So the next step is to compile the theano graph that creates the GeMpy model, not as a function but as a theano operation. Basically this is like compress a bunch of theano operations in one"
   ]
  },
  {
   "cell_type": "code",
   "execution_count": 8,
   "metadata": {},
   "outputs": [
    {
     "name": "stdout",
     "output_type": "stream",
     "text": [
      "I am in the setting\n",
      "I am here\n",
      "[2, 2]\n",
      "[3, 3]\n"
     ]
    }
   ],
   "source": [
    "# Everytime you want to compile the theano graph just reset all the theano shared with the next 3 lines of code. I am \n",
    "# investigating to try to avoid it but in any case at some point it will be hidden to the user\n",
    "\n",
    "data_interp = GeMpy.set_interpolator(geo_data)\n",
    "# This are the shared parameters and the compilation of the function. This will be hidden as well at some point\n",
    "input_data_T = data_interp.interpolator.tg.input_parameters_list()\n",
    "# This prepares the user data to the theano function\n",
    "input_data_P = data_interp.interpolator.data_prep(u_grade=[3,3]) \n",
    "\n",
    "\n",
    "\n",
    "geomodel = theano.OpFromGraph(input_data_T, [data_interp.interpolator.tg.whole_block_model(1)], on_unused_input='ignore')"
   ]
  },
  {
   "cell_type": "markdown",
   "metadata": {},
   "source": [
    "Because now the GeMpy model is a theano operation and not a theano function, to call it we need to use theano variables (with theano functions we call them with python variables). This is very easy to modify, we just need to use theano shared to convert our python input data into theano variables.\n",
    "\n",
    "The pymc3 objects are already theano variables (pm.Normal and so on). Now the trick is that using the theano function T.set_subtensor, we can change one deterministic value of the input arrays(the ones printed in the cell above) by a stochastic pymc3 object. Then with the new arrays we just have to call the theano operation and pymc will do the rest"
   ]
  },
  {
   "cell_type": "code",
   "execution_count": 9,
   "metadata": {
    "run_control": {
     "marked": false
    },
    "scrolled": false
   },
   "outputs": [
    {
     "name": "stdout",
     "output_type": "stream",
     "text": [
      "reservoir <class 'pymc3.model.FreeRV'>\n"
     ]
    }
   ],
   "source": [
    "# This is the creation of the model\n",
    "import pymc3 as pm\n",
    "theano.config.compute_test_value = 'off'\n",
    "model = pm.Model()\n",
    "with model:\n",
    "    # Stochastic value\n",
    "    reservoir = pm.Normal('reservoir', np.array([0], dtype='float64')\n",
    "                          , sd=np.array([0.09], dtype='float64'), dtype='float64', shape=(1))\n",
    "    \n",
    "    # We convert a python variable to theano.shared\n",
    "    ref = theano.shared(input_data_P[4])\n",
    "    rest = theano.shared(input_data_P[5])\n",
    "    \n",
    "    # We add the stochastic value to the correspondant array\n",
    "    ref = pm.Deterministic('reference', T.set_subtensor(\n",
    "       ref[T.nonzero(T.cast(select.as_matrix(), \"int8\"))[0], 2],\n",
    "       ref[T.nonzero(T.cast(select.as_matrix(), \"int8\"))[0], 2]+reservoir))\n",
    "    rest = pm.Deterministic('rest', T.set_subtensor(\n",
    "        rest[T.nonzero(T.cast(select.as_matrix(), \"int8\"))[0], 2],\n",
    "        rest[T.nonzero(T.cast(select.as_matrix(), \"int8\"))[0], 2]+reservoir))#\n",
    "  \n",
    "    geo_model = pm.Deterministic('GeMpy', geomodel(theano.shared(input_data_P[0]),\n",
    "                                                  theano.shared(input_data_P[1]),\n",
    "                                                  theano.shared(input_data_P[2]),\n",
    "                                                  theano.shared(input_data_P[3]),\n",
    "                                                  ref, rest))"
   ]
  },
  {
   "cell_type": "code",
   "execution_count": 10,
   "metadata": {},
   "outputs": [],
   "source": [
    "theano.config.compute_test_value = 'ignore'"
   ]
  },
  {
   "cell_type": "code",
   "execution_count": 12,
   "metadata": {
    "scrolled": true
   },
   "outputs": [
    {
     "name": "stderr",
     "output_type": "stream",
     "text": [
      "\r",
      "  0%|          | 0/30 [00:00<?, ?it/s]"
     ]
    },
    {
     "ename": "NotImplementedError",
     "evalue": "We didn't implemented yet the case where scan do 0 iteration\nApply node that caused the error: for{cpu,scan_fn}(Elemwise{minimum,no_inplace}.0, Subtensor{:int64:}.0, Subtensor{:int64:}.0, Subtensor{:int64:}.0, Subtensor{:int64:}.0, Subtensor{:int64:}.0, Subtensor{:int64:}.0, Subtensor{:int64:}.0, IncSubtensor{Set;:int64:}.0, <TensorType(int64, vector)>, <TensorType(int64, vector)>, <TensorType(int64, vector)>, <TensorType(int64, vector)>, <TensorType(float32, matrix)>, <TensorType(float32, scalar)>, <TensorType(float32, scalar)>, <TensorType(float32, scalar)>, <TensorType(float32, scalar)>, <TensorType(float32, scalar)>, <TensorType(float32, matrix)>, <TensorType(int64, vector)>, <TensorType(int64, vector)>, Position of the dips, Rest of the points of the layers, Reference points for every layer, Angle of every dip, Azimuth, Polarity)\nToposort index: 50\nInputs types: [TensorType(int64, scalar), TensorType(int64, vector), TensorType(int64, vector), TensorType(int64, vector), TensorType(int64, vector), TensorType(int64, vector), TensorType(int64, vector), TensorType(int64, vector), TensorType(float32, 3D), TensorType(int64, vector), TensorType(int64, vector), TensorType(int64, vector), TensorType(int64, vector), TensorType(float32, matrix), TensorType(float32, scalar), TensorType(float32, scalar), TensorType(float32, scalar), TensorType(float32, scalar), TensorType(float32, scalar), TensorType(float32, matrix), TensorType(int64, vector), TensorType(int64, vector), TensorType(float32, matrix), TensorType(float32, matrix), TensorType(float32, matrix), TensorType(float32, vector), TensorType(float32, vector), TensorType(float32, vector)]\nInputs shapes: [(), (0,), (0,), (0,), (0,), (0,), (0,), (0,), (1, 3, 729), (2,), (2,), (2,), (2,), (729, 3), (), (), (), (), (), (9, 729), (5,), (5,), (2, 3), (34, 3), (34, 3), (2,), (2,), (2,)]\nInputs strides: [(), (8,), (8,), (8,), (8,), (8,), (8,), (8,), (8748, 2916, 4), (8,), (8,), (8,), (8,), (4, 2916), (), (), (), (), (), (2916, 4), (8,), (8,), (4, 8), (12, 4), (12, 4), (4,), (4,), (4,)]\nInputs values: [array(0), array([], dtype=int64), array([], dtype=int64), array([], dtype=int64), array([], dtype=int64), array([], dtype=int64), array([], dtype=int64), array([], dtype=int64), 'not shown', array([ 0, 34]), array([0, 2]), array([0, 5]), array([3, 3]), 'not shown', array(0.8882311582565308, dtype=float32), array(0.01878463476896286, dtype=float32), array(0.009999999776482582, dtype=float32), array(2.0, dtype=float32), array(4.0, dtype=float32), 'not shown', array([13,  5,  7,  4,  5]), array([1, 2, 3, 4, 5]), 'not shown', 'not shown', 'not shown', array([ 18.434999,  71.565002], dtype=float32), array([  90.,  270.], dtype=float32), array([ 1.,  1.], dtype=float32)]\nInputs type_num: [7, 7, 7, 7, 7, 7, 7, 7, 11, 7, 7, 7, 7, 11, 11, 11, 11, 11, 11, 11, 7, 7, 11, 11, 11, 11, 11, 11]\nOutputs clients: [[Subtensor{int64::}(for{cpu,scan_fn}.0, Constant{1})]]\n\nBacktrace when the node is created(use Theano flag traceback.limit=N to make it longer):\n  File \"/home/miguel/anaconda3/lib/python3.6/site-packages/ipykernel/kernelbase.py\", line 390, in execute_request\n    user_expressions, allow_stdin)\n  File \"/home/miguel/anaconda3/lib/python3.6/site-packages/ipykernel/ipkernel.py\", line 196, in do_execute\n    res = shell.run_cell(code, store_history=store_history, silent=silent)\n  File \"/home/miguel/anaconda3/lib/python3.6/site-packages/ipykernel/zmqshell.py\", line 501, in run_cell\n    return super(ZMQInteractiveShell, self).run_cell(*args, **kwargs)\n  File \"/home/miguel/anaconda3/lib/python3.6/site-packages/IPython/core/interactiveshell.py\", line 2717, in run_cell\n    interactivity=interactivity, compiler=compiler, result=result)\n  File \"/home/miguel/anaconda3/lib/python3.6/site-packages/IPython/core/interactiveshell.py\", line 2821, in run_ast_nodes\n    if self.run_code(code, result):\n  File \"/home/miguel/anaconda3/lib/python3.6/site-packages/IPython/core/interactiveshell.py\", line 2881, in run_code\n    exec(code_obj, self.user_global_ns, self.user_ns)\n  File \"<ipython-input-8-cd9a2cbe4b09>\", line 12, in <module>\n    geomodel = theano.OpFromGraph(input_data_T, [data_interp.interpolator.tg.whole_block_model(1)], on_unused_input='ignore')\n  File \"../gempy/theanograf.py\", line 1309, in whole_block_model\n    dict(input=self.u_grade_T[n_faults:], taps=[0])]\n\nDebugprint of the apply node: \nfor{cpu,scan_fn} [id A] <TensorType(float32, 3D)> ''   \n |Elemwise{minimum,no_inplace} [id B] <TensorType(int64, scalar)> ''   \n | |Elemwise{minimum,no_inplace} [id C] <TensorType(int64, scalar)> ''   \n | | |Elemwise{minimum,no_inplace} [id D] <TensorType(int64, scalar)> ''   \n | | | |Elemwise{minimum,no_inplace} [id E] <TensorType(int64, scalar)> ''   \n | | | | |Elemwise{minimum,no_inplace} [id F] <TensorType(int64, scalar)> ''   \n | | | | | |Elemwise{minimum,no_inplace} [id G] <TensorType(int64, scalar)> ''   \n | | | | | | |Subtensor{int64} [id H] <TensorType(int64, scalar)> ''   \n | | | | | | | |Shape [id I] <TensorType(int64, vector)> ''   \n | | | | | | | | |Subtensor{int64:int64:} [id J] <TensorType(int64, vector)> ''   \n | | | | | | | |   |Subtensor{int64::} [id K] <TensorType(int64, vector)> ''   \n | | | | | | | |   | |<TensorType(int64, vector)> [id L] <TensorType(int64, vector)>\n | | | | | | | |   | |Constant{1} [id M] <int64>\n | | | | | | | |   |Constant{0} [id N] <int64>\n | | | | | | | |   |Constant{-1} [id O] <int64>\n | | | | | | | |Constant{0} [id N] <int64>\n | | | | | | |Subtensor{int64} [id P] <TensorType(int64, scalar)> ''   \n | | | | | |   |Shape [id Q] <TensorType(int64, vector)> ''   \n | | | | | |   | |Subtensor{int64::} [id R] <TensorType(int64, vector)> ''   \n | | | | | |   |   |Subtensor{int64::} [id K] <TensorType(int64, vector)> ''   \n | | | | | |   |   |Constant{1} [id M] <int64>\n | | | | | |   |Constant{0} [id N] <int64>\n | | | | | |Subtensor{int64} [id S] <TensorType(int64, scalar)> ''   \n | | | | |   |Shape [id T] <TensorType(int64, vector)> ''   \n | | | | |   | |Subtensor{int64:int64:} [id U] <TensorType(int64, vector)> ''   \n | | | | |   |   |Subtensor{int64::} [id V] <TensorType(int64, vector)> ''   \n | | | | |   |   | |<TensorType(int64, vector)> [id W] <TensorType(int64, vector)>\n | | | | |   |   | |Constant{1} [id M] <int64>\n | | | | |   |   |Constant{0} [id N] <int64>\n | | | | |   |   |Constant{-1} [id O] <int64>\n | | | | |   |Constant{0} [id N] <int64>\n | | | | |Subtensor{int64} [id X] <TensorType(int64, scalar)> ''   \n | | | |   |Shape [id Y] <TensorType(int64, vector)> ''   \n | | | |   | |Subtensor{int64::} [id Z] <TensorType(int64, vector)> ''   \n | | | |   |   |Subtensor{int64::} [id V] <TensorType(int64, vector)> ''   \n | | | |   |   |Constant{1} [id M] <int64>\n | | | |   |Constant{0} [id N] <int64>\n | | | |Subtensor{int64} [id BA] <TensorType(int64, scalar)> ''   \n | | |   |Shape [id BB] <TensorType(int64, vector)> ''   \n | | |   | |Subtensor{int64:int64:} [id BC] <TensorType(int64, vector)> ''   \n | | |   |   |Subtensor{int64::} [id BD] <TensorType(int64, vector)> ''   \n | | |   |   | |<TensorType(int64, vector)> [id BE] <TensorType(int64, vector)>\n | | |   |   | |Constant{1} [id M] <int64>\n | | |   |   |Constant{0} [id N] <int64>\n | | |   |   |Constant{-1} [id O] <int64>\n | | |   |Constant{0} [id N] <int64>\n | | |Subtensor{int64} [id BF] <TensorType(int64, scalar)> ''   \n | |   |Shape [id BG] <TensorType(int64, vector)> ''   \n | |   | |Subtensor{int64::} [id BH] <TensorType(int64, vector)> ''   \n | |   |   |Subtensor{int64::} [id BD] <TensorType(int64, vector)> ''   \n | |   |   |Constant{1} [id M] <int64>\n | |   |Constant{0} [id N] <int64>\n | |Subtensor{int64} [id BI] <TensorType(int64, scalar)> ''   \n |   |Shape [id BJ] <TensorType(int64, vector)> ''   \n |   | |Subtensor{int64::} [id BK] <TensorType(int64, vector)> ''   \n |   |   |Subtensor{int64::} [id BL] <TensorType(int64, vector)> ''   \n |   |   | |<TensorType(int64, vector)> [id BM] <TensorType(int64, vector)>\n |   |   | |Constant{1} [id M] <int64>\n |   |   |Constant{0} [id N] <int64>\n |   |Constant{0} [id N] <int64>\n |Subtensor{:int64:} [id BN] <TensorType(int64, vector)> ''   \n | |Subtensor{int64:int64:} [id J] <TensorType(int64, vector)> ''   \n | |ScalarFromTensor [id BO] <int64> ''   \n |   |Elemwise{minimum,no_inplace} [id B] <TensorType(int64, scalar)> ''   \n |Subtensor{:int64:} [id BP] <TensorType(int64, vector)> ''   \n | |Subtensor{int64::} [id R] <TensorType(int64, vector)> ''   \n | |ScalarFromTensor [id BO] <int64> ''   \n |Subtensor{:int64:} [id BQ] <TensorType(int64, vector)> ''   \n | |Subtensor{int64:int64:} [id U] <TensorType(int64, vector)> ''   \n | |ScalarFromTensor [id BO] <int64> ''   \n |Subtensor{:int64:} [id BR] <TensorType(int64, vector)> ''   \n | |Subtensor{int64::} [id Z] <TensorType(int64, vector)> ''   \n | |ScalarFromTensor [id BO] <int64> ''   \n |Subtensor{:int64:} [id BS] <TensorType(int64, vector)> ''   \n | |Subtensor{int64:int64:} [id BC] <TensorType(int64, vector)> ''   \n | |ScalarFromTensor [id BO] <int64> ''   \n |Subtensor{:int64:} [id BT] <TensorType(int64, vector)> ''   \n | |Subtensor{int64::} [id BH] <TensorType(int64, vector)> ''   \n | |ScalarFromTensor [id BO] <int64> ''   \n |Subtensor{:int64:} [id BU] <TensorType(int64, vector)> ''   \n | |Subtensor{int64::} [id BK] <TensorType(int64, vector)> ''   \n | |ScalarFromTensor [id BO] <int64> ''   \n |IncSubtensor{Set;:int64:} [id BV] <TensorType(float32, 3D)> ''   \n | |AllocEmpty{dtype='float32'} [id BW] <TensorType(float32, 3D)> ''   \n | | |Elemwise{add,no_inplace} [id BX] <TensorType(int64, scalar)> ''   \n | | | |Elemwise{minimum,no_inplace} [id B] <TensorType(int64, scalar)> ''   \n | | | |Subtensor{int64} [id BY] <TensorType(int64, scalar)> ''   \n | | |   |Shape [id BZ] <TensorType(int64, vector)> ''   \n | | |   | |Rebroadcast{0} [id CA] <TensorType(float32, 3D)> ''   \n | | |   |   |InplaceDimShuffle{x,0,1} [id CB] <TensorType(float32, (True, False, False))> ''   \n | | |   |     |Join [id CC] <TensorType(float32, matrix)> ''   \n | | |   |       |TensorConstant{0} [id CD] <TensorType(int8, scalar)>\n | | |   |       |<TensorType(float32, matrix)> [id CE] <TensorType(float32, matrix)>\n | | |   |       |<TensorType(float32, matrix)> [id CE] <TensorType(float32, matrix)>\n | | |   |       |<TensorType(float32, matrix)> [id CE] <TensorType(float32, matrix)>\n | | |   |Constant{0} [id N] <int64>\n | | |Subtensor{int64} [id CF] <TensorType(int64, scalar)> ''   \n | | | |Shape [id BZ] <TensorType(int64, vector)> ''   \n | | | |Constant{1} [id M] <int64>\n | | |Subtensor{int64} [id CG] <TensorType(int64, scalar)> ''   \n | |   |Shape [id BZ] <TensorType(int64, vector)> ''   \n | |   |Constant{2} [id CH] <int64>\n | |Rebroadcast{0} [id CA] <TensorType(float32, 3D)> ''   \n | |ScalarFromTensor [id CI] <int64> ''   \n |   |Subtensor{int64} [id BY] <TensorType(int64, scalar)> ''   \n |<TensorType(int64, vector)> [id L] <TensorType(int64, vector)>\n |<TensorType(int64, vector)> [id W] <TensorType(int64, vector)>\n |<TensorType(int64, vector)> [id BE] <TensorType(int64, vector)>\n |<TensorType(int64, vector)> [id BM] <TensorType(int64, vector)>\n |<TensorType(float32, matrix)> [id CJ] <TensorType(float32, matrix)>\n |<TensorType(float32, scalar)> [id CK] <TensorType(float32, scalar)>\n |<TensorType(float32, scalar)> [id CL] <TensorType(float32, scalar)>\n |<TensorType(float32, scalar)> [id CM] <TensorType(float32, scalar)>\n |<TensorType(float32, scalar)> [id CN] <TensorType(float32, scalar)>\n |<TensorType(float32, scalar)> [id CO] <TensorType(float32, scalar)>\n |<TensorType(float32, matrix)> [id CP] <TensorType(float32, matrix)>\n |<TensorType(int64, vector)> [id CQ] <TensorType(int64, vector)>\n |<TensorType(int64, vector)> [id CR] <TensorType(int64, vector)>\n |Position of the dips [id CS] <TensorType(float32, matrix)>\n |Rest of the points of the layers [id CT] <TensorType(float32, matrix)>\n |Reference points for every layer [id CU] <TensorType(float32, matrix)>\n |Angle of every dip [id CV] <TensorType(float32, vector)>\n |Azimuth [id CW] <TensorType(float32, vector)>\n |Polarity [id CX] <TensorType(float32, vector)>\n\nInner graphs of the scan ops:\n\nfor{cpu,scan_fn} [id A] <TensorType(float32, 3D)> ''   \n >IncSubtensor{Set;int64, ::} [id CY] <TensorType(float32, matrix)> ''   \n > |AdvancedIncSubtensor{inplace=False,  set_instead_of_inc=True} [id CZ] <TensorType(float32, matrix)> ''   \n > | |AdvancedIncSubtensor{inplace=False,  set_instead_of_inc=True} [id DA] <TensorType(float32, matrix)> ''   \n > | | |<TensorType(float32, matrix)> [id DB] <TensorType(float32, matrix)> -> [id BV]\n > | | |Subtensor{:int64:} [id DC] <TensorType(int64, vector)> ''   \n > | | | |Sum{axis=[0], acc_dtype=int64} [id DD] <TensorType(int64, vector)> 'The chunk of block model of a specific series'   \n > | | | |ScalarFromTensor [id DE] <int64> ''   \n > | | |   |Elemwise{mul,no_inplace} [id DF] <TensorType(int64, scalar)> ''   \n > | | |     |TensorConstant{-2} [id DG] <TensorType(int8, scalar)>\n > | | |     |Subtensor{int64} [id DH] <TensorType(int64, scalar)> ''   \n > | | |       |Shape [id DI] <TensorType(int64, vector)> ''   \n > | | |       | |Rest of the points of the layers_copy [id DJ] <TensorType(float32, matrix)> -> [id CT]\n > | | |       |Constant{0} [id DK] <int64>\n > | | |TensorConstant{0} [id DL] <TensorType(int64, scalar)>\n > | | |Subtensor{int64} [id DM] <TensorType(int64, vector)> ''   \n > | |   |Nonzero [id DN] <TensorType(int64, matrix)> ''   \n > | |   | |Elemwise{Cast{int8}} [id DO] <TensorType(int8, vector)> ''   \n > | |   |   |Elemwise{eq,no_inplace} [id DP] <TensorType(bool, vector)> 'Yet simulated LITHOLOGY node'   \n > | |   |Constant{0} [id DK] <int64>\n > | |Subtensor{:int64:} [id DQ] <TensorType(float32, vector)> ''   \n > | | |Elemwise{add,no_inplace} [id DR] <TensorType(float32, vector)> 'Value of the potential field at every point'   \n > | | |ScalarFromTensor [id DE] <int64> ''   \n > | |TensorConstant{1} [id DS] <TensorType(int64, scalar)>\n > | |Subtensor{int64} [id DM] <TensorType(int64, vector)> ''   \n > |Subtensor{int64, :int64:} [id DT] <TensorType(float32, vector)> ''   \n > | |Subtensor{int64} [id DU] <TensorType(float32, row)> ''   \n > | | |Subtensor{int64::} [id DV] <TensorType(float32, (False, True, False))> ''   \n > | | | |for{cpu,scan_fn} [id DW] <TensorType(float32, (False, True, False))> ''   \n > | | | | |Elemwise{minimum,no_inplace} [id DX] <TensorType(int64, scalar)> ''   \n > | | | | | |Elemwise{minimum,no_inplace} [id DY] <TensorType(int64, scalar)> ''   \n > | | | | | | |Elemwise{minimum,no_inplace} [id DZ] <TensorType(int64, scalar)> ''   \n > | | | | | | | |Elemwise{minimum,no_inplace} [id EA] <TensorType(int64, scalar)> ''   \n > | | | | | | | | |Elemwise{minimum,no_inplace} [id EB] <TensorType(int64, scalar)> ''   \n > | | | | | | | | | |Elemwise{minimum,no_inplace} [id EC] <TensorType(int64, scalar)> ''   \n > | | | | | | | | | | |Subtensor{int64} [id ED] <TensorType(int64, scalar)> ''   \n > | | | | | | | | | | | |Shape [id EE] <TensorType(int64, vector)> ''   \n > | | | | | | | | | | | | |Subtensor{int64:int64:} [id EF] <TensorType(int64, vector)> ''   \n > | | | | | | | | | | | |   |Subtensor{:int64:} [id EG] <TensorType(int64, vector)> ''   \n > | | | | | | | | | | | |   | |Length of interfaces in every series_copy [id EH] <TensorType(int64, vector)> -> [id L]\n > | | | | | | | | | | | |   | |Constant{2} [id EI] <int64>\n > | | | | | | | | | | | |   |Constant{0} [id DK] <int64>\n > | | | | | | | | | | | |   |Constant{-1} [id EJ] <int64>\n > | | | | | | | | | | | |Constant{0} [id DK] <int64>\n > | | | | | | | | | | |Subtensor{int64} [id EK] <TensorType(int64, scalar)> ''   \n > | | | | | | | | | |   |Shape [id EL] <TensorType(int64, vector)> ''   \n > | | | | | | | | | |   | |Subtensor{int64::} [id EM] <TensorType(int64, vector)> ''   \n > | | | | | | | | | |   |   |Subtensor{:int64:} [id EG] <TensorType(int64, vector)> ''   \n > | | | | | | | | | |   |   |Constant{1} [id EN] <int64>\n > | | | | | | | | | |   |Constant{0} [id DK] <int64>\n > | | | | | | | | | |Subtensor{int64} [id EO] <TensorType(int64, scalar)> ''   \n > | | | | | | | | |   |Shape [id EP] <TensorType(int64, vector)> ''   \n > | | | | | | | | |   | |Subtensor{int64:int64:} [id EQ] <TensorType(int64, vector)> ''   \n > | | | | | | | | |   |   |Subtensor{:int64:} [id ER] <TensorType(int64, vector)> ''   \n > | | | | | | | | |   |   | |Length of foliations in every series_copy [id ES] <TensorType(int64, vector)> -> [id W]\n > | | | | | | | | |   |   | |Constant{2} [id EI] <int64>\n > | | | | | | | | |   |   |Constant{0} [id DK] <int64>\n > | | | | | | | | |   |   |Constant{-1} [id EJ] <int64>\n > | | | | | | | | |   |Constant{0} [id DK] <int64>\n > | | | | | | | | |Subtensor{int64} [id ET] <TensorType(int64, scalar)> ''   \n > | | | | | | | |   |Shape [id EU] <TensorType(int64, vector)> ''   \n > | | | | | | | |   | |Subtensor{int64::} [id EV] <TensorType(int64, vector)> ''   \n > | | | | | | | |   |   |Subtensor{:int64:} [id ER] <TensorType(int64, vector)> ''   \n > | | | | | | | |   |   |Constant{1} [id EN] <int64>\n > | | | | | | | |   |Constant{0} [id DK] <int64>\n > | | | | | | | |Subtensor{int64} [id EW] <TensorType(int64, scalar)> ''   \n > | | | | | | |   |Shape [id EX] <TensorType(int64, vector)> ''   \n > | | | | | | |   | |Subtensor{int64:int64:} [id EY] <TensorType(int64, vector)> ''   \n > | | | | | | |   |   |Subtensor{:int64:} [id EZ] <TensorType(int64, vector)> ''   \n > | | | | | | |   |   | |List with the number of formations_copy [id FA] <TensorType(int64, vector)> -> [id BE]\n > | | | | | | |   |   | |Constant{2} [id EI] <int64>\n > | | | | | | |   |   |Constant{0} [id DK] <int64>\n > | | | | | | |   |   |Constant{-1} [id EJ] <int64>\n > | | | | | | |   |Constant{0} [id DK] <int64>\n > | | | | | | |Subtensor{int64} [id FB] <TensorType(int64, scalar)> ''   \n > | | | | | |   |Shape [id FC] <TensorType(int64, vector)> ''   \n > | | | | | |   | |Subtensor{int64::} [id FD] <TensorType(int64, vector)> ''   \n > | | | | | |   |   |Subtensor{:int64:} [id EZ] <TensorType(int64, vector)> ''   \n > | | | | | |   |   |Constant{1} [id EN] <int64>\n > | | | | | |   |Constant{0} [id DK] <int64>\n > | | | | | |Subtensor{int64} [id FE] <TensorType(int64, scalar)> ''   \n > | | | | |   |Shape [id FF] <TensorType(int64, vector)> ''   \n > | | | | |   | |Subtensor{int64::} [id FG] <TensorType(int64, vector)> ''   \n > | | | | |   |   |Subtensor{:int64:} [id FH] <TensorType(int64, vector)> ''   \n > | | | | |   |   | |Grade of the universal drift_copy [id FI] <TensorType(int64, vector)> -> [id BM]\n > | | | | |   |   | |Constant{2} [id EI] <int64>\n > | | | | |   |   |Constant{0} [id DK] <int64>\n > | | | | |   |Constant{0} [id DK] <int64>\n > | | | | |Subtensor{:int64:} [id FJ] <TensorType(int64, vector)> ''   \n > | | | | | |Subtensor{int64:int64:} [id EF] <TensorType(int64, vector)> ''   \n > | | | | | |ScalarFromTensor [id FK] <int64> ''   \n > | | | | |   |Elemwise{minimum,no_inplace} [id DX] <TensorType(int64, scalar)> ''   \n > | | | | |Subtensor{:int64:} [id FL] <TensorType(int64, vector)> ''   \n > | | | | | |Subtensor{int64::} [id EM] <TensorType(int64, vector)> ''   \n > | | | | | |ScalarFromTensor [id FK] <int64> ''   \n > | | | | |Subtensor{:int64:} [id FM] <TensorType(int64, vector)> ''   \n > | | | | | |Subtensor{int64:int64:} [id EQ] <TensorType(int64, vector)> ''   \n > | | | | | |ScalarFromTensor [id FK] <int64> ''   \n > | | | | |Subtensor{:int64:} [id FN] <TensorType(int64, vector)> ''   \n > | | | | | |Subtensor{int64::} [id EV] <TensorType(int64, vector)> ''   \n > | | | | | |ScalarFromTensor [id FK] <int64> ''   \n > | | | | |Subtensor{:int64:} [id FO] <TensorType(int64, vector)> ''   \n > | | | | | |Subtensor{int64:int64:} [id EY] <TensorType(int64, vector)> ''   \n > | | | | | |ScalarFromTensor [id FK] <int64> ''   \n > | | | | |Subtensor{:int64:} [id FP] <TensorType(int64, vector)> ''   \n > | | | | | |Subtensor{int64::} [id FD] <TensorType(int64, vector)> ''   \n > | | | | | |ScalarFromTensor [id FK] <int64> ''   \n > | | | | |Subtensor{:int64:} [id FQ] <TensorType(int64, vector)> ''   \n > | | | | | |Subtensor{int64::} [id FG] <TensorType(int64, vector)> ''   \n > | | | | | |ScalarFromTensor [id FK] <int64> ''   \n > | | | | |IncSubtensor{Set;:int64:} [id FR] <TensorType(float32, (False, True, False))> ''   \n > | | | | | |AllocEmpty{dtype='float32'} [id FS] <TensorType(float32, (False, True, False))> ''   \n > | | | | | | |Elemwise{add,no_inplace} [id FT] <TensorType(int64, scalar)> ''   \n > | | | | | | | |Elemwise{minimum,no_inplace} [id DX] <TensorType(int64, scalar)> ''   \n > | | | | | | | |Subtensor{int64} [id FU] <TensorType(int64, scalar)> ''   \n > | | | | | | |   |Shape [id FV] <TensorType(int64, vector)> ''   \n > | | | | | | |   | |Rebroadcast{0} [id FW] <TensorType(float32, (False, True, False))> ''   \n > | | | | | | |   |   |InplaceDimShuffle{x,0,1} [id FX] <TensorType(float32, (True, True, False))> ''   \n > | | | | | | |   |     |Alloc [id FY] <TensorType(float32, row)> 'final block of faults init'   \n > | | | | | | |   |Constant{0} [id DK] <int64>\n > | | | | | | |Subtensor{int64} [id FZ] <TensorType(int64, scalar)> ''   \n > | | | | | | | |Shape [id FV] <TensorType(int64, vector)> ''   \n > | | | | | | | |Constant{1} [id EN] <int64>\n > | | | | | | |Subtensor{int64} [id GA] <TensorType(int64, scalar)> ''   \n > | | | | | |   |Shape [id FV] <TensorType(int64, vector)> ''   \n > | | | | | |   |Constant{2} [id EI] <int64>\n > | | | | | |Rebroadcast{0} [id FW] <TensorType(float32, (False, True, False))> ''   \n > | | | | | |ScalarFromTensor [id GB] <int64> ''   \n > | | | | |   |Subtensor{int64} [id FU] <TensorType(int64, scalar)> ''   \n > | | | | |Coordinates of the grid points to interpolate_copy [id GC] <TensorType(float32, matrix)> -> [id CJ]\n > | | | | |Range_copy [id GD] <TensorType(float32, scalar)> -> [id CK]\n > | | | | |Covariance at 0_copy [id GE] <TensorType(float32, scalar)> -> [id CL]\n > | | | | |<TensorType(float32, scalar)> [id GF] <TensorType(float32, scalar)> -> [id CM]\n > | | | | |<TensorType(float32, scalar)> [id GG] <TensorType(float32, scalar)> -> [id CN]\n > | | | | |<TensorType(float32, scalar)> [id GH] <TensorType(float32, scalar)> -> [id CO]\n > | | | | |<TensorType(float32, matrix)> [id GI] <TensorType(float32, matrix)> -> [id CP]\n > | | | | |<TensorType(int64, vector)> [id GJ] <TensorType(int64, vector)> -> [id CQ]\n > | | | | |Value of the formation_copy [id GK] <TensorType(int64, vector)> -> [id CR]\n > | | | | |Position of the dips_copy [id GL] <TensorType(float32, matrix)> -> [id CS]\n > | | | | |Rest of the points of the layers_copy [id DJ] <TensorType(float32, matrix)> -> [id CT]\n > | | | | |Reference points for every layer_copy [id GM] <TensorType(float32, matrix)> -> [id CU]\n > | | | | |Angle of every dip_copy [id GN] <TensorType(float32, vector)> -> [id CV]\n > | | | | |Azimuth_copy [id GO] <TensorType(float32, vector)> -> [id CW]\n > | | | | |Polarity_copy [id GP] <TensorType(float32, vector)> -> [id CX]\n > | | | |Constant{1} [id EN] <int64>\n > | | |Constant{-1} [id EJ] <int64>\n > | |Constant{-1} [id EJ] <int64>\n > | |ScalarFromTensor [id DE] <int64> ''   \n > |Constant{2} [id EI] <int64>\n\nfor{cpu,scan_fn} [id DW] <TensorType(float32, (False, True, False))> ''   \n >AdvancedIncSubtensor{inplace=False,  set_instead_of_inc=True} [id GQ] <TensorType(float32, row)> ''   \n > |final block of faults init[t-1] [id GR] <TensorType(float32, row)> -> [id FR]\n > |Sum{axis=[0], acc_dtype=int64} [id GS] <TensorType(int64, vector)> 'The chunk of block model of a specific series'   \n > |TensorConstant{0} [id GT] <TensorType(int64, scalar)>\n > |Subtensor{int64} [id GU] <TensorType(int64, vector)> ''   \n >   |Nonzero [id GV] <TensorType(int64, matrix)> ''   \n >   | |Elemwise{Cast{int8}} [id GW] <TensorType(int8, vector)> ''   \n >   |   |Join [id GX] <TensorType(float32, vector)> ''   \n >   |     |TensorConstant{0} [id GY] <TensorType(int8, scalar)>\n >   |     |Elemwise{eq,no_inplace} [id GZ] <TensorType(bool, vector)> 'Yet simulated FAULTS node'   \n >   |     |Alloc [id HA] <TensorType(float32, vector)> ''   \n >   |       |TensorConstant{1.0} [id HB] <TensorType(float32, scalar)>\n >   |       |Elemwise{mul,no_inplace} [id HC] <TensorType(int64, scalar)> ''   \n >   |         |TensorConstant{2} [id HD] <TensorType(int8, scalar)>\n >   |         |Subtensor{int64} [id HE] <TensorType(int64, scalar)> ''   \n >   |           |Shape [id HF] <TensorType(int64, vector)> ''   \n >   |           | |Rest of the points of the layers_copy [id HG] <TensorType(float32, matrix)> -> [id DJ]\n >   |           |Constant{0} [id HH] <int64>\n >   |Constant{0} [id HH] <int64>\n\nStorage map footprint:\n - <TensorType(float32, matrix)>, Input, Shape: (9, 729), ElemSize: 4 Byte(s), TotalSize: 26244 Byte(s)\n - <TensorType(float32, matrix)>, Input, Shape: (729, 3), ElemSize: 4 Byte(s), TotalSize: 8748 Byte(s)\n - IncSubtensor{Set;:int64:}.0, Shape: (1, 3, 729), ElemSize: 4 Byte(s), TotalSize: 8748 Byte(s)\n - <TensorType(float32, matrix)>, Input, Shape: (1, 729), ElemSize: 4 Byte(s), TotalSize: 2916 Byte(s)\n - Reference points for every layer, Input, Shape: (34, 3), ElemSize: 4 Byte(s), TotalSize: 408 Byte(s)\n - Rest of the points of the layers, Input, Shape: (34, 3), ElemSize: 4 Byte(s), TotalSize: 408 Byte(s)\n - <TensorType(int64, vector)>, Input, Shape: (5,), ElemSize: 8 Byte(s), TotalSize: 40 Byte(s)\n - <TensorType(int64, vector)>, Input, Shape: (5,), ElemSize: 8 Byte(s), TotalSize: 40 Byte(s)\n - Position of the dips, Input, Shape: (2, 3), ElemSize: 4 Byte(s), TotalSize: 24 Byte(s)\n - <TensorType(int64, vector)>, Input, Shape: (2,), ElemSize: 8 Byte(s), TotalSize: 16 Byte(s)\n - <TensorType(int64, vector)>, Input, Shape: (2,), ElemSize: 8 Byte(s), TotalSize: 16 Byte(s)\n - <TensorType(int64, vector)>, Input, Shape: (2,), ElemSize: 8 Byte(s), TotalSize: 16 Byte(s)\n - <TensorType(int64, vector)>, Input, Shape: (2,), ElemSize: 8 Byte(s), TotalSize: 16 Byte(s)\n - Angle of every dip, Input, Shape: (2,), ElemSize: 4 Byte(s), TotalSize: 8 Byte(s)\n - Azimuth, Input, Shape: (2,), ElemSize: 4 Byte(s), TotalSize: 8 Byte(s)\n - Polarity, Input, Shape: (2,), ElemSize: 4 Byte(s), TotalSize: 8 Byte(s)\n - Constant{1}, Shape: (), ElemSize: 8 Byte(s), TotalSize: 8.0 Byte(s)\n - Constant{0}, Shape: (), ElemSize: 8 Byte(s), TotalSize: 8.0 Byte(s)\n - Constant{-1}, Shape: (), ElemSize: 8 Byte(s), TotalSize: 8.0 Byte(s)\n - Constant{2}, Shape: (), ElemSize: 8 Byte(s), TotalSize: 8.0 Byte(s)\n - Elemwise{minimum,no_inplace}.0, Shape: (), ElemSize: 8 Byte(s), TotalSize: 8.0 Byte(s)\n - <TensorType(float32, scalar)>, Input, Shape: (), ElemSize: 4 Byte(s), TotalSize: 4.0 Byte(s)\n - <TensorType(float32, scalar)>, Input, Shape: (), ElemSize: 4 Byte(s), TotalSize: 4.0 Byte(s)\n - <TensorType(float32, scalar)>, Input, Shape: (), ElemSize: 4 Byte(s), TotalSize: 4.0 Byte(s)\n - <TensorType(float32, scalar)>, Input, Shape: (), ElemSize: 4 Byte(s), TotalSize: 4.0 Byte(s)\n - <TensorType(float32, scalar)>, Input, Shape: (), ElemSize: 4 Byte(s), TotalSize: 4.0 Byte(s)\n - TensorConstant{0}, Shape: (), ElemSize: 1 Byte(s), TotalSize: 1.0 Byte(s)\n - Subtensor{:int64:}.0, Shape: (0,), ElemSize: 8 Byte(s), TotalSize: 0 Byte(s)\n - Subtensor{:int64:}.0, Shape: (0,), ElemSize: 8 Byte(s), TotalSize: 0 Byte(s)\n - Subtensor{:int64:}.0, Shape: (0,), ElemSize: 8 Byte(s), TotalSize: 0 Byte(s)\n - Subtensor{:int64:}.0, Shape: (0,), ElemSize: 8 Byte(s), TotalSize: 0 Byte(s)\n - Subtensor{:int64:}.0, Shape: (0,), ElemSize: 8 Byte(s), TotalSize: 0 Byte(s)\n - Subtensor{:int64:}.0, Shape: (0,), ElemSize: 8 Byte(s), TotalSize: 0 Byte(s)\n - Subtensor{:int64:}.0, Shape: (0,), ElemSize: 8 Byte(s), TotalSize: 0 Byte(s)\n TotalSize: 47725.0 Byte(s) 0.000 GB\n TotalSize inputs: 38969.0 Byte(s) 0.000 GB\n\n\nApply node that caused the error: OpFromGraph{inline=False}(<TensorType(float32, matrix)>, <TensorType(float32, vector)>, <TensorType(float32, vector)>, <TensorType(float32, vector)>, reference, rest, Length of interfaces in every series, Length of foliations in every series, List with the number of formations, Grade of the universal drift, final block of lithologies init, Coordinates of the grid points to interpolate, Range, Covariance at 0, <TensorType(float32, scalar)>, <TensorType(float32, scalar)>, <TensorType(float32, scalar)>, <TensorType(float32, matrix)>, <TensorType(int64, vector)>, Value of the formation)\nToposort index: 7\nInputs types: [TensorType(float32, matrix), TensorType(float32, vector), TensorType(float32, vector), TensorType(float32, vector), TensorType(float32, matrix), TensorType(float32, matrix), TensorType(int64, vector), TensorType(int64, vector), TensorType(int64, vector), TensorType(int64, vector), TensorType(float32, matrix), TensorType(float32, matrix), TensorType(float32, scalar), TensorType(float32, scalar), TensorType(float32, scalar), TensorType(float32, scalar), TensorType(float32, scalar), TensorType(float32, matrix), TensorType(int64, vector), TensorType(int64, vector)]\nInputs shapes: [(2, 3), (2,), (2,), (2,), (34, 3), (34, 3), (2,), (2,), (2,), (2,), (1, 729), (729, 3), (), (), (), (), (), (9, 729), (5,), (5,)]\nInputs strides: [(4, 8), (4,), (4,), (4,), (12, 4), (12, 4), (8,), (8,), (8,), (8,), (2916, 4), (4, 2916), (), (), (), (), (), (2916, 4), (8,), (8,)]\nInputs values: ['not shown', array([ 18.434999,  71.565002], dtype=float32), array([  90.,  270.], dtype=float32), array([ 1.,  1.], dtype=float32), 'not shown', 'not shown', array([ 0, 34]), array([0, 2]), array([0, 5]), array([3, 3]), 'not shown', 'not shown', array(0.8882311582565308, dtype=float32), array(0.01878463476896286, dtype=float32), array(0.009999999776482582, dtype=float32), array(2.0, dtype=float32), array(4.0, dtype=float32), 'not shown', array([13,  5,  7,  4,  5]), array([1, 2, 3, 4, 5])]\nInputs type_num: [11, 11, 11, 11, 11, 11, 7, 7, 7, 7, 11, 11, 11, 11, 11, 11, 11, 11, 7, 7]\nOutputs clients: [['output']]\n\nBacktrace when the node is created(use Theano flag traceback.limit=N to make it longer):\n  File \"/home/miguel/anaconda3/lib/python3.6/site-packages/ipykernel/kernelbase.py\", line 228, in dispatch_shell\n    handler(stream, idents, msg)\n  File \"/home/miguel/anaconda3/lib/python3.6/site-packages/ipykernel/kernelbase.py\", line 390, in execute_request\n    user_expressions, allow_stdin)\n  File \"/home/miguel/anaconda3/lib/python3.6/site-packages/ipykernel/ipkernel.py\", line 196, in do_execute\n    res = shell.run_cell(code, store_history=store_history, silent=silent)\n  File \"/home/miguel/anaconda3/lib/python3.6/site-packages/ipykernel/zmqshell.py\", line 501, in run_cell\n    return super(ZMQInteractiveShell, self).run_cell(*args, **kwargs)\n  File \"/home/miguel/anaconda3/lib/python3.6/site-packages/IPython/core/interactiveshell.py\", line 2717, in run_cell\n    interactivity=interactivity, compiler=compiler, result=result)\n  File \"/home/miguel/anaconda3/lib/python3.6/site-packages/IPython/core/interactiveshell.py\", line 2821, in run_ast_nodes\n    if self.run_code(code, result):\n  File \"/home/miguel/anaconda3/lib/python3.6/site-packages/IPython/core/interactiveshell.py\", line 2881, in run_code\n    exec(code_obj, self.user_global_ns, self.user_ns)\n  File \"<ipython-input-9-3aff1d38cda1>\", line 26, in <module>\n    ref, rest))\n\nDebugprint of the apply node: \nOpFromGraph{inline=False} [id A] <TensorType(float32, 3D)> 'GeMpy'   \n\nStorage map footprint:\n - <TensorType(float32, matrix)>, Shared Input, Shape: (9, 729), ElemSize: 4 Byte(s), TotalSize: 26244 Byte(s)\n - Coordinates of the grid points to interpolate, Shared Input, Shape: (729, 3), ElemSize: 4 Byte(s), TotalSize: 8748 Byte(s)\n - final block of lithologies init, Shared Input, Shape: (1, 729), ElemSize: 4 Byte(s), TotalSize: 2916 Byte(s)\n - <TensorType(float32, matrix)>, Shared Input, Shape: (34, 3), ElemSize: 4 Byte(s), TotalSize: 408 Byte(s)\n - <TensorType(float32, matrix)>, Shared Input, Shape: (34, 3), ElemSize: 4 Byte(s), TotalSize: 408 Byte(s)\n - rest, Shape: (34, 3), ElemSize: 4 Byte(s), TotalSize: 408 Byte(s)\n - reference, Shape: (34, 3), ElemSize: 4 Byte(s), TotalSize: 408 Byte(s)\n - TensorConstant{[ 0  1  2 .. 10 11 12]}, Shape: (13,), ElemSize: 8 Byte(s), TotalSize: 104 Byte(s)\n - <TensorType(int64, vector)>, Shared Input, Shape: (5,), ElemSize: 8 Byte(s), TotalSize: 40 Byte(s)\n - Value of the formation, Shared Input, Shape: (5,), ElemSize: 8 Byte(s), TotalSize: 40 Byte(s)\n - <TensorType(float32, matrix)>, Shared Input, Shape: (2, 3), ElemSize: 4 Byte(s), TotalSize: 24 Byte(s)\n - Length of interfaces in every series, Shared Input, Shape: (2,), ElemSize: 8 Byte(s), TotalSize: 16 Byte(s)\n - Length of foliations in every series, Shared Input, Shape: (2,), ElemSize: 8 Byte(s), TotalSize: 16 Byte(s)\n - List with the number of formations, Shared Input, Shape: (2,), ElemSize: 8 Byte(s), TotalSize: 16 Byte(s)\n - Grade of the universal drift, Shared Input, Shape: (2,), ElemSize: 8 Byte(s), TotalSize: 16 Byte(s)\n - reservoir, Input, Shape: (1,), ElemSize: 8 Byte(s), TotalSize: 8 Byte(s)\n - <TensorType(float32, vector)>, Shared Input, Shape: (2,), ElemSize: 4 Byte(s), TotalSize: 8 Byte(s)\n - <TensorType(float32, vector)>, Shared Input, Shape: (2,), ElemSize: 4 Byte(s), TotalSize: 8 Byte(s)\n - <TensorType(float32, vector)>, Shared Input, Shape: (2,), ElemSize: 4 Byte(s), TotalSize: 8 Byte(s)\n - reservoir, Shape: (1,), ElemSize: 8 Byte(s), TotalSize: 8 Byte(s)\n - TensorConstant{2}, Shape: (), ElemSize: 8 Byte(s), TotalSize: 8.0 Byte(s)\n - Range, Shared Input, Shape: (), ElemSize: 4 Byte(s), TotalSize: 4.0 Byte(s)\n - Covariance at 0, Shared Input, Shape: (), ElemSize: 4 Byte(s), TotalSize: 4.0 Byte(s)\n - <TensorType(float32, scalar)>, Shared Input, Shape: (), ElemSize: 4 Byte(s), TotalSize: 4.0 Byte(s)\n - <TensorType(float32, scalar)>, Shared Input, Shape: (), ElemSize: 4 Byte(s), TotalSize: 4.0 Byte(s)\n - <TensorType(float32, scalar)>, Shared Input, Shape: (), ElemSize: 4 Byte(s), TotalSize: 4.0 Byte(s)\n TotalSize: 39880.0 Byte(s) 0.000 GB\n TotalSize inputs: 39056.0 Byte(s) 0.000 GB\n\n",
     "output_type": "error",
     "traceback": [
      "\u001b[0;31m---------------------------------------------------------------------------\u001b[0m",
      "\u001b[0;31mNotImplementedError\u001b[0m                       Traceback (most recent call last)",
      "\u001b[0;32m/home/miguel/anaconda3/lib/python3.6/site-packages/Theano-0.9.0rc4-py3.6.egg/theano/compile/function_module.py\u001b[0m in \u001b[0;36m__call__\u001b[0;34m(self, *args, **kwargs)\u001b[0m\n\u001b[1;32m    883\u001b[0m             \u001b[0moutputs\u001b[0m \u001b[0;34m=\u001b[0m\u001b[0;31m\\\u001b[0m\u001b[0;34m\u001b[0m\u001b[0m\n\u001b[0;32m--> 884\u001b[0;31m                 \u001b[0mself\u001b[0m\u001b[0;34m.\u001b[0m\u001b[0mfn\u001b[0m\u001b[0;34m(\u001b[0m\u001b[0;34m)\u001b[0m \u001b[0;32mif\u001b[0m \u001b[0moutput_subset\u001b[0m \u001b[0;32mis\u001b[0m \u001b[0;32mNone\u001b[0m \u001b[0;32melse\u001b[0m\u001b[0;31m\\\u001b[0m\u001b[0;34m\u001b[0m\u001b[0m\n\u001b[0m\u001b[1;32m    885\u001b[0m                 \u001b[0mself\u001b[0m\u001b[0;34m.\u001b[0m\u001b[0mfn\u001b[0m\u001b[0;34m(\u001b[0m\u001b[0moutput_subset\u001b[0m\u001b[0;34m=\u001b[0m\u001b[0moutput_subset\u001b[0m\u001b[0;34m)\u001b[0m\u001b[0;34m\u001b[0m\u001b[0m\n",
      "\u001b[0;32m/home/miguel/anaconda3/lib/python3.6/site-packages/Theano-0.9.0rc4-py3.6.egg/theano/scan_module/scan_op.py\u001b[0m in \u001b[0;36mrval\u001b[0;34m(p, i, o, n, allow_gc)\u001b[0m\n\u001b[1;32m    988\u001b[0m                  allow_gc=allow_gc):\n\u001b[0;32m--> 989\u001b[0;31m             \u001b[0mr\u001b[0m \u001b[0;34m=\u001b[0m \u001b[0mp\u001b[0m\u001b[0;34m(\u001b[0m\u001b[0mn\u001b[0m\u001b[0;34m,\u001b[0m \u001b[0;34m[\u001b[0m\u001b[0mx\u001b[0m\u001b[0;34m[\u001b[0m\u001b[0;36m0\u001b[0m\u001b[0;34m]\u001b[0m \u001b[0;32mfor\u001b[0m \u001b[0mx\u001b[0m \u001b[0;32min\u001b[0m \u001b[0mi\u001b[0m\u001b[0;34m]\u001b[0m\u001b[0;34m,\u001b[0m \u001b[0mo\u001b[0m\u001b[0;34m)\u001b[0m\u001b[0;34m\u001b[0m\u001b[0m\n\u001b[0m\u001b[1;32m    990\u001b[0m             \u001b[0;32mfor\u001b[0m \u001b[0mo\u001b[0m \u001b[0;32min\u001b[0m \u001b[0mnode\u001b[0m\u001b[0;34m.\u001b[0m\u001b[0moutputs\u001b[0m\u001b[0;34m:\u001b[0m\u001b[0;34m\u001b[0m\u001b[0m\n",
      "\u001b[0;32m/home/miguel/anaconda3/lib/python3.6/site-packages/Theano-0.9.0rc4-py3.6.egg/theano/scan_module/scan_op.py\u001b[0m in \u001b[0;36mp\u001b[0;34m(node, args, outs)\u001b[0m\n\u001b[1;32m    977\u001b[0m                                                 \u001b[0mouts\u001b[0m\u001b[0;34m,\u001b[0m\u001b[0;34m\u001b[0m\u001b[0m\n\u001b[0;32m--> 978\u001b[0;31m                                                 self, node)\n\u001b[0m\u001b[1;32m    979\u001b[0m         \u001b[0;32mexcept\u001b[0m \u001b[0;34m(\u001b[0m\u001b[0mImportError\u001b[0m\u001b[0;34m,\u001b[0m \u001b[0mtheano\u001b[0m\u001b[0;34m.\u001b[0m\u001b[0mgof\u001b[0m\u001b[0;34m.\u001b[0m\u001b[0mcmodule\u001b[0m\u001b[0;34m.\u001b[0m\u001b[0mMissingGXX\u001b[0m\u001b[0;34m)\u001b[0m\u001b[0;34m:\u001b[0m\u001b[0;34m\u001b[0m\u001b[0m\n",
      "\u001b[0;32mtheano/scan_module/scan_perform.pyx\u001b[0m in \u001b[0;36mtheano.scan_module.scan_perform.perform (/home/miguel/.theano/compiledir_Linux-4.8--generic-x86_64-with-debian-stretch-sid-x86_64-3.6.1-64/scan_perform/mod.cpp:2628)\u001b[0;34m()\u001b[0m\n",
      "\u001b[0;31mNotImplementedError\u001b[0m: We didn't implemented yet the case where scan do 0 iteration",
      "\nDuring handling of the above exception, another exception occurred:\n",
      "\u001b[0;31mNotImplementedError\u001b[0m                       Traceback (most recent call last)",
      "\u001b[0;32m/home/miguel/anaconda3/lib/python3.6/site-packages/Theano-0.9.0rc4-py3.6.egg/theano/compile/function_module.py\u001b[0m in \u001b[0;36m__call__\u001b[0;34m(self, *args, **kwargs)\u001b[0m\n\u001b[1;32m    883\u001b[0m             \u001b[0moutputs\u001b[0m \u001b[0;34m=\u001b[0m\u001b[0;31m\\\u001b[0m\u001b[0;34m\u001b[0m\u001b[0m\n\u001b[0;32m--> 884\u001b[0;31m                 \u001b[0mself\u001b[0m\u001b[0;34m.\u001b[0m\u001b[0mfn\u001b[0m\u001b[0;34m(\u001b[0m\u001b[0;34m)\u001b[0m \u001b[0;32mif\u001b[0m \u001b[0moutput_subset\u001b[0m \u001b[0;32mis\u001b[0m \u001b[0;32mNone\u001b[0m \u001b[0;32melse\u001b[0m\u001b[0;31m\\\u001b[0m\u001b[0;34m\u001b[0m\u001b[0m\n\u001b[0m\u001b[1;32m    885\u001b[0m                 \u001b[0mself\u001b[0m\u001b[0;34m.\u001b[0m\u001b[0mfn\u001b[0m\u001b[0;34m(\u001b[0m\u001b[0moutput_subset\u001b[0m\u001b[0;34m=\u001b[0m\u001b[0moutput_subset\u001b[0m\u001b[0;34m)\u001b[0m\u001b[0;34m\u001b[0m\u001b[0m\n",
      "\u001b[0;32m/home/miguel/anaconda3/lib/python3.6/site-packages/Theano-0.9.0rc4-py3.6.egg/theano/gof/op.py\u001b[0m in \u001b[0;36mrval\u001b[0;34m(p, i, o, n)\u001b[0m\n\u001b[1;32m    871\u001b[0m             \u001b[0;32mdef\u001b[0m \u001b[0mrval\u001b[0m\u001b[0;34m(\u001b[0m\u001b[0mp\u001b[0m\u001b[0;34m=\u001b[0m\u001b[0mp\u001b[0m\u001b[0;34m,\u001b[0m \u001b[0mi\u001b[0m\u001b[0;34m=\u001b[0m\u001b[0mnode_input_storage\u001b[0m\u001b[0;34m,\u001b[0m \u001b[0mo\u001b[0m\u001b[0;34m=\u001b[0m\u001b[0mnode_output_storage\u001b[0m\u001b[0;34m,\u001b[0m \u001b[0mn\u001b[0m\u001b[0;34m=\u001b[0m\u001b[0mnode\u001b[0m\u001b[0;34m)\u001b[0m\u001b[0;34m:\u001b[0m\u001b[0;34m\u001b[0m\u001b[0m\n\u001b[0;32m--> 872\u001b[0;31m                 \u001b[0mr\u001b[0m \u001b[0;34m=\u001b[0m \u001b[0mp\u001b[0m\u001b[0;34m(\u001b[0m\u001b[0mn\u001b[0m\u001b[0;34m,\u001b[0m \u001b[0;34m[\u001b[0m\u001b[0mx\u001b[0m\u001b[0;34m[\u001b[0m\u001b[0;36m0\u001b[0m\u001b[0;34m]\u001b[0m \u001b[0;32mfor\u001b[0m \u001b[0mx\u001b[0m \u001b[0;32min\u001b[0m \u001b[0mi\u001b[0m\u001b[0;34m]\u001b[0m\u001b[0;34m,\u001b[0m \u001b[0mo\u001b[0m\u001b[0;34m)\u001b[0m\u001b[0;34m\u001b[0m\u001b[0m\n\u001b[0m\u001b[1;32m    873\u001b[0m                 \u001b[0;32mfor\u001b[0m \u001b[0mo\u001b[0m \u001b[0;32min\u001b[0m \u001b[0mnode\u001b[0m\u001b[0;34m.\u001b[0m\u001b[0moutputs\u001b[0m\u001b[0;34m:\u001b[0m\u001b[0;34m\u001b[0m\u001b[0m\n",
      "\u001b[0;32m/home/miguel/anaconda3/lib/python3.6/site-packages/Theano-0.9.0rc4-py3.6.egg/theano/compile/builders.py\u001b[0m in \u001b[0;36mperform\u001b[0;34m(self, node, inputs, outputs)\u001b[0m\n\u001b[1;32m    612\u001b[0m     \u001b[0;32mdef\u001b[0m \u001b[0mperform\u001b[0m\u001b[0;34m(\u001b[0m\u001b[0mself\u001b[0m\u001b[0;34m,\u001b[0m \u001b[0mnode\u001b[0m\u001b[0;34m,\u001b[0m \u001b[0minputs\u001b[0m\u001b[0;34m,\u001b[0m \u001b[0moutputs\u001b[0m\u001b[0;34m)\u001b[0m\u001b[0;34m:\u001b[0m\u001b[0;34m\u001b[0m\u001b[0m\n\u001b[0;32m--> 613\u001b[0;31m         \u001b[0mvariables\u001b[0m \u001b[0;34m=\u001b[0m \u001b[0mself\u001b[0m\u001b[0;34m.\u001b[0m\u001b[0mfn\u001b[0m\u001b[0;34m(\u001b[0m\u001b[0;34m*\u001b[0m\u001b[0minputs\u001b[0m\u001b[0;34m)\u001b[0m\u001b[0;34m\u001b[0m\u001b[0m\n\u001b[0m\u001b[1;32m    614\u001b[0m         \u001b[0;32massert\u001b[0m \u001b[0mlen\u001b[0m\u001b[0;34m(\u001b[0m\u001b[0mvariables\u001b[0m\u001b[0;34m)\u001b[0m \u001b[0;34m==\u001b[0m \u001b[0mlen\u001b[0m\u001b[0;34m(\u001b[0m\u001b[0moutputs\u001b[0m\u001b[0;34m)\u001b[0m\u001b[0;34m\u001b[0m\u001b[0m\n",
      "\u001b[0;32m/home/miguel/anaconda3/lib/python3.6/site-packages/Theano-0.9.0rc4-py3.6.egg/theano/compile/function_module.py\u001b[0m in \u001b[0;36m__call__\u001b[0;34m(self, *args, **kwargs)\u001b[0m\n\u001b[1;32m    897\u001b[0m                     \u001b[0mthunk\u001b[0m\u001b[0;34m=\u001b[0m\u001b[0mthunk\u001b[0m\u001b[0;34m,\u001b[0m\u001b[0;34m\u001b[0m\u001b[0m\n\u001b[0;32m--> 898\u001b[0;31m                     storage_map=getattr(self.fn, 'storage_map', None))\n\u001b[0m\u001b[1;32m    899\u001b[0m             \u001b[0;32melse\u001b[0m\u001b[0;34m:\u001b[0m\u001b[0;34m\u001b[0m\u001b[0m\n",
      "\u001b[0;32m/home/miguel/anaconda3/lib/python3.6/site-packages/Theano-0.9.0rc4-py3.6.egg/theano/gof/link.py\u001b[0m in \u001b[0;36mraise_with_op\u001b[0;34m(node, thunk, exc_info, storage_map)\u001b[0m\n\u001b[1;32m    324\u001b[0m         \u001b[0;32mpass\u001b[0m\u001b[0;34m\u001b[0m\u001b[0m\n\u001b[0;32m--> 325\u001b[0;31m     \u001b[0mreraise\u001b[0m\u001b[0;34m(\u001b[0m\u001b[0mexc_type\u001b[0m\u001b[0;34m,\u001b[0m \u001b[0mexc_value\u001b[0m\u001b[0;34m,\u001b[0m \u001b[0mexc_trace\u001b[0m\u001b[0;34m)\u001b[0m\u001b[0;34m\u001b[0m\u001b[0m\n\u001b[0m\u001b[1;32m    326\u001b[0m \u001b[0;34m\u001b[0m\u001b[0m\n",
      "\u001b[0;32m/home/miguel/anaconda3/lib/python3.6/site-packages/six.py\u001b[0m in \u001b[0;36mreraise\u001b[0;34m(tp, value, tb)\u001b[0m\n\u001b[1;32m    684\u001b[0m         \u001b[0;32mif\u001b[0m \u001b[0mvalue\u001b[0m\u001b[0;34m.\u001b[0m\u001b[0m__traceback__\u001b[0m \u001b[0;32mis\u001b[0m \u001b[0;32mnot\u001b[0m \u001b[0mtb\u001b[0m\u001b[0;34m:\u001b[0m\u001b[0;34m\u001b[0m\u001b[0m\n\u001b[0;32m--> 685\u001b[0;31m             \u001b[0;32mraise\u001b[0m \u001b[0mvalue\u001b[0m\u001b[0;34m.\u001b[0m\u001b[0mwith_traceback\u001b[0m\u001b[0;34m(\u001b[0m\u001b[0mtb\u001b[0m\u001b[0;34m)\u001b[0m\u001b[0;34m\u001b[0m\u001b[0m\n\u001b[0m\u001b[1;32m    686\u001b[0m         \u001b[0;32mraise\u001b[0m \u001b[0mvalue\u001b[0m\u001b[0;34m\u001b[0m\u001b[0m\n",
      "\u001b[0;32m/home/miguel/anaconda3/lib/python3.6/site-packages/Theano-0.9.0rc4-py3.6.egg/theano/compile/function_module.py\u001b[0m in \u001b[0;36m__call__\u001b[0;34m(self, *args, **kwargs)\u001b[0m\n\u001b[1;32m    883\u001b[0m             \u001b[0moutputs\u001b[0m \u001b[0;34m=\u001b[0m\u001b[0;31m\\\u001b[0m\u001b[0;34m\u001b[0m\u001b[0m\n\u001b[0;32m--> 884\u001b[0;31m                 \u001b[0mself\u001b[0m\u001b[0;34m.\u001b[0m\u001b[0mfn\u001b[0m\u001b[0;34m(\u001b[0m\u001b[0;34m)\u001b[0m \u001b[0;32mif\u001b[0m \u001b[0moutput_subset\u001b[0m \u001b[0;32mis\u001b[0m \u001b[0;32mNone\u001b[0m \u001b[0;32melse\u001b[0m\u001b[0;31m\\\u001b[0m\u001b[0;34m\u001b[0m\u001b[0m\n\u001b[0m\u001b[1;32m    885\u001b[0m                 \u001b[0mself\u001b[0m\u001b[0;34m.\u001b[0m\u001b[0mfn\u001b[0m\u001b[0;34m(\u001b[0m\u001b[0moutput_subset\u001b[0m\u001b[0;34m=\u001b[0m\u001b[0moutput_subset\u001b[0m\u001b[0;34m)\u001b[0m\u001b[0;34m\u001b[0m\u001b[0m\n",
      "\u001b[0;32m/home/miguel/anaconda3/lib/python3.6/site-packages/Theano-0.9.0rc4-py3.6.egg/theano/scan_module/scan_op.py\u001b[0m in \u001b[0;36mrval\u001b[0;34m(p, i, o, n, allow_gc)\u001b[0m\n\u001b[1;32m    988\u001b[0m                  allow_gc=allow_gc):\n\u001b[0;32m--> 989\u001b[0;31m             \u001b[0mr\u001b[0m \u001b[0;34m=\u001b[0m \u001b[0mp\u001b[0m\u001b[0;34m(\u001b[0m\u001b[0mn\u001b[0m\u001b[0;34m,\u001b[0m \u001b[0;34m[\u001b[0m\u001b[0mx\u001b[0m\u001b[0;34m[\u001b[0m\u001b[0;36m0\u001b[0m\u001b[0;34m]\u001b[0m \u001b[0;32mfor\u001b[0m \u001b[0mx\u001b[0m \u001b[0;32min\u001b[0m \u001b[0mi\u001b[0m\u001b[0;34m]\u001b[0m\u001b[0;34m,\u001b[0m \u001b[0mo\u001b[0m\u001b[0;34m)\u001b[0m\u001b[0;34m\u001b[0m\u001b[0m\n\u001b[0m\u001b[1;32m    990\u001b[0m             \u001b[0;32mfor\u001b[0m \u001b[0mo\u001b[0m \u001b[0;32min\u001b[0m \u001b[0mnode\u001b[0m\u001b[0;34m.\u001b[0m\u001b[0moutputs\u001b[0m\u001b[0;34m:\u001b[0m\u001b[0;34m\u001b[0m\u001b[0m\n",
      "\u001b[0;32m/home/miguel/anaconda3/lib/python3.6/site-packages/Theano-0.9.0rc4-py3.6.egg/theano/scan_module/scan_op.py\u001b[0m in \u001b[0;36mp\u001b[0;34m(node, args, outs)\u001b[0m\n\u001b[1;32m    977\u001b[0m                                                 \u001b[0mouts\u001b[0m\u001b[0;34m,\u001b[0m\u001b[0;34m\u001b[0m\u001b[0m\n\u001b[0;32m--> 978\u001b[0;31m                                                 self, node)\n\u001b[0m\u001b[1;32m    979\u001b[0m         \u001b[0;32mexcept\u001b[0m \u001b[0;34m(\u001b[0m\u001b[0mImportError\u001b[0m\u001b[0;34m,\u001b[0m \u001b[0mtheano\u001b[0m\u001b[0;34m.\u001b[0m\u001b[0mgof\u001b[0m\u001b[0;34m.\u001b[0m\u001b[0mcmodule\u001b[0m\u001b[0;34m.\u001b[0m\u001b[0mMissingGXX\u001b[0m\u001b[0;34m)\u001b[0m\u001b[0;34m:\u001b[0m\u001b[0;34m\u001b[0m\u001b[0m\n",
      "\u001b[0;32mtheano/scan_module/scan_perform.pyx\u001b[0m in \u001b[0;36mtheano.scan_module.scan_perform.perform (/home/miguel/.theano/compiledir_Linux-4.8--generic-x86_64-with-debian-stretch-sid-x86_64-3.6.1-64/scan_perform/mod.cpp:2628)\u001b[0;34m()\u001b[0m\n",
      "\u001b[0;31mNotImplementedError\u001b[0m: We didn't implemented yet the case where scan do 0 iteration\nApply node that caused the error: for{cpu,scan_fn}(Elemwise{minimum,no_inplace}.0, Subtensor{:int64:}.0, Subtensor{:int64:}.0, Subtensor{:int64:}.0, Subtensor{:int64:}.0, Subtensor{:int64:}.0, Subtensor{:int64:}.0, Subtensor{:int64:}.0, IncSubtensor{Set;:int64:}.0, <TensorType(int64, vector)>, <TensorType(int64, vector)>, <TensorType(int64, vector)>, <TensorType(int64, vector)>, <TensorType(float32, matrix)>, <TensorType(float32, scalar)>, <TensorType(float32, scalar)>, <TensorType(float32, scalar)>, <TensorType(float32, scalar)>, <TensorType(float32, scalar)>, <TensorType(float32, matrix)>, <TensorType(int64, vector)>, <TensorType(int64, vector)>, Position of the dips, Rest of the points of the layers, Reference points for every layer, Angle of every dip, Azimuth, Polarity)\nToposort index: 50\nInputs types: [TensorType(int64, scalar), TensorType(int64, vector), TensorType(int64, vector), TensorType(int64, vector), TensorType(int64, vector), TensorType(int64, vector), TensorType(int64, vector), TensorType(int64, vector), TensorType(float32, 3D), TensorType(int64, vector), TensorType(int64, vector), TensorType(int64, vector), TensorType(int64, vector), TensorType(float32, matrix), TensorType(float32, scalar), TensorType(float32, scalar), TensorType(float32, scalar), TensorType(float32, scalar), TensorType(float32, scalar), TensorType(float32, matrix), TensorType(int64, vector), TensorType(int64, vector), TensorType(float32, matrix), TensorType(float32, matrix), TensorType(float32, matrix), TensorType(float32, vector), TensorType(float32, vector), TensorType(float32, vector)]\nInputs shapes: [(), (0,), (0,), (0,), (0,), (0,), (0,), (0,), (1, 3, 729), (2,), (2,), (2,), (2,), (729, 3), (), (), (), (), (), (9, 729), (5,), (5,), (2, 3), (34, 3), (34, 3), (2,), (2,), (2,)]\nInputs strides: [(), (8,), (8,), (8,), (8,), (8,), (8,), (8,), (8748, 2916, 4), (8,), (8,), (8,), (8,), (4, 2916), (), (), (), (), (), (2916, 4), (8,), (8,), (4, 8), (12, 4), (12, 4), (4,), (4,), (4,)]\nInputs values: [array(0), array([], dtype=int64), array([], dtype=int64), array([], dtype=int64), array([], dtype=int64), array([], dtype=int64), array([], dtype=int64), array([], dtype=int64), 'not shown', array([ 0, 34]), array([0, 2]), array([0, 5]), array([3, 3]), 'not shown', array(0.8882311582565308, dtype=float32), array(0.01878463476896286, dtype=float32), array(0.009999999776482582, dtype=float32), array(2.0, dtype=float32), array(4.0, dtype=float32), 'not shown', array([13,  5,  7,  4,  5]), array([1, 2, 3, 4, 5]), 'not shown', 'not shown', 'not shown', array([ 18.434999,  71.565002], dtype=float32), array([  90.,  270.], dtype=float32), array([ 1.,  1.], dtype=float32)]\nInputs type_num: [7, 7, 7, 7, 7, 7, 7, 7, 11, 7, 7, 7, 7, 11, 11, 11, 11, 11, 11, 11, 7, 7, 11, 11, 11, 11, 11, 11]\nOutputs clients: [[Subtensor{int64::}(for{cpu,scan_fn}.0, Constant{1})]]\n\nBacktrace when the node is created(use Theano flag traceback.limit=N to make it longer):\n  File \"/home/miguel/anaconda3/lib/python3.6/site-packages/ipykernel/kernelbase.py\", line 390, in execute_request\n    user_expressions, allow_stdin)\n  File \"/home/miguel/anaconda3/lib/python3.6/site-packages/ipykernel/ipkernel.py\", line 196, in do_execute\n    res = shell.run_cell(code, store_history=store_history, silent=silent)\n  File \"/home/miguel/anaconda3/lib/python3.6/site-packages/ipykernel/zmqshell.py\", line 501, in run_cell\n    return super(ZMQInteractiveShell, self).run_cell(*args, **kwargs)\n  File \"/home/miguel/anaconda3/lib/python3.6/site-packages/IPython/core/interactiveshell.py\", line 2717, in run_cell\n    interactivity=interactivity, compiler=compiler, result=result)\n  File \"/home/miguel/anaconda3/lib/python3.6/site-packages/IPython/core/interactiveshell.py\", line 2821, in run_ast_nodes\n    if self.run_code(code, result):\n  File \"/home/miguel/anaconda3/lib/python3.6/site-packages/IPython/core/interactiveshell.py\", line 2881, in run_code\n    exec(code_obj, self.user_global_ns, self.user_ns)\n  File \"<ipython-input-8-cd9a2cbe4b09>\", line 12, in <module>\n    geomodel = theano.OpFromGraph(input_data_T, [data_interp.interpolator.tg.whole_block_model(1)], on_unused_input='ignore')\n  File \"../gempy/theanograf.py\", line 1309, in whole_block_model\n    dict(input=self.u_grade_T[n_faults:], taps=[0])]\n\nDebugprint of the apply node: \nfor{cpu,scan_fn} [id A] <TensorType(float32, 3D)> ''   \n |Elemwise{minimum,no_inplace} [id B] <TensorType(int64, scalar)> ''   \n | |Elemwise{minimum,no_inplace} [id C] <TensorType(int64, scalar)> ''   \n | | |Elemwise{minimum,no_inplace} [id D] <TensorType(int64, scalar)> ''   \n | | | |Elemwise{minimum,no_inplace} [id E] <TensorType(int64, scalar)> ''   \n | | | | |Elemwise{minimum,no_inplace} [id F] <TensorType(int64, scalar)> ''   \n | | | | | |Elemwise{minimum,no_inplace} [id G] <TensorType(int64, scalar)> ''   \n | | | | | | |Subtensor{int64} [id H] <TensorType(int64, scalar)> ''   \n | | | | | | | |Shape [id I] <TensorType(int64, vector)> ''   \n | | | | | | | | |Subtensor{int64:int64:} [id J] <TensorType(int64, vector)> ''   \n | | | | | | | |   |Subtensor{int64::} [id K] <TensorType(int64, vector)> ''   \n | | | | | | | |   | |<TensorType(int64, vector)> [id L] <TensorType(int64, vector)>\n | | | | | | | |   | |Constant{1} [id M] <int64>\n | | | | | | | |   |Constant{0} [id N] <int64>\n | | | | | | | |   |Constant{-1} [id O] <int64>\n | | | | | | | |Constant{0} [id N] <int64>\n | | | | | | |Subtensor{int64} [id P] <TensorType(int64, scalar)> ''   \n | | | | | |   |Shape [id Q] <TensorType(int64, vector)> ''   \n | | | | | |   | |Subtensor{int64::} [id R] <TensorType(int64, vector)> ''   \n | | | | | |   |   |Subtensor{int64::} [id K] <TensorType(int64, vector)> ''   \n | | | | | |   |   |Constant{1} [id M] <int64>\n | | | | | |   |Constant{0} [id N] <int64>\n | | | | | |Subtensor{int64} [id S] <TensorType(int64, scalar)> ''   \n | | | | |   |Shape [id T] <TensorType(int64, vector)> ''   \n | | | | |   | |Subtensor{int64:int64:} [id U] <TensorType(int64, vector)> ''   \n | | | | |   |   |Subtensor{int64::} [id V] <TensorType(int64, vector)> ''   \n | | | | |   |   | |<TensorType(int64, vector)> [id W] <TensorType(int64, vector)>\n | | | | |   |   | |Constant{1} [id M] <int64>\n | | | | |   |   |Constant{0} [id N] <int64>\n | | | | |   |   |Constant{-1} [id O] <int64>\n | | | | |   |Constant{0} [id N] <int64>\n | | | | |Subtensor{int64} [id X] <TensorType(int64, scalar)> ''   \n | | | |   |Shape [id Y] <TensorType(int64, vector)> ''   \n | | | |   | |Subtensor{int64::} [id Z] <TensorType(int64, vector)> ''   \n | | | |   |   |Subtensor{int64::} [id V] <TensorType(int64, vector)> ''   \n | | | |   |   |Constant{1} [id M] <int64>\n | | | |   |Constant{0} [id N] <int64>\n | | | |Subtensor{int64} [id BA] <TensorType(int64, scalar)> ''   \n | | |   |Shape [id BB] <TensorType(int64, vector)> ''   \n | | |   | |Subtensor{int64:int64:} [id BC] <TensorType(int64, vector)> ''   \n | | |   |   |Subtensor{int64::} [id BD] <TensorType(int64, vector)> ''   \n | | |   |   | |<TensorType(int64, vector)> [id BE] <TensorType(int64, vector)>\n | | |   |   | |Constant{1} [id M] <int64>\n | | |   |   |Constant{0} [id N] <int64>\n | | |   |   |Constant{-1} [id O] <int64>\n | | |   |Constant{0} [id N] <int64>\n | | |Subtensor{int64} [id BF] <TensorType(int64, scalar)> ''   \n | |   |Shape [id BG] <TensorType(int64, vector)> ''   \n | |   | |Subtensor{int64::} [id BH] <TensorType(int64, vector)> ''   \n | |   |   |Subtensor{int64::} [id BD] <TensorType(int64, vector)> ''   \n | |   |   |Constant{1} [id M] <int64>\n | |   |Constant{0} [id N] <int64>\n | |Subtensor{int64} [id BI] <TensorType(int64, scalar)> ''   \n |   |Shape [id BJ] <TensorType(int64, vector)> ''   \n |   | |Subtensor{int64::} [id BK] <TensorType(int64, vector)> ''   \n |   |   |Subtensor{int64::} [id BL] <TensorType(int64, vector)> ''   \n |   |   | |<TensorType(int64, vector)> [id BM] <TensorType(int64, vector)>\n |   |   | |Constant{1} [id M] <int64>\n |   |   |Constant{0} [id N] <int64>\n |   |Constant{0} [id N] <int64>\n |Subtensor{:int64:} [id BN] <TensorType(int64, vector)> ''   \n | |Subtensor{int64:int64:} [id J] <TensorType(int64, vector)> ''   \n | |ScalarFromTensor [id BO] <int64> ''   \n |   |Elemwise{minimum,no_inplace} [id B] <TensorType(int64, scalar)> ''   \n |Subtensor{:int64:} [id BP] <TensorType(int64, vector)> ''   \n | |Subtensor{int64::} [id R] <TensorType(int64, vector)> ''   \n | |ScalarFromTensor [id BO] <int64> ''   \n |Subtensor{:int64:} [id BQ] <TensorType(int64, vector)> ''   \n | |Subtensor{int64:int64:} [id U] <TensorType(int64, vector)> ''   \n | |ScalarFromTensor [id BO] <int64> ''   \n |Subtensor{:int64:} [id BR] <TensorType(int64, vector)> ''   \n | |Subtensor{int64::} [id Z] <TensorType(int64, vector)> ''   \n | |ScalarFromTensor [id BO] <int64> ''   \n |Subtensor{:int64:} [id BS] <TensorType(int64, vector)> ''   \n | |Subtensor{int64:int64:} [id BC] <TensorType(int64, vector)> ''   \n | |ScalarFromTensor [id BO] <int64> ''   \n |Subtensor{:int64:} [id BT] <TensorType(int64, vector)> ''   \n | |Subtensor{int64::} [id BH] <TensorType(int64, vector)> ''   \n | |ScalarFromTensor [id BO] <int64> ''   \n |Subtensor{:int64:} [id BU] <TensorType(int64, vector)> ''   \n | |Subtensor{int64::} [id BK] <TensorType(int64, vector)> ''   \n | |ScalarFromTensor [id BO] <int64> ''   \n |IncSubtensor{Set;:int64:} [id BV] <TensorType(float32, 3D)> ''   \n | |AllocEmpty{dtype='float32'} [id BW] <TensorType(float32, 3D)> ''   \n | | |Elemwise{add,no_inplace} [id BX] <TensorType(int64, scalar)> ''   \n | | | |Elemwise{minimum,no_inplace} [id B] <TensorType(int64, scalar)> ''   \n | | | |Subtensor{int64} [id BY] <TensorType(int64, scalar)> ''   \n | | |   |Shape [id BZ] <TensorType(int64, vector)> ''   \n | | |   | |Rebroadcast{0} [id CA] <TensorType(float32, 3D)> ''   \n | | |   |   |InplaceDimShuffle{x,0,1} [id CB] <TensorType(float32, (True, False, False))> ''   \n | | |   |     |Join [id CC] <TensorType(float32, matrix)> ''   \n | | |   |       |TensorConstant{0} [id CD] <TensorType(int8, scalar)>\n | | |   |       |<TensorType(float32, matrix)> [id CE] <TensorType(float32, matrix)>\n | | |   |       |<TensorType(float32, matrix)> [id CE] <TensorType(float32, matrix)>\n | | |   |       |<TensorType(float32, matrix)> [id CE] <TensorType(float32, matrix)>\n | | |   |Constant{0} [id N] <int64>\n | | |Subtensor{int64} [id CF] <TensorType(int64, scalar)> ''   \n | | | |Shape [id BZ] <TensorType(int64, vector)> ''   \n | | | |Constant{1} [id M] <int64>\n | | |Subtensor{int64} [id CG] <TensorType(int64, scalar)> ''   \n | |   |Shape [id BZ] <TensorType(int64, vector)> ''   \n | |   |Constant{2} [id CH] <int64>\n | |Rebroadcast{0} [id CA] <TensorType(float32, 3D)> ''   \n | |ScalarFromTensor [id CI] <int64> ''   \n |   |Subtensor{int64} [id BY] <TensorType(int64, scalar)> ''   \n |<TensorType(int64, vector)> [id L] <TensorType(int64, vector)>\n |<TensorType(int64, vector)> [id W] <TensorType(int64, vector)>\n |<TensorType(int64, vector)> [id BE] <TensorType(int64, vector)>\n |<TensorType(int64, vector)> [id BM] <TensorType(int64, vector)>\n |<TensorType(float32, matrix)> [id CJ] <TensorType(float32, matrix)>\n |<TensorType(float32, scalar)> [id CK] <TensorType(float32, scalar)>\n |<TensorType(float32, scalar)> [id CL] <TensorType(float32, scalar)>\n |<TensorType(float32, scalar)> [id CM] <TensorType(float32, scalar)>\n |<TensorType(float32, scalar)> [id CN] <TensorType(float32, scalar)>\n |<TensorType(float32, scalar)> [id CO] <TensorType(float32, scalar)>\n |<TensorType(float32, matrix)> [id CP] <TensorType(float32, matrix)>\n |<TensorType(int64, vector)> [id CQ] <TensorType(int64, vector)>\n |<TensorType(int64, vector)> [id CR] <TensorType(int64, vector)>\n |Position of the dips [id CS] <TensorType(float32, matrix)>\n |Rest of the points of the layers [id CT] <TensorType(float32, matrix)>\n |Reference points for every layer [id CU] <TensorType(float32, matrix)>\n |Angle of every dip [id CV] <TensorType(float32, vector)>\n |Azimuth [id CW] <TensorType(float32, vector)>\n |Polarity [id CX] <TensorType(float32, vector)>\n\nInner graphs of the scan ops:\n\nfor{cpu,scan_fn} [id A] <TensorType(float32, 3D)> ''   \n >IncSubtensor{Set;int64, ::} [id CY] <TensorType(float32, matrix)> ''   \n > |AdvancedIncSubtensor{inplace=False,  set_instead_of_inc=True} [id CZ] <TensorType(float32, matrix)> ''   \n > | |AdvancedIncSubtensor{inplace=False,  set_instead_of_inc=True} [id DA] <TensorType(float32, matrix)> ''   \n > | | |<TensorType(float32, matrix)> [id DB] <TensorType(float32, matrix)> -> [id BV]\n > | | |Subtensor{:int64:} [id DC] <TensorType(int64, vector)> ''   \n > | | | |Sum{axis=[0], acc_dtype=int64} [id DD] <TensorType(int64, vector)> 'The chunk of block model of a specific series'   \n > | | | |ScalarFromTensor [id DE] <int64> ''   \n > | | |   |Elemwise{mul,no_inplace} [id DF] <TensorType(int64, scalar)> ''   \n > | | |     |TensorConstant{-2} [id DG] <TensorType(int8, scalar)>\n > | | |     |Subtensor{int64} [id DH] <TensorType(int64, scalar)> ''   \n > | | |       |Shape [id DI] <TensorType(int64, vector)> ''   \n > | | |       | |Rest of the points of the layers_copy [id DJ] <TensorType(float32, matrix)> -> [id CT]\n > | | |       |Constant{0} [id DK] <int64>\n > | | |TensorConstant{0} [id DL] <TensorType(int64, scalar)>\n > | | |Subtensor{int64} [id DM] <TensorType(int64, vector)> ''   \n > | |   |Nonzero [id DN] <TensorType(int64, matrix)> ''   \n > | |   | |Elemwise{Cast{int8}} [id DO] <TensorType(int8, vector)> ''   \n > | |   |   |Elemwise{eq,no_inplace} [id DP] <TensorType(bool, vector)> 'Yet simulated LITHOLOGY node'   \n > | |   |Constant{0} [id DK] <int64>\n > | |Subtensor{:int64:} [id DQ] <TensorType(float32, vector)> ''   \n > | | |Elemwise{add,no_inplace} [id DR] <TensorType(float32, vector)> 'Value of the potential field at every point'   \n > | | |ScalarFromTensor [id DE] <int64> ''   \n > | |TensorConstant{1} [id DS] <TensorType(int64, scalar)>\n > | |Subtensor{int64} [id DM] <TensorType(int64, vector)> ''   \n > |Subtensor{int64, :int64:} [id DT] <TensorType(float32, vector)> ''   \n > | |Subtensor{int64} [id DU] <TensorType(float32, row)> ''   \n > | | |Subtensor{int64::} [id DV] <TensorType(float32, (False, True, False))> ''   \n > | | | |for{cpu,scan_fn} [id DW] <TensorType(float32, (False, True, False))> ''   \n > | | | | |Elemwise{minimum,no_inplace} [id DX] <TensorType(int64, scalar)> ''   \n > | | | | | |Elemwise{minimum,no_inplace} [id DY] <TensorType(int64, scalar)> ''   \n > | | | | | | |Elemwise{minimum,no_inplace} [id DZ] <TensorType(int64, scalar)> ''   \n > | | | | | | | |Elemwise{minimum,no_inplace} [id EA] <TensorType(int64, scalar)> ''   \n > | | | | | | | | |Elemwise{minimum,no_inplace} [id EB] <TensorType(int64, scalar)> ''   \n > | | | | | | | | | |Elemwise{minimum,no_inplace} [id EC] <TensorType(int64, scalar)> ''   \n > | | | | | | | | | | |Subtensor{int64} [id ED] <TensorType(int64, scalar)> ''   \n > | | | | | | | | | | | |Shape [id EE] <TensorType(int64, vector)> ''   \n > | | | | | | | | | | | | |Subtensor{int64:int64:} [id EF] <TensorType(int64, vector)> ''   \n > | | | | | | | | | | | |   |Subtensor{:int64:} [id EG] <TensorType(int64, vector)> ''   \n > | | | | | | | | | | | |   | |Length of interfaces in every series_copy [id EH] <TensorType(int64, vector)> -> [id L]\n > | | | | | | | | | | | |   | |Constant{2} [id EI] <int64>\n > | | | | | | | | | | | |   |Constant{0} [id DK] <int64>\n > | | | | | | | | | | | |   |Constant{-1} [id EJ] <int64>\n > | | | | | | | | | | | |Constant{0} [id DK] <int64>\n > | | | | | | | | | | |Subtensor{int64} [id EK] <TensorType(int64, scalar)> ''   \n > | | | | | | | | | |   |Shape [id EL] <TensorType(int64, vector)> ''   \n > | | | | | | | | | |   | |Subtensor{int64::} [id EM] <TensorType(int64, vector)> ''   \n > | | | | | | | | | |   |   |Subtensor{:int64:} [id EG] <TensorType(int64, vector)> ''   \n > | | | | | | | | | |   |   |Constant{1} [id EN] <int64>\n > | | | | | | | | | |   |Constant{0} [id DK] <int64>\n > | | | | | | | | | |Subtensor{int64} [id EO] <TensorType(int64, scalar)> ''   \n > | | | | | | | | |   |Shape [id EP] <TensorType(int64, vector)> ''   \n > | | | | | | | | |   | |Subtensor{int64:int64:} [id EQ] <TensorType(int64, vector)> ''   \n > | | | | | | | | |   |   |Subtensor{:int64:} [id ER] <TensorType(int64, vector)> ''   \n > | | | | | | | | |   |   | |Length of foliations in every series_copy [id ES] <TensorType(int64, vector)> -> [id W]\n > | | | | | | | | |   |   | |Constant{2} [id EI] <int64>\n > | | | | | | | | |   |   |Constant{0} [id DK] <int64>\n > | | | | | | | | |   |   |Constant{-1} [id EJ] <int64>\n > | | | | | | | | |   |Constant{0} [id DK] <int64>\n > | | | | | | | | |Subtensor{int64} [id ET] <TensorType(int64, scalar)> ''   \n > | | | | | | | |   |Shape [id EU] <TensorType(int64, vector)> ''   \n > | | | | | | | |   | |Subtensor{int64::} [id EV] <TensorType(int64, vector)> ''   \n > | | | | | | | |   |   |Subtensor{:int64:} [id ER] <TensorType(int64, vector)> ''   \n > | | | | | | | |   |   |Constant{1} [id EN] <int64>\n > | | | | | | | |   |Constant{0} [id DK] <int64>\n > | | | | | | | |Subtensor{int64} [id EW] <TensorType(int64, scalar)> ''   \n > | | | | | | |   |Shape [id EX] <TensorType(int64, vector)> ''   \n > | | | | | | |   | |Subtensor{int64:int64:} [id EY] <TensorType(int64, vector)> ''   \n > | | | | | | |   |   |Subtensor{:int64:} [id EZ] <TensorType(int64, vector)> ''   \n > | | | | | | |   |   | |List with the number of formations_copy [id FA] <TensorType(int64, vector)> -> [id BE]\n > | | | | | | |   |   | |Constant{2} [id EI] <int64>\n > | | | | | | |   |   |Constant{0} [id DK] <int64>\n > | | | | | | |   |   |Constant{-1} [id EJ] <int64>\n > | | | | | | |   |Constant{0} [id DK] <int64>\n > | | | | | | |Subtensor{int64} [id FB] <TensorType(int64, scalar)> ''   \n > | | | | | |   |Shape [id FC] <TensorType(int64, vector)> ''   \n > | | | | | |   | |Subtensor{int64::} [id FD] <TensorType(int64, vector)> ''   \n > | | | | | |   |   |Subtensor{:int64:} [id EZ] <TensorType(int64, vector)> ''   \n > | | | | | |   |   |Constant{1} [id EN] <int64>\n > | | | | | |   |Constant{0} [id DK] <int64>\n > | | | | | |Subtensor{int64} [id FE] <TensorType(int64, scalar)> ''   \n > | | | | |   |Shape [id FF] <TensorType(int64, vector)> ''   \n > | | | | |   | |Subtensor{int64::} [id FG] <TensorType(int64, vector)> ''   \n > | | | | |   |   |Subtensor{:int64:} [id FH] <TensorType(int64, vector)> ''   \n > | | | | |   |   | |Grade of the universal drift_copy [id FI] <TensorType(int64, vector)> -> [id BM]\n > | | | | |   |   | |Constant{2} [id EI] <int64>\n > | | | | |   |   |Constant{0} [id DK] <int64>\n > | | | | |   |Constant{0} [id DK] <int64>\n > | | | | |Subtensor{:int64:} [id FJ] <TensorType(int64, vector)> ''   \n > | | | | | |Subtensor{int64:int64:} [id EF] <TensorType(int64, vector)> ''   \n > | | | | | |ScalarFromTensor [id FK] <int64> ''   \n > | | | | |   |Elemwise{minimum,no_inplace} [id DX] <TensorType(int64, scalar)> ''   \n > | | | | |Subtensor{:int64:} [id FL] <TensorType(int64, vector)> ''   \n > | | | | | |Subtensor{int64::} [id EM] <TensorType(int64, vector)> ''   \n > | | | | | |ScalarFromTensor [id FK] <int64> ''   \n > | | | | |Subtensor{:int64:} [id FM] <TensorType(int64, vector)> ''   \n > | | | | | |Subtensor{int64:int64:} [id EQ] <TensorType(int64, vector)> ''   \n > | | | | | |ScalarFromTensor [id FK] <int64> ''   \n > | | | | |Subtensor{:int64:} [id FN] <TensorType(int64, vector)> ''   \n > | | | | | |Subtensor{int64::} [id EV] <TensorType(int64, vector)> ''   \n > | | | | | |ScalarFromTensor [id FK] <int64> ''   \n > | | | | |Subtensor{:int64:} [id FO] <TensorType(int64, vector)> ''   \n > | | | | | |Subtensor{int64:int64:} [id EY] <TensorType(int64, vector)> ''   \n > | | | | | |ScalarFromTensor [id FK] <int64> ''   \n > | | | | |Subtensor{:int64:} [id FP] <TensorType(int64, vector)> ''   \n > | | | | | |Subtensor{int64::} [id FD] <TensorType(int64, vector)> ''   \n > | | | | | |ScalarFromTensor [id FK] <int64> ''   \n > | | | | |Subtensor{:int64:} [id FQ] <TensorType(int64, vector)> ''   \n > | | | | | |Subtensor{int64::} [id FG] <TensorType(int64, vector)> ''   \n > | | | | | |ScalarFromTensor [id FK] <int64> ''   \n > | | | | |IncSubtensor{Set;:int64:} [id FR] <TensorType(float32, (False, True, False))> ''   \n > | | | | | |AllocEmpty{dtype='float32'} [id FS] <TensorType(float32, (False, True, False))> ''   \n > | | | | | | |Elemwise{add,no_inplace} [id FT] <TensorType(int64, scalar)> ''   \n > | | | | | | | |Elemwise{minimum,no_inplace} [id DX] <TensorType(int64, scalar)> ''   \n > | | | | | | | |Subtensor{int64} [id FU] <TensorType(int64, scalar)> ''   \n > | | | | | | |   |Shape [id FV] <TensorType(int64, vector)> ''   \n > | | | | | | |   | |Rebroadcast{0} [id FW] <TensorType(float32, (False, True, False))> ''   \n > | | | | | | |   |   |InplaceDimShuffle{x,0,1} [id FX] <TensorType(float32, (True, True, False))> ''   \n > | | | | | | |   |     |Alloc [id FY] <TensorType(float32, row)> 'final block of faults init'   \n > | | | | | | |   |Constant{0} [id DK] <int64>\n > | | | | | | |Subtensor{int64} [id FZ] <TensorType(int64, scalar)> ''   \n > | | | | | | | |Shape [id FV] <TensorType(int64, vector)> ''   \n > | | | | | | | |Constant{1} [id EN] <int64>\n > | | | | | | |Subtensor{int64} [id GA] <TensorType(int64, scalar)> ''   \n > | | | | | |   |Shape [id FV] <TensorType(int64, vector)> ''   \n > | | | | | |   |Constant{2} [id EI] <int64>\n > | | | | | |Rebroadcast{0} [id FW] <TensorType(float32, (False, True, False))> ''   \n > | | | | | |ScalarFromTensor [id GB] <int64> ''   \n > | | | | |   |Subtensor{int64} [id FU] <TensorType(int64, scalar)> ''   \n > | | | | |Coordinates of the grid points to interpolate_copy [id GC] <TensorType(float32, matrix)> -> [id CJ]\n > | | | | |Range_copy [id GD] <TensorType(float32, scalar)> -> [id CK]\n > | | | | |Covariance at 0_copy [id GE] <TensorType(float32, scalar)> -> [id CL]\n > | | | | |<TensorType(float32, scalar)> [id GF] <TensorType(float32, scalar)> -> [id CM]\n > | | | | |<TensorType(float32, scalar)> [id GG] <TensorType(float32, scalar)> -> [id CN]\n > | | | | |<TensorType(float32, scalar)> [id GH] <TensorType(float32, scalar)> -> [id CO]\n > | | | | |<TensorType(float32, matrix)> [id GI] <TensorType(float32, matrix)> -> [id CP]\n > | | | | |<TensorType(int64, vector)> [id GJ] <TensorType(int64, vector)> -> [id CQ]\n > | | | | |Value of the formation_copy [id GK] <TensorType(int64, vector)> -> [id CR]\n > | | | | |Position of the dips_copy [id GL] <TensorType(float32, matrix)> -> [id CS]\n > | | | | |Rest of the points of the layers_copy [id DJ] <TensorType(float32, matrix)> -> [id CT]\n > | | | | |Reference points for every layer_copy [id GM] <TensorType(float32, matrix)> -> [id CU]\n > | | | | |Angle of every dip_copy [id GN] <TensorType(float32, vector)> -> [id CV]\n > | | | | |Azimuth_copy [id GO] <TensorType(float32, vector)> -> [id CW]\n > | | | | |Polarity_copy [id GP] <TensorType(float32, vector)> -> [id CX]\n > | | | |Constant{1} [id EN] <int64>\n > | | |Constant{-1} [id EJ] <int64>\n > | |Constant{-1} [id EJ] <int64>\n > | |ScalarFromTensor [id DE] <int64> ''   \n > |Constant{2} [id EI] <int64>\n\nfor{cpu,scan_fn} [id DW] <TensorType(float32, (False, True, False))> ''   \n >AdvancedIncSubtensor{inplace=False,  set_instead_of_inc=True} [id GQ] <TensorType(float32, row)> ''   \n > |final block of faults init[t-1] [id GR] <TensorType(float32, row)> -> [id FR]\n > |Sum{axis=[0], acc_dtype=int64} [id GS] <TensorType(int64, vector)> 'The chunk of block model of a specific series'   \n > |TensorConstant{0} [id GT] <TensorType(int64, scalar)>\n > |Subtensor{int64} [id GU] <TensorType(int64, vector)> ''   \n >   |Nonzero [id GV] <TensorType(int64, matrix)> ''   \n >   | |Elemwise{Cast{int8}} [id GW] <TensorType(int8, vector)> ''   \n >   |   |Join [id GX] <TensorType(float32, vector)> ''   \n >   |     |TensorConstant{0} [id GY] <TensorType(int8, scalar)>\n >   |     |Elemwise{eq,no_inplace} [id GZ] <TensorType(bool, vector)> 'Yet simulated FAULTS node'   \n >   |     |Alloc [id HA] <TensorType(float32, vector)> ''   \n >   |       |TensorConstant{1.0} [id HB] <TensorType(float32, scalar)>\n >   |       |Elemwise{mul,no_inplace} [id HC] <TensorType(int64, scalar)> ''   \n >   |         |TensorConstant{2} [id HD] <TensorType(int8, scalar)>\n >   |         |Subtensor{int64} [id HE] <TensorType(int64, scalar)> ''   \n >   |           |Shape [id HF] <TensorType(int64, vector)> ''   \n >   |           | |Rest of the points of the layers_copy [id HG] <TensorType(float32, matrix)> -> [id DJ]\n >   |           |Constant{0} [id HH] <int64>\n >   |Constant{0} [id HH] <int64>\n\nStorage map footprint:\n - <TensorType(float32, matrix)>, Input, Shape: (9, 729), ElemSize: 4 Byte(s), TotalSize: 26244 Byte(s)\n - <TensorType(float32, matrix)>, Input, Shape: (729, 3), ElemSize: 4 Byte(s), TotalSize: 8748 Byte(s)\n - IncSubtensor{Set;:int64:}.0, Shape: (1, 3, 729), ElemSize: 4 Byte(s), TotalSize: 8748 Byte(s)\n - <TensorType(float32, matrix)>, Input, Shape: (1, 729), ElemSize: 4 Byte(s), TotalSize: 2916 Byte(s)\n - Reference points for every layer, Input, Shape: (34, 3), ElemSize: 4 Byte(s), TotalSize: 408 Byte(s)\n - Rest of the points of the layers, Input, Shape: (34, 3), ElemSize: 4 Byte(s), TotalSize: 408 Byte(s)\n - <TensorType(int64, vector)>, Input, Shape: (5,), ElemSize: 8 Byte(s), TotalSize: 40 Byte(s)\n - <TensorType(int64, vector)>, Input, Shape: (5,), ElemSize: 8 Byte(s), TotalSize: 40 Byte(s)\n - Position of the dips, Input, Shape: (2, 3), ElemSize: 4 Byte(s), TotalSize: 24 Byte(s)\n - <TensorType(int64, vector)>, Input, Shape: (2,), ElemSize: 8 Byte(s), TotalSize: 16 Byte(s)\n - <TensorType(int64, vector)>, Input, Shape: (2,), ElemSize: 8 Byte(s), TotalSize: 16 Byte(s)\n - <TensorType(int64, vector)>, Input, Shape: (2,), ElemSize: 8 Byte(s), TotalSize: 16 Byte(s)\n - <TensorType(int64, vector)>, Input, Shape: (2,), ElemSize: 8 Byte(s), TotalSize: 16 Byte(s)\n - Angle of every dip, Input, Shape: (2,), ElemSize: 4 Byte(s), TotalSize: 8 Byte(s)\n - Azimuth, Input, Shape: (2,), ElemSize: 4 Byte(s), TotalSize: 8 Byte(s)\n - Polarity, Input, Shape: (2,), ElemSize: 4 Byte(s), TotalSize: 8 Byte(s)\n - Constant{1}, Shape: (), ElemSize: 8 Byte(s), TotalSize: 8.0 Byte(s)\n - Constant{0}, Shape: (), ElemSize: 8 Byte(s), TotalSize: 8.0 Byte(s)\n - Constant{-1}, Shape: (), ElemSize: 8 Byte(s), TotalSize: 8.0 Byte(s)\n - Constant{2}, Shape: (), ElemSize: 8 Byte(s), TotalSize: 8.0 Byte(s)\n - Elemwise{minimum,no_inplace}.0, Shape: (), ElemSize: 8 Byte(s), TotalSize: 8.0 Byte(s)\n - <TensorType(float32, scalar)>, Input, Shape: (), ElemSize: 4 Byte(s), TotalSize: 4.0 Byte(s)\n - <TensorType(float32, scalar)>, Input, Shape: (), ElemSize: 4 Byte(s), TotalSize: 4.0 Byte(s)\n - <TensorType(float32, scalar)>, Input, Shape: (), ElemSize: 4 Byte(s), TotalSize: 4.0 Byte(s)\n - <TensorType(float32, scalar)>, Input, Shape: (), ElemSize: 4 Byte(s), TotalSize: 4.0 Byte(s)\n - <TensorType(float32, scalar)>, Input, Shape: (), ElemSize: 4 Byte(s), TotalSize: 4.0 Byte(s)\n - TensorConstant{0}, Shape: (), ElemSize: 1 Byte(s), TotalSize: 1.0 Byte(s)\n - Subtensor{:int64:}.0, Shape: (0,), ElemSize: 8 Byte(s), TotalSize: 0 Byte(s)\n - Subtensor{:int64:}.0, Shape: (0,), ElemSize: 8 Byte(s), TotalSize: 0 Byte(s)\n - Subtensor{:int64:}.0, Shape: (0,), ElemSize: 8 Byte(s), TotalSize: 0 Byte(s)\n - Subtensor{:int64:}.0, Shape: (0,), ElemSize: 8 Byte(s), TotalSize: 0 Byte(s)\n - Subtensor{:int64:}.0, Shape: (0,), ElemSize: 8 Byte(s), TotalSize: 0 Byte(s)\n - Subtensor{:int64:}.0, Shape: (0,), ElemSize: 8 Byte(s), TotalSize: 0 Byte(s)\n - Subtensor{:int64:}.0, Shape: (0,), ElemSize: 8 Byte(s), TotalSize: 0 Byte(s)\n TotalSize: 47725.0 Byte(s) 0.000 GB\n TotalSize inputs: 38969.0 Byte(s) 0.000 GB\n\n",
      "\nDuring handling of the above exception, another exception occurred:\n",
      "\u001b[0;31mNotImplementedError\u001b[0m                       Traceback (most recent call last)",
      "\u001b[0;32m<ipython-input-12-0ffb2cf6f372>\u001b[0m in \u001b[0;36m<module>\u001b[0;34m()\u001b[0m\n\u001b[1;32m      4\u001b[0m    \u001b[0;31m# backend = pm.backends.ndarray.NDArray('geomodels')\u001b[0m\u001b[0;34m\u001b[0m\u001b[0;34m\u001b[0m\u001b[0m\n\u001b[1;32m      5\u001b[0m     \u001b[0mstep\u001b[0m \u001b[0;34m=\u001b[0m \u001b[0mpm\u001b[0m\u001b[0;34m.\u001b[0m\u001b[0mNUTS\u001b[0m\u001b[0;34m(\u001b[0m\u001b[0;34m)\u001b[0m\u001b[0;34m\u001b[0m\u001b[0m\n\u001b[0;32m----> 6\u001b[0;31m     \u001b[0mtrace\u001b[0m \u001b[0;34m=\u001b[0m \u001b[0mpm\u001b[0m\u001b[0;34m.\u001b[0m\u001b[0msample\u001b[0m\u001b[0;34m(\u001b[0m\u001b[0;36m30\u001b[0m\u001b[0;34m,\u001b[0m \u001b[0minit\u001b[0m\u001b[0;34m=\u001b[0m\u001b[0;32mNone\u001b[0m\u001b[0;34m,\u001b[0m \u001b[0mstep\u001b[0m\u001b[0;34m=\u001b[0m\u001b[0mstep\u001b[0m\u001b[0;34m,\u001b[0m \u001b[0;34m)\u001b[0m\u001b[0;34m\u001b[0m\u001b[0m\n\u001b[0m",
      "\u001b[0;32m/home/miguel/anaconda3/lib/python3.6/site-packages/pymc3/sampling.py\u001b[0m in \u001b[0;36msample\u001b[0;34m(draws, step, init, n_init, start, trace, chain, njobs, tune, progressbar, model, random_seed)\u001b[0m\n\u001b[1;32m    173\u001b[0m         \u001b[0msample_func\u001b[0m \u001b[0;34m=\u001b[0m \u001b[0m_sample\u001b[0m\u001b[0;34m\u001b[0m\u001b[0m\n\u001b[1;32m    174\u001b[0m \u001b[0;34m\u001b[0m\u001b[0m\n\u001b[0;32m--> 175\u001b[0;31m     \u001b[0;32mreturn\u001b[0m \u001b[0msample_func\u001b[0m\u001b[0;34m(\u001b[0m\u001b[0;34m**\u001b[0m\u001b[0msample_args\u001b[0m\u001b[0;34m)\u001b[0m\u001b[0;34m\u001b[0m\u001b[0m\n\u001b[0m\u001b[1;32m    176\u001b[0m \u001b[0;34m\u001b[0m\u001b[0m\n\u001b[1;32m    177\u001b[0m \u001b[0;34m\u001b[0m\u001b[0m\n",
      "\u001b[0;32m/home/miguel/anaconda3/lib/python3.6/site-packages/pymc3/sampling.py\u001b[0m in \u001b[0;36m_sample\u001b[0;34m(draws, step, start, trace, chain, tune, progressbar, model, random_seed)\u001b[0m\n\u001b[1;32m    183\u001b[0m         \u001b[0msampling\u001b[0m \u001b[0;34m=\u001b[0m \u001b[0mtqdm\u001b[0m\u001b[0;34m(\u001b[0m\u001b[0msampling\u001b[0m\u001b[0;34m,\u001b[0m \u001b[0mtotal\u001b[0m\u001b[0;34m=\u001b[0m\u001b[0mdraws\u001b[0m\u001b[0;34m)\u001b[0m\u001b[0;34m\u001b[0m\u001b[0m\n\u001b[1;32m    184\u001b[0m     \u001b[0;32mtry\u001b[0m\u001b[0;34m:\u001b[0m\u001b[0;34m\u001b[0m\u001b[0m\n\u001b[0;32m--> 185\u001b[0;31m         \u001b[0;32mfor\u001b[0m \u001b[0mstrace\u001b[0m \u001b[0;32min\u001b[0m \u001b[0msampling\u001b[0m\u001b[0;34m:\u001b[0m\u001b[0;34m\u001b[0m\u001b[0m\n\u001b[0m\u001b[1;32m    186\u001b[0m             \u001b[0;32mpass\u001b[0m\u001b[0;34m\u001b[0m\u001b[0m\n\u001b[1;32m    187\u001b[0m     \u001b[0;32mexcept\u001b[0m \u001b[0mKeyboardInterrupt\u001b[0m\u001b[0;34m:\u001b[0m\u001b[0;34m\u001b[0m\u001b[0m\n",
      "\u001b[0;32m/home/miguel/anaconda3/lib/python3.6/site-packages/tqdm/_tqdm.py\u001b[0m in \u001b[0;36m__iter__\u001b[0;34m(self)\u001b[0m\n\u001b[1;32m    831\u001b[0m \"\"\", fp_write=getattr(self.fp, 'write', sys.stderr.write))\n\u001b[1;32m    832\u001b[0m \u001b[0;34m\u001b[0m\u001b[0m\n\u001b[0;32m--> 833\u001b[0;31m             \u001b[0;32mfor\u001b[0m \u001b[0mobj\u001b[0m \u001b[0;32min\u001b[0m \u001b[0miterable\u001b[0m\u001b[0;34m:\u001b[0m\u001b[0;34m\u001b[0m\u001b[0m\n\u001b[0m\u001b[1;32m    834\u001b[0m                 \u001b[0;32myield\u001b[0m \u001b[0mobj\u001b[0m\u001b[0;34m\u001b[0m\u001b[0m\n\u001b[1;32m    835\u001b[0m                 \u001b[0;31m# Update and print the progressbar.\u001b[0m\u001b[0;34m\u001b[0m\u001b[0;34m\u001b[0m\u001b[0m\n",
      "\u001b[0;32m/home/miguel/anaconda3/lib/python3.6/site-packages/pymc3/sampling.py\u001b[0m in \u001b[0;36m_iter_sample\u001b[0;34m(draws, step, start, trace, chain, tune, model, random_seed)\u001b[0m\n\u001b[1;32m    247\u001b[0m         \u001b[0mstart\u001b[0m \u001b[0;34m=\u001b[0m \u001b[0;34m{\u001b[0m\u001b[0;34m}\u001b[0m\u001b[0;34m\u001b[0m\u001b[0m\n\u001b[1;32m    248\u001b[0m \u001b[0;34m\u001b[0m\u001b[0m\n\u001b[0;32m--> 249\u001b[0;31m     \u001b[0mstrace\u001b[0m \u001b[0;34m=\u001b[0m \u001b[0m_choose_backend\u001b[0m\u001b[0;34m(\u001b[0m\u001b[0mtrace\u001b[0m\u001b[0;34m,\u001b[0m \u001b[0mchain\u001b[0m\u001b[0;34m,\u001b[0m \u001b[0mmodel\u001b[0m\u001b[0;34m=\u001b[0m\u001b[0mmodel\u001b[0m\u001b[0;34m)\u001b[0m\u001b[0;34m\u001b[0m\u001b[0m\n\u001b[0m\u001b[1;32m    250\u001b[0m \u001b[0;34m\u001b[0m\u001b[0m\n\u001b[1;32m    251\u001b[0m     \u001b[0;32mif\u001b[0m \u001b[0mlen\u001b[0m\u001b[0;34m(\u001b[0m\u001b[0mstrace\u001b[0m\u001b[0;34m)\u001b[0m \u001b[0;34m>\u001b[0m \u001b[0;36m0\u001b[0m\u001b[0;34m:\u001b[0m\u001b[0;34m\u001b[0m\u001b[0m\n",
      "\u001b[0;32m/home/miguel/anaconda3/lib/python3.6/site-packages/pymc3/sampling.py\u001b[0m in \u001b[0;36m_choose_backend\u001b[0;34m(trace, chain, shortcuts, **kwds)\u001b[0m\n\u001b[1;32m    278\u001b[0m         \u001b[0;32mreturn\u001b[0m \u001b[0mtrace\u001b[0m\u001b[0;34m.\u001b[0m\u001b[0m_straces\u001b[0m\u001b[0;34m[\u001b[0m\u001b[0mchain\u001b[0m\u001b[0;34m]\u001b[0m\u001b[0;34m\u001b[0m\u001b[0m\n\u001b[1;32m    279\u001b[0m     \u001b[0;32mif\u001b[0m \u001b[0mtrace\u001b[0m \u001b[0;32mis\u001b[0m \u001b[0;32mNone\u001b[0m\u001b[0;34m:\u001b[0m\u001b[0;34m\u001b[0m\u001b[0m\n\u001b[0;32m--> 280\u001b[0;31m         \u001b[0;32mreturn\u001b[0m \u001b[0mNDArray\u001b[0m\u001b[0;34m(\u001b[0m\u001b[0;34m**\u001b[0m\u001b[0mkwds\u001b[0m\u001b[0;34m)\u001b[0m\u001b[0;34m\u001b[0m\u001b[0m\n\u001b[0m\u001b[1;32m    281\u001b[0m \u001b[0;34m\u001b[0m\u001b[0m\n\u001b[1;32m    282\u001b[0m     \u001b[0;32mif\u001b[0m \u001b[0mshortcuts\u001b[0m \u001b[0;32mis\u001b[0m \u001b[0;32mNone\u001b[0m\u001b[0;34m:\u001b[0m\u001b[0;34m\u001b[0m\u001b[0m\n",
      "\u001b[0;32m/home/miguel/anaconda3/lib/python3.6/site-packages/pymc3/backends/ndarray.py\u001b[0m in \u001b[0;36m__init__\u001b[0;34m(self, name, model, vars)\u001b[0m\n\u001b[1;32m     22\u001b[0m \u001b[0;34m\u001b[0m\u001b[0m\n\u001b[1;32m     23\u001b[0m     \u001b[0;32mdef\u001b[0m \u001b[0m__init__\u001b[0m\u001b[0;34m(\u001b[0m\u001b[0mself\u001b[0m\u001b[0;34m,\u001b[0m \u001b[0mname\u001b[0m\u001b[0;34m=\u001b[0m\u001b[0;32mNone\u001b[0m\u001b[0;34m,\u001b[0m \u001b[0mmodel\u001b[0m\u001b[0;34m=\u001b[0m\u001b[0;32mNone\u001b[0m\u001b[0;34m,\u001b[0m \u001b[0mvars\u001b[0m\u001b[0;34m=\u001b[0m\u001b[0;32mNone\u001b[0m\u001b[0;34m)\u001b[0m\u001b[0;34m:\u001b[0m\u001b[0;34m\u001b[0m\u001b[0m\n\u001b[0;32m---> 24\u001b[0;31m         \u001b[0msuper\u001b[0m\u001b[0;34m(\u001b[0m\u001b[0mNDArray\u001b[0m\u001b[0;34m,\u001b[0m \u001b[0mself\u001b[0m\u001b[0;34m)\u001b[0m\u001b[0;34m.\u001b[0m\u001b[0m__init__\u001b[0m\u001b[0;34m(\u001b[0m\u001b[0mname\u001b[0m\u001b[0;34m,\u001b[0m \u001b[0mmodel\u001b[0m\u001b[0;34m,\u001b[0m \u001b[0mvars\u001b[0m\u001b[0;34m)\u001b[0m\u001b[0;34m\u001b[0m\u001b[0m\n\u001b[0m\u001b[1;32m     25\u001b[0m         \u001b[0mself\u001b[0m\u001b[0;34m.\u001b[0m\u001b[0mdraw_idx\u001b[0m \u001b[0;34m=\u001b[0m \u001b[0;36m0\u001b[0m\u001b[0;34m\u001b[0m\u001b[0m\n\u001b[1;32m     26\u001b[0m         \u001b[0mself\u001b[0m\u001b[0;34m.\u001b[0m\u001b[0mdraws\u001b[0m \u001b[0;34m=\u001b[0m \u001b[0;32mNone\u001b[0m\u001b[0;34m\u001b[0m\u001b[0m\n",
      "\u001b[0;32m/home/miguel/anaconda3/lib/python3.6/site-packages/pymc3/backends/base.py\u001b[0m in \u001b[0;36m__init__\u001b[0;34m(self, name, model, vars)\u001b[0m\n\u001b[1;32m     39\u001b[0m         \u001b[0;31m# Get variable shapes. Most backends will need this\u001b[0m\u001b[0;34m\u001b[0m\u001b[0;34m\u001b[0m\u001b[0m\n\u001b[1;32m     40\u001b[0m         \u001b[0;31m# information.\u001b[0m\u001b[0;34m\u001b[0m\u001b[0;34m\u001b[0m\u001b[0m\n\u001b[0;32m---> 41\u001b[0;31m         \u001b[0mvar_values\u001b[0m \u001b[0;34m=\u001b[0m \u001b[0mlist\u001b[0m\u001b[0;34m(\u001b[0m\u001b[0mzip\u001b[0m\u001b[0;34m(\u001b[0m\u001b[0mself\u001b[0m\u001b[0;34m.\u001b[0m\u001b[0mvarnames\u001b[0m\u001b[0;34m,\u001b[0m \u001b[0mself\u001b[0m\u001b[0;34m.\u001b[0m\u001b[0mfn\u001b[0m\u001b[0;34m(\u001b[0m\u001b[0mmodel\u001b[0m\u001b[0;34m.\u001b[0m\u001b[0mtest_point\u001b[0m\u001b[0;34m)\u001b[0m\u001b[0;34m)\u001b[0m\u001b[0;34m)\u001b[0m\u001b[0;34m\u001b[0m\u001b[0m\n\u001b[0m\u001b[1;32m     42\u001b[0m         self.var_shapes = {var: value.shape\n\u001b[1;32m     43\u001b[0m                            for var, value in var_values}\n",
      "\u001b[0;32m/home/miguel/anaconda3/lib/python3.6/site-packages/pymc3/model.py\u001b[0m in \u001b[0;36m__call__\u001b[0;34m(self, state)\u001b[0m\n\u001b[1;32m    465\u001b[0m \u001b[0;34m\u001b[0m\u001b[0m\n\u001b[1;32m    466\u001b[0m     \u001b[0;32mdef\u001b[0m \u001b[0m__call__\u001b[0m\u001b[0;34m(\u001b[0m\u001b[0mself\u001b[0m\u001b[0;34m,\u001b[0m \u001b[0mstate\u001b[0m\u001b[0;34m)\u001b[0m\u001b[0;34m:\u001b[0m\u001b[0;34m\u001b[0m\u001b[0m\n\u001b[0;32m--> 467\u001b[0;31m         \u001b[0;32mreturn\u001b[0m \u001b[0mself\u001b[0m\u001b[0;34m.\u001b[0m\u001b[0mf\u001b[0m\u001b[0;34m(\u001b[0m\u001b[0;34m**\u001b[0m\u001b[0mstate\u001b[0m\u001b[0;34m)\u001b[0m\u001b[0;34m\u001b[0m\u001b[0m\n\u001b[0m\u001b[1;32m    468\u001b[0m \u001b[0;34m\u001b[0m\u001b[0m\n\u001b[1;32m    469\u001b[0m \u001b[0;34m\u001b[0m\u001b[0m\n",
      "\u001b[0;32m/home/miguel/anaconda3/lib/python3.6/site-packages/Theano-0.9.0rc4-py3.6.egg/theano/compile/function_module.py\u001b[0m in \u001b[0;36m__call__\u001b[0;34m(self, *args, **kwargs)\u001b[0m\n\u001b[1;32m    896\u001b[0m                     \u001b[0mnode\u001b[0m\u001b[0;34m=\u001b[0m\u001b[0mself\u001b[0m\u001b[0;34m.\u001b[0m\u001b[0mfn\u001b[0m\u001b[0;34m.\u001b[0m\u001b[0mnodes\u001b[0m\u001b[0;34m[\u001b[0m\u001b[0mself\u001b[0m\u001b[0;34m.\u001b[0m\u001b[0mfn\u001b[0m\u001b[0;34m.\u001b[0m\u001b[0mposition_of_error\u001b[0m\u001b[0;34m]\u001b[0m\u001b[0;34m,\u001b[0m\u001b[0;34m\u001b[0m\u001b[0m\n\u001b[1;32m    897\u001b[0m                     \u001b[0mthunk\u001b[0m\u001b[0;34m=\u001b[0m\u001b[0mthunk\u001b[0m\u001b[0;34m,\u001b[0m\u001b[0;34m\u001b[0m\u001b[0m\n\u001b[0;32m--> 898\u001b[0;31m                     storage_map=getattr(self.fn, 'storage_map', None))\n\u001b[0m\u001b[1;32m    899\u001b[0m             \u001b[0;32melse\u001b[0m\u001b[0;34m:\u001b[0m\u001b[0;34m\u001b[0m\u001b[0m\n\u001b[1;32m    900\u001b[0m                 \u001b[0;31m# old-style linkers raise their own exceptions\u001b[0m\u001b[0;34m\u001b[0m\u001b[0;34m\u001b[0m\u001b[0m\n",
      "\u001b[0;32m/home/miguel/anaconda3/lib/python3.6/site-packages/Theano-0.9.0rc4-py3.6.egg/theano/gof/link.py\u001b[0m in \u001b[0;36mraise_with_op\u001b[0;34m(node, thunk, exc_info, storage_map)\u001b[0m\n\u001b[1;32m    323\u001b[0m         \u001b[0;31m# extra long error message in that case.\u001b[0m\u001b[0;34m\u001b[0m\u001b[0;34m\u001b[0m\u001b[0m\n\u001b[1;32m    324\u001b[0m         \u001b[0;32mpass\u001b[0m\u001b[0;34m\u001b[0m\u001b[0m\n\u001b[0;32m--> 325\u001b[0;31m     \u001b[0mreraise\u001b[0m\u001b[0;34m(\u001b[0m\u001b[0mexc_type\u001b[0m\u001b[0;34m,\u001b[0m \u001b[0mexc_value\u001b[0m\u001b[0;34m,\u001b[0m \u001b[0mexc_trace\u001b[0m\u001b[0;34m)\u001b[0m\u001b[0;34m\u001b[0m\u001b[0m\n\u001b[0m\u001b[1;32m    326\u001b[0m \u001b[0;34m\u001b[0m\u001b[0m\n\u001b[1;32m    327\u001b[0m \u001b[0;34m\u001b[0m\u001b[0m\n",
      "\u001b[0;32m/home/miguel/anaconda3/lib/python3.6/site-packages/six.py\u001b[0m in \u001b[0;36mreraise\u001b[0;34m(tp, value, tb)\u001b[0m\n\u001b[1;32m    683\u001b[0m             \u001b[0mvalue\u001b[0m \u001b[0;34m=\u001b[0m \u001b[0mtp\u001b[0m\u001b[0;34m(\u001b[0m\u001b[0;34m)\u001b[0m\u001b[0;34m\u001b[0m\u001b[0m\n\u001b[1;32m    684\u001b[0m         \u001b[0;32mif\u001b[0m \u001b[0mvalue\u001b[0m\u001b[0;34m.\u001b[0m\u001b[0m__traceback__\u001b[0m \u001b[0;32mis\u001b[0m \u001b[0;32mnot\u001b[0m \u001b[0mtb\u001b[0m\u001b[0;34m:\u001b[0m\u001b[0;34m\u001b[0m\u001b[0m\n\u001b[0;32m--> 685\u001b[0;31m             \u001b[0;32mraise\u001b[0m \u001b[0mvalue\u001b[0m\u001b[0;34m.\u001b[0m\u001b[0mwith_traceback\u001b[0m\u001b[0;34m(\u001b[0m\u001b[0mtb\u001b[0m\u001b[0;34m)\u001b[0m\u001b[0;34m\u001b[0m\u001b[0m\n\u001b[0m\u001b[1;32m    686\u001b[0m         \u001b[0;32mraise\u001b[0m \u001b[0mvalue\u001b[0m\u001b[0;34m\u001b[0m\u001b[0m\n\u001b[1;32m    687\u001b[0m \u001b[0;34m\u001b[0m\u001b[0m\n",
      "\u001b[0;32m/home/miguel/anaconda3/lib/python3.6/site-packages/Theano-0.9.0rc4-py3.6.egg/theano/compile/function_module.py\u001b[0m in \u001b[0;36m__call__\u001b[0;34m(self, *args, **kwargs)\u001b[0m\n\u001b[1;32m    882\u001b[0m         \u001b[0;32mtry\u001b[0m\u001b[0;34m:\u001b[0m\u001b[0;34m\u001b[0m\u001b[0m\n\u001b[1;32m    883\u001b[0m             \u001b[0moutputs\u001b[0m \u001b[0;34m=\u001b[0m\u001b[0;31m\\\u001b[0m\u001b[0;34m\u001b[0m\u001b[0m\n\u001b[0;32m--> 884\u001b[0;31m                 \u001b[0mself\u001b[0m\u001b[0;34m.\u001b[0m\u001b[0mfn\u001b[0m\u001b[0;34m(\u001b[0m\u001b[0;34m)\u001b[0m \u001b[0;32mif\u001b[0m \u001b[0moutput_subset\u001b[0m \u001b[0;32mis\u001b[0m \u001b[0;32mNone\u001b[0m \u001b[0;32melse\u001b[0m\u001b[0;31m\\\u001b[0m\u001b[0;34m\u001b[0m\u001b[0m\n\u001b[0m\u001b[1;32m    885\u001b[0m                 \u001b[0mself\u001b[0m\u001b[0;34m.\u001b[0m\u001b[0mfn\u001b[0m\u001b[0;34m(\u001b[0m\u001b[0moutput_subset\u001b[0m\u001b[0;34m=\u001b[0m\u001b[0moutput_subset\u001b[0m\u001b[0;34m)\u001b[0m\u001b[0;34m\u001b[0m\u001b[0m\n\u001b[1;32m    886\u001b[0m         \u001b[0;32mexcept\u001b[0m \u001b[0mException\u001b[0m\u001b[0;34m:\u001b[0m\u001b[0;34m\u001b[0m\u001b[0m\n",
      "\u001b[0;32m/home/miguel/anaconda3/lib/python3.6/site-packages/Theano-0.9.0rc4-py3.6.egg/theano/gof/op.py\u001b[0m in \u001b[0;36mrval\u001b[0;34m(p, i, o, n)\u001b[0m\n\u001b[1;32m    870\u001b[0m             \u001b[0;31m# default arguments are stored in the closure of `rval`\u001b[0m\u001b[0;34m\u001b[0m\u001b[0;34m\u001b[0m\u001b[0m\n\u001b[1;32m    871\u001b[0m             \u001b[0;32mdef\u001b[0m \u001b[0mrval\u001b[0m\u001b[0;34m(\u001b[0m\u001b[0mp\u001b[0m\u001b[0;34m=\u001b[0m\u001b[0mp\u001b[0m\u001b[0;34m,\u001b[0m \u001b[0mi\u001b[0m\u001b[0;34m=\u001b[0m\u001b[0mnode_input_storage\u001b[0m\u001b[0;34m,\u001b[0m \u001b[0mo\u001b[0m\u001b[0;34m=\u001b[0m\u001b[0mnode_output_storage\u001b[0m\u001b[0;34m,\u001b[0m \u001b[0mn\u001b[0m\u001b[0;34m=\u001b[0m\u001b[0mnode\u001b[0m\u001b[0;34m)\u001b[0m\u001b[0;34m:\u001b[0m\u001b[0;34m\u001b[0m\u001b[0m\n\u001b[0;32m--> 872\u001b[0;31m                 \u001b[0mr\u001b[0m \u001b[0;34m=\u001b[0m \u001b[0mp\u001b[0m\u001b[0;34m(\u001b[0m\u001b[0mn\u001b[0m\u001b[0;34m,\u001b[0m \u001b[0;34m[\u001b[0m\u001b[0mx\u001b[0m\u001b[0;34m[\u001b[0m\u001b[0;36m0\u001b[0m\u001b[0;34m]\u001b[0m \u001b[0;32mfor\u001b[0m \u001b[0mx\u001b[0m \u001b[0;32min\u001b[0m \u001b[0mi\u001b[0m\u001b[0;34m]\u001b[0m\u001b[0;34m,\u001b[0m \u001b[0mo\u001b[0m\u001b[0;34m)\u001b[0m\u001b[0;34m\u001b[0m\u001b[0m\n\u001b[0m\u001b[1;32m    873\u001b[0m                 \u001b[0;32mfor\u001b[0m \u001b[0mo\u001b[0m \u001b[0;32min\u001b[0m \u001b[0mnode\u001b[0m\u001b[0;34m.\u001b[0m\u001b[0moutputs\u001b[0m\u001b[0;34m:\u001b[0m\u001b[0;34m\u001b[0m\u001b[0m\n\u001b[1;32m    874\u001b[0m                     \u001b[0mcompute_map\u001b[0m\u001b[0;34m[\u001b[0m\u001b[0mo\u001b[0m\u001b[0;34m]\u001b[0m\u001b[0;34m[\u001b[0m\u001b[0;36m0\u001b[0m\u001b[0;34m]\u001b[0m \u001b[0;34m=\u001b[0m \u001b[0;32mTrue\u001b[0m\u001b[0;34m\u001b[0m\u001b[0m\n",
      "\u001b[0;32m/home/miguel/anaconda3/lib/python3.6/site-packages/Theano-0.9.0rc4-py3.6.egg/theano/compile/builders.py\u001b[0m in \u001b[0;36mperform\u001b[0;34m(self, node, inputs, outputs)\u001b[0m\n\u001b[1;32m    611\u001b[0m \u001b[0;34m\u001b[0m\u001b[0m\n\u001b[1;32m    612\u001b[0m     \u001b[0;32mdef\u001b[0m \u001b[0mperform\u001b[0m\u001b[0;34m(\u001b[0m\u001b[0mself\u001b[0m\u001b[0;34m,\u001b[0m \u001b[0mnode\u001b[0m\u001b[0;34m,\u001b[0m \u001b[0minputs\u001b[0m\u001b[0;34m,\u001b[0m \u001b[0moutputs\u001b[0m\u001b[0;34m)\u001b[0m\u001b[0;34m:\u001b[0m\u001b[0;34m\u001b[0m\u001b[0m\n\u001b[0;32m--> 613\u001b[0;31m         \u001b[0mvariables\u001b[0m \u001b[0;34m=\u001b[0m \u001b[0mself\u001b[0m\u001b[0;34m.\u001b[0m\u001b[0mfn\u001b[0m\u001b[0;34m(\u001b[0m\u001b[0;34m*\u001b[0m\u001b[0minputs\u001b[0m\u001b[0;34m)\u001b[0m\u001b[0;34m\u001b[0m\u001b[0m\n\u001b[0m\u001b[1;32m    614\u001b[0m         \u001b[0;32massert\u001b[0m \u001b[0mlen\u001b[0m\u001b[0;34m(\u001b[0m\u001b[0mvariables\u001b[0m\u001b[0;34m)\u001b[0m \u001b[0;34m==\u001b[0m \u001b[0mlen\u001b[0m\u001b[0;34m(\u001b[0m\u001b[0moutputs\u001b[0m\u001b[0;34m)\u001b[0m\u001b[0;34m\u001b[0m\u001b[0m\n\u001b[1;32m    615\u001b[0m         \u001b[0;32mfor\u001b[0m \u001b[0moutput\u001b[0m\u001b[0;34m,\u001b[0m \u001b[0mvariable\u001b[0m \u001b[0;32min\u001b[0m \u001b[0mizip\u001b[0m\u001b[0;34m(\u001b[0m\u001b[0moutputs\u001b[0m\u001b[0;34m,\u001b[0m \u001b[0mvariables\u001b[0m\u001b[0;34m)\u001b[0m\u001b[0;34m:\u001b[0m\u001b[0;34m\u001b[0m\u001b[0m\n",
      "\u001b[0;32m/home/miguel/anaconda3/lib/python3.6/site-packages/Theano-0.9.0rc4-py3.6.egg/theano/compile/function_module.py\u001b[0m in \u001b[0;36m__call__\u001b[0;34m(self, *args, **kwargs)\u001b[0m\n\u001b[1;32m    896\u001b[0m                     \u001b[0mnode\u001b[0m\u001b[0;34m=\u001b[0m\u001b[0mself\u001b[0m\u001b[0;34m.\u001b[0m\u001b[0mfn\u001b[0m\u001b[0;34m.\u001b[0m\u001b[0mnodes\u001b[0m\u001b[0;34m[\u001b[0m\u001b[0mself\u001b[0m\u001b[0;34m.\u001b[0m\u001b[0mfn\u001b[0m\u001b[0;34m.\u001b[0m\u001b[0mposition_of_error\u001b[0m\u001b[0;34m]\u001b[0m\u001b[0;34m,\u001b[0m\u001b[0;34m\u001b[0m\u001b[0m\n\u001b[1;32m    897\u001b[0m                     \u001b[0mthunk\u001b[0m\u001b[0;34m=\u001b[0m\u001b[0mthunk\u001b[0m\u001b[0;34m,\u001b[0m\u001b[0;34m\u001b[0m\u001b[0m\n\u001b[0;32m--> 898\u001b[0;31m                     storage_map=getattr(self.fn, 'storage_map', None))\n\u001b[0m\u001b[1;32m    899\u001b[0m             \u001b[0;32melse\u001b[0m\u001b[0;34m:\u001b[0m\u001b[0;34m\u001b[0m\u001b[0m\n\u001b[1;32m    900\u001b[0m                 \u001b[0;31m# old-style linkers raise their own exceptions\u001b[0m\u001b[0;34m\u001b[0m\u001b[0;34m\u001b[0m\u001b[0m\n",
      "\u001b[0;32m/home/miguel/anaconda3/lib/python3.6/site-packages/Theano-0.9.0rc4-py3.6.egg/theano/gof/link.py\u001b[0m in \u001b[0;36mraise_with_op\u001b[0;34m(node, thunk, exc_info, storage_map)\u001b[0m\n\u001b[1;32m    323\u001b[0m         \u001b[0;31m# extra long error message in that case.\u001b[0m\u001b[0;34m\u001b[0m\u001b[0;34m\u001b[0m\u001b[0m\n\u001b[1;32m    324\u001b[0m         \u001b[0;32mpass\u001b[0m\u001b[0;34m\u001b[0m\u001b[0m\n\u001b[0;32m--> 325\u001b[0;31m     \u001b[0mreraise\u001b[0m\u001b[0;34m(\u001b[0m\u001b[0mexc_type\u001b[0m\u001b[0;34m,\u001b[0m \u001b[0mexc_value\u001b[0m\u001b[0;34m,\u001b[0m \u001b[0mexc_trace\u001b[0m\u001b[0;34m)\u001b[0m\u001b[0;34m\u001b[0m\u001b[0m\n\u001b[0m\u001b[1;32m    326\u001b[0m \u001b[0;34m\u001b[0m\u001b[0m\n\u001b[1;32m    327\u001b[0m \u001b[0;34m\u001b[0m\u001b[0m\n",
      "\u001b[0;32m/home/miguel/anaconda3/lib/python3.6/site-packages/six.py\u001b[0m in \u001b[0;36mreraise\u001b[0;34m(tp, value, tb)\u001b[0m\n\u001b[1;32m    683\u001b[0m             \u001b[0mvalue\u001b[0m \u001b[0;34m=\u001b[0m \u001b[0mtp\u001b[0m\u001b[0;34m(\u001b[0m\u001b[0;34m)\u001b[0m\u001b[0;34m\u001b[0m\u001b[0m\n\u001b[1;32m    684\u001b[0m         \u001b[0;32mif\u001b[0m \u001b[0mvalue\u001b[0m\u001b[0;34m.\u001b[0m\u001b[0m__traceback__\u001b[0m \u001b[0;32mis\u001b[0m \u001b[0;32mnot\u001b[0m \u001b[0mtb\u001b[0m\u001b[0;34m:\u001b[0m\u001b[0;34m\u001b[0m\u001b[0m\n\u001b[0;32m--> 685\u001b[0;31m             \u001b[0;32mraise\u001b[0m \u001b[0mvalue\u001b[0m\u001b[0;34m.\u001b[0m\u001b[0mwith_traceback\u001b[0m\u001b[0;34m(\u001b[0m\u001b[0mtb\u001b[0m\u001b[0;34m)\u001b[0m\u001b[0;34m\u001b[0m\u001b[0m\n\u001b[0m\u001b[1;32m    686\u001b[0m         \u001b[0;32mraise\u001b[0m \u001b[0mvalue\u001b[0m\u001b[0;34m\u001b[0m\u001b[0m\n\u001b[1;32m    687\u001b[0m \u001b[0;34m\u001b[0m\u001b[0m\n",
      "\u001b[0;32m/home/miguel/anaconda3/lib/python3.6/site-packages/Theano-0.9.0rc4-py3.6.egg/theano/compile/function_module.py\u001b[0m in \u001b[0;36m__call__\u001b[0;34m(self, *args, **kwargs)\u001b[0m\n\u001b[1;32m    882\u001b[0m         \u001b[0;32mtry\u001b[0m\u001b[0;34m:\u001b[0m\u001b[0;34m\u001b[0m\u001b[0m\n\u001b[1;32m    883\u001b[0m             \u001b[0moutputs\u001b[0m \u001b[0;34m=\u001b[0m\u001b[0;31m\\\u001b[0m\u001b[0;34m\u001b[0m\u001b[0m\n\u001b[0;32m--> 884\u001b[0;31m                 \u001b[0mself\u001b[0m\u001b[0;34m.\u001b[0m\u001b[0mfn\u001b[0m\u001b[0;34m(\u001b[0m\u001b[0;34m)\u001b[0m \u001b[0;32mif\u001b[0m \u001b[0moutput_subset\u001b[0m \u001b[0;32mis\u001b[0m \u001b[0;32mNone\u001b[0m \u001b[0;32melse\u001b[0m\u001b[0;31m\\\u001b[0m\u001b[0;34m\u001b[0m\u001b[0m\n\u001b[0m\u001b[1;32m    885\u001b[0m                 \u001b[0mself\u001b[0m\u001b[0;34m.\u001b[0m\u001b[0mfn\u001b[0m\u001b[0;34m(\u001b[0m\u001b[0moutput_subset\u001b[0m\u001b[0;34m=\u001b[0m\u001b[0moutput_subset\u001b[0m\u001b[0;34m)\u001b[0m\u001b[0;34m\u001b[0m\u001b[0m\n\u001b[1;32m    886\u001b[0m         \u001b[0;32mexcept\u001b[0m \u001b[0mException\u001b[0m\u001b[0;34m:\u001b[0m\u001b[0;34m\u001b[0m\u001b[0m\n",
      "\u001b[0;32m/home/miguel/anaconda3/lib/python3.6/site-packages/Theano-0.9.0rc4-py3.6.egg/theano/scan_module/scan_op.py\u001b[0m in \u001b[0;36mrval\u001b[0;34m(p, i, o, n, allow_gc)\u001b[0m\n\u001b[1;32m    987\u001b[0m         def rval(p=p, i=node_input_storage, o=node_output_storage, n=node,\n\u001b[1;32m    988\u001b[0m                  allow_gc=allow_gc):\n\u001b[0;32m--> 989\u001b[0;31m             \u001b[0mr\u001b[0m \u001b[0;34m=\u001b[0m \u001b[0mp\u001b[0m\u001b[0;34m(\u001b[0m\u001b[0mn\u001b[0m\u001b[0;34m,\u001b[0m \u001b[0;34m[\u001b[0m\u001b[0mx\u001b[0m\u001b[0;34m[\u001b[0m\u001b[0;36m0\u001b[0m\u001b[0;34m]\u001b[0m \u001b[0;32mfor\u001b[0m \u001b[0mx\u001b[0m \u001b[0;32min\u001b[0m \u001b[0mi\u001b[0m\u001b[0;34m]\u001b[0m\u001b[0;34m,\u001b[0m \u001b[0mo\u001b[0m\u001b[0;34m)\u001b[0m\u001b[0;34m\u001b[0m\u001b[0m\n\u001b[0m\u001b[1;32m    990\u001b[0m             \u001b[0;32mfor\u001b[0m \u001b[0mo\u001b[0m \u001b[0;32min\u001b[0m \u001b[0mnode\u001b[0m\u001b[0;34m.\u001b[0m\u001b[0moutputs\u001b[0m\u001b[0;34m:\u001b[0m\u001b[0;34m\u001b[0m\u001b[0m\n\u001b[1;32m    991\u001b[0m                 \u001b[0mcompute_map\u001b[0m\u001b[0;34m[\u001b[0m\u001b[0mo\u001b[0m\u001b[0;34m]\u001b[0m\u001b[0;34m[\u001b[0m\u001b[0;36m0\u001b[0m\u001b[0;34m]\u001b[0m \u001b[0;34m=\u001b[0m \u001b[0;32mTrue\u001b[0m\u001b[0;34m\u001b[0m\u001b[0m\n",
      "\u001b[0;32m/home/miguel/anaconda3/lib/python3.6/site-packages/Theano-0.9.0rc4-py3.6.egg/theano/scan_module/scan_op.py\u001b[0m in \u001b[0;36mp\u001b[0;34m(node, args, outs)\u001b[0m\n\u001b[1;32m    976\u001b[0m                                                 \u001b[0margs\u001b[0m\u001b[0;34m,\u001b[0m\u001b[0;34m\u001b[0m\u001b[0m\n\u001b[1;32m    977\u001b[0m                                                 \u001b[0mouts\u001b[0m\u001b[0;34m,\u001b[0m\u001b[0;34m\u001b[0m\u001b[0m\n\u001b[0;32m--> 978\u001b[0;31m                                                 self, node)\n\u001b[0m\u001b[1;32m    979\u001b[0m         \u001b[0;32mexcept\u001b[0m \u001b[0;34m(\u001b[0m\u001b[0mImportError\u001b[0m\u001b[0;34m,\u001b[0m \u001b[0mtheano\u001b[0m\u001b[0;34m.\u001b[0m\u001b[0mgof\u001b[0m\u001b[0;34m.\u001b[0m\u001b[0mcmodule\u001b[0m\u001b[0;34m.\u001b[0m\u001b[0mMissingGXX\u001b[0m\u001b[0;34m)\u001b[0m\u001b[0;34m:\u001b[0m\u001b[0;34m\u001b[0m\u001b[0m\n\u001b[1;32m    980\u001b[0m             \u001b[0mp\u001b[0m \u001b[0;34m=\u001b[0m \u001b[0mself\u001b[0m\u001b[0;34m.\u001b[0m\u001b[0mexecute\u001b[0m\u001b[0;34m\u001b[0m\u001b[0m\n",
      "\u001b[0;32mtheano/scan_module/scan_perform.pyx\u001b[0m in \u001b[0;36mtheano.scan_module.scan_perform.perform (/home/miguel/.theano/compiledir_Linux-4.8--generic-x86_64-with-debian-stretch-sid-x86_64-3.6.1-64/scan_perform/mod.cpp:2628)\u001b[0;34m()\u001b[0m\n",
      "\u001b[0;31mNotImplementedError\u001b[0m: We didn't implemented yet the case where scan do 0 iteration\nApply node that caused the error: for{cpu,scan_fn}(Elemwise{minimum,no_inplace}.0, Subtensor{:int64:}.0, Subtensor{:int64:}.0, Subtensor{:int64:}.0, Subtensor{:int64:}.0, Subtensor{:int64:}.0, Subtensor{:int64:}.0, Subtensor{:int64:}.0, IncSubtensor{Set;:int64:}.0, <TensorType(int64, vector)>, <TensorType(int64, vector)>, <TensorType(int64, vector)>, <TensorType(int64, vector)>, <TensorType(float32, matrix)>, <TensorType(float32, scalar)>, <TensorType(float32, scalar)>, <TensorType(float32, scalar)>, <TensorType(float32, scalar)>, <TensorType(float32, scalar)>, <TensorType(float32, matrix)>, <TensorType(int64, vector)>, <TensorType(int64, vector)>, Position of the dips, Rest of the points of the layers, Reference points for every layer, Angle of every dip, Azimuth, Polarity)\nToposort index: 50\nInputs types: [TensorType(int64, scalar), TensorType(int64, vector), TensorType(int64, vector), TensorType(int64, vector), TensorType(int64, vector), TensorType(int64, vector), TensorType(int64, vector), TensorType(int64, vector), TensorType(float32, 3D), TensorType(int64, vector), TensorType(int64, vector), TensorType(int64, vector), TensorType(int64, vector), TensorType(float32, matrix), TensorType(float32, scalar), TensorType(float32, scalar), TensorType(float32, scalar), TensorType(float32, scalar), TensorType(float32, scalar), TensorType(float32, matrix), TensorType(int64, vector), TensorType(int64, vector), TensorType(float32, matrix), TensorType(float32, matrix), TensorType(float32, matrix), TensorType(float32, vector), TensorType(float32, vector), TensorType(float32, vector)]\nInputs shapes: [(), (0,), (0,), (0,), (0,), (0,), (0,), (0,), (1, 3, 729), (2,), (2,), (2,), (2,), (729, 3), (), (), (), (), (), (9, 729), (5,), (5,), (2, 3), (34, 3), (34, 3), (2,), (2,), (2,)]\nInputs strides: [(), (8,), (8,), (8,), (8,), (8,), (8,), (8,), (8748, 2916, 4), (8,), (8,), (8,), (8,), (4, 2916), (), (), (), (), (), (2916, 4), (8,), (8,), (4, 8), (12, 4), (12, 4), (4,), (4,), (4,)]\nInputs values: [array(0), array([], dtype=int64), array([], dtype=int64), array([], dtype=int64), array([], dtype=int64), array([], dtype=int64), array([], dtype=int64), array([], dtype=int64), 'not shown', array([ 0, 34]), array([0, 2]), array([0, 5]), array([3, 3]), 'not shown', array(0.8882311582565308, dtype=float32), array(0.01878463476896286, dtype=float32), array(0.009999999776482582, dtype=float32), array(2.0, dtype=float32), array(4.0, dtype=float32), 'not shown', array([13,  5,  7,  4,  5]), array([1, 2, 3, 4, 5]), 'not shown', 'not shown', 'not shown', array([ 18.434999,  71.565002], dtype=float32), array([  90.,  270.], dtype=float32), array([ 1.,  1.], dtype=float32)]\nInputs type_num: [7, 7, 7, 7, 7, 7, 7, 7, 11, 7, 7, 7, 7, 11, 11, 11, 11, 11, 11, 11, 7, 7, 11, 11, 11, 11, 11, 11]\nOutputs clients: [[Subtensor{int64::}(for{cpu,scan_fn}.0, Constant{1})]]\n\nBacktrace when the node is created(use Theano flag traceback.limit=N to make it longer):\n  File \"/home/miguel/anaconda3/lib/python3.6/site-packages/ipykernel/kernelbase.py\", line 390, in execute_request\n    user_expressions, allow_stdin)\n  File \"/home/miguel/anaconda3/lib/python3.6/site-packages/ipykernel/ipkernel.py\", line 196, in do_execute\n    res = shell.run_cell(code, store_history=store_history, silent=silent)\n  File \"/home/miguel/anaconda3/lib/python3.6/site-packages/ipykernel/zmqshell.py\", line 501, in run_cell\n    return super(ZMQInteractiveShell, self).run_cell(*args, **kwargs)\n  File \"/home/miguel/anaconda3/lib/python3.6/site-packages/IPython/core/interactiveshell.py\", line 2717, in run_cell\n    interactivity=interactivity, compiler=compiler, result=result)\n  File \"/home/miguel/anaconda3/lib/python3.6/site-packages/IPython/core/interactiveshell.py\", line 2821, in run_ast_nodes\n    if self.run_code(code, result):\n  File \"/home/miguel/anaconda3/lib/python3.6/site-packages/IPython/core/interactiveshell.py\", line 2881, in run_code\n    exec(code_obj, self.user_global_ns, self.user_ns)\n  File \"<ipython-input-8-cd9a2cbe4b09>\", line 12, in <module>\n    geomodel = theano.OpFromGraph(input_data_T, [data_interp.interpolator.tg.whole_block_model(1)], on_unused_input='ignore')\n  File \"../gempy/theanograf.py\", line 1309, in whole_block_model\n    dict(input=self.u_grade_T[n_faults:], taps=[0])]\n\nDebugprint of the apply node: \nfor{cpu,scan_fn} [id A] <TensorType(float32, 3D)> ''   \n |Elemwise{minimum,no_inplace} [id B] <TensorType(int64, scalar)> ''   \n | |Elemwise{minimum,no_inplace} [id C] <TensorType(int64, scalar)> ''   \n | | |Elemwise{minimum,no_inplace} [id D] <TensorType(int64, scalar)> ''   \n | | | |Elemwise{minimum,no_inplace} [id E] <TensorType(int64, scalar)> ''   \n | | | | |Elemwise{minimum,no_inplace} [id F] <TensorType(int64, scalar)> ''   \n | | | | | |Elemwise{minimum,no_inplace} [id G] <TensorType(int64, scalar)> ''   \n | | | | | | |Subtensor{int64} [id H] <TensorType(int64, scalar)> ''   \n | | | | | | | |Shape [id I] <TensorType(int64, vector)> ''   \n | | | | | | | | |Subtensor{int64:int64:} [id J] <TensorType(int64, vector)> ''   \n | | | | | | | |   |Subtensor{int64::} [id K] <TensorType(int64, vector)> ''   \n | | | | | | | |   | |<TensorType(int64, vector)> [id L] <TensorType(int64, vector)>\n | | | | | | | |   | |Constant{1} [id M] <int64>\n | | | | | | | |   |Constant{0} [id N] <int64>\n | | | | | | | |   |Constant{-1} [id O] <int64>\n | | | | | | | |Constant{0} [id N] <int64>\n | | | | | | |Subtensor{int64} [id P] <TensorType(int64, scalar)> ''   \n | | | | | |   |Shape [id Q] <TensorType(int64, vector)> ''   \n | | | | | |   | |Subtensor{int64::} [id R] <TensorType(int64, vector)> ''   \n | | | | | |   |   |Subtensor{int64::} [id K] <TensorType(int64, vector)> ''   \n | | | | | |   |   |Constant{1} [id M] <int64>\n | | | | | |   |Constant{0} [id N] <int64>\n | | | | | |Subtensor{int64} [id S] <TensorType(int64, scalar)> ''   \n | | | | |   |Shape [id T] <TensorType(int64, vector)> ''   \n | | | | |   | |Subtensor{int64:int64:} [id U] <TensorType(int64, vector)> ''   \n | | | | |   |   |Subtensor{int64::} [id V] <TensorType(int64, vector)> ''   \n | | | | |   |   | |<TensorType(int64, vector)> [id W] <TensorType(int64, vector)>\n | | | | |   |   | |Constant{1} [id M] <int64>\n | | | | |   |   |Constant{0} [id N] <int64>\n | | | | |   |   |Constant{-1} [id O] <int64>\n | | | | |   |Constant{0} [id N] <int64>\n | | | | |Subtensor{int64} [id X] <TensorType(int64, scalar)> ''   \n | | | |   |Shape [id Y] <TensorType(int64, vector)> ''   \n | | | |   | |Subtensor{int64::} [id Z] <TensorType(int64, vector)> ''   \n | | | |   |   |Subtensor{int64::} [id V] <TensorType(int64, vector)> ''   \n | | | |   |   |Constant{1} [id M] <int64>\n | | | |   |Constant{0} [id N] <int64>\n | | | |Subtensor{int64} [id BA] <TensorType(int64, scalar)> ''   \n | | |   |Shape [id BB] <TensorType(int64, vector)> ''   \n | | |   | |Subtensor{int64:int64:} [id BC] <TensorType(int64, vector)> ''   \n | | |   |   |Subtensor{int64::} [id BD] <TensorType(int64, vector)> ''   \n | | |   |   | |<TensorType(int64, vector)> [id BE] <TensorType(int64, vector)>\n | | |   |   | |Constant{1} [id M] <int64>\n | | |   |   |Constant{0} [id N] <int64>\n | | |   |   |Constant{-1} [id O] <int64>\n | | |   |Constant{0} [id N] <int64>\n | | |Subtensor{int64} [id BF] <TensorType(int64, scalar)> ''   \n | |   |Shape [id BG] <TensorType(int64, vector)> ''   \n | |   | |Subtensor{int64::} [id BH] <TensorType(int64, vector)> ''   \n | |   |   |Subtensor{int64::} [id BD] <TensorType(int64, vector)> ''   \n | |   |   |Constant{1} [id M] <int64>\n | |   |Constant{0} [id N] <int64>\n | |Subtensor{int64} [id BI] <TensorType(int64, scalar)> ''   \n |   |Shape [id BJ] <TensorType(int64, vector)> ''   \n |   | |Subtensor{int64::} [id BK] <TensorType(int64, vector)> ''   \n |   |   |Subtensor{int64::} [id BL] <TensorType(int64, vector)> ''   \n |   |   | |<TensorType(int64, vector)> [id BM] <TensorType(int64, vector)>\n |   |   | |Constant{1} [id M] <int64>\n |   |   |Constant{0} [id N] <int64>\n |   |Constant{0} [id N] <int64>\n |Subtensor{:int64:} [id BN] <TensorType(int64, vector)> ''   \n | |Subtensor{int64:int64:} [id J] <TensorType(int64, vector)> ''   \n | |ScalarFromTensor [id BO] <int64> ''   \n |   |Elemwise{minimum,no_inplace} [id B] <TensorType(int64, scalar)> ''   \n |Subtensor{:int64:} [id BP] <TensorType(int64, vector)> ''   \n | |Subtensor{int64::} [id R] <TensorType(int64, vector)> ''   \n | |ScalarFromTensor [id BO] <int64> ''   \n |Subtensor{:int64:} [id BQ] <TensorType(int64, vector)> ''   \n | |Subtensor{int64:int64:} [id U] <TensorType(int64, vector)> ''   \n | |ScalarFromTensor [id BO] <int64> ''   \n |Subtensor{:int64:} [id BR] <TensorType(int64, vector)> ''   \n | |Subtensor{int64::} [id Z] <TensorType(int64, vector)> ''   \n | |ScalarFromTensor [id BO] <int64> ''   \n |Subtensor{:int64:} [id BS] <TensorType(int64, vector)> ''   \n | |Subtensor{int64:int64:} [id BC] <TensorType(int64, vector)> ''   \n | |ScalarFromTensor [id BO] <int64> ''   \n |Subtensor{:int64:} [id BT] <TensorType(int64, vector)> ''   \n | |Subtensor{int64::} [id BH] <TensorType(int64, vector)> ''   \n | |ScalarFromTensor [id BO] <int64> ''   \n |Subtensor{:int64:} [id BU] <TensorType(int64, vector)> ''   \n | |Subtensor{int64::} [id BK] <TensorType(int64, vector)> ''   \n | |ScalarFromTensor [id BO] <int64> ''   \n |IncSubtensor{Set;:int64:} [id BV] <TensorType(float32, 3D)> ''   \n | |AllocEmpty{dtype='float32'} [id BW] <TensorType(float32, 3D)> ''   \n | | |Elemwise{add,no_inplace} [id BX] <TensorType(int64, scalar)> ''   \n | | | |Elemwise{minimum,no_inplace} [id B] <TensorType(int64, scalar)> ''   \n | | | |Subtensor{int64} [id BY] <TensorType(int64, scalar)> ''   \n | | |   |Shape [id BZ] <TensorType(int64, vector)> ''   \n | | |   | |Rebroadcast{0} [id CA] <TensorType(float32, 3D)> ''   \n | | |   |   |InplaceDimShuffle{x,0,1} [id CB] <TensorType(float32, (True, False, False))> ''   \n | | |   |     |Join [id CC] <TensorType(float32, matrix)> ''   \n | | |   |       |TensorConstant{0} [id CD] <TensorType(int8, scalar)>\n | | |   |       |<TensorType(float32, matrix)> [id CE] <TensorType(float32, matrix)>\n | | |   |       |<TensorType(float32, matrix)> [id CE] <TensorType(float32, matrix)>\n | | |   |       |<TensorType(float32, matrix)> [id CE] <TensorType(float32, matrix)>\n | | |   |Constant{0} [id N] <int64>\n | | |Subtensor{int64} [id CF] <TensorType(int64, scalar)> ''   \n | | | |Shape [id BZ] <TensorType(int64, vector)> ''   \n | | | |Constant{1} [id M] <int64>\n | | |Subtensor{int64} [id CG] <TensorType(int64, scalar)> ''   \n | |   |Shape [id BZ] <TensorType(int64, vector)> ''   \n | |   |Constant{2} [id CH] <int64>\n | |Rebroadcast{0} [id CA] <TensorType(float32, 3D)> ''   \n | |ScalarFromTensor [id CI] <int64> ''   \n |   |Subtensor{int64} [id BY] <TensorType(int64, scalar)> ''   \n |<TensorType(int64, vector)> [id L] <TensorType(int64, vector)>\n |<TensorType(int64, vector)> [id W] <TensorType(int64, vector)>\n |<TensorType(int64, vector)> [id BE] <TensorType(int64, vector)>\n |<TensorType(int64, vector)> [id BM] <TensorType(int64, vector)>\n |<TensorType(float32, matrix)> [id CJ] <TensorType(float32, matrix)>\n |<TensorType(float32, scalar)> [id CK] <TensorType(float32, scalar)>\n |<TensorType(float32, scalar)> [id CL] <TensorType(float32, scalar)>\n |<TensorType(float32, scalar)> [id CM] <TensorType(float32, scalar)>\n |<TensorType(float32, scalar)> [id CN] <TensorType(float32, scalar)>\n |<TensorType(float32, scalar)> [id CO] <TensorType(float32, scalar)>\n |<TensorType(float32, matrix)> [id CP] <TensorType(float32, matrix)>\n |<TensorType(int64, vector)> [id CQ] <TensorType(int64, vector)>\n |<TensorType(int64, vector)> [id CR] <TensorType(int64, vector)>\n |Position of the dips [id CS] <TensorType(float32, matrix)>\n |Rest of the points of the layers [id CT] <TensorType(float32, matrix)>\n |Reference points for every layer [id CU] <TensorType(float32, matrix)>\n |Angle of every dip [id CV] <TensorType(float32, vector)>\n |Azimuth [id CW] <TensorType(float32, vector)>\n |Polarity [id CX] <TensorType(float32, vector)>\n\nInner graphs of the scan ops:\n\nfor{cpu,scan_fn} [id A] <TensorType(float32, 3D)> ''   \n >IncSubtensor{Set;int64, ::} [id CY] <TensorType(float32, matrix)> ''   \n > |AdvancedIncSubtensor{inplace=False,  set_instead_of_inc=True} [id CZ] <TensorType(float32, matrix)> ''   \n > | |AdvancedIncSubtensor{inplace=False,  set_instead_of_inc=True} [id DA] <TensorType(float32, matrix)> ''   \n > | | |<TensorType(float32, matrix)> [id DB] <TensorType(float32, matrix)> -> [id BV]\n > | | |Subtensor{:int64:} [id DC] <TensorType(int64, vector)> ''   \n > | | | |Sum{axis=[0], acc_dtype=int64} [id DD] <TensorType(int64, vector)> 'The chunk of block model of a specific series'   \n > | | | |ScalarFromTensor [id DE] <int64> ''   \n > | | |   |Elemwise{mul,no_inplace} [id DF] <TensorType(int64, scalar)> ''   \n > | | |     |TensorConstant{-2} [id DG] <TensorType(int8, scalar)>\n > | | |     |Subtensor{int64} [id DH] <TensorType(int64, scalar)> ''   \n > | | |       |Shape [id DI] <TensorType(int64, vector)> ''   \n > | | |       | |Rest of the points of the layers_copy [id DJ] <TensorType(float32, matrix)> -> [id CT]\n > | | |       |Constant{0} [id DK] <int64>\n > | | |TensorConstant{0} [id DL] <TensorType(int64, scalar)>\n > | | |Subtensor{int64} [id DM] <TensorType(int64, vector)> ''   \n > | |   |Nonzero [id DN] <TensorType(int64, matrix)> ''   \n > | |   | |Elemwise{Cast{int8}} [id DO] <TensorType(int8, vector)> ''   \n > | |   |   |Elemwise{eq,no_inplace} [id DP] <TensorType(bool, vector)> 'Yet simulated LITHOLOGY node'   \n > | |   |Constant{0} [id DK] <int64>\n > | |Subtensor{:int64:} [id DQ] <TensorType(float32, vector)> ''   \n > | | |Elemwise{add,no_inplace} [id DR] <TensorType(float32, vector)> 'Value of the potential field at every point'   \n > | | |ScalarFromTensor [id DE] <int64> ''   \n > | |TensorConstant{1} [id DS] <TensorType(int64, scalar)>\n > | |Subtensor{int64} [id DM] <TensorType(int64, vector)> ''   \n > |Subtensor{int64, :int64:} [id DT] <TensorType(float32, vector)> ''   \n > | |Subtensor{int64} [id DU] <TensorType(float32, row)> ''   \n > | | |Subtensor{int64::} [id DV] <TensorType(float32, (False, True, False))> ''   \n > | | | |for{cpu,scan_fn} [id DW] <TensorType(float32, (False, True, False))> ''   \n > | | | | |Elemwise{minimum,no_inplace} [id DX] <TensorType(int64, scalar)> ''   \n > | | | | | |Elemwise{minimum,no_inplace} [id DY] <TensorType(int64, scalar)> ''   \n > | | | | | | |Elemwise{minimum,no_inplace} [id DZ] <TensorType(int64, scalar)> ''   \n > | | | | | | | |Elemwise{minimum,no_inplace} [id EA] <TensorType(int64, scalar)> ''   \n > | | | | | | | | |Elemwise{minimum,no_inplace} [id EB] <TensorType(int64, scalar)> ''   \n > | | | | | | | | | |Elemwise{minimum,no_inplace} [id EC] <TensorType(int64, scalar)> ''   \n > | | | | | | | | | | |Subtensor{int64} [id ED] <TensorType(int64, scalar)> ''   \n > | | | | | | | | | | | |Shape [id EE] <TensorType(int64, vector)> ''   \n > | | | | | | | | | | | | |Subtensor{int64:int64:} [id EF] <TensorType(int64, vector)> ''   \n > | | | | | | | | | | | |   |Subtensor{:int64:} [id EG] <TensorType(int64, vector)> ''   \n > | | | | | | | | | | | |   | |Length of interfaces in every series_copy [id EH] <TensorType(int64, vector)> -> [id L]\n > | | | | | | | | | | | |   | |Constant{2} [id EI] <int64>\n > | | | | | | | | | | | |   |Constant{0} [id DK] <int64>\n > | | | | | | | | | | | |   |Constant{-1} [id EJ] <int64>\n > | | | | | | | | | | | |Constant{0} [id DK] <int64>\n > | | | | | | | | | | |Subtensor{int64} [id EK] <TensorType(int64, scalar)> ''   \n > | | | | | | | | | |   |Shape [id EL] <TensorType(int64, vector)> ''   \n > | | | | | | | | | |   | |Subtensor{int64::} [id EM] <TensorType(int64, vector)> ''   \n > | | | | | | | | | |   |   |Subtensor{:int64:} [id EG] <TensorType(int64, vector)> ''   \n > | | | | | | | | | |   |   |Constant{1} [id EN] <int64>\n > | | | | | | | | | |   |Constant{0} [id DK] <int64>\n > | | | | | | | | | |Subtensor{int64} [id EO] <TensorType(int64, scalar)> ''   \n > | | | | | | | | |   |Shape [id EP] <TensorType(int64, vector)> ''   \n > | | | | | | | | |   | |Subtensor{int64:int64:} [id EQ] <TensorType(int64, vector)> ''   \n > | | | | | | | | |   |   |Subtensor{:int64:} [id ER] <TensorType(int64, vector)> ''   \n > | | | | | | | | |   |   | |Length of foliations in every series_copy [id ES] <TensorType(int64, vector)> -> [id W]\n > | | | | | | | | |   |   | |Constant{2} [id EI] <int64>\n > | | | | | | | | |   |   |Constant{0} [id DK] <int64>\n > | | | | | | | | |   |   |Constant{-1} [id EJ] <int64>\n > | | | | | | | | |   |Constant{0} [id DK] <int64>\n > | | | | | | | | |Subtensor{int64} [id ET] <TensorType(int64, scalar)> ''   \n > | | | | | | | |   |Shape [id EU] <TensorType(int64, vector)> ''   \n > | | | | | | | |   | |Subtensor{int64::} [id EV] <TensorType(int64, vector)> ''   \n > | | | | | | | |   |   |Subtensor{:int64:} [id ER] <TensorType(int64, vector)> ''   \n > | | | | | | | |   |   |Constant{1} [id EN] <int64>\n > | | | | | | | |   |Constant{0} [id DK] <int64>\n > | | | | | | | |Subtensor{int64} [id EW] <TensorType(int64, scalar)> ''   \n > | | | | | | |   |Shape [id EX] <TensorType(int64, vector)> ''   \n > | | | | | | |   | |Subtensor{int64:int64:} [id EY] <TensorType(int64, vector)> ''   \n > | | | | | | |   |   |Subtensor{:int64:} [id EZ] <TensorType(int64, vector)> ''   \n > | | | | | | |   |   | |List with the number of formations_copy [id FA] <TensorType(int64, vector)> -> [id BE]\n > | | | | | | |   |   | |Constant{2} [id EI] <int64>\n > | | | | | | |   |   |Constant{0} [id DK] <int64>\n > | | | | | | |   |   |Constant{-1} [id EJ] <int64>\n > | | | | | | |   |Constant{0} [id DK] <int64>\n > | | | | | | |Subtensor{int64} [id FB] <TensorType(int64, scalar)> ''   \n > | | | | | |   |Shape [id FC] <TensorType(int64, vector)> ''   \n > | | | | | |   | |Subtensor{int64::} [id FD] <TensorType(int64, vector)> ''   \n > | | | | | |   |   |Subtensor{:int64:} [id EZ] <TensorType(int64, vector)> ''   \n > | | | | | |   |   |Constant{1} [id EN] <int64>\n > | | | | | |   |Constant{0} [id DK] <int64>\n > | | | | | |Subtensor{int64} [id FE] <TensorType(int64, scalar)> ''   \n > | | | | |   |Shape [id FF] <TensorType(int64, vector)> ''   \n > | | | | |   | |Subtensor{int64::} [id FG] <TensorType(int64, vector)> ''   \n > | | | | |   |   |Subtensor{:int64:} [id FH] <TensorType(int64, vector)> ''   \n > | | | | |   |   | |Grade of the universal drift_copy [id FI] <TensorType(int64, vector)> -> [id BM]\n > | | | | |   |   | |Constant{2} [id EI] <int64>\n > | | | | |   |   |Constant{0} [id DK] <int64>\n > | | | | |   |Constant{0} [id DK] <int64>\n > | | | | |Subtensor{:int64:} [id FJ] <TensorType(int64, vector)> ''   \n > | | | | | |Subtensor{int64:int64:} [id EF] <TensorType(int64, vector)> ''   \n > | | | | | |ScalarFromTensor [id FK] <int64> ''   \n > | | | | |   |Elemwise{minimum,no_inplace} [id DX] <TensorType(int64, scalar)> ''   \n > | | | | |Subtensor{:int64:} [id FL] <TensorType(int64, vector)> ''   \n > | | | | | |Subtensor{int64::} [id EM] <TensorType(int64, vector)> ''   \n > | | | | | |ScalarFromTensor [id FK] <int64> ''   \n > | | | | |Subtensor{:int64:} [id FM] <TensorType(int64, vector)> ''   \n > | | | | | |Subtensor{int64:int64:} [id EQ] <TensorType(int64, vector)> ''   \n > | | | | | |ScalarFromTensor [id FK] <int64> ''   \n > | | | | |Subtensor{:int64:} [id FN] <TensorType(int64, vector)> ''   \n > | | | | | |Subtensor{int64::} [id EV] <TensorType(int64, vector)> ''   \n > | | | | | |ScalarFromTensor [id FK] <int64> ''   \n > | | | | |Subtensor{:int64:} [id FO] <TensorType(int64, vector)> ''   \n > | | | | | |Subtensor{int64:int64:} [id EY] <TensorType(int64, vector)> ''   \n > | | | | | |ScalarFromTensor [id FK] <int64> ''   \n > | | | | |Subtensor{:int64:} [id FP] <TensorType(int64, vector)> ''   \n > | | | | | |Subtensor{int64::} [id FD] <TensorType(int64, vector)> ''   \n > | | | | | |ScalarFromTensor [id FK] <int64> ''   \n > | | | | |Subtensor{:int64:} [id FQ] <TensorType(int64, vector)> ''   \n > | | | | | |Subtensor{int64::} [id FG] <TensorType(int64, vector)> ''   \n > | | | | | |ScalarFromTensor [id FK] <int64> ''   \n > | | | | |IncSubtensor{Set;:int64:} [id FR] <TensorType(float32, (False, True, False))> ''   \n > | | | | | |AllocEmpty{dtype='float32'} [id FS] <TensorType(float32, (False, True, False))> ''   \n > | | | | | | |Elemwise{add,no_inplace} [id FT] <TensorType(int64, scalar)> ''   \n > | | | | | | | |Elemwise{minimum,no_inplace} [id DX] <TensorType(int64, scalar)> ''   \n > | | | | | | | |Subtensor{int64} [id FU] <TensorType(int64, scalar)> ''   \n > | | | | | | |   |Shape [id FV] <TensorType(int64, vector)> ''   \n > | | | | | | |   | |Rebroadcast{0} [id FW] <TensorType(float32, (False, True, False))> ''   \n > | | | | | | |   |   |InplaceDimShuffle{x,0,1} [id FX] <TensorType(float32, (True, True, False))> ''   \n > | | | | | | |   |     |Alloc [id FY] <TensorType(float32, row)> 'final block of faults init'   \n > | | | | | | |   |Constant{0} [id DK] <int64>\n > | | | | | | |Subtensor{int64} [id FZ] <TensorType(int64, scalar)> ''   \n > | | | | | | | |Shape [id FV] <TensorType(int64, vector)> ''   \n > | | | | | | | |Constant{1} [id EN] <int64>\n > | | | | | | |Subtensor{int64} [id GA] <TensorType(int64, scalar)> ''   \n > | | | | | |   |Shape [id FV] <TensorType(int64, vector)> ''   \n > | | | | | |   |Constant{2} [id EI] <int64>\n > | | | | | |Rebroadcast{0} [id FW] <TensorType(float32, (False, True, False))> ''   \n > | | | | | |ScalarFromTensor [id GB] <int64> ''   \n > | | | | |   |Subtensor{int64} [id FU] <TensorType(int64, scalar)> ''   \n > | | | | |Coordinates of the grid points to interpolate_copy [id GC] <TensorType(float32, matrix)> -> [id CJ]\n > | | | | |Range_copy [id GD] <TensorType(float32, scalar)> -> [id CK]\n > | | | | |Covariance at 0_copy [id GE] <TensorType(float32, scalar)> -> [id CL]\n > | | | | |<TensorType(float32, scalar)> [id GF] <TensorType(float32, scalar)> -> [id CM]\n > | | | | |<TensorType(float32, scalar)> [id GG] <TensorType(float32, scalar)> -> [id CN]\n > | | | | |<TensorType(float32, scalar)> [id GH] <TensorType(float32, scalar)> -> [id CO]\n > | | | | |<TensorType(float32, matrix)> [id GI] <TensorType(float32, matrix)> -> [id CP]\n > | | | | |<TensorType(int64, vector)> [id GJ] <TensorType(int64, vector)> -> [id CQ]\n > | | | | |Value of the formation_copy [id GK] <TensorType(int64, vector)> -> [id CR]\n > | | | | |Position of the dips_copy [id GL] <TensorType(float32, matrix)> -> [id CS]\n > | | | | |Rest of the points of the layers_copy [id DJ] <TensorType(float32, matrix)> -> [id CT]\n > | | | | |Reference points for every layer_copy [id GM] <TensorType(float32, matrix)> -> [id CU]\n > | | | | |Angle of every dip_copy [id GN] <TensorType(float32, vector)> -> [id CV]\n > | | | | |Azimuth_copy [id GO] <TensorType(float32, vector)> -> [id CW]\n > | | | | |Polarity_copy [id GP] <TensorType(float32, vector)> -> [id CX]\n > | | | |Constant{1} [id EN] <int64>\n > | | |Constant{-1} [id EJ] <int64>\n > | |Constant{-1} [id EJ] <int64>\n > | |ScalarFromTensor [id DE] <int64> ''   \n > |Constant{2} [id EI] <int64>\n\nfor{cpu,scan_fn} [id DW] <TensorType(float32, (False, True, False))> ''   \n >AdvancedIncSubtensor{inplace=False,  set_instead_of_inc=True} [id GQ] <TensorType(float32, row)> ''   \n > |final block of faults init[t-1] [id GR] <TensorType(float32, row)> -> [id FR]\n > |Sum{axis=[0], acc_dtype=int64} [id GS] <TensorType(int64, vector)> 'The chunk of block model of a specific series'   \n > |TensorConstant{0} [id GT] <TensorType(int64, scalar)>\n > |Subtensor{int64} [id GU] <TensorType(int64, vector)> ''   \n >   |Nonzero [id GV] <TensorType(int64, matrix)> ''   \n >   | |Elemwise{Cast{int8}} [id GW] <TensorType(int8, vector)> ''   \n >   |   |Join [id GX] <TensorType(float32, vector)> ''   \n >   |     |TensorConstant{0} [id GY] <TensorType(int8, scalar)>\n >   |     |Elemwise{eq,no_inplace} [id GZ] <TensorType(bool, vector)> 'Yet simulated FAULTS node'   \n >   |     |Alloc [id HA] <TensorType(float32, vector)> ''   \n >   |       |TensorConstant{1.0} [id HB] <TensorType(float32, scalar)>\n >   |       |Elemwise{mul,no_inplace} [id HC] <TensorType(int64, scalar)> ''   \n >   |         |TensorConstant{2} [id HD] <TensorType(int8, scalar)>\n >   |         |Subtensor{int64} [id HE] <TensorType(int64, scalar)> ''   \n >   |           |Shape [id HF] <TensorType(int64, vector)> ''   \n >   |           | |Rest of the points of the layers_copy [id HG] <TensorType(float32, matrix)> -> [id DJ]\n >   |           |Constant{0} [id HH] <int64>\n >   |Constant{0} [id HH] <int64>\n\nStorage map footprint:\n - <TensorType(float32, matrix)>, Input, Shape: (9, 729), ElemSize: 4 Byte(s), TotalSize: 26244 Byte(s)\n - <TensorType(float32, matrix)>, Input, Shape: (729, 3), ElemSize: 4 Byte(s), TotalSize: 8748 Byte(s)\n - IncSubtensor{Set;:int64:}.0, Shape: (1, 3, 729), ElemSize: 4 Byte(s), TotalSize: 8748 Byte(s)\n - <TensorType(float32, matrix)>, Input, Shape: (1, 729), ElemSize: 4 Byte(s), TotalSize: 2916 Byte(s)\n - Reference points for every layer, Input, Shape: (34, 3), ElemSize: 4 Byte(s), TotalSize: 408 Byte(s)\n - Rest of the points of the layers, Input, Shape: (34, 3), ElemSize: 4 Byte(s), TotalSize: 408 Byte(s)\n - <TensorType(int64, vector)>, Input, Shape: (5,), ElemSize: 8 Byte(s), TotalSize: 40 Byte(s)\n - <TensorType(int64, vector)>, Input, Shape: (5,), ElemSize: 8 Byte(s), TotalSize: 40 Byte(s)\n - Position of the dips, Input, Shape: (2, 3), ElemSize: 4 Byte(s), TotalSize: 24 Byte(s)\n - <TensorType(int64, vector)>, Input, Shape: (2,), ElemSize: 8 Byte(s), TotalSize: 16 Byte(s)\n - <TensorType(int64, vector)>, Input, Shape: (2,), ElemSize: 8 Byte(s), TotalSize: 16 Byte(s)\n - <TensorType(int64, vector)>, Input, Shape: (2,), ElemSize: 8 Byte(s), TotalSize: 16 Byte(s)\n - <TensorType(int64, vector)>, Input, Shape: (2,), ElemSize: 8 Byte(s), TotalSize: 16 Byte(s)\n - Angle of every dip, Input, Shape: (2,), ElemSize: 4 Byte(s), TotalSize: 8 Byte(s)\n - Azimuth, Input, Shape: (2,), ElemSize: 4 Byte(s), TotalSize: 8 Byte(s)\n - Polarity, Input, Shape: (2,), ElemSize: 4 Byte(s), TotalSize: 8 Byte(s)\n - Constant{1}, Shape: (), ElemSize: 8 Byte(s), TotalSize: 8.0 Byte(s)\n - Constant{0}, Shape: (), ElemSize: 8 Byte(s), TotalSize: 8.0 Byte(s)\n - Constant{-1}, Shape: (), ElemSize: 8 Byte(s), TotalSize: 8.0 Byte(s)\n - Constant{2}, Shape: (), ElemSize: 8 Byte(s), TotalSize: 8.0 Byte(s)\n - Elemwise{minimum,no_inplace}.0, Shape: (), ElemSize: 8 Byte(s), TotalSize: 8.0 Byte(s)\n - <TensorType(float32, scalar)>, Input, Shape: (), ElemSize: 4 Byte(s), TotalSize: 4.0 Byte(s)\n - <TensorType(float32, scalar)>, Input, Shape: (), ElemSize: 4 Byte(s), TotalSize: 4.0 Byte(s)\n - <TensorType(float32, scalar)>, Input, Shape: (), ElemSize: 4 Byte(s), TotalSize: 4.0 Byte(s)\n - <TensorType(float32, scalar)>, Input, Shape: (), ElemSize: 4 Byte(s), TotalSize: 4.0 Byte(s)\n - <TensorType(float32, scalar)>, Input, Shape: (), ElemSize: 4 Byte(s), TotalSize: 4.0 Byte(s)\n - TensorConstant{0}, Shape: (), ElemSize: 1 Byte(s), TotalSize: 1.0 Byte(s)\n - Subtensor{:int64:}.0, Shape: (0,), ElemSize: 8 Byte(s), TotalSize: 0 Byte(s)\n - Subtensor{:int64:}.0, Shape: (0,), ElemSize: 8 Byte(s), TotalSize: 0 Byte(s)\n - Subtensor{:int64:}.0, Shape: (0,), ElemSize: 8 Byte(s), TotalSize: 0 Byte(s)\n - Subtensor{:int64:}.0, Shape: (0,), ElemSize: 8 Byte(s), TotalSize: 0 Byte(s)\n - Subtensor{:int64:}.0, Shape: (0,), ElemSize: 8 Byte(s), TotalSize: 0 Byte(s)\n - Subtensor{:int64:}.0, Shape: (0,), ElemSize: 8 Byte(s), TotalSize: 0 Byte(s)\n - Subtensor{:int64:}.0, Shape: (0,), ElemSize: 8 Byte(s), TotalSize: 0 Byte(s)\n TotalSize: 47725.0 Byte(s) 0.000 GB\n TotalSize inputs: 38969.0 Byte(s) 0.000 GB\n\n\nApply node that caused the error: OpFromGraph{inline=False}(<TensorType(float32, matrix)>, <TensorType(float32, vector)>, <TensorType(float32, vector)>, <TensorType(float32, vector)>, reference, rest, Length of interfaces in every series, Length of foliations in every series, List with the number of formations, Grade of the universal drift, final block of lithologies init, Coordinates of the grid points to interpolate, Range, Covariance at 0, <TensorType(float32, scalar)>, <TensorType(float32, scalar)>, <TensorType(float32, scalar)>, <TensorType(float32, matrix)>, <TensorType(int64, vector)>, Value of the formation)\nToposort index: 7\nInputs types: [TensorType(float32, matrix), TensorType(float32, vector), TensorType(float32, vector), TensorType(float32, vector), TensorType(float32, matrix), TensorType(float32, matrix), TensorType(int64, vector), TensorType(int64, vector), TensorType(int64, vector), TensorType(int64, vector), TensorType(float32, matrix), TensorType(float32, matrix), TensorType(float32, scalar), TensorType(float32, scalar), TensorType(float32, scalar), TensorType(float32, scalar), TensorType(float32, scalar), TensorType(float32, matrix), TensorType(int64, vector), TensorType(int64, vector)]\nInputs shapes: [(2, 3), (2,), (2,), (2,), (34, 3), (34, 3), (2,), (2,), (2,), (2,), (1, 729), (729, 3), (), (), (), (), (), (9, 729), (5,), (5,)]\nInputs strides: [(4, 8), (4,), (4,), (4,), (12, 4), (12, 4), (8,), (8,), (8,), (8,), (2916, 4), (4, 2916), (), (), (), (), (), (2916, 4), (8,), (8,)]\nInputs values: ['not shown', array([ 18.434999,  71.565002], dtype=float32), array([  90.,  270.], dtype=float32), array([ 1.,  1.], dtype=float32), 'not shown', 'not shown', array([ 0, 34]), array([0, 2]), array([0, 5]), array([3, 3]), 'not shown', 'not shown', array(0.8882311582565308, dtype=float32), array(0.01878463476896286, dtype=float32), array(0.009999999776482582, dtype=float32), array(2.0, dtype=float32), array(4.0, dtype=float32), 'not shown', array([13,  5,  7,  4,  5]), array([1, 2, 3, 4, 5])]\nInputs type_num: [11, 11, 11, 11, 11, 11, 7, 7, 7, 7, 11, 11, 11, 11, 11, 11, 11, 11, 7, 7]\nOutputs clients: [['output']]\n\nBacktrace when the node is created(use Theano flag traceback.limit=N to make it longer):\n  File \"/home/miguel/anaconda3/lib/python3.6/site-packages/ipykernel/kernelbase.py\", line 228, in dispatch_shell\n    handler(stream, idents, msg)\n  File \"/home/miguel/anaconda3/lib/python3.6/site-packages/ipykernel/kernelbase.py\", line 390, in execute_request\n    user_expressions, allow_stdin)\n  File \"/home/miguel/anaconda3/lib/python3.6/site-packages/ipykernel/ipkernel.py\", line 196, in do_execute\n    res = shell.run_cell(code, store_history=store_history, silent=silent)\n  File \"/home/miguel/anaconda3/lib/python3.6/site-packages/ipykernel/zmqshell.py\", line 501, in run_cell\n    return super(ZMQInteractiveShell, self).run_cell(*args, **kwargs)\n  File \"/home/miguel/anaconda3/lib/python3.6/site-packages/IPython/core/interactiveshell.py\", line 2717, in run_cell\n    interactivity=interactivity, compiler=compiler, result=result)\n  File \"/home/miguel/anaconda3/lib/python3.6/site-packages/IPython/core/interactiveshell.py\", line 2821, in run_ast_nodes\n    if self.run_code(code, result):\n  File \"/home/miguel/anaconda3/lib/python3.6/site-packages/IPython/core/interactiveshell.py\", line 2881, in run_code\n    exec(code_obj, self.user_global_ns, self.user_ns)\n  File \"<ipython-input-9-3aff1d38cda1>\", line 26, in <module>\n    ref, rest))\n\nDebugprint of the apply node: \nOpFromGraph{inline=False} [id A] <TensorType(float32, 3D)> 'GeMpy'   \n\nStorage map footprint:\n - <TensorType(float32, matrix)>, Shared Input, Shape: (9, 729), ElemSize: 4 Byte(s), TotalSize: 26244 Byte(s)\n - Coordinates of the grid points to interpolate, Shared Input, Shape: (729, 3), ElemSize: 4 Byte(s), TotalSize: 8748 Byte(s)\n - final block of lithologies init, Shared Input, Shape: (1, 729), ElemSize: 4 Byte(s), TotalSize: 2916 Byte(s)\n - <TensorType(float32, matrix)>, Shared Input, Shape: (34, 3), ElemSize: 4 Byte(s), TotalSize: 408 Byte(s)\n - <TensorType(float32, matrix)>, Shared Input, Shape: (34, 3), ElemSize: 4 Byte(s), TotalSize: 408 Byte(s)\n - rest, Shape: (34, 3), ElemSize: 4 Byte(s), TotalSize: 408 Byte(s)\n - reference, Shape: (34, 3), ElemSize: 4 Byte(s), TotalSize: 408 Byte(s)\n - TensorConstant{[ 0  1  2 .. 10 11 12]}, Shape: (13,), ElemSize: 8 Byte(s), TotalSize: 104 Byte(s)\n - <TensorType(int64, vector)>, Shared Input, Shape: (5,), ElemSize: 8 Byte(s), TotalSize: 40 Byte(s)\n - Value of the formation, Shared Input, Shape: (5,), ElemSize: 8 Byte(s), TotalSize: 40 Byte(s)\n - <TensorType(float32, matrix)>, Shared Input, Shape: (2, 3), ElemSize: 4 Byte(s), TotalSize: 24 Byte(s)\n - Length of interfaces in every series, Shared Input, Shape: (2,), ElemSize: 8 Byte(s), TotalSize: 16 Byte(s)\n - Length of foliations in every series, Shared Input, Shape: (2,), ElemSize: 8 Byte(s), TotalSize: 16 Byte(s)\n - List with the number of formations, Shared Input, Shape: (2,), ElemSize: 8 Byte(s), TotalSize: 16 Byte(s)\n - Grade of the universal drift, Shared Input, Shape: (2,), ElemSize: 8 Byte(s), TotalSize: 16 Byte(s)\n - reservoir, Input, Shape: (1,), ElemSize: 8 Byte(s), TotalSize: 8 Byte(s)\n - <TensorType(float32, vector)>, Shared Input, Shape: (2,), ElemSize: 4 Byte(s), TotalSize: 8 Byte(s)\n - <TensorType(float32, vector)>, Shared Input, Shape: (2,), ElemSize: 4 Byte(s), TotalSize: 8 Byte(s)\n - <TensorType(float32, vector)>, Shared Input, Shape: (2,), ElemSize: 4 Byte(s), TotalSize: 8 Byte(s)\n - reservoir, Shape: (1,), ElemSize: 8 Byte(s), TotalSize: 8 Byte(s)\n - TensorConstant{2}, Shape: (), ElemSize: 8 Byte(s), TotalSize: 8.0 Byte(s)\n - Range, Shared Input, Shape: (), ElemSize: 4 Byte(s), TotalSize: 4.0 Byte(s)\n - Covariance at 0, Shared Input, Shape: (), ElemSize: 4 Byte(s), TotalSize: 4.0 Byte(s)\n - <TensorType(float32, scalar)>, Shared Input, Shape: (), ElemSize: 4 Byte(s), TotalSize: 4.0 Byte(s)\n - <TensorType(float32, scalar)>, Shared Input, Shape: (), ElemSize: 4 Byte(s), TotalSize: 4.0 Byte(s)\n - <TensorType(float32, scalar)>, Shared Input, Shape: (), ElemSize: 4 Byte(s), TotalSize: 4.0 Byte(s)\n TotalSize: 39880.0 Byte(s) 0.000 GB\n TotalSize inputs: 39056.0 Byte(s) 0.000 GB\n\n"
     ]
    }
   ],
   "source": [
    "# This is the sampling\n",
    "# BEFORE RUN THIS FOR LONG CHECK IN THE MODULE THEANOGRAF THAT THE FLAG THEANO OPTIMIZER IS IN 'fast_run'!!\n",
    "with model:\n",
    "   # backend = pm.backends.ndarray.NDArray('geomodels')\n",
    "    step = pm.NUTS()\n",
    "    trace = pm.sample(30, init=None, step=step, )"
   ]
  },
  {
   "cell_type": "code",
   "execution_count": 24,
   "metadata": {},
   "outputs": [],
   "source": [
    "np.save('models',trace.get_values('GeMpy'))"
   ]
  },
  {
   "cell_type": "code",
   "execution_count": null,
   "metadata": {
    "scrolled": true
   },
   "outputs": [],
   "source": [
    "for i in range(100):\n",
    "    \n",
    "    GeMpy.plot_section(geo_data, 25, block=trace.get_values('GeMpy')[i][0, :],\n",
    "                       direction='y', plot_data=False)\n",
    "    plt.show()"
   ]
  },
  {
   "cell_type": "code",
   "execution_count": 19,
   "metadata": {},
   "outputs": [],
   "source": [
    "p = model.profile(geo_model)"
   ]
  },
  {
   "cell_type": "code",
   "execution_count": 20,
   "metadata": {
    "scrolled": false
   },
   "outputs": [
    {
     "name": "stderr",
     "output_type": "stream",
     "text": [
      "Function profiling\n",
      "==================\n",
      "  Message: /home/miguel/anaconda3/lib/python3.6/site-packages/pymc3/model.py:343\n",
      "  Time in 2000 calls to Function.__call__: 3.118406e+02s\n",
      "  Time in Function.fn.__call__: 3.117332e+02s (99.966%)\n",
      "  Time in thunks: 3.117065e+02s (99.957%)\n",
      "  Total compile time: 2.229567e+00s\n",
      "    Number of Apply nodes: 13\n",
      "    Theano Optimizer time: 2.193317e+00s\n",
      "       Theano validate time: 1.850128e-04s\n",
      "    Theano Linker time (includes C, CUDA code generation/compiling): 1.083994e-02s\n",
      "       Import time 0.000000e+00s\n",
      "       Node make_thunk time 1.029372e-02s\n",
      "           Node OpFromGraph{inline=False}(HostFromGpu.0, HostFromGpu.0, HostFromGpu.0, HostFromGpu.0, reference, rest, Length of interfaces in every series, Length of foliations in every series, List with the number of formations, Grade of the universal drift, final block init, Coordinates of the grid points to interpolate, Range, Covariance at 0, <CudaNdarrayType(float32, scalar)>, <CudaNdarrayType(float32, scalar)>, <CudaNdarrayType(float32, scalar)>, <CudaNdarrayType(float32, matrix)>, <TensorType(int64, vector)>, Value of the formation) time 2.231359e-03s\n",
      "           Node HostFromGpu(<CudaNdarrayType(float32, matrix)>) time 8.273125e-04s\n",
      "           Node AdvancedIncSubtensor{inplace=False,  set_instead_of_inc=True}(HostFromGpu.0, Elemwise{add,no_inplace}.0, TensorConstant{[ 4  5  6 .. 14 15 16]}, TensorConstant{2}) time 7.278919e-04s\n",
      "           Node HostFromGpu(<CudaNdarrayType(float32, vector)>) time 7.150173e-04s\n",
      "           Node AdvancedIncSubtensor{inplace=False,  set_instead_of_inc=True}(HostFromGpu.0, Elemwise{add,no_inplace}.0, TensorConstant{[ 4  5  6 .. 14 15 16]}, TensorConstant{2}) time 7.078648e-04s\n",
      "\n",
      "Time in all call to theano.grad() 7.439065e-02s\n",
      "Time since theano import 991.785s\n",
      "Class\n",
      "---\n",
      "<% time> <sum %> <apply time> <time per call> <type> <#call> <#apply> <Class name>\n",
      "  99.9%    99.9%     311.455s       1.56e-01s     Py    2000       1   theano.compile.builders.OpFromGraph\n",
      "   0.1%   100.0%       0.165s       1.37e-05s     C    12000       6   theano.sandbox.cuda.basic_ops.HostFromGpu\n",
      "   0.0%   100.0%       0.050s       1.25e-05s     Py    4000       2   theano.tensor.subtensor.AdvancedSubtensor\n",
      "   0.0%   100.0%       0.034s       8.49e-06s     Py    4000       2   theano.tensor.subtensor.AdvancedIncSubtensor\n",
      "   0.0%   100.0%       0.003s       7.78e-07s     C     4000       2   theano.tensor.elemwise.Elemwise\n",
      "   ... (remaining 0 Classes account for   0.00%(0.00s) of the runtime)\n",
      "\n",
      "Ops\n",
      "---\n",
      "<% time> <sum %> <apply time> <time per call> <type> <#call> <#apply> <Op name>\n",
      "  99.9%    99.9%     311.455s       1.56e-01s     Py    2000        1   OpFromGraph{inline=False}\n",
      "   0.1%   100.0%       0.165s       1.37e-05s     C     12000        6   HostFromGpu\n",
      "   0.0%   100.0%       0.050s       1.25e-05s     Py    4000        2   AdvancedSubtensor\n",
      "   0.0%   100.0%       0.034s       8.49e-06s     Py    4000        2   AdvancedIncSubtensor{inplace=False,  set_instead_of_inc=True}\n",
      "   0.0%   100.0%       0.003s       7.78e-07s     C     4000        2   Elemwise{add,no_inplace}\n",
      "   ... (remaining 0 Ops account for   0.00%(0.00s) of the runtime)\n",
      "\n",
      "Apply\n",
      "------\n",
      "<% time> <sum %> <apply time> <time per call> <#call> <id> <Apply name>\n",
      "  99.9%    99.9%     311.455s       1.56e-01s   2000    12   OpFromGraph{inline=False}(HostFromGpu.0, HostFromGpu.0, HostFromGpu.0, HostFromGpu.0, reference, rest, Length of interfaces in every series, Length of foliations in every series, List with the number of formations, Grade of the universal drift, final block init, Coordinates of the grid points to interpolate, Range, Covariance at 0, <CudaNdarrayType(float32, scalar)>, <CudaNdarrayType(float32, scalar)>, <CudaNdarrayType(float32, scalar)>, <CudaNdarra\n",
      "    input 0: dtype=float32, shape=no shape, strides=no strides \n",
      "    input 1: dtype=float32, shape=no shape, strides=no strides \n",
      "    input 2: dtype=float32, shape=no shape, strides=no strides \n",
      "    input 3: dtype=float32, shape=no shape, strides=no strides \n",
      "    input 4: dtype=float32, shape=no shape, strides=no strides \n",
      "    input 5: dtype=float32, shape=no shape, strides=no strides \n",
      "    input 6: dtype=int64, shape=no shape, strides=no strides \n",
      "    input 7: dtype=int64, shape=no shape, strides=no strides \n",
      "    input 8: dtype=int64, shape=no shape, strides=no strides \n",
      "    input 9: dtype=int64, shape=no shape, strides=no strides \n",
      "    input 10: dtype=float64, shape=no shape, strides=no strides \n",
      "    input 11: dtype=float32, shape=no shape, strides=no strides \n",
      "    input 12: dtype=float32, shape=no shape, strides=no strides \n",
      "    input 13: dtype=float32, shape=no shape, strides=no strides \n",
      "    input 14: dtype=float32, shape=no shape, strides=no strides \n",
      "    input 15: dtype=float32, shape=no shape, strides=no strides \n",
      "    input 16: dtype=float32, shape=no shape, strides=no strides \n",
      "    input 17: dtype=float32, shape=no shape, strides=no strides \n",
      "    input 18: dtype=int64, shape=no shape, strides=no strides \n",
      "    input 19: dtype=int64, shape=no shape, strides=no strides \n",
      "    output 0: dtype=float64, shape=no shape, strides=no strides \n",
      "   0.0%    99.9%       0.074s       3.71e-05s   2000     5   HostFromGpu(<CudaNdarrayType(float32, matrix)>)\n",
      "    input 0: dtype=float32, shape=no shape, strides=no strides \n",
      "    output 0: dtype=float32, shape=no shape, strides=no strides \n",
      "   0.0%   100.0%       0.038s       1.88e-05s   2000     7   AdvancedSubtensor(HostFromGpu.0, TensorConstant{[ 4  5  6 .. 14 15 16]}, TensorConstant{2})\n",
      "    input 0: dtype=float32, shape=no shape, strides=no strides \n",
      "    input 1: dtype=int64, shape=no shape, strides=no strides \n",
      "    input 2: dtype=int64, shape=no shape, strides=no strides \n",
      "    output 0: dtype=float32, shape=no shape, strides=no strides \n",
      "   0.0%   100.0%       0.025s       1.23e-05s   2000     0   HostFromGpu(<CudaNdarrayType(float32, matrix)>)\n",
      "    input 0: dtype=float32, shape=no shape, strides=no strides \n",
      "    output 0: dtype=float32, shape=no shape, strides=no strides \n",
      "   0.0%   100.0%       0.022s       1.08e-05s   2000    11   AdvancedIncSubtensor{inplace=False,  set_instead_of_inc=True}(HostFromGpu.0, Elemwise{add,no_inplace}.0, TensorConstant{[ 4  5  6 .. 14 15 16]}, TensorConstant{2})\n",
      "    input 0: dtype=float32, shape=no shape, strides=no strides \n",
      "    input 1: dtype=float64, shape=no shape, strides=no strides \n",
      "    input 2: dtype=int64, shape=no shape, strides=no strides \n",
      "    input 3: dtype=int64, shape=no shape, strides=no strides \n",
      "    output 0: dtype=float32, shape=no shape, strides=no strides \n",
      "   0.0%   100.0%       0.021s       1.05e-05s   2000     4   HostFromGpu(<CudaNdarrayType(float32, vector)>)\n",
      "    input 0: dtype=float32, shape=no shape, strides=no strides \n",
      "    output 0: dtype=float32, shape=no shape, strides=no strides \n",
      "   0.0%   100.0%       0.015s       7.69e-06s   2000     1   HostFromGpu(<CudaNdarrayType(float32, matrix)>)\n",
      "    input 0: dtype=float32, shape=no shape, strides=no strides \n",
      "    output 0: dtype=float32, shape=no shape, strides=no strides \n",
      "   0.0%   100.0%       0.015s       7.55e-06s   2000     2   HostFromGpu(<CudaNdarrayType(float32, vector)>)\n",
      "    input 0: dtype=float32, shape=no shape, strides=no strides \n",
      "    output 0: dtype=float32, shape=no shape, strides=no strides \n",
      "   0.0%   100.0%       0.014s       7.24e-06s   2000     3   HostFromGpu(<CudaNdarrayType(float32, vector)>)\n",
      "    input 0: dtype=float32, shape=no shape, strides=no strides \n",
      "    output 0: dtype=float32, shape=no shape, strides=no strides \n",
      "   0.0%   100.0%       0.013s       6.30e-06s   2000     6   AdvancedSubtensor(HostFromGpu.0, TensorConstant{[ 4  5  6 .. 14 15 16]}, TensorConstant{2})\n",
      "    input 0: dtype=float32, shape=no shape, strides=no strides \n",
      "    input 1: dtype=int64, shape=no shape, strides=no strides \n",
      "    input 2: dtype=int64, shape=no shape, strides=no strides \n",
      "    output 0: dtype=float32, shape=no shape, strides=no strides \n",
      "   0.0%   100.0%       0.012s       6.13e-06s   2000    10   AdvancedIncSubtensor{inplace=False,  set_instead_of_inc=True}(HostFromGpu.0, Elemwise{add,no_inplace}.0, TensorConstant{[ 4  5  6 .. 14 15 16]}, TensorConstant{2})\n",
      "    input 0: dtype=float32, shape=no shape, strides=no strides \n",
      "    input 1: dtype=float64, shape=no shape, strides=no strides \n",
      "    input 2: dtype=int64, shape=no shape, strides=no strides \n",
      "    input 3: dtype=int64, shape=no shape, strides=no strides \n",
      "    output 0: dtype=float32, shape=no shape, strides=no strides \n",
      "   0.0%   100.0%       0.002s       1.23e-06s   2000     9   Elemwise{add,no_inplace}(AdvancedSubtensor.0, reservoir)\n",
      "    input 0: dtype=float32, shape=no shape, strides=no strides \n",
      "    input 1: dtype=float64, shape=no shape, strides=no strides \n",
      "    output 0: dtype=float64, shape=no shape, strides=no strides \n",
      "   0.0%   100.0%       0.001s       3.27e-07s   2000     8   Elemwise{add,no_inplace}(AdvancedSubtensor.0, reservoir)\n",
      "    input 0: dtype=float32, shape=no shape, strides=no strides \n",
      "    input 1: dtype=float64, shape=no shape, strides=no strides \n",
      "    output 0: dtype=float64, shape=no shape, strides=no strides \n",
      "   ... (remaining 0 Apply instances account for 0.00%(0.00s) of the runtime)\n",
      "\n",
      "Here are tips to potentially make your code run faster\n",
      "                 (if you think of new ones, suggest them on the mailing list).\n",
      "                 Test them first, as they are not guaranteed to always provide a speedup.\n",
      "  Sorry, no tip for today.\n"
     ]
    }
   ],
   "source": [
    "p.summary()"
   ]
  },
  {
   "cell_type": "code",
   "execution_count": 26,
   "metadata": {},
   "outputs": [],
   "source": [
    " def calculate_prob_lith(models, n_samples = 100):\n",
    "        import copy\n",
    "\n",
    "        v_lith = np.unique(models[0,0,:])\n",
    "        prob_lith = np.zeros(len(v_lith), dtype = object)\n",
    "\n",
    "        for i, pid in enumerate(v_lith):\n",
    "            prob_lith[i] = copy.deepcopy(models[i,0,:])\n",
    "            prob_lith[i] = np.zeros_like(models[i,0,:])\n",
    "            for lith in model[-1:-n_samples:-1]:\n",
    "                prob_lith[i]+= (lith == pid)/float(len(models[-1:-n_samples:-1, 0, :]))"
   ]
  },
  {
   "cell_type": "code",
   "execution_count": 27,
   "metadata": {},
   "outputs": [
    {
     "ename": "MemoryError",
     "evalue": "",
     "output_type": "error",
     "traceback": [
      "\u001b[0;31m---------------------------------------------------------------------------\u001b[0m",
      "\u001b[0;31mMemoryError\u001b[0m                               Traceback (most recent call last)",
      "\u001b[0;32m<ipython-input-27-7669c93328aa>\u001b[0m in \u001b[0;36m<module>\u001b[0;34m()\u001b[0m\n\u001b[0;32m----> 1\u001b[0;31m \u001b[0mcalculate_prob_lith\u001b[0m\u001b[0;34m(\u001b[0m\u001b[0mtrace\u001b[0m\u001b[0;34m.\u001b[0m\u001b[0mget_values\u001b[0m\u001b[0;34m(\u001b[0m\u001b[0;34m'GeMpy'\u001b[0m\u001b[0;34m)\u001b[0m\u001b[0;34m[\u001b[0m\u001b[0;34m:\u001b[0m\u001b[0;34m,\u001b[0m\u001b[0;36m0\u001b[0m\u001b[0;34m,\u001b[0m \u001b[0;34m:\u001b[0m\u001b[0;34m]\u001b[0m\u001b[0;34m,\u001b[0m \u001b[0mn_samples\u001b[0m\u001b[0;34m=\u001b[0m\u001b[0;36m2000\u001b[0m\u001b[0;34m)\u001b[0m\u001b[0;34m\u001b[0m\u001b[0m\n\u001b[0m",
      "\u001b[0;32m/home/miguel/anaconda3/lib/python3.6/site-packages/pymc3/backends/base.py\u001b[0m in \u001b[0;36mget_values\u001b[0;34m(self, varname, burn, thin, combine, chains, squeeze)\u001b[0m\n\u001b[1;32m    246\u001b[0m         \u001b[0;32mexcept\u001b[0m \u001b[0mTypeError\u001b[0m\u001b[0;34m:\u001b[0m  \u001b[0;31m# Single chain passed.\u001b[0m\u001b[0;34m\u001b[0m\u001b[0m\n\u001b[1;32m    247\u001b[0m             \u001b[0mresults\u001b[0m \u001b[0;34m=\u001b[0m \u001b[0;34m[\u001b[0m\u001b[0mself\u001b[0m\u001b[0;34m.\u001b[0m\u001b[0m_straces\u001b[0m\u001b[0;34m[\u001b[0m\u001b[0mchains\u001b[0m\u001b[0;34m]\u001b[0m\u001b[0;34m.\u001b[0m\u001b[0mget_values\u001b[0m\u001b[0;34m(\u001b[0m\u001b[0mvarname\u001b[0m\u001b[0;34m,\u001b[0m \u001b[0mburn\u001b[0m\u001b[0;34m,\u001b[0m \u001b[0mthin\u001b[0m\u001b[0;34m)\u001b[0m\u001b[0;34m]\u001b[0m\u001b[0;34m\u001b[0m\u001b[0m\n\u001b[0;32m--> 248\u001b[0;31m         \u001b[0;32mreturn\u001b[0m \u001b[0m_squeeze_cat\u001b[0m\u001b[0;34m(\u001b[0m\u001b[0mresults\u001b[0m\u001b[0;34m,\u001b[0m \u001b[0mcombine\u001b[0m\u001b[0;34m,\u001b[0m \u001b[0msqueeze\u001b[0m\u001b[0;34m)\u001b[0m\u001b[0;34m\u001b[0m\u001b[0m\n\u001b[0m\u001b[1;32m    249\u001b[0m \u001b[0;34m\u001b[0m\u001b[0m\n\u001b[1;32m    250\u001b[0m     \u001b[0;32mdef\u001b[0m \u001b[0m_slice\u001b[0m\u001b[0;34m(\u001b[0m\u001b[0mself\u001b[0m\u001b[0;34m,\u001b[0m \u001b[0midx\u001b[0m\u001b[0;34m)\u001b[0m\u001b[0;34m:\u001b[0m\u001b[0;34m\u001b[0m\u001b[0m\n",
      "\u001b[0;32m/home/miguel/anaconda3/lib/python3.6/site-packages/pymc3/backends/base.py\u001b[0m in \u001b[0;36m_squeeze_cat\u001b[0;34m(results, combine, squeeze)\u001b[0m\n\u001b[1;32m    296\u001b[0m     `combine` and `squeeze`.\"\"\"\n\u001b[1;32m    297\u001b[0m     \u001b[0;32mif\u001b[0m \u001b[0mcombine\u001b[0m\u001b[0;34m:\u001b[0m\u001b[0;34m\u001b[0m\u001b[0m\n\u001b[0;32m--> 298\u001b[0;31m         \u001b[0mresults\u001b[0m \u001b[0;34m=\u001b[0m \u001b[0mnp\u001b[0m\u001b[0;34m.\u001b[0m\u001b[0mconcatenate\u001b[0m\u001b[0;34m(\u001b[0m\u001b[0mresults\u001b[0m\u001b[0;34m)\u001b[0m\u001b[0;34m\u001b[0m\u001b[0m\n\u001b[0m\u001b[1;32m    299\u001b[0m         \u001b[0;32mif\u001b[0m \u001b[0;32mnot\u001b[0m \u001b[0msqueeze\u001b[0m\u001b[0;34m:\u001b[0m\u001b[0;34m\u001b[0m\u001b[0m\n\u001b[1;32m    300\u001b[0m             \u001b[0mresults\u001b[0m \u001b[0;34m=\u001b[0m \u001b[0;34m[\u001b[0m\u001b[0mresults\u001b[0m\u001b[0;34m]\u001b[0m\u001b[0;34m\u001b[0m\u001b[0m\n",
      "\u001b[0;31mMemoryError\u001b[0m: "
     ]
    }
   ],
   "source": [
    "calculate_prob_lith(trace.get_values('GeMpy')[:,0, :], n_samples=2000)"
   ]
  },
  {
   "cell_type": "code",
   "execution_count": null,
   "metadata": {
    "scrolled": false
   },
   "outputs": [],
   "source": [
    "for i in trace.get_values('GeMpy'):\n",
    "    GeMpy.plot_section(geo_data, 20, direction = 'y', block = i, plot_data = False)\n",
    "    plt.show()"
   ]
  },
  {
   "cell_type": "code",
   "execution_count": null,
   "metadata": {
    "scrolled": false
   },
   "outputs": [],
   "source": [
    "# Cheaper 3D plot\n",
    "# So far this is a simple 3D visualization. I have to adapt it into GeMpy \n",
    "\n",
    "sol = trace['GeMpy'][5]\n",
    "\n",
    "lith0 = sol == 0\n",
    "lith1 = sol == 2\n",
    "lith2 = sol == 3\n",
    "lith3 = sol == 4\n",
    "lith4 = sol == 5\n",
    "\n",
    "import ipyvolume.pylab as p3\n",
    "\n",
    "p3.figure(width=800)\n",
    "\n",
    "blue = p3.scatter(geo_data.grid.grid[:,0][lith0],\n",
    "           geo_data.grid.grid[:,1][lith0],\n",
    "           geo_data.grid.grid[:,2][lith0], marker='box', color = 'blue', size = 0.1 )\n",
    "\n",
    "p3.scatter(geo_data.grid.grid[:,0][lith1],\n",
    "           geo_data.grid.grid[:,1][lith1],\n",
    "           geo_data.grid.grid[:,2][lith1], marker='box', color = 'yellow', size = 2.2 )\n",
    "\n",
    "p3.scatter(geo_data.grid.grid[:,0][lith2],\n",
    "           geo_data.grid.grid[:,1][lith2],\n",
    "           geo_data.grid.grid[:,2][lith2], marker='box', color = 'green', size = 2.2 )\n",
    "\n",
    "p3.scatter(geo_data.grid.grid[:,0][lith3],\n",
    "           geo_data.grid.grid[:,1][lith3],\n",
    "           geo_data.grid.grid[:,2][lith3], marker='box', color = 'pink', size = 2.2 )\n",
    "\n",
    "p3.scatter(geo_data.grid.grid[:,0][lith4],\n",
    "           geo_data.grid.grid[:,1][lith4],\n",
    "           geo_data.grid.grid[:,2][lith4], marker='box', color = 'red', size = 2.2 )\n",
    "\n",
    "#p3.xlim(np.min(geo_data.grid.grid[:,0]),np.min(geo_data.grid.grid[:,0]))\n",
    "#p3.ylim(np.min(geo_data.grid.grid[:,1]),np.max(geo_data.grid.grid[:,1]))\n",
    "#p3.zlim(np.min(geo_data.grid.grid[:,2]),np.min(geo_data.grid.grid[:,2]))#np.max(geo_data.grid.grid[:,2]))\n",
    "\n",
    "#p3.show()\n",
    "\n",
    "from ipywidgets import FloatSlider, ColorPicker, VBox, jslink\n",
    "size = FloatSlider(min=0, max=30, step=0.1)\n",
    "size_selected = FloatSlider(min=0, max=30, step=0.1)\n",
    "color = ColorPicker()\n",
    "color_selected = ColorPicker()\n",
    "jslink((blue, 'size'), (size, 'value'))\n",
    "#jslink((blue, 'size_selected'), (size_selected, 'value'))\n",
    "#jslink((quiver, 'color'), (color, 'value'))\n",
    "#jslink((quiver, 'color_selected'), (color_selected, 'value'))\n",
    "VBox([p3.gcc(), size])"
   ]
  },
  {
   "cell_type": "code",
   "execution_count": null,
   "metadata": {},
   "outputs": [],
   "source": [
    "# The uncertainty in this case is minimum but you get the idea\n",
    "(trace['GeMpy'][0]-trace['GeMpy'][2]).sum()"
   ]
  },
  {
   "cell_type": "code",
   "execution_count": null,
   "metadata": {},
   "outputs": [],
   "source": [
    "for i in trace.get_values('GeMpy'):\n",
    "    GeMpy.plot_section(geo_data, 13, block = i, plot_data = False)\n",
    "    plt.show()"
   ]
  },
  {
   "cell_type": "code",
   "execution_count": null,
   "metadata": {},
   "outputs": [],
   "source": []
  }
 ],
 "metadata": {
  "anaconda-cloud": {},
  "celltoolbar": "Initialisation Cell",
  "kernelspec": {
   "display_name": "Python 3",
   "language": "python",
   "name": "python3"
  },
  "language_info": {
   "codemirror_mode": {
    "name": "ipython",
    "version": 3
   },
   "file_extension": ".py",
   "mimetype": "text/x-python",
   "name": "python",
   "nbconvert_exporter": "python",
   "pygments_lexer": "ipython3",
   "version": "3.6.1"
  },
  "latex_envs": {
   "LaTeX_envs_menu_present": true,
   "autocomplete": true,
   "bibliofile": "biblio.bib",
   "cite_by": "number",
   "current_citInitial": 1,
   "eqLabelWithNumbers": true,
   "eqNumInitial": 0,
   "hotkeys": {
    "equation": "Ctrl-E",
    "itemize": "Ctrl-I"
   },
   "labels_anchors": false,
   "latex_user_defs": false,
   "report_style_numbering": false,
   "user_envs_cfg": false
  },
  "nav_menu": {},
  "toc": {
   "colors": {
    "hover_highlight": "#DAA520",
    "running_highlight": "#FF0000",
    "selected_highlight": "#FFD700"
   },
   "moveMenuLeft": true,
   "nav_menu": {
    "height": "68px",
    "width": "252px"
   },
   "navigate_menu": true,
   "number_sections": false,
   "sideBar": true,
   "threshold": 4,
   "toc_cell": false,
   "toc_section_display": "block",
   "toc_window_display": false,
   "widenNotebook": false
  }
 },
 "nbformat": 4,
 "nbformat_minor": 1
}
