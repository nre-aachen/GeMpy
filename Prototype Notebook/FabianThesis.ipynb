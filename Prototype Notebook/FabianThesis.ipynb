{
 "cells": [
  {
   "cell_type": "markdown",
   "metadata": {
    "deletable": true,
    "editable": true,
    "hide_input": true
   },
   "source": [
    "# Risk analysis"
   ]
  },
  {
   "cell_type": "markdown",
   "metadata": {
    "deletable": true,
    "editable": true
   },
   "source": [
    "### Generating data"
   ]
  },
  {
   "cell_type": "code",
   "execution_count": 1,
   "metadata": {
    "collapsed": false,
    "deletable": true,
    "editable": true
   },
   "outputs": [],
   "source": [
    "# Importing and data\n",
    "import theano.tensor as T\n",
    "import theano\n",
    "import sys, os\n",
    "sys.path.append(\"../GeMpy\")\n",
    "\n",
    "# Importing GeMpy modules\n",
    "import GeMpy\n",
    "\n",
    "# Reloading (only for development purposes)\n",
    "#import importlib\n",
    "#importlib.reload(GeMpy)\n",
    "\n",
    "# Usuful packages\n",
    "import numpy as np\n",
    "import pandas as pn\n",
    "\n",
    "import matplotlib.pyplot as plt\n",
    "\n",
    "# This was to choose the gpu\n",
    "os.environ['CUDA_LAUNCH_BLOCKING'] = '1'\n",
    "\n",
    "# Default options of printin\n",
    "np.set_printoptions(precision = 6, linewidth= 130, suppress =  True)\n",
    "\n",
    "%matplotlib inline\n",
    "#%matplotlib notebook\n",
    "\n",
    "\n",
    "\n",
    "# Importing the data from csv files and settign extent and resolution\n",
    "geo_data = GeMpy.import_data([0,2000,0,2000,-2000,0],[ 40, 40, 40],\n",
    "                         path_f = os.pardir+\"/input_data/Fab_Foliations.csv\",\n",
    "                         path_i = os.pardir+\"/input_data/Fab_Points.csv\")"
   ]
  },
  {
   "cell_type": "code",
   "execution_count": 2,
   "metadata": {
    "collapsed": false,
    "deletable": true,
    "editable": true
   },
   "outputs": [],
   "source": [
    "# Assigning series to formations as well as their order (timewise)\n",
    "GeMpy.set_data_series(geo_data, {\"fault\":geo_data.formations[2], \n",
    "                      \"Rest\":np.delete(geo_data.formations, 2)},\n",
    "                       order_series = [\"fault\",\n",
    "                                       \"Rest\",\n",
    "                                       ], verbose=0)"
   ]
  },
  {
   "cell_type": "code",
   "execution_count": 3,
   "metadata": {
    "collapsed": false,
    "deletable": true,
    "editable": true
   },
   "outputs": [
    {
     "data": {
      "text/plain": [
       "<Visualization.PlotData at 0x7fc805410c18>"
      ]
     },
     "execution_count": 3,
     "metadata": {},
     "output_type": "execute_result"
    },
    {
     "data": {
      "image/png": "[encoded data removed]",
      "text/plain": [
       "<matplotlib.figure.Figure at 0x7fc7d2223128>"
      ]
     },
     "metadata": {},
     "output_type": "display_data"
    }
   ],
   "source": [
    "GeMpy.plot_data(geo_data, direction='y')"
   ]
  },
  {
   "cell_type": "code",
   "execution_count": 4,
   "metadata": {
    "collapsed": false,
    "deletable": true,
    "editable": true
   },
   "outputs": [],
   "source": [
    "#geo_data_s = GeMpy.select_series(geo_data, [\"Rest\"])"
   ]
  },
  {
   "cell_type": "code",
   "execution_count": 5,
   "metadata": {
    "collapsed": false,
    "deletable": true,
    "editable": true,
    "scrolled": false
   },
   "outputs": [],
   "source": [
    "# Select series to interpolate (if you do not want to interpolate all)\n",
    "data_interp = GeMpy.set_interpolator(geo_data, verbose = [])"
   ]
  },
  {
   "cell_type": "code",
   "execution_count": 6,
   "metadata": {
    "collapsed": false,
    "deletable": true,
    "editable": true
   },
   "outputs": [],
   "source": [
    "# This are the shared parameters and the compilation of the function. This will be hidden as well at some point\n",
    "input_data_T = data_interp.interpolator.tg.input_parameters_list()"
   ]
  },
  {
   "cell_type": "code",
   "execution_count": 7,
   "metadata": {
    "collapsed": false,
    "deletable": true,
    "editable": true,
    "scrolled": false
   },
   "outputs": [],
   "source": [
    "# HERE when we compile we have to pass the number of formations that are faults!!\n",
    "debugging = theano.function(input_data_T, data_interp.interpolator.tg.whole_block_model(1, compute_pf=False), on_unused_input='ignore', \n",
    "                            allow_input_downcast=True, profile=True);"
   ]
  },
  {
   "cell_type": "code",
   "execution_count": 10,
   "metadata": {
    "collapsed": true,
    "deletable": true,
    "editable": true
   },
   "outputs": [],
   "source": [
    "# This prepares the user data to the theano function\n",
    "input_data_P = data_interp.interpolator.data_prep() "
   ]
  },
  {
   "cell_type": "code",
   "execution_count": 26,
   "metadata": {
    "collapsed": false,
    "deletable": true,
    "editable": true,
    "scrolled": false
   },
   "outputs": [],
   "source": [
    "# Solution of theano\n",
    "sol = debugging(input_data_P[0], input_data_P[1], input_data_P[2], input_data_P[3],input_data_P[4], input_data_P[5])[0]"
   ]
  },
  {
   "cell_type": "code",
   "execution_count": 27,
   "metadata": {
    "collapsed": false,
    "deletable": true,
    "editable": true
   },
   "outputs": [
    {
     "data": {
      "text/plain": [
       "<Visualization.PlotData at 0x7fc7a3f4acc0>"
      ]
     },
     "execution_count": 27,
     "metadata": {},
     "output_type": "execute_result"
    },
    {
     "data": {
      "image/png": "[encoded data removed]",
      "text/plain": [
       "<matplotlib.figure.Figure at 0x7fc7a3f4a160>"
      ]
     },
     "metadata": {},
     "output_type": "display_data"
    }
   ],
   "source": [
    "#GeMpy.plot_potential_field(fault1, sol.reshape(50,50,50),13, plot_data = True)\n",
    "\n",
    "GeMpy.plot_section(geo_data, 20, direction=\"y\", block = sol_s, plot_data = True)"
   ]
  },
  {
   "cell_type": "code",
   "execution_count": 12,
   "metadata": {
    "collapsed": false,
    "deletable": true,
    "editable": true
   },
   "outputs": [
    {
     "name": "stdout",
     "output_type": "stream",
     "text": [
      "\n",
      ">> Welcome to the Python client library for Steno3D!\n",
      "\n",
      "Credentials file found: /home/miguel/.steno3d_client/credentials\n",
      "Accessing API developer key for @leguark\n",
      "Welcome to Steno3D! You are logged in as @leguark\n",
      "Verifying your quota for public projects...\n",
      "This PUBLIC project will be viewable by everyone.\n",
      "Total progress: 100% - Uploading: project Fabian Projec\n",
      "Complete!\n",
      "https://steno3d.com/resource/volume/qgrMrDuEQjCBMADj31DP\n"
     ]
    }
   ],
   "source": [
    "# Plotting nice 3D\n",
    "GeMpy.PlotData(geo_data).plot3D_steno(sol_s, 'Fabian Projec', description='Fixed in principle', plot=False)"
   ]
  },
  {
   "cell_type": "code",
   "execution_count": 30,
   "metadata": {
    "collapsed": false
   },
   "outputs": [
    {
     "data": {
      "application/vnd.jupyter.widget-view+json": {
       "model_id": "1c9a7b3ef3414552bd85acd8f2384ba6"
      }
     },
     "metadata": {},
     "output_type": "display_data"
    }
   ],
   "source": [
    "# Cheaper 3D plot\n",
    "# So far this is a simple 3D visualization. I have to adapt it into GeMpy \n",
    "\n",
    "lith0 = sol == 0\n",
    "lith1 = sol == 2\n",
    "lith2 = sol == 3\n",
    "lith3 = sol == 4\n",
    "lith4 = sol == 5\n",
    "np.unique(sol)\n",
    "\n",
    "import ipyvolume.pylab as p3\n",
    "\n",
    "p3.figure(width=800)\n",
    "\n",
    "p3.scatter(geo_data.grid.grid[:,0][lith0],\n",
    "           geo_data.grid.grid[:,1][lith0],\n",
    "           geo_data.grid.grid[:,2][lith0], marker='box', color = 'blue', size = 0.1 )\n",
    "\n",
    "p3.scatter(geo_data.grid.grid[:,0][lith1],\n",
    "           geo_data.grid.grid[:,1][lith1],\n",
    "           geo_data.grid.grid[:,2][lith1], marker='box', color = 'yellow', size = 1 )\n",
    "\n",
    "p3.scatter(geo_data.grid.grid[:,0][lith2],\n",
    "           geo_data.grid.grid[:,1][lith2],\n",
    "           geo_data.grid.grid[:,2][lith2], marker='box', color = 'green', size = 1 )\n",
    "\n",
    "p3.scatter(geo_data.grid.grid[:,0][lith3],\n",
    "           geo_data.grid.grid[:,1][lith3],\n",
    "           geo_data.grid.grid[:,2][lith3], marker='box', color = 'pink', size = 1 )\n",
    "\n",
    "p3.scatter(geo_data.grid.grid[:,0][lith4],\n",
    "           geo_data.grid.grid[:,1][lith4],\n",
    "           geo_data.grid.grid[:,2][lith4], marker='box', color = 'red', size = 1 )\n",
    "\n",
    "#p3.xlim(np.min(geo_data.grid.grid[:,0]),np.min(geo_data.grid.grid[:,0]))\n",
    "#p3.ylim(np.min(geo_data.grid.grid[:,1]),np.max(geo_data.grid.grid[:,1]))\n",
    "#p3.zlim(np.min(geo_data.grid.grid[:,2]),np.min(geo_data.grid.grid[:,2]))#np.max(geo_data.grid.grid[:,2]))\n",
    "\n",
    "p3.show()"
   ]
  },
  {
   "cell_type": "markdown",
   "metadata": {},
   "source": [
    "## PyMC3"
   ]
  },
  {
   "cell_type": "code",
   "execution_count": 38,
   "metadata": {
    "collapsed": true
   },
   "outputs": [],
   "source": []
  },
  {
   "cell_type": "code",
   "execution_count": 33,
   "metadata": {
    "collapsed": false,
    "scrolled": true
   },
   "outputs": [
    {
     "data": {
      "text/plain": [
       "[array([[ 0.497806,  0.5001  ,  0.502522],\n",
       "        [ 0.679587,  0.5001  ,  0.384715],\n",
       "        [ 0.679587,  0.5001  ,  0.333433],\n",
       "        [ 0.679587,  0.5001  ,  0.5001  ],\n",
       "        [ 0.679587,  0.5001  ,  0.487279]], dtype=float32),\n",
       " array([-45.      ,  45.      ,  45.099998,  45.      ,  45.      ], dtype=float32),\n",
       " array([ 90.     ,  90.     ,  94.82679,  90.     ,  90.     ], dtype=float32),\n",
       " array([ 1.,  1.,  1.,  1.,  1.], dtype=float32),\n",
       " array([[ 0.435997,  0.5001  ,  0.448818],\n",
       "        [ 0.435997,  0.294972,  0.474459],\n",
       "        [ 0.435997,  0.294972,  0.474459],\n",
       "        [ 0.435997,  0.294972,  0.474459],\n",
       "        [ 0.435997,  0.294972,  0.474459],\n",
       "        [ 0.435997,  0.294972,  0.474459],\n",
       "        [ 0.435997,  0.294972,  0.474459],\n",
       "        [ 0.435997,  0.294972,  0.474459],\n",
       "        [ 0.435997,  0.294972,  0.474459],\n",
       "        [ 0.435997,  0.294972,  0.474459],\n",
       "        [ 0.435997,  0.294972,  0.474459],\n",
       "        [ 0.435997,  0.294972,  0.474459],\n",
       "        [ 0.435997,  0.294972,  0.474459],\n",
       "        [ 0.435997,  0.294972,  0.474459],\n",
       "        [ 0.435997,  0.294972,  0.474459],\n",
       "        [ 0.435997,  0.705228,  0.423177],\n",
       "        [ 0.435997,  0.705228,  0.423177],\n",
       "        [ 0.435997,  0.705228,  0.423177],\n",
       "        [ 0.435997,  0.705228,  0.423177],\n",
       "        [ 0.435997,  0.705228,  0.423177],\n",
       "        [ 0.435997,  0.705228,  0.423177],\n",
       "        [ 0.435997,  0.705228,  0.423177],\n",
       "        [ 0.435997,  0.705228,  0.423177],\n",
       "        [ 0.435997,  0.705228,  0.423177],\n",
       "        [ 0.435997,  0.705228,  0.423177],\n",
       "        [ 0.435997,  0.705228,  0.423177],\n",
       "        [ 0.435997,  0.705228,  0.423177],\n",
       "        [ 0.718049,  0.5001  ,  0.49369 ],\n",
       "        [ 0.718049,  0.5001  ,  0.49369 ],\n",
       "        [ 0.718049,  0.5001  ,  0.49369 ],\n",
       "        [ 0.718049,  0.5001  ,  0.49369 ],\n",
       "        [ 0.718049,  0.5001  ,  0.49369 ],\n",
       "        [ 0.692408,  0.5001  ,  0.474459],\n",
       "        [ 0.692408,  0.5001  ,  0.474459],\n",
       "        [ 0.692408,  0.5001  ,  0.474459],\n",
       "        [ 0.692408,  0.5001  ,  0.474459]], dtype=float32),\n",
       " array([[ 0.487279,  0.5001  ,  0.5001  ],\n",
       "        [ 0.718049,  0.5001  ,  0.378305],\n",
       "        [ 0.692408,  0.5001  ,  0.371895],\n",
       "        [ 0.666767,  0.5001  ,  0.397536],\n",
       "        [ 0.564203,  0.5001  ,  0.5001  ],\n",
       "        [ 0.538562,  0.5001  ,  0.525741],\n",
       "        [ 0.282151,  0.5001  ,  0.679587],\n",
       "        [ 0.359074,  0.5001  ,  0.602664],\n",
       "        [ 0.487279,  0.2501  ,  0.461638],\n",
       "        [ 0.487279,  0.269331,  0.448818],\n",
       "        [ 0.487279,  0.294972,  0.474459],\n",
       "        [ 0.487279,  0.7501  ,  0.461638],\n",
       "        [ 0.487279,  0.730869,  0.448818],\n",
       "        [ 0.487279,  0.705228,  0.474459],\n",
       "        [ 0.435997,  0.705228,  0.474459],\n",
       "        [ 0.435997,  0.294972,  0.423177],\n",
       "        [ 0.564203,  0.5001  ,  0.448818],\n",
       "        [ 0.538562,  0.5001  ,  0.474459],\n",
       "        [ 0.692408,  0.5001  ,  0.320613],\n",
       "        [ 0.359074,  0.5001  ,  0.551382],\n",
       "        [ 0.615485,  0.5001  ,  0.397536],\n",
       "        [ 0.487279,  0.7501  ,  0.410356],\n",
       "        [ 0.487279,  0.730869,  0.397536],\n",
       "        [ 0.487279,  0.2501  ,  0.410356],\n",
       "        [ 0.487279,  0.269331,  0.397536],\n",
       "        [ 0.718049,  0.5001  ,  0.327023],\n",
       "        [ 0.666767,  0.5001  ,  0.346254],\n",
       "        [ 0.692408,  0.5001  ,  0.487279],\n",
       "        [ 0.666767,  0.5001  ,  0.51292 ],\n",
       "        [ 0.435997,  0.5001  ,  0.641126],\n",
       "        [ 0.410356,  0.5001  ,  0.666767],\n",
       "        [ 0.5001  ,  0.5001  ,  0.577023],\n",
       "        [ 0.666767,  0.5001  ,  0.5001  ],\n",
       "        [ 0.718049,  0.5001  ,  0.480869],\n",
       "        [ 0.487279,  0.5001  ,  0.577023],\n",
       "        [ 0.410356,  0.5001  ,  0.653946]], dtype=float32)]"
      ]
     },
     "execution_count": 33,
     "metadata": {},
     "output_type": "execute_result"
    }
   ],
   "source": [
    "# Input data is a list of arrays with the different values as follows\n",
    "# (dips_position, dip_angles, azimuth, polarity, ref_layer_points, rest_layer_points)\n",
    "input_data_P"
   ]
  },
  {
   "cell_type": "markdown",
   "metadata": {},
   "source": [
    "It is important to notice that in the array ref_layer_points, the values are tiled so it would be necessary to change all of them. At some point it would be nice to tile them in theano I guess.\n",
    "\n",
    "So the next step is to compile the theano graph that creates the GeMpy model, not as a function but as a theano operation. Basically this is like compress a bunch of theano operations in one"
   ]
  },
  {
   "cell_type": "code",
   "execution_count": 39,
   "metadata": {
    "collapsed": true
   },
   "outputs": [],
   "source": [
    "# Everytime you want to compile the theano graph just reset all the theano shared with the next 3 lines of code. I am \n",
    "# investigating to try to avoid it but in any case at some point it will be hidden to the user\n",
    "\n",
    "data_interp = GeMpy.set_interpolator(geo_data)\n",
    "# This are the shared parameters and the compilation of the function. This will be hidden as well at some point\n",
    "input_data_T = data_interp.interpolator.tg.input_parameters_list()\n",
    "# This prepares the user data to the theano function\n",
    "input_data_P = data_interp.interpolator.data_prep() \n",
    "\n",
    "\n",
    "\n",
    "geomodel = theano.OpFromGraph(input_data_T, [data_interp.interpolator.tg.whole_block_model(1)], on_unused_input='ignore')"
   ]
  },
  {
   "cell_type": "markdown",
   "metadata": {},
   "source": [
    "Because now the GeMpy model is a theano operation and not a theano function, to call it we need to use theano variables (with theano functions we call them with python variables). This is very easy to modify, we just need to use theano shared to convert our python input data into theano variables.\n",
    "\n",
    "The pymc3 objects are already theano variables (pm.Normal and so on). Now the trick is that using the theano function T.set_subtensor, we can change one deterministic value of the input arrays(the ones printed in the cell above) by a stochastic pymc3 object. Then with the new arrays we just have to call the theano operation and pymc will do the rest"
   ]
  },
  {
   "cell_type": "code",
   "execution_count": null,
   "metadata": {
    "collapsed": true
   },
   "outputs": [],
   "source": [
    "# This is the creation of the model\n",
    "import pymc3 as pm\n",
    "theano.config.compute_test_value = 'ignore'\n",
    "model = pm.Model()\n",
    "with model:\n",
    "    # Stochastic value\n",
    "    foliation = pm.Normal('foliation', -45, sd=10)\n",
    "    \n",
    "    # We convert a python variable to theano.shared\n",
    "    dips = theano.shared(input_data_P[1])\n",
    "    \n",
    "    # We add the stochastic value to the correspondant array\n",
    "    dips = T.set_subtensor(dips[0], foliation)\n",
    "\n",
    "    geo_model = pm.Deterministic('GeMpy', geomodel(theano.shared(input_data_P[0]), dips, \n",
    "                                     theano.shared(input_data_P[2]), theano.shared(input_data_P[3]),\n",
    "                                     theano.shared(input_data_P[4]), theano.shared(input_data_P[5])))\n",
    "\n",
    "    "
   ]
  },
  {
   "cell_type": "code",
   "execution_count": 40,
   "metadata": {
    "collapsed": false,
    "scrolled": false
   },
   "outputs": [
    {
     "name": "stderr",
     "output_type": "stream",
     "text": [
      "Auto-assigning NUTS sampler...\n",
      "Initializing NUTS using advi...\n",
      "Average ELBO = -0.0066616: 100%|██████████| 200000/200000 [00:12<00:00, 16527.41it/s]\n",
      "Finished [100%]: Average ELBO = -0.0040881\n",
      "100%|██████████| 6/6 [00:07<00:00,  1.31s/it]\n"
     ]
    }
   ],
   "source": [
    "# This is the sampling\n",
    "# BEFORE RUN THIS FOR LONG CHECK IN THE MODULE THEANOGRAF THAT THE FLAG THEANO OPTIMIZER IS IN 'fast_run'!!\n",
    "with model:\n",
    "    trace = pm.sample(6)"
   ]
  },
  {
   "cell_type": "code",
   "execution_count": 41,
   "metadata": {
    "collapsed": false
   },
   "outputs": [
    {
     "data": {
      "text/plain": [
       "['foliation', 'GeMpy']"
      ]
     },
     "execution_count": 41,
     "metadata": {},
     "output_type": "execute_result"
    }
   ],
   "source": [
    "trace.varnames"
   ]
  },
  {
   "cell_type": "code",
   "execution_count": 53,
   "metadata": {
    "collapsed": false
   },
   "outputs": [
    {
     "data": {
      "text/plain": [
       "array([[[ 0.,  0.,  0., ...,  4.,  4.,  3.]],\n",
       "\n",
       "       [[ 0.,  0.,  0., ...,  4.,  4.,  3.]],\n",
       "\n",
       "       [[ 0.,  0.,  0., ...,  4.,  4.,  3.]],\n",
       "\n",
       "       [[ 0.,  0.,  0., ...,  4.,  4.,  3.]],\n",
       "\n",
       "       [[ 0.,  0.,  0., ...,  4.,  4.,  3.]],\n",
       "\n",
       "       [[ 0.,  0.,  0., ...,  4.,  4.,  3.]]])"
      ]
     },
     "execution_count": 53,
     "metadata": {},
     "output_type": "execute_result"
    }
   ],
   "source": [
    "trace['GeMpy']"
   ]
  },
  {
   "cell_type": "code",
   "execution_count": 51,
   "metadata": {
    "collapsed": false
   },
   "outputs": [
    {
     "data": {
      "text/plain": [
       "-70.0"
      ]
     },
     "execution_count": 51,
     "metadata": {},
     "output_type": "execute_result"
    }
   ],
   "source": [
    "# The uncertainty in this case is minimum but you get the idea\n",
    "(trace['GeMpy'][0]-trace['GeMpy'][2]).sum()"
   ]
  },
  {
   "cell_type": "code",
   "execution_count": 44,
   "metadata": {
    "collapsed": false
   },
   "outputs": [
    {
     "data": {
      "image/png": "[encoded data removed]",
      "text/plain": [
       "<matplotlib.figure.Figure at 0x7fc77f2354a8>"
      ]
     },
     "metadata": {},
     "output_type": "display_data"
    },
    {
     "data": {
      "image/png": "[encoded data removed]",
      "text/plain": [
       "<matplotlib.figure.Figure at 0x7fc7b3b7aef0>"
      ]
     },
     "metadata": {},
     "output_type": "display_data"
    },
    {
     "data": {
      "image/png": "[encoded data removed]",
      "text/plain": [
       "<matplotlib.figure.Figure at 0x7fc77d4d9e80>"
      ]
     },
     "metadata": {},
     "output_type": "display_data"
    },
    {
     "data": {
      "image/png": "[encoded data removed]",
      "text/plain": [
       "<matplotlib.figure.Figure at 0x7fc7b3e3b128>"
      ]
     },
     "metadata": {},
     "output_type": "display_data"
    },
    {
     "data": {
      "image/png": "[encoded data removed]",
      "text/plain": [
       "<matplotlib.figure.Figure at 0x7fc7b3e44f60>"
      ]
     },
     "metadata": {},
     "output_type": "display_data"
    },
    {
     "data": {
      "image/png": "[encoded data removed]",
      "text/plain": [
       "<matplotlib.figure.Figure at 0x7fc77d252e10>"
      ]
     },
     "metadata": {},
     "output_type": "display_data"
    }
   ],
   "source": [
    "for i in trace.get_values('GeMpy'):\n",
    "    GeMpy.plot_section(geo_data, 13, block = i, plot_data = False)\n",
    "    plt.show()"
   ]
  },
  {
   "cell_type": "code",
   "execution_count": null,
   "metadata": {
    "collapsed": true
   },
   "outputs": [],
   "source": []
  }
 ],
 "metadata": {
  "anaconda-cloud": {},
  "celltoolbar": "Initialisation Cell",
  "kernelspec": {
   "display_name": "Python 3",
   "language": "python",
   "name": "python3"
  },
  "language_info": {
   "codemirror_mode": {
    "name": "ipython",
    "version": 3
   },
   "file_extension": ".py",
   "mimetype": "text/x-python",
   "name": "python",
   "nbconvert_exporter": "python",
   "pygments_lexer": "ipython3",
   "version": "3.6.0"
  },
  "latex_envs": {
   "bibliofile": "biblio.bib",
   "cite_by": "number",
   "current_citInitial": 1,
   "eqLabelWithNumbers": true,
   "eqNumInitial": 0
  },
  "nav_menu": {},
  "toc": {
   "navigate_menu": true,
   "number_sections": false,
   "sideBar": true,
   "threshold": 6,
   "toc_cell": false,
   "toc_section_display": "block",
   "toc_window_display": false
  }
 },
 "nbformat": 4,
 "nbformat_minor": 0
}
