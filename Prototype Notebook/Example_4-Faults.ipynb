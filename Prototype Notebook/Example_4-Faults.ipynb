{
 "cells": [
  {
   "cell_type": "markdown",
   "metadata": {
    "deletable": true,
    "editable": true,
    "hide_input": true
   },
   "source": [
    "# Example Faults"
   ]
  },
  {
   "cell_type": "markdown",
   "metadata": {
    "deletable": true,
    "editable": true
   },
   "source": [
    "### Generating data"
   ]
  },
  {
   "cell_type": "code",
   "execution_count": 2,
   "metadata": {
    "collapsed": true,
    "deletable": true,
    "editable": true
   },
   "outputs": [],
   "source": [
    "# Importing and data\n",
    "import theano.tensor as T\n",
    "import theano\n",
    "import sys, os\n",
    "sys.path.append(\"../GeMpy\")\n",
    "\n",
    "# Importing GeMpy modules\n",
    "import GeMpy\n",
    "\n",
    "# Reloading (only for development purposes)\n",
    "import importlib\n",
    "importlib.reload(GeMpy)\n",
    "\n",
    "# Usuful packages\n",
    "import numpy as np\n",
    "import pandas as pn\n",
    "\n",
    "import matplotlib.pyplot as plt\n",
    "\n",
    "# This was to choose the gpu\n",
    "os.environ['CUDA_LAUNCH_BLOCKING'] = '1'\n",
    "\n",
    "# Default options of printin\n",
    "np.set_printoptions(precision = 6, linewidth= 130, suppress =  True)\n",
    "\n",
    "#%matplotlib inline\n",
    "%matplotlib inline\n",
    "\n",
    "\n",
    "\n",
    "# Setting the extent\n",
    "geo_data = GeMpy.import_data([0,10,0,10,0,10], [50,50,50])\n",
    "\n",
    "\n",
    "# =========================\n",
    "# DATA GENERATION IN PYTHON\n",
    "# =========================\n",
    "# Layers coordinates\n",
    "layer_1 = np.array([[0.5,4,7], [2,4,6.5], [4,4,7], [5,4,6]])#-np.array([5,5,4]))/8+0.5\n",
    "layer_2 = np.array([[3,4,5], [6,4,4],[8,4,4], [7,4,3], [1,4,6]])\n",
    "layers = np.asarray([layer_1,layer_2])\n",
    "\n",
    "# Foliations coordinates\n",
    "dip_pos_1 = np.array([7,4,7])#- np.array([5,5,4]))/8+0.5\n",
    "dip_pos_2 = np.array([2.,4,4])\n",
    "\n",
    "# Dips\n",
    "dip_angle_1 = float(15)\n",
    "dip_angle_2 = float(340)\n",
    "dips_angles = np.asarray([dip_angle_1, dip_angle_2], dtype=\"float64\")\n",
    "\n",
    "# Azimuths\n",
    "azimuths = np.asarray([90,90], dtype=\"float64\")\n",
    "\n",
    "# Polarity\n",
    "polarity = np.asarray([1,1], dtype=\"float64\")\n",
    "\n",
    "# Setting foliations and interfaces values\n",
    "GeMpy.set_interfaces(geo_data, pn.DataFrame(\n",
    "    data = {\"X\" :np.append(layer_1[:, 0],layer_2[:,0]),\n",
    "            \"Y\" :np.append(layer_1[:, 1],layer_2[:,1]),\n",
    "            \"Z\" :np.append(layer_1[:, 2],layer_2[:,2]),\n",
    "            \"formation\" : np.append(\n",
    "               np.tile(\"Layer 1\", len(layer_1)), \n",
    "               np.tile(\"Layer 2\", len(layer_2))),\n",
    "            \"labels\" : [r'${\\bf{x}}_{\\alpha \\, 0}^1$',\n",
    "               r'${\\bf{x}}_{\\alpha \\, 1}^1$',\n",
    "               r'${\\bf{x}}_{\\alpha \\, 2}^1$',\n",
    "               r'${\\bf{x}}_{\\alpha \\, 3}^1$',\n",
    "               r'${\\bf{x}}_{\\alpha \\, 0}^2$',\n",
    "               r'${\\bf{x}}_{\\alpha \\, 1}^2$',\n",
    "               r'${\\bf{x}}_{\\alpha \\, 2}^2$',\n",
    "               r'${\\bf{x}}_{\\alpha \\, 3}^2$',\n",
    "               r'${\\bf{x}}_{\\alpha \\, 4}^2$'] }))\n",
    "\n",
    "GeMpy.set_foliations(geo_data,  pn.DataFrame(\n",
    "    data = {\"X\" :np.append(dip_pos_1[0],dip_pos_2[0]),\n",
    "            \"Y\" :np.append(dip_pos_1[ 1],dip_pos_2[1]),\n",
    "            \"Z\" :np.append(dip_pos_1[ 2],dip_pos_2[2]),\n",
    "            \"azimuth\" : azimuths,\n",
    "            \"dip\" : dips_angles,\n",
    "            \"polarity\" : polarity,\n",
    "            \"formation\" : [\"Layer 1\", \"Layer 2\"],\n",
    "            \"labels\" : [r'${\\bf{x}}_{\\beta \\,{0}}$',\n",
    "              r'${\\bf{x}}_{\\beta \\,{1}}$'] })) \n",
    "\n",
    "\n",
    "\n",
    "layer_3 = np.array([[2,4,3], [4,4,4], [7,4,8]])\n",
    "dip_pos_3 = np.array([1,4,1])\n",
    "dip_angle_3 = float(140)\n",
    "azimuth_3 = 90\n",
    "polarity_3 = 1\n",
    "\n",
    "\n",
    "\n",
    "GeMpy.set_interfaces(geo_data, pn.DataFrame(\n",
    "    data = {\"X\" :layer_3[:, 0],\n",
    "            \"Y\" :layer_3[:, 1],\n",
    "            \"Z\" :layer_3[:, 2],\n",
    "            \"formation\" : np.tile(\"Layer 3\", len(layer_3)), \n",
    "            \"labels\" : [  r'${\\bf{x}}_{\\alpha \\, 0}^3$',\n",
    "                           r'${\\bf{x}}_{\\alpha \\, 1}^3$',\n",
    "                           r'${\\bf{x}}_{\\alpha \\, 2}^3$'] }), append = True)\n",
    "GeMpy.get_raw_data(geo_data,\"interfaces\")\n",
    "\n",
    "\n",
    "GeMpy.set_foliations(geo_data, pn.DataFrame(data = {\n",
    "                     \"X\" : dip_pos_3[0],\n",
    "                     \"Y\" : dip_pos_3[1],\n",
    "                     \"Z\" : dip_pos_3[2],\n",
    "            \n",
    "                     \"azimuth\" : azimuth_3,\n",
    "                     \"dip\" : dip_angle_3,\n",
    "                     \"polarity\" : polarity_3,\n",
    "                     \"formation\" : [ 'Layer 3'],\n",
    "                     \"labels\" : r'${\\bf{x}}_{\\beta \\,{2}}$'}), append = True)"
   ]
  },
  {
   "cell_type": "code",
   "execution_count": 3,
   "metadata": {
    "collapsed": false,
    "deletable": true,
    "editable": true
   },
   "outputs": [],
   "source": [
    "# When we choose the series we have to set the faults in the first place\n",
    "GeMpy.set_data_series(geo_data, {'younger': ('Layer 1', 'Layer 2'),\n",
    "                      'fault1': 'Layer 3'}, order_series = ['fault1', 'younger'])\n"
   ]
  },
  {
   "cell_type": "code",
   "execution_count": 4,
   "metadata": {
    "collapsed": false,
    "deletable": true,
    "editable": true
   },
   "outputs": [],
   "source": [
    "# Select series to interpolate (if you do not want to interpolate all)\n",
    "data_interp = GeMpy.set_interpolator(geo_data, u_grade = 0, verbose = [ 'faults_contribution',])"
   ]
  },
  {
   "cell_type": "code",
   "execution_count": 5,
   "metadata": {
    "collapsed": false,
    "deletable": true,
    "editable": true
   },
   "outputs": [],
   "source": [
    "# This are the shared parameters and the compilation of the function. This will be hidden as well at some point\n",
    "input_data_T = data_interp.interpolator.tg.input_parameters_list()"
   ]
  },
  {
   "cell_type": "code",
   "execution_count": 6,
   "metadata": {
    "collapsed": false,
    "deletable": true,
    "editable": true,
    "scrolled": false
   },
   "outputs": [],
   "source": [
    "# HERE when we compile we have to pass the number of formations that are faults!!\n",
    "debugging = theano.function(input_data_T, data_interp.interpolator.tg.whole_block_model(1), on_unused_input='ignore', \n",
    "                            allow_input_downcast=True, profile=True);"
   ]
  },
  {
   "cell_type": "code",
   "execution_count": 7,
   "metadata": {
    "collapsed": true,
    "deletable": true,
    "editable": true
   },
   "outputs": [],
   "source": [
    "# This prepares the user data to the theano function\n",
    "input_data_P = data_interp.interpolator.data_prep() "
   ]
  },
  {
   "cell_type": "code",
   "execution_count": 8,
   "metadata": {
    "collapsed": false,
    "deletable": true,
    "editable": true,
    "scrolled": false
   },
   "outputs": [
    {
     "name": "stdout",
     "output_type": "stream",
     "text": [
      "Faults contribution __str__ = [ 0.  0.  0. ...,  0.  0.  0.]\n",
      "Faults contribution __str__ = [ 0.026887  0.026887  0.026887 ...,  0.        0.        0.      ]\n"
     ]
    }
   ],
   "source": [
    "# Solution of theano\n",
    "sol = debugging(input_data_P[0], input_data_P[1], input_data_P[2], input_data_P[3],input_data_P[4], input_data_P[5])"
   ]
  },
  {
   "cell_type": "code",
   "execution_count": 9,
   "metadata": {
    "collapsed": false,
    "deletable": true,
    "editable": true
   },
   "outputs": [
    {
     "data": {
      "text/plain": [
       "<Visualization.PlotData at 0x7fbb748f3a20>"
      ]
     },
     "execution_count": 9,
     "metadata": {},
     "output_type": "execute_result"
    },
    {
     "data": {
      "image/png": "[encoded data removed]",
      "text/plain": [
       "<matplotlib.figure.Figure at 0x7fbb748f35f8>"
      ]
     },
     "metadata": {},
     "output_type": "display_data"
    }
   ],
   "source": [
    "#GeMpy.plot_potential_field(fault1, sol.reshape(50,50,50),13, plot_data = True)\n",
    "GeMpy.plot_section(geo_data, 30, block = sol, plot_data = True)"
   ]
  },
  {
   "cell_type": "code",
   "execution_count": 22,
   "metadata": {
    "collapsed": false,
    "deletable": true,
    "editable": true
   },
   "outputs": [],
   "source": [
    "lith0 = sol == 0\n",
    "lith1 = sol == 2\n",
    "lith2 = sol == 3\n",
    "\n"
   ]
  },
  {
   "cell_type": "code",
   "execution_count": 21,
   "metadata": {
    "collapsed": false
   },
   "outputs": [
    {
     "data": {
      "text/plain": [
       "array([0, 2, 3])"
      ]
     },
     "execution_count": 21,
     "metadata": {},
     "output_type": "execute_result"
    }
   ],
   "source": [
    "np.unique(sol)"
   ]
  },
  {
   "cell_type": "code",
   "execution_count": 24,
   "metadata": {
    "collapsed": false,
    "deletable": true,
    "editable": true
   },
   "outputs": [
    {
     "data": {
      "application/vnd.jupyter.widget-view+json": {
       "model_id": "9d697cdb67b44e7f98f31aad0fa21de7"
      }
     },
     "metadata": {},
     "output_type": "display_data"
    }
   ],
   "source": [
    "import ipyvolume.pylab as p3\n",
    "    \n",
    "p3.scatter(geo_data.grid.grid[:,0][lith0],\n",
    "           geo_data.grid.grid[:,1][lith0],\n",
    "           geo_data.grid.grid[:,2][lith0], marker='box', color = 'blue' )\n",
    "\n",
    "p3.scatter(geo_data.grid.grid[:,0][lith1],\n",
    "           geo_data.grid.grid[:,1][lith1],\n",
    "           geo_data.grid.grid[:,2][lith1], marker='box', color = 'yellow' )\n",
    "\n",
    "p3.scatter(geo_data.grid.grid[:,0][lith2],\n",
    "           geo_data.grid.grid[:,1][lith2],\n",
    "           geo_data.grid.grid[:,2][lith2], marker='box', color = 'green' )\n",
    "p3.show()"
   ]
  },
  {
   "cell_type": "code",
   "execution_count": 19,
   "metadata": {
    "collapsed": false,
    "deletable": true,
    "editable": true
   },
   "outputs": [
    {
     "data": {
      "text/plain": [
       "array([], dtype=float32)"
      ]
     },
     "execution_count": 19,
     "metadata": {},
     "output_type": "execute_result"
    }
   ],
   "source": [
    "geo_data.grid.grid[:,1][lith1]"
   ]
  },
  {
   "cell_type": "code",
   "execution_count": null,
   "metadata": {
    "collapsed": true
   },
   "outputs": [],
   "source": []
  }
 ],
 "metadata": {
  "anaconda-cloud": {},
  "celltoolbar": "Initialisation Cell",
  "kernelspec": {
   "display_name": "Python [Root]",
   "language": "python",
   "name": "Python [Root]"
  },
  "language_info": {
   "codemirror_mode": {
    "name": "ipython",
    "version": 3
   },
   "file_extension": ".py",
   "mimetype": "text/x-python",
   "name": "python",
   "nbconvert_exporter": "python",
   "pygments_lexer": "ipython3",
   "version": "3.5.2"
  },
  "latex_envs": {
   "bibliofile": "biblio.bib",
   "cite_by": "number",
   "current_citInitial": 1,
   "eqLabelWithNumbers": true,
   "eqNumInitial": 0
  },
  "nav_menu": {},
  "toc": {
   "navigate_menu": true,
   "number_sections": false,
   "sideBar": true,
   "threshold": 6,
   "toc_cell": false,
   "toc_section_display": "block",
   "toc_window_display": false
  }
 },
 "nbformat": 4,
 "nbformat_minor": 0
}
