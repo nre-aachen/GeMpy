{
 "cells": [
  {
   "cell_type": "markdown",
   "metadata": {
    "hide_input": true
   },
   "source": [
    "# Example sandbox"
   ]
  },
  {
   "cell_type": "markdown",
   "metadata": {},
   "source": [
    "### old stuff"
   ]
  },
  {
   "cell_type": "code",
   "execution_count": 1,
   "metadata": {
    "collapsed": false
   },
   "outputs": [],
   "source": [
    "# Importing and data\n",
    "import theano.tensor as T\n",
    "import theano\n",
    "import sys, os\n",
    "sys.path.append(\"../GeMpy\")\n",
    "\n",
    "# Importing GeMpy modules\n",
    "import GeMpy\n",
    "\n",
    "# Reloading (only for development purposes)\n",
    "import importlib\n",
    "importlib.reload(GeMpy)\n",
    "\n",
    "# Usuful packages\n",
    "import numpy as np\n",
    "import pandas as pn\n",
    "\n",
    "import matplotlib.pyplot as plt\n",
    "\n",
    "# This was to choose the gpu\n",
    "os.environ['CUDA_LAUNCH_BLOCKING'] = '1'\n",
    "\n",
    "# Default options of printin\n",
    "np.set_printoptions(precision = 6, linewidth= 130, suppress =  True)\n",
    "\n",
    "#%matplotlib inline\n",
    "%matplotlib inline\n",
    "\n",
    "\n",
    "\n",
    "# Setting the extent\n",
    "geo_data = GeMpy.import_data([0,10,0,10,0,10], [50,50,50])\n",
    "\n",
    "\n",
    "# =========================\n",
    "# DATA GENERATION IN PYTHON\n",
    "# =========================\n",
    "# Layers coordinates\n",
    "layer_1 = np.array([[0.5,4,7], [2,4,6.5], [4,4,7], [5,4,6]])#-np.array([5,5,4]))/8+0.5\n",
    "layer_2 = np.array([[3,4,5], [6,4,4],[8,4,4], [7,4,3], [1,4,6]])\n",
    "layers = np.asarray([layer_1,layer_2])\n",
    "\n",
    "# Foliations coordinates\n",
    "dip_pos_1 = np.array([7,4,7])#- np.array([5,5,4]))/8+0.5\n",
    "dip_pos_2 = np.array([2.,4,4])\n",
    "\n",
    "# Dips\n",
    "dip_angle_1 = float(15)\n",
    "dip_angle_2 = float(340)\n",
    "dips_angles = np.asarray([dip_angle_1, dip_angle_2], dtype=\"float64\")\n",
    "\n",
    "# Azimuths\n",
    "azimuths = np.asarray([90,90], dtype=\"float64\")\n",
    "\n",
    "# Polarity\n",
    "polarity = np.asarray([1,1], dtype=\"float64\")\n",
    "\n",
    "# Setting foliations and interfaces values\n",
    "GeMpy.set_interfaces(geo_data, pn.DataFrame(\n",
    "    data = {\"X\" :np.append(layer_1[:, 0],layer_2[:,0]),\n",
    "            \"Y\" :np.append(layer_1[:, 1],layer_2[:,1]),\n",
    "            \"Z\" :np.append(layer_1[:, 2],layer_2[:,2]),\n",
    "            \"formation\" : np.append(\n",
    "               np.tile(\"Layer 1\", len(layer_1)), \n",
    "               np.tile(\"Layer 2\", len(layer_2))),\n",
    "            \"labels\" : [r'${\\bf{x}}_{\\alpha \\, 0}^1$',\n",
    "               r'${\\bf{x}}_{\\alpha \\, 1}^1$',\n",
    "               r'${\\bf{x}}_{\\alpha \\, 2}^1$',\n",
    "               r'${\\bf{x}}_{\\alpha \\, 3}^1$',\n",
    "               r'${\\bf{x}}_{\\alpha \\, 0}^2$',\n",
    "               r'${\\bf{x}}_{\\alpha \\, 1}^2$',\n",
    "               r'${\\bf{x}}_{\\alpha \\, 2}^2$',\n",
    "               r'${\\bf{x}}_{\\alpha \\, 3}^2$',\n",
    "               r'${\\bf{x}}_{\\alpha \\, 4}^2$'] }))\n",
    "\n",
    "GeMpy.set_foliations(geo_data,  pn.DataFrame(\n",
    "    data = {\"X\" :np.append(dip_pos_1[0],dip_pos_2[0]),\n",
    "            \"Y\" :np.append(dip_pos_1[ 1],dip_pos_2[1]),\n",
    "            \"Z\" :np.append(dip_pos_1[ 2],dip_pos_2[2]),\n",
    "            \"azimuth\" : azimuths,\n",
    "            \"dip\" : dips_angles,\n",
    "            \"polarity\" : polarity,\n",
    "            \"formation\" : [\"Layer 1\", \"Layer 2\"],\n",
    "            \"labels\" : [r'${\\bf{x}}_{\\beta \\,{0}}$',\n",
    "              r'${\\bf{x}}_{\\beta \\,{1}}$'] })) \n",
    "\n",
    "\n",
    "\n",
    "layer_3 = np.array([[2,4,3], [4,4,4], [7,4,8]])\n",
    "dip_pos_3 = np.array([1,4,1])\n",
    "dip_angle_3 = float(140)\n",
    "azimuth_3 = 90\n",
    "polarity_3 = 1\n",
    "\n",
    "\n",
    "\n",
    "GeMpy.set_interfaces(geo_data, pn.DataFrame(\n",
    "    data = {\"X\" :layer_3[:, 0],\n",
    "            \"Y\" :layer_3[:, 1],\n",
    "            \"Z\" :layer_3[:, 2],\n",
    "            \"formation\" : np.tile(\"Layer 3\", len(layer_3)), \n",
    "            \"labels\" : [  r'${\\bf{x}}_{\\alpha \\, 0}^3$',\n",
    "                           r'${\\bf{x}}_{\\alpha \\, 1}^3$',\n",
    "                           r'${\\bf{x}}_{\\alpha \\, 2}^3$'] }), append = True)\n",
    "GeMpy.get_raw_data(geo_data,\"interfaces\")\n",
    "\n",
    "\n",
    "GeMpy.set_foliations(geo_data, pn.DataFrame(data = {\n",
    "                     \"X\" : dip_pos_3[0],\n",
    "                     \"Y\" : dip_pos_3[1],\n",
    "                     \"Z\" : dip_pos_3[2],\n",
    "            \n",
    "                     \"azimuth\" : azimuth_3,\n",
    "                     \"dip\" : dip_angle_3,\n",
    "                     \"polarity\" : polarity_3,\n",
    "                     \"formation\" : [ 'Layer 3'],\n",
    "                     \"labels\" : r'${\\bf{x}}_{\\beta \\,{2}}$'}), append = True)\n",
    "\n",
    "\n",
    "GeMpy.set_data_series(geo_data, {'younger': ('Layer 1', 'Layer 2'),\n",
    "                      'fault1': 'Layer 3'}, order_series = ['fault1', 'younger'])\n",
    "\n",
    "\n"
   ]
  },
  {
   "cell_type": "code",
   "execution_count": 2,
   "metadata": {
    "collapsed": false
   },
   "outputs": [],
   "source": [
    "# Select series to interpolate (if you do not want to interpolate all)\n",
    "\n",
    "data_interp = GeMpy.set_interpolator(geo_data, u_grade = 0, verbose = [ 'faults_contribution',\n",
    "                                                                     'potential_field_at_grid', 'faults_matrix'])"
   ]
  },
  {
   "cell_type": "code",
   "execution_count": 3,
   "metadata": {
    "collapsed": false
   },
   "outputs": [],
   "source": [
    "data_interp.interpolator._data_scaled.interfaces;"
   ]
  },
  {
   "cell_type": "code",
   "execution_count": 4,
   "metadata": {
    "collapsed": false
   },
   "outputs": [],
   "source": [
    "# This are the shared parameters and the compilation of the function. This will be hidden as well at some point\n",
    "input_data_T = data_interp.interpolator.tg.input_parameters_list()"
   ]
  },
  {
   "cell_type": "code",
   "execution_count": 5,
   "metadata": {
    "collapsed": false,
    "scrolled": false
   },
   "outputs": [],
   "source": [
    "debugging = theano.function(input_data_T, data_interp.interpolator.tg.whole_block_model(1), on_unused_input='ignore', \n",
    "                            allow_input_downcast=True, profile=True);"
   ]
  },
  {
   "cell_type": "code",
   "execution_count": 6,
   "metadata": {
    "collapsed": false
   },
   "outputs": [
    {
     "data": {
      "text/plain": [
       "array(0)"
      ]
     },
     "execution_count": 6,
     "metadata": {},
     "output_type": "execute_result"
    }
   ],
   "source": [
    "data_interp.interpolator.tg.n_faults.get_value()"
   ]
  },
  {
   "cell_type": "code",
   "execution_count": 7,
   "metadata": {
    "collapsed": true
   },
   "outputs": [],
   "source": [
    "# This prepares the user data to the theano function\n",
    "input_data_P = data_interp.interpolator.data_prep() "
   ]
  },
  {
   "cell_type": "code",
   "execution_count": 8,
   "metadata": {
    "collapsed": false,
    "scrolled": false
   },
   "outputs": [
    {
     "name": "stdout",
     "output_type": "stream",
     "text": [
      "Faults interfaces matrix __str__ = []\n",
      "Faults interfaces matrix __str__ = []\n",
      "Faults interfaces matrix __str__ = []\n",
      "Faults contribution __str__ = [ 0.  0.  0. ...,  0.  0.  0.]\n",
      "Potential field at grid __str__ = [ 0.038461  0.027137  0.015613 ..., -0.154155 -0.154155 -0.154155]\n",
      "Faults interfaces matrix __str__ = []\n",
      "Faults interfaces matrix __str__ = []\n",
      "Faults interfaces matrix __str__ = []\n",
      "Faults contribution __str__ = [ 0.  0.  0. ...,  0.  0.  0.]\n",
      "Potential field __str__ = [-0.071923 -0.166547 -0.051495]\n",
      "Selected pt __str__ = [-0.071923]\n",
      "I am outside the faults __str__ = [[1 1 1 ..., 0 0 0]]\n",
      "Faults interfaces matrix __str__ = [[0 1 1 1 0 1 1]]\n",
      "Faults interfaces matrix __str__ = [[0 1 1 1 0 1 1]]\n",
      "Faults interfaces matrix __str__ = [[0 1 1 1 0 1 1]]\n",
      "Faults contribution __str__ = [ 0.026887  0.026887  0.026887 ...,  0.        0.        0.      ]\n",
      "Potential field at grid __str__ = [-0.171114 -0.169939 -0.168305 ..., -0.079691 -0.079691 -0.079691]\n",
      "Faults interfaces matrix __str__ = [[0 1 1 1 0 1 1]]\n",
      "Faults interfaces matrix __str__ = [[0 1 1 1 0 1 1]]\n",
      "Faults interfaces matrix __str__ = [[0 1 1 1 0 1 1]]\n",
      "Faults contribution __str__ = [ 0.026887  0.026887  0.026887 ...,  0.        0.        0.      ]\n",
      "Potential field __str__ = [ 0.051159 -0.024672 -0.03936 ]\n",
      "Selected pt __str__ = [-0.024672 -0.03936 ]\n"
     ]
    }
   ],
   "source": [
    "# Solution of theano\n",
    "sol = debugging(input_data_P[0], input_data_P[1], input_data_P[2], input_data_P[3],input_data_P[4], input_data_P[5])"
   ]
  },
  {
   "cell_type": "code",
   "execution_count": 9,
   "metadata": {
    "collapsed": false
   },
   "outputs": [
    {
     "data": {
      "text/plain": [
       "<Visualization.PlotData at 0x7ff8f145b4e0>"
      ]
     },
     "execution_count": 9,
     "metadata": {},
     "output_type": "execute_result"
    },
    {
     "data": {
      "image/png": "[encoded data removed]",
      "text/plain": [
       "<matplotlib.figure.Figure at 0x7ff8f145b7b8>"
      ]
     },
     "metadata": {},
     "output_type": "display_data"
    }
   ],
   "source": [
    "#GeMpy.plot_potential_field(fault1, sol.reshape(50,50,50),13, plot_data = True)\n",
    "GeMpy.plot_section(geo_data, 13, block = sol, plot_data = True)"
   ]
  },
  {
   "cell_type": "code",
   "execution_count": 8,
   "metadata": {
    "collapsed": false
   },
   "outputs": [
    {
     "data": {
      "text/html": [
       "<div>\n",
       "<table border=\"1\" class=\"dataframe\">\n",
       "  <thead>\n",
       "    <tr style=\"text-align: right;\">\n",
       "      <th></th>\n",
       "      <th>X</th>\n",
       "      <th>Y</th>\n",
       "      <th>Z</th>\n",
       "      <th>formation</th>\n",
       "      <th>formation number</th>\n",
       "      <th>labels</th>\n",
       "      <th>order_series</th>\n",
       "      <th>series</th>\n",
       "    </tr>\n",
       "  </thead>\n",
       "  <tbody>\n",
       "    <tr>\n",
       "      <th>0</th>\n",
       "      <td>2.0</td>\n",
       "      <td>4.0</td>\n",
       "      <td>3.0</td>\n",
       "      <td>Layer 3</td>\n",
       "      <td>3</td>\n",
       "      <td>${\\bf{x}}_{\\alpha \\, 0}^3$</td>\n",
       "      <td>2</td>\n",
       "      <td>fault1</td>\n",
       "    </tr>\n",
       "    <tr>\n",
       "      <th>1</th>\n",
       "      <td>4.0</td>\n",
       "      <td>4.0</td>\n",
       "      <td>4.0</td>\n",
       "      <td>Layer 3</td>\n",
       "      <td>3</td>\n",
       "      <td>${\\bf{x}}_{\\alpha \\, 1}^3$</td>\n",
       "      <td>2</td>\n",
       "      <td>fault1</td>\n",
       "    </tr>\n",
       "    <tr>\n",
       "      <th>2</th>\n",
       "      <td>7.0</td>\n",
       "      <td>4.0</td>\n",
       "      <td>8.0</td>\n",
       "      <td>Layer 3</td>\n",
       "      <td>3</td>\n",
       "      <td>${\\bf{x}}_{\\alpha \\, 2}^3$</td>\n",
       "      <td>2</td>\n",
       "      <td>fault1</td>\n",
       "    </tr>\n",
       "  </tbody>\n",
       "</table>\n",
       "</div>"
      ],
      "text/plain": [
       "     X    Y    Z formation  formation number                      labels  \\\n",
       "0  2.0  4.0  3.0   Layer 3                 3  ${\\bf{x}}_{\\alpha \\, 0}^3$   \n",
       "1  4.0  4.0  4.0   Layer 3                 3  ${\\bf{x}}_{\\alpha \\, 1}^3$   \n",
       "2  7.0  4.0  8.0   Layer 3                 3  ${\\bf{x}}_{\\alpha \\, 2}^3$   \n",
       "\n",
       "   order_series  series  \n",
       "0             2  fault1  \n",
       "1             2  fault1  \n",
       "2             2  fault1  "
      ]
     },
     "execution_count": 8,
     "metadata": {},
     "output_type": "execute_result"
    }
   ],
   "source": [
    "fault1.interfaces"
   ]
  },
  {
   "cell_type": "code",
   "execution_count": 7,
   "metadata": {
    "collapsed": false
   },
   "outputs": [
    {
     "data": {
      "text/html": [
       "<div>\n",
       "<table border=\"1\" class=\"dataframe\">\n",
       "  <thead>\n",
       "    <tr style=\"text-align: right;\">\n",
       "      <th></th>\n",
       "      <th>G_x</th>\n",
       "      <th>G_y</th>\n",
       "      <th>G_z</th>\n",
       "      <th>X</th>\n",
       "      <th>Y</th>\n",
       "      <th>Z</th>\n",
       "      <th>azimuth</th>\n",
       "      <th>dip</th>\n",
       "      <th>formation</th>\n",
       "      <th>formation number</th>\n",
       "      <th>labels</th>\n",
       "      <th>order_series</th>\n",
       "      <th>polarity</th>\n",
       "      <th>series</th>\n",
       "    </tr>\n",
       "  </thead>\n",
       "  <tbody>\n",
       "    <tr>\n",
       "      <th>0</th>\n",
       "      <td>0.258819</td>\n",
       "      <td>1.584810e-17</td>\n",
       "      <td>0.965926</td>\n",
       "      <td>7.0</td>\n",
       "      <td>4.0</td>\n",
       "      <td>7.0</td>\n",
       "      <td>90.0</td>\n",
       "      <td>40.0</td>\n",
       "      <td>Layer 1</td>\n",
       "      <td>1</td>\n",
       "      <td>${\\bf{x}}_{\\beta \\,{0}}$</td>\n",
       "      <td>1</td>\n",
       "      <td>1.0</td>\n",
       "      <td>younger</td>\n",
       "    </tr>\n",
       "    <tr>\n",
       "      <th>1</th>\n",
       "      <td>-0.342020</td>\n",
       "      <td>-2.094269e-17</td>\n",
       "      <td>0.939693</td>\n",
       "      <td>2.0</td>\n",
       "      <td>4.0</td>\n",
       "      <td>4.0</td>\n",
       "      <td>90.0</td>\n",
       "      <td>340.0</td>\n",
       "      <td>Layer 2</td>\n",
       "      <td>2</td>\n",
       "      <td>${\\bf{x}}_{\\beta \\,{1}}$</td>\n",
       "      <td>1</td>\n",
       "      <td>1.0</td>\n",
       "      <td>younger</td>\n",
       "    </tr>\n",
       "    <tr>\n",
       "      <th>0</th>\n",
       "      <td>0.984808</td>\n",
       "      <td>6.030208e-17</td>\n",
       "      <td>0.173648</td>\n",
       "      <td>1.0</td>\n",
       "      <td>4.0</td>\n",
       "      <td>1.0</td>\n",
       "      <td>90.0</td>\n",
       "      <td>40.0</td>\n",
       "      <td>Layer 3</td>\n",
       "      <td>3</td>\n",
       "      <td>${\\bf{x}}_{\\beta \\,{2}}$</td>\n",
       "      <td>2</td>\n",
       "      <td>1.0</td>\n",
       "      <td>older</td>\n",
       "    </tr>\n",
       "  </tbody>\n",
       "</table>\n",
       "</div>"
      ],
      "text/plain": [
       "        G_x           G_y       G_z    X    Y    Z  azimuth    dip formation  \\\n",
       "0  0.258819  1.584810e-17  0.965926  7.0  4.0  7.0     90.0   40.0   Layer 1   \n",
       "1 -0.342020 -2.094269e-17  0.939693  2.0  4.0  4.0     90.0  340.0   Layer 2   \n",
       "0  0.984808  6.030208e-17  0.173648  1.0  4.0  1.0     90.0   40.0   Layer 3   \n",
       "\n",
       "   formation number                    labels  order_series  polarity   series  \n",
       "0                 1  ${\\bf{x}}_{\\beta \\,{0}}$             1       1.0  younger  \n",
       "1                 2  ${\\bf{x}}_{\\beta \\,{1}}$             1       1.0  younger  \n",
       "0                 3  ${\\bf{x}}_{\\beta \\,{2}}$             2       1.0    older  "
      ]
     },
     "execution_count": 7,
     "metadata": {},
     "output_type": "execute_result"
    }
   ],
   "source": [
    "# If you change the values here. Here changes the plot as well\n",
    "geo_data.foliations.set_value(0, 'dip', 40)"
   ]
  },
  {
   "cell_type": "code",
   "execution_count": 8,
   "metadata": {
    "collapsed": false
   },
   "outputs": [],
   "source": [
    "# You need to set the interpolator again\n",
    "new_series = GeMpy.select_series(geo_data, ['younger'])\n",
    "data_interp = GeMpy.set_interpolator(new_series, u_grade = 0, verbose= ['cov_function'])\n"
   ]
  },
  {
   "cell_type": "code",
   "execution_count": 10,
   "metadata": {
    "collapsed": false
   },
   "outputs": [],
   "source": [
    "# If you change it here is not necesary. Maybe some function in GeMpy with an attribute to choose would be good\n",
    "data_interp.interpolator._data_scaled.foliations.set_value(0, 'dip', 40)\n",
    "# In any case, data prep has to be called to convert the data to pure arrays. This function should be hidden I guess\n",
    "input_data_P = data_interp.interpolator.data_prep()"
   ]
  },
  {
   "cell_type": "code",
   "execution_count": 11,
   "metadata": {
    "collapsed": false,
    "scrolled": false
   },
   "outputs": [],
   "source": [
    "sol = debugging(input_data_P[0], input_data_P[1], input_data_P[2], input_data_P[3],input_data_P[4], input_data_P[5])"
   ]
  },
  {
   "cell_type": "code",
   "execution_count": 12,
   "metadata": {
    "collapsed": false
   },
   "outputs": [
    {
     "data": {
      "image/png": "[encoded data removed]",
      "text/plain": [
       "<matplotlib.figure.Figure at 0x7f56e88218d0>"
      ]
     },
     "metadata": {},
     "output_type": "display_data"
    }
   ],
   "source": [
    "GeMpy.plot_potential_field(new_series, sol.reshape(50,50,50),13, plot_data = True)"
   ]
  },
  {
   "cell_type": "markdown",
   "metadata": {},
   "source": [
    "## PyMC3"
   ]
  },
  {
   "cell_type": "code",
   "execution_count": 20,
   "metadata": {
    "collapsed": false
   },
   "outputs": [],
   "source": [
    "# We create the op. Because is an op we cannot call it with python variables anymore. Thats why we have to make them shared\n",
    "# Before\n",
    "op2 = theano.OpFromGraph(input_data_T, [data_interp.interpolator.tg.whole_block_model()], on_unused_input='ignore')"
   ]
  },
  {
   "cell_type": "code",
   "execution_count": 21,
   "metadata": {
    "collapsed": false,
    "scrolled": false
   },
   "outputs": [
    {
     "name": "stdout",
     "output_type": "stream",
     "text": [
      "Assigned NUTS to foliation\n",
      " [-----------------100%-----------------] 6 of 6 complete in 3.3 sec"
     ]
    }
   ],
   "source": [
    "import pymc3 as pm\n",
    "theano.config.compute_test_value = 'ignore'\n",
    "model = pm.Model()\n",
    "with model:\n",
    "    # Stochastic value\n",
    "    foliation = pm.Normal('foliation', 40, sd=30)\n",
    "    \n",
    "    # We convert a python variable to theano.shared\n",
    "    dips = theano.shared(input_data_P[1])\n",
    "    \n",
    "    # We add the stochastic value to the correspondant array\n",
    "    dips = T.set_subtensor(dips[0], foliation)\n",
    "\n",
    "    geo_model = pm.Deterministic('GeMpy', op2(theano.shared(input_data_P[0]), dips, \n",
    "                                     theano.shared(input_data_P[2]), theano.shared(input_data_P[3]),\n",
    "                                     theano.shared(input_data_P[4]), theano.shared(input_data_P[5])))\n",
    "\n",
    "    trace = pm.sample(6)"
   ]
  },
  {
   "cell_type": "code",
   "execution_count": 22,
   "metadata": {
    "collapsed": false
   },
   "outputs": [
    {
     "data": {
      "text/plain": [
       "(['foliation', 'til'], array([[0, 0, 0, ..., 1, 1, 1],\n",
       "        [0, 0, 0, ..., 1, 1, 1],\n",
       "        [0, 0, 0, ..., 1, 1, 1],\n",
       "        [0, 0, 0, ..., 1, 1, 1],\n",
       "        [0, 0, 0, ..., 1, 1, 1],\n",
       "        [0, 0, 0, ..., 1, 1, 1]]))"
      ]
     },
     "execution_count": 22,
     "metadata": {},
     "output_type": "execute_result"
    }
   ],
   "source": [
    "trace.varnames, trace.get_values(\"til\")"
   ]
  },
  {
   "cell_type": "code",
   "execution_count": 23,
   "metadata": {
    "collapsed": false,
    "scrolled": false
   },
   "outputs": [
    {
     "data": {
      "image/png": "[encoded data removed]",
      "text/plain": [
       "<matplotlib.figure.Figure at 0x7feab698b160>"
      ]
     },
     "metadata": {},
     "output_type": "display_data"
    },
    {
     "data": {
      "image/png": "[encoded data removed]",
      "text/plain": [
       "<matplotlib.figure.Figure at 0x7feaa6acfac8>"
      ]
     },
     "metadata": {},
     "output_type": "display_data"
    },
    {
     "data": {
      "image/png": "[encoded data removed]",
      "text/plain": [
       "<matplotlib.figure.Figure at 0x7feaa6aadc18>"
      ]
     },
     "metadata": {},
     "output_type": "display_data"
    },
    {
     "data": {
      "image/png": "[encoded data removed]",
      "text/plain": [
       "<matplotlib.figure.Figure at 0x7feaa6a487f0>"
      ]
     },
     "metadata": {},
     "output_type": "display_data"
    },
    {
     "data": {
      "image/png": "[encoded data removed]",
      "text/plain": [
       "<matplotlib.figure.Figure at 0x7feaa69491d0>"
      ]
     },
     "metadata": {},
     "output_type": "display_data"
    },
    {
     "data": {
      "image/png": "[encoded data removed]",
      "text/plain": [
       "<matplotlib.figure.Figure at 0x7feaa69b89b0>"
      ]
     },
     "metadata": {},
     "output_type": "display_data"
    }
   ],
   "source": [
    "for i in trace.get_values('til'):\n",
    "    GeMpy.plot_section(new_series, 13, block = i, plot_data = True)"
   ]
  },
  {
   "cell_type": "markdown",
   "metadata": {
    "collapsed": false
   },
   "source": [
    "## Cholesky "
   ]
  },
  {
   "cell_type": "code",
   "execution_count": 62,
   "metadata": {
    "collapsed": false
   },
   "outputs": [
    {
     "name": "stdout",
     "output_type": "stream",
     "text": [
      "10 loops, best of 3: 13.9 ms per loop\n"
     ]
    }
   ],
   "source": [
    "# Cholesky solution\n",
    "L = np.linalg.cholesky(C)\n",
    "U = sc.linalg.cholesky(C)\n",
    "Y = sc.linalg.solve_triangular(L,b, lower=True)\n",
    "x = sc.linalg.solve_triangular(L.conj().T, Y)"
   ]
  },
  {
   "cell_type": "code",
   "execution_count": 23,
   "metadata": {
    "collapsed": false
   },
   "outputs": [],
   "source": [
    "import scipy as sc\n",
    "Y = sc.linalg.solve_triangular?"
   ]
  },
  {
   "cell_type": "code",
   "execution_count": 35,
   "metadata": {
    "collapsed": true
   },
   "outputs": [],
   "source": []
  },
  {
   "cell_type": "code",
   "execution_count": 3,
   "metadata": {
    "collapsed": true
   },
   "outputs": [
    {
     "name": "stderr",
     "output_type": "stream",
     "text": [
      "Function profiling\n",
      "==================\n",
      "  Message: <ipython-input-2-372aa8e5a218>:5\n",
      "  Time in 1 calls to Function.__call__: 2.853863e+00s\n",
      "  Time in Function.fn.__call__: 2.853660e+00s (99.993%)\n",
      "  Time in thunks: 2.835782e+00s (99.366%)\n",
      "  Total compile time: 5.617774e+00s\n",
      "    Number of Apply nodes: 3549\n",
      "    Theano Optimizer time: 2.908707e-05s\n",
      "       Theano validate time: 0.000000e+00s\n",
      "    Theano Linker time (includes C, CUDA code generation/compiling): 5.002915e+00s\n",
      "       Import time 2.813554e-01s\n",
      "       Node make_thunk time 4.160188e+00s\n",
      "           Node Elemwise{add,no_inplace}(Elemwise{sub,no_inplace}.0, Elemwise{true_div,no_inplace}.0) time 2.169328e-01s\n",
      "           Node ScalarFromTensor(Elemwise{mul,no_inplace}.0) time 1.820054e-01s\n",
      "           Node InplaceDimShuffle{x,x}(TensorConstant{2}) time 1.541781e-01s\n",
      "           Node Elemwise{add,no_inplace}(Elemwise{mul,no_inplace}.0, Subtensor{int64}.0) time 1.195452e-01s\n",
      "           Node Sum{axis=[0], acc_dtype=float64}(for{cpu,scan_fn}.0) time 3.714991e-02s\n",
      "\n",
      "Time in all call to theano.grad() 0.000000e+00s\n",
      "Time since theano import 266.559s\n",
      "Class\n",
      "---\n",
      "<% time> <sum %> <apply time> <time per call> <type> <#call> <#apply> <Class name>\n",
      "  94.3%    94.3%       2.674s       1.79e-03s     C     1497    1497   theano.tensor.elemwise.Elemwise\n",
      "   1.8%    96.1%       0.052s       6.55e-03s     Py       8       8   theano.tensor.basic.Nonzero\n",
      "   1.8%    97.9%       0.051s       1.34e-03s     Py      38      38   theano.tensor.basic.Dot\n",
      "   0.7%    98.7%       0.020s       7.31e-04s     C       28      28   theano.tensor.basic.Join\n",
      "   0.4%    99.0%       0.011s       4.26e-04s     C       25      25   theano.tensor.basic.Alloc\n",
      "   0.4%    99.4%       0.011s       1.45e-04s     C       73      73   theano.tensor.elemwise.Sum\n",
      "   0.3%    99.7%       0.008s       9.42e-04s     C        8       8   theano.tensor.subtensor.AdvancedSubtensor1\n",
      "   0.2%    99.9%       0.006s       2.79e-03s     Py       2       2   theano.scan_module.scan_op.Scan\n",
      "   0.0%    99.9%       0.001s       2.44e-04s     Py       4       4   theano.tensor.nlinalg.MatrixInverse\n",
      "   0.0%    99.9%       0.001s       9.04e-07s     C      825     825   theano.tensor.elemwise.DimShuffle\n",
      "   0.0%   100.0%       0.001s       2.60e-04s     C        2       2   theano.tensor.basic.MaxAndArgmax\n",
      "   0.0%   100.0%       0.000s       1.15e-06s     C      375     375   theano.tensor.subtensor.Subtensor\n",
      "   0.0%   100.0%       0.000s       1.21e-06s     C      159     159   theano.tensor.basic.Reshape\n",
      "   0.0%   100.0%       0.000s       7.66e-07s     C      225     225   theano.compile.ops.Shape\n",
      "   0.0%   100.0%       0.000s       4.63e-06s     C       32      32   theano.tensor.subtensor.IncSubtensor\n",
      "   0.0%   100.0%       0.000s       2.85e-05s     Py       4       4   theano.tensor.extra_ops.FillDiagonal\n",
      "   0.0%   100.0%       0.000s       6.72e-07s     C      138     138   theano.tensor.opt.MakeVector\n",
      "   0.0%   100.0%       0.000s       5.93e-07s     C      105     105   theano.tensor.basic.ScalarFromTensor\n",
      "   0.0%   100.0%       0.000s       1.31e-05s     C        1       1   theano.tensor.extra_ops.CumOp\n",
      "   ... (remaining 0 Classes account for   0.00%(0.00s) of the runtime)\n",
      "\n",
      "Ops\n",
      "---\n",
      "<% time> <sum %> <apply time> <time per call> <type> <#call> <#apply> <Op name>\n",
      "  78.4%    78.4%       2.222s       7.72e-03s     C      288      288   Elemwise{pow,no_inplace}\n",
      "   4.9%    83.3%       0.140s       3.40e-04s     C      410      410   Elemwise{mul,no_inplace}\n",
      "   4.0%    87.2%       0.112s       6.84e-04s     C      164      164   Elemwise{true_div,no_inplace}\n",
      "   1.9%    89.1%       0.053s       3.30e-04s     C      160      160   Elemwise{sub,no_inplace}\n",
      "   1.8%    91.0%       0.052s       6.55e-03s     Py       8        8   Nonzero\n",
      "   1.8%    92.8%       0.051s       1.34e-03s     Py      38       38   dot\n",
      "   1.7%    94.4%       0.048s       2.93e-04s     C      164      164   Elemwise{add,no_inplace}\n",
      "   1.4%    95.8%       0.040s       1.16e-03s     C       34       34   Elemwise{maximum,no_inplace}\n",
      "   1.1%    96.9%       0.031s       9.15e-04s     C       34       34   Elemwise{sqrt,no_inplace}\n",
      "   0.8%    97.7%       0.022s       8.31e-04s     C       26       26   Elemwise{neg,no_inplace}\n",
      "   0.7%    98.4%       0.020s       7.31e-04s     C       28       28   Join\n",
      "   0.4%    98.8%       0.011s       4.26e-04s     C       25       25   Alloc\n",
      "   0.3%    99.1%       0.008s       9.42e-04s     C        8        8   AdvancedSubtensor1\n",
      "   0.2%    99.3%       0.007s       1.38e-03s     C        5        5   Sum{axis=[0], acc_dtype=float64}\n",
      "   0.2%    99.5%       0.006s       1.55e-04s     C       42       42   Elemwise{lt,no_inplace}\n",
      "   0.2%    99.7%       0.005s       5.33e-03s     Py       1        1   for{cpu,scan_fn}\n",
      "   0.1%    99.8%       0.003s       5.75e-04s     C        6        6   Sum{axis=[1], acc_dtype=float64}\n",
      "   0.0%    99.9%       0.001s       2.44e-04s     Py       4        4   MatrixInverse\n",
      "   0.0%    99.9%       0.001s       8.94e-07s     C      682      682   InplaceDimShuffle{x,x}\n",
      "   0.0%    99.9%       0.001s       2.60e-04s     C        2        2   MaxAndArgmax{axis=(0,)}\n",
      "   ... (remaining 34 Ops account for   0.08%(0.00s) of the runtime)\n",
      "\n",
      "Apply\n",
      "------\n",
      "<% time> <sum %> <apply time> <time per call> <#call> <id> <Apply name>\n",
      "   4.8%     4.8%       0.135s       1.35e-01s      1   3351   Elemwise{pow,no_inplace}(Elemwise{true_div,no_inplace}.0, InplaceDimShuffle{x,x}.0)\n",
      "   4.8%     9.5%       0.135s       1.35e-01s      1   3336   Elemwise{pow,no_inplace}(Elemwise{sqrt,no_inplace}.0, InplaceDimShuffle{x,x}.0)\n",
      "   4.7%    14.3%       0.134s       1.34e-01s      1   3337   Elemwise{pow,no_inplace}(Elemwise{sqrt,no_inplace}.0, InplaceDimShuffle{x,x}.0)\n",
      "   4.7%    19.0%       0.133s       1.33e-01s      1   3355   Elemwise{pow,no_inplace}(Elemwise{true_div,no_inplace}.0, InplaceDimShuffle{x,x}.0)\n",
      "   4.7%    23.6%       0.133s       1.33e-01s      1   3362   Elemwise{pow,no_inplace}(Elemwise{true_div,no_inplace}.0, InplaceDimShuffle{x,x}.0)\n",
      "   4.7%    28.3%       0.133s       1.33e-01s      1   3367   Elemwise{pow,no_inplace}(Elemwise{true_div,no_inplace}.0, InplaceDimShuffle{x,x}.0)\n",
      "   4.7%    33.0%       0.132s       1.32e-01s      1   3366   Elemwise{pow,no_inplace}(Elemwise{true_div,no_inplace}.0, InplaceDimShuffle{x,x}.0)\n",
      "   4.7%    37.6%       0.132s       1.32e-01s      1   3363   Elemwise{pow,no_inplace}(Elemwise{true_div,no_inplace}.0, InplaceDimShuffle{x,x}.0)\n",
      "   4.6%    42.3%       0.131s       1.31e-01s      1   3321   Elemwise{pow,no_inplace}(Elemwise{sqrt,no_inplace}.0, InplaceDimShuffle{x,x}.0)\n",
      "   4.6%    46.9%       0.131s       1.31e-01s      1   3353   Elemwise{pow,no_inplace}(Elemwise{true_div,no_inplace}.0, InplaceDimShuffle{x,x}.0)\n",
      "   4.6%    51.5%       0.131s       1.31e-01s      1   3322   Elemwise{pow,no_inplace}(Elemwise{sqrt,no_inplace}.0, InplaceDimShuffle{x,x}.0)\n",
      "   4.6%    56.1%       0.131s       1.31e-01s      1   3354   Elemwise{pow,no_inplace}(Elemwise{true_div,no_inplace}.0, InplaceDimShuffle{x,x}.0)\n",
      "   4.6%    60.7%       0.131s       1.31e-01s      1   3365   Elemwise{pow,no_inplace}(Elemwise{true_div,no_inplace}.0, InplaceDimShuffle{x,x}.0)\n",
      "   4.6%    65.3%       0.130s       1.30e-01s      1   3349   Elemwise{pow,no_inplace}(Elemwise{true_div,no_inplace}.0, InplaceDimShuffle{x,x}.0)\n",
      "   4.6%    69.9%       0.130s       1.30e-01s      1   3361   Elemwise{pow,no_inplace}(Elemwise{true_div,no_inplace}.0, InplaceDimShuffle{x,x}.0)\n",
      "   4.6%    74.4%       0.130s       1.30e-01s      1   3350   Elemwise{pow,no_inplace}(Elemwise{true_div,no_inplace}.0, InplaceDimShuffle{x,x}.0)\n",
      "   0.9%    75.3%       0.024s       2.42e-02s      1   1099   dot(Rest of the points of the layers, Rest of the points of the layers.T)\n",
      "   0.7%    76.0%       0.019s       1.91e-02s      1   3368   Elemwise{pow,no_inplace}(Elemwise{true_div,no_inplace}.0, InplaceDimShuffle{x,x}.0)\n",
      "   0.7%    76.6%       0.019s       1.91e-02s      1   3352   Elemwise{pow,no_inplace}(Elemwise{true_div,no_inplace}.0, InplaceDimShuffle{x,x}.0)\n",
      "   0.7%    77.3%       0.019s       1.85e-02s      1   3364   Elemwise{pow,no_inplace}(Elemwise{true_div,no_inplace}.0, InplaceDimShuffle{x,x}.0)\n",
      "   ... (remaining 3529 Apply instances account for 22.70%(0.64s) of the runtime)\n",
      "\n",
      "Here are tips to potentially make your code run faster\n",
      "                 (if you think of new ones, suggest them on the mailing list).\n",
      "                 Test them first, as they are not guaranteed to always provide a speedup.\n",
      "We don't know if amdlibm will accelerate this scalar op. deg2rad\n",
      "We don't know if amdlibm will accelerate this scalar op. deg2rad\n",
      "We don't know if amdlibm will accelerate this scalar op. deg2rad\n",
      "We don't know if amdlibm will accelerate this scalar op. deg2rad\n",
      "We don't know if amdlibm will accelerate this scalar op. deg2rad\n",
      "We don't know if amdlibm will accelerate this scalar op. deg2rad\n",
      "We don't know if amdlibm will accelerate this scalar op. deg2rad\n",
      "We don't know if amdlibm will accelerate this scalar op. deg2rad\n",
      "We don't know if amdlibm will accelerate this scalar op. deg2rad\n",
      "We don't know if amdlibm will accelerate this scalar op. deg2rad\n",
      "We don't know if amdlibm will accelerate this scalar op. deg2rad\n",
      "We don't know if amdlibm will accelerate this scalar op. deg2rad\n",
      "We don't know if amdlibm will accelerate this scalar op. deg2rad\n",
      "We don't know if amdlibm will accelerate this scalar op. deg2rad\n",
      "We don't know if amdlibm will accelerate this scalar op. deg2rad\n",
      "We don't know if amdlibm will accelerate this scalar op. deg2rad\n",
      "We don't know if amdlibm will accelerate this scalar op. deg2rad\n",
      "We don't know if amdlibm will accelerate this scalar op. deg2rad\n",
      "We don't know if amdlibm will accelerate this scalar op. deg2rad\n",
      "We don't know if amdlibm will accelerate this scalar op. deg2rad\n",
      "  - Try installing amdlibm and set the Theano flag lib.amdlibm=True. This speeds up only some Elemwise operation.\n",
      "  - You have a dot operation that was not optimized to dot22 (which is faster). Make sure the inputs are float32 or float64, and are the same for both inputs. Currently they are: [TensorType(float32, matrix), TensorType(float32, matrix)]\n",
      "  - You have a dot operation that was not optimized to dot22 (which is faster). Make sure the inputs are float32 or float64, and are the same for both inputs. Currently they are: [TensorType(float32, matrix), TensorType(float32, matrix)]\n",
      "  - You have a dot operation that was not optimized to dot22 (which is faster). Make sure the inputs are float32 or float64, and are the same for both inputs. Currently they are: [TensorType(float32, matrix), TensorType(float32, matrix)]\n",
      "  - You have a dot operation that was not optimized to dot22 (which is faster). Make sure the inputs are float32 or float64, and are the same for both inputs. Currently they are: [TensorType(float32, matrix), TensorType(float32, matrix)]\n",
      "  - You have a dot operation that was not optimized to dot22 (which is faster). Make sure the inputs are float32 or float64, and are the same for both inputs. Currently they are: [TensorType(float32, matrix), TensorType(float32, matrix)]\n",
      "  - You have a dot operation that was not optimized to dot22 (which is faster). Make sure the inputs are float32 or float64, and are the same for both inputs. Currently they are: [TensorType(float32, matrix), TensorType(float32, matrix)]\n",
      "  - You have a dot operation that was not optimized to dot22 (which is faster). Make sure the inputs are float32 or float64, and are the same for both inputs. Currently they are: [TensorType(float32, matrix), TensorType(float64, matrix)]\n",
      "  - You have a dot operation that was not optimized to dot22 (which is faster). Make sure the inputs are float32 or float64, and are the same for both inputs. Currently they are: [TensorType(float32, matrix), TensorType(float64, matrix)]\n",
      "  - You have a dot operation that was not optimized to dot22 (which is faster). Make sure the inputs are float32 or float64, and are the same for both inputs. Currently they are: [TensorType(float32, matrix), TensorType(float32, matrix)]\n",
      "  - You have a dot operation that was not optimized to dot22 (which is faster). Make sure the inputs are float32 or float64, and are the same for both inputs. Currently they are: [TensorType(float32, matrix), TensorType(float32, matrix)]\n",
      "  - You have a dot operation that was not optimized to dot22 (which is faster). Make sure the inputs are float32 or float64, and are the same for both inputs. Currently they are: [TensorType(float32, matrix), TensorType(float32, matrix)]\n",
      "  - You have a dot operation that was not optimized to dot22 (which is faster). Make sure the inputs are float32 or float64, and are the same for both inputs. Currently they are: [TensorType(float32, matrix), TensorType(float32, matrix)]\n",
      "  - You have a dot operation that was not optimized to dot22 (which is faster). Make sure the inputs are float32 or float64, and are the same for both inputs. Currently they are: [TensorType(float32, matrix), TensorType(float64, matrix)]\n",
      "  - You have a dot operation that was not optimized to dot22 (which is faster). Make sure the inputs are float32 or float64, and are the same for both inputs. Currently they are: [TensorType(float32, matrix), TensorType(float64, matrix)]\n",
      "  - You have a dot operation that was not optimized to dot22 (which is faster). Make sure the inputs are float32 or float64, and are the same for both inputs. Currently they are: [TensorType(float32, matrix), TensorType(float32, matrix)]\n",
      "  - You have a dot operation that was not optimized to dot22 (which is faster). Make sure the inputs are float32 or float64, and are the same for both inputs. Currently they are: [TensorType(float32, matrix), TensorType(float32, matrix)]\n",
      "  - You have a dot operation that was not optimized to dot22 (which is faster). Make sure the inputs are float32 or float64, and are the same for both inputs. Currently they are: [TensorType(float32, matrix), TensorType(float32, matrix)]\n",
      "  - You have a dot operation that was not optimized to dot22 (which is faster). Make sure the inputs are float32 or float64, and are the same for both inputs. Currently they are: [TensorType(float32, matrix), TensorType(float32, matrix)]\n",
      "  - You have a dot operation that was not optimized to dot22 (which is faster). Make sure the inputs are float32 or float64, and are the same for both inputs. Currently they are: [TensorType(float32, matrix), TensorType(float64, matrix)]\n",
      "  - You have a dot operation that was not optimized to dot22 (which is faster). Make sure the inputs are float32 or float64, and are the same for both inputs. Currently they are: [TensorType(float32, matrix), TensorType(float32, matrix)]\n",
      "  - You have a dot operation that was not optimized to dot22 (which is faster). Make sure the inputs are float32 or float64, and are the same for both inputs. Currently they are: [TensorType(float32, matrix), TensorType(float32, matrix)]\n",
      "  - You have a dot operation that was not optimized to dot22 (which is faster). Make sure the inputs are float32 or float64, and are the same for both inputs. Currently they are: [TensorType(float32, matrix), TensorType(float32, matrix)]\n",
      "  - You have a dot operation that was not optimized to dot22 (which is faster). Make sure the inputs are float32 or float64, and are the same for both inputs. Currently they are: [TensorType(float32, matrix), TensorType(float32, matrix)]\n",
      "  - You have a dot operation that was not optimized to dot22 (which is faster). Make sure the inputs are float32 or float64, and are the same for both inputs. Currently they are: [TensorType(float32, matrix), TensorType(float32, matrix)]\n",
      "  - You have a dot operation that was not optimized to dot22 (which is faster). Make sure the inputs are float32 or float64, and are the same for both inputs. Currently they are: [TensorType(float32, matrix), TensorType(float32, matrix)]\n",
      "  - You have a dot operation that was not optimized to dot22 (which is faster). Make sure the inputs are float32 or float64, and are the same for both inputs. Currently they are: [TensorType(float32, matrix), TensorType(float32, matrix)]\n",
      "  - You have a dot operation that was not optimized to dot22 (which is faster). Make sure the inputs are float32 or float64, and are the same for both inputs. Currently they are: [TensorType(float32, matrix), TensorType(float32, matrix)]\n",
      "  - You have a dot operation that was not optimized to dot22 (which is faster). Make sure the inputs are float32 or float64, and are the same for both inputs. Currently they are: [TensorType(float32, matrix), TensorType(float32, matrix)]\n",
      "  - You have a dot operation that was not optimized to dot22 (which is faster). Make sure the inputs are float32 or float64, and are the same for both inputs. Currently they are: [TensorType(float32, matrix), TensorType(float32, matrix)]\n",
      "  - You have a dot operation that was not optimized to dot22 (which is faster). Make sure the inputs are float32 or float64, and are the same for both inputs. Currently they are: [TensorType(float32, matrix), TensorType(float32, matrix)]\n",
      "  - You have a dot operation that was not optimized to dot22 (which is faster). Make sure the inputs are float32 or float64, and are the same for both inputs. Currently they are: [TensorType(float32, matrix), TensorType(float32, matrix)]\n",
      "  - You have a dot operation that was not optimized to dot22 (which is faster). Make sure the inputs are float32 or float64, and are the same for both inputs. Currently they are: [TensorType(float32, matrix), TensorType(float64, matrix)]\n",
      "  - You have a dot operation that was not optimized to dot22 (which is faster). Make sure the inputs are float32 or float64, and are the same for both inputs. Currently they are: [TensorType(float32, matrix), TensorType(float32, matrix)]\n",
      "  - You have a dot operation that was not optimized to dot22 (which is faster). Make sure the inputs are float32 or float64, and are the same for both inputs. Currently they are: [TensorType(float32, matrix), TensorType(float32, matrix)]\n",
      "  - You have a dot operation that has different dtype  for inputs ([TensorType(float32, matrix), TensorType(float64, matrix)]). Make sure that the inputs have same  dtype.\n",
      "  - You have a dot operation that has different dtype  for inputs ([TensorType(float32, matrix), TensorType(float64, matrix)]). Make sure that the inputs have same  dtype.\n",
      "  - You have a dot operation that has different dtype  for inputs ([TensorType(float32, matrix), TensorType(float64, matrix)]). Make sure that the inputs have same  dtype.\n",
      "  - You have a dot operation that has different dtype  for inputs ([TensorType(float32, matrix), TensorType(float64, matrix)]). Make sure that the inputs have same  dtype.\n",
      "  - You have a dot operation that has different dtype  for inputs ([TensorType(float32, matrix), TensorType(float64, matrix)]). Make sure that the inputs have same  dtype.\n",
      "  - You have a dot operation that has different dtype  for inputs ([TensorType(float32, matrix), TensorType(float64, matrix)]). Make sure that the inputs have same  dtype.\n"
     ]
    }
   ],
   "source": [
    "debugging.profile.summary()"
   ]
  },
  {
   "cell_type": "code",
   "execution_count": 20,
   "metadata": {
    "collapsed": false
   },
   "outputs": [],
   "source": [
    "data_interp.interpolator.tg.dips_position_all.set_value(input_data_P[0])\n",
    "data_interp.interpolator.tg.dip_angles_all.set_value(input_data_P[1])\n",
    "data_interp.interpolator.tg.azimuth_all.set_value(input_data_P[2])\n",
    "data_interp.interpolator.tg.polarity_all.set_value(input_data_P[3])\n",
    "data_interp.interpolator.tg.ref_layer_points_all.set_value(input_data_P[4])\n",
    "data_interp.interpolator.tg.rest_layer_points_all.set_value(input_data_P[5])"
   ]
  }
 ],
 "metadata": {
  "anaconda-cloud": {},
  "celltoolbar": "Initialisation Cell",
  "kernelspec": {
   "display_name": "Python [Root]",
   "language": "python",
   "name": "Python [Root]"
  },
  "language_info": {
   "codemirror_mode": {
    "name": "ipython",
    "version": 3
   },
   "file_extension": ".py",
   "mimetype": "text/x-python",
   "name": "python",
   "nbconvert_exporter": "python",
   "pygments_lexer": "ipython3",
   "version": "3.5.2"
  },
  "latex_envs": {
   "bibliofile": "biblio.bib",
   "cite_by": "number",
   "current_citInitial": 1,
   "eqLabelWithNumbers": true,
   "eqNumInitial": 0
  },
  "nav_menu": {},
  "toc": {
   "navigate_menu": true,
   "number_sections": false,
   "sideBar": true,
   "threshold": 6,
   "toc_cell": false,
   "toc_section_display": "block",
   "toc_window_display": false
  }
 },
 "nbformat": 4,
 "nbformat_minor": 0
}
