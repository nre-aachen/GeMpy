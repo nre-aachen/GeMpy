{
 "cells": [
  {
   "cell_type": "markdown",
   "metadata": {},
   "source": [
    "# Chapter 4: Bayesian Statistics (Working in progress proof of concept)"
   ]
  },
  {
   "cell_type": "code",
   "execution_count": 1,
   "metadata": {},
   "outputs": [],
   "source": [
    "# These two lines are necessary only if gempy is not installed\n",
    "import sys, os\n",
    "sys.path.append(\"../\")\n",
    "\n",
    "# Importing gempy\n",
    "import gempy as gp\n",
    "\n",
    "# Embedding matplotlib figures into the notebooks\n",
    "%matplotlib inline\n",
    "\n",
    "# Aux imports\n",
    "import numpy as np"
   ]
  },
  {
   "cell_type": "code",
   "execution_count": 2,
   "metadata": {},
   "outputs": [],
   "source": [
    "geo_data = gp.read_pickle('../input_data/sandstone.pickle')"
   ]
  },
  {
   "cell_type": "code",
   "execution_count": 3,
   "metadata": {},
   "outputs": [
    {
     "data": {
      "text/html": [
       "<div>\n",
       "<style>\n",
       "    .dataframe thead tr:only-child th {\n",
       "        text-align: right;\n",
       "    }\n",
       "\n",
       "    .dataframe thead th {\n",
       "        text-align: left;\n",
       "    }\n",
       "\n",
       "    .dataframe tbody tr th {\n",
       "        vertical-align: top;\n",
       "    }\n",
       "</style>\n",
       "<table border=\"1\" class=\"dataframe\">\n",
       "  <thead>\n",
       "    <tr style=\"text-align: right;\">\n",
       "      <th></th>\n",
       "      <th>EarlyGranite_Series</th>\n",
       "      <th>BIF_Series</th>\n",
       "      <th>SimpleMafic_Series</th>\n",
       "    </tr>\n",
       "  </thead>\n",
       "  <tbody>\n",
       "    <tr>\n",
       "      <th>0</th>\n",
       "      <td>EarlyGranite</td>\n",
       "      <td>SimpleMafic2</td>\n",
       "      <td>SimpleMafic1</td>\n",
       "    </tr>\n",
       "    <tr>\n",
       "      <th>1</th>\n",
       "      <td>EarlyGranite</td>\n",
       "      <td>SimpleBIF</td>\n",
       "      <td>SimpleMafic1</td>\n",
       "    </tr>\n",
       "  </tbody>\n",
       "</table>\n",
       "</div>"
      ],
      "text/plain": [
       "  EarlyGranite_Series    BIF_Series SimpleMafic_Series\n",
       "0        EarlyGranite  SimpleMafic2       SimpleMafic1\n",
       "1        EarlyGranite     SimpleBIF       SimpleMafic1"
      ]
     },
     "execution_count": 3,
     "metadata": {},
     "output_type": "execute_result"
    }
   ],
   "source": [
    "# Assigning series to formations as well as their order (timewise)\n",
    "gp.set_data_series(geo_data, {\"EarlyGranite_Series\": 'EarlyGranite', \n",
    "                              \"BIF_Series\":('SimpleMafic2', 'SimpleBIF'),\n",
    "                              \"SimpleMafic_Series\":'SimpleMafic1'}, \n",
    "                      order_series = [\"EarlyGranite_Series\",\n",
    "                                      \"BIF_Series\",\n",
    "                                      \"SimpleMafic_Series\"], verbose=1)"
   ]
  },
  {
   "cell_type": "code",
   "execution_count": 4,
   "metadata": {
    "scrolled": false
   },
   "outputs": [],
   "source": [
    "geo_data.interfaces['X_std'] = None\n",
    "geo_data.interfaces['Y_std'] = 0\n",
    "geo_data.interfaces['Z_std'] = 100\n",
    "\n",
    "geo_data.foliations['X_std'] = None\n",
    "geo_data.foliations['Y_std'] = 0\n",
    "geo_data.foliations['Z_std'] = 0"
   ]
  },
  {
   "cell_type": "code",
   "execution_count": 5,
   "metadata": {},
   "outputs": [
    {
     "data": {
      "text/html": [
       "<div>\n",
       "<style>\n",
       "    .dataframe thead tr:only-child th {\n",
       "        text-align: right;\n",
       "    }\n",
       "\n",
       "    .dataframe thead th {\n",
       "        text-align: left;\n",
       "    }\n",
       "\n",
       "    .dataframe tbody tr th {\n",
       "        vertical-align: top;\n",
       "    }\n",
       "</style>\n",
       "<table border=\"1\" class=\"dataframe\">\n",
       "  <thead>\n",
       "    <tr style=\"text-align: right;\">\n",
       "      <th></th>\n",
       "      <th>X</th>\n",
       "      <th>Y</th>\n",
       "      <th>Z</th>\n",
       "      <th>azimuth</th>\n",
       "      <th>dip</th>\n",
       "      <th>polarity</th>\n",
       "      <th>formation</th>\n",
       "      <th>series</th>\n",
       "      <th>order_series</th>\n",
       "      <th>G_x</th>\n",
       "      <th>G_y</th>\n",
       "      <th>G_z</th>\n",
       "      <th>X_std</th>\n",
       "      <th>Y_std</th>\n",
       "      <th>Z_std</th>\n",
       "      <th>dip_std</th>\n",
       "      <th>azimuth_std</th>\n",
       "    </tr>\n",
       "  </thead>\n",
       "  <tbody>\n",
       "    <tr>\n",
       "      <th>0</th>\n",
       "      <td>735082.0630</td>\n",
       "      <td>6879102.25</td>\n",
       "      <td>480.551436</td>\n",
       "      <td>276.153239</td>\n",
       "      <td>80.0</td>\n",
       "      <td>1</td>\n",
       "      <td>EarlyGranite</td>\n",
       "      <td>EarlyGranite_Series</td>\n",
       "      <td>1</td>\n",
       "      <td>-0.979134</td>\n",
       "      <td>0.105560</td>\n",
       "      <td>0.173648</td>\n",
       "      <td>None</td>\n",
       "      <td>0</td>\n",
       "      <td>0</td>\n",
       "      <td>10</td>\n",
       "      <td>10</td>\n",
       "    </tr>\n",
       "    <tr>\n",
       "      <th>1</th>\n",
       "      <td>715991.2815</td>\n",
       "      <td>6882773.25</td>\n",
       "      <td>505.165864</td>\n",
       "      <td>152.654159</td>\n",
       "      <td>80.0</td>\n",
       "      <td>1</td>\n",
       "      <td>EarlyGranite</td>\n",
       "      <td>EarlyGranite_Series</td>\n",
       "      <td>1</td>\n",
       "      <td>0.452382</td>\n",
       "      <td>-0.874755</td>\n",
       "      <td>0.173648</td>\n",
       "      <td>None</td>\n",
       "      <td>0</td>\n",
       "      <td>0</td>\n",
       "      <td>10</td>\n",
       "      <td>10</td>\n",
       "    </tr>\n",
       "    <tr>\n",
       "      <th>2</th>\n",
       "      <td>728767.4065</td>\n",
       "      <td>6878759.25</td>\n",
       "      <td>470.031623</td>\n",
       "      <td>165.980598</td>\n",
       "      <td>80.0</td>\n",
       "      <td>1</td>\n",
       "      <td>EarlyGranite</td>\n",
       "      <td>EarlyGranite_Series</td>\n",
       "      <td>1</td>\n",
       "      <td>0.238570</td>\n",
       "      <td>-0.955474</td>\n",
       "      <td>0.173648</td>\n",
       "      <td>None</td>\n",
       "      <td>0</td>\n",
       "      <td>0</td>\n",
       "      <td>10</td>\n",
       "      <td>10</td>\n",
       "    </tr>\n",
       "    <tr>\n",
       "      <th>3</th>\n",
       "      <td>730627.5315</td>\n",
       "      <td>6880472.50</td>\n",
       "      <td>477.402658</td>\n",
       "      <td>120.986348</td>\n",
       "      <td>80.0</td>\n",
       "      <td>1</td>\n",
       "      <td>EarlyGranite</td>\n",
       "      <td>EarlyGranite_Series</td>\n",
       "      <td>1</td>\n",
       "      <td>0.844266</td>\n",
       "      <td>-0.507012</td>\n",
       "      <td>0.173648</td>\n",
       "      <td>None</td>\n",
       "      <td>0</td>\n",
       "      <td>0</td>\n",
       "      <td>10</td>\n",
       "      <td>10</td>\n",
       "    </tr>\n",
       "    <tr>\n",
       "      <th>4</th>\n",
       "      <td>732683.4690</td>\n",
       "      <td>6882332.75</td>\n",
       "      <td>481.711952</td>\n",
       "      <td>161.600709</td>\n",
       "      <td>80.0</td>\n",
       "      <td>1</td>\n",
       "      <td>EarlyGranite</td>\n",
       "      <td>EarlyGranite_Series</td>\n",
       "      <td>1</td>\n",
       "      <td>0.310842</td>\n",
       "      <td>-0.934464</td>\n",
       "      <td>0.173648</td>\n",
       "      <td>None</td>\n",
       "      <td>0</td>\n",
       "      <td>0</td>\n",
       "      <td>10</td>\n",
       "      <td>10</td>\n",
       "    </tr>\n",
       "  </tbody>\n",
       "</table>\n",
       "</div>"
      ],
      "text/plain": [
       "             X           Y           Z     azimuth   dip  polarity  \\\n",
       "0  735082.0630  6879102.25  480.551436  276.153239  80.0         1   \n",
       "1  715991.2815  6882773.25  505.165864  152.654159  80.0         1   \n",
       "2  728767.4065  6878759.25  470.031623  165.980598  80.0         1   \n",
       "3  730627.5315  6880472.50  477.402658  120.986348  80.0         1   \n",
       "4  732683.4690  6882332.75  481.711952  161.600709  80.0         1   \n",
       "\n",
       "      formation               series  order_series       G_x       G_y  \\\n",
       "0  EarlyGranite  EarlyGranite_Series             1 -0.979134  0.105560   \n",
       "1  EarlyGranite  EarlyGranite_Series             1  0.452382 -0.874755   \n",
       "2  EarlyGranite  EarlyGranite_Series             1  0.238570 -0.955474   \n",
       "3  EarlyGranite  EarlyGranite_Series             1  0.844266 -0.507012   \n",
       "4  EarlyGranite  EarlyGranite_Series             1  0.310842 -0.934464   \n",
       "\n",
       "        G_z X_std  Y_std  Z_std  dip_std  azimuth_std  \n",
       "0  0.173648  None      0      0       10           10  \n",
       "1  0.173648  None      0      0       10           10  \n",
       "2  0.173648  None      0      0       10           10  \n",
       "3  0.173648  None      0      0       10           10  \n",
       "4  0.173648  None      0      0       10           10  "
      ]
     },
     "execution_count": 5,
     "metadata": {},
     "output_type": "execute_result"
    }
   ],
   "source": [
    "geo_data.foliations['dip_std'] = 10\n",
    "geo_data.foliations['azimuth_std'] = 10\n",
    "geo_data.foliations.head()"
   ]
  },
  {
   "cell_type": "code",
   "execution_count": 6,
   "metadata": {
    "scrolled": false
   },
   "outputs": [
    {
     "name": "stdout",
     "output_type": "stream",
     "text": [
      "I am in the setting\n",
      "float32\n",
      "I am here\n",
      "[2, 2]\n"
     ]
    }
   ],
   "source": [
    "interp_data = gp.InterpolatorInput(geo_data, compile_theano=False, u_grade=[3,3])"
   ]
  },
  {
   "cell_type": "code",
   "execution_count": 7,
   "metadata": {
    "scrolled": false
   },
   "outputs": [
    {
     "data": {
      "text/html": [
       "<div>\n",
       "<style>\n",
       "    .dataframe thead tr:only-child th {\n",
       "        text-align: right;\n",
       "    }\n",
       "\n",
       "    .dataframe thead th {\n",
       "        text-align: left;\n",
       "    }\n",
       "\n",
       "    .dataframe tbody tr th {\n",
       "        vertical-align: top;\n",
       "    }\n",
       "</style>\n",
       "<table border=\"1\" class=\"dataframe\">\n",
       "  <thead>\n",
       "    <tr style=\"text-align: right;\">\n",
       "      <th></th>\n",
       "      <th>X</th>\n",
       "      <th>Y</th>\n",
       "      <th>Z</th>\n",
       "      <th>formation</th>\n",
       "      <th>series</th>\n",
       "      <th>order_series</th>\n",
       "      <th>X_std</th>\n",
       "      <th>Y_std</th>\n",
       "      <th>Z_std</th>\n",
       "      <th>formation number</th>\n",
       "    </tr>\n",
       "  </thead>\n",
       "  <tbody>\n",
       "    <tr>\n",
       "      <th>0</th>\n",
       "      <td>0.251624</td>\n",
       "      <td>0.2501</td>\n",
       "      <td>0.545482</td>\n",
       "      <td>EarlyGranite</td>\n",
       "      <td>EarlyGranite_Series</td>\n",
       "      <td>1</td>\n",
       "      <td>NaN</td>\n",
       "      <td>0.0</td>\n",
       "      <td>0.00103</td>\n",
       "      <td>1</td>\n",
       "    </tr>\n",
       "    <tr>\n",
       "      <th>1</th>\n",
       "      <td>0.627614</td>\n",
       "      <td>0.30554</td>\n",
       "      <td>0.545444</td>\n",
       "      <td>EarlyGranite</td>\n",
       "      <td>EarlyGranite_Series</td>\n",
       "      <td>1</td>\n",
       "      <td>NaN</td>\n",
       "      <td>0.0</td>\n",
       "      <td>0.00103</td>\n",
       "      <td>1</td>\n",
       "    </tr>\n",
       "    <tr>\n",
       "      <th>2</th>\n",
       "      <td>0.630638</td>\n",
       "      <td>0.389207</td>\n",
       "      <td>0.545792</td>\n",
       "      <td>EarlyGranite</td>\n",
       "      <td>EarlyGranite_Series</td>\n",
       "      <td>1</td>\n",
       "      <td>NaN</td>\n",
       "      <td>0.0</td>\n",
       "      <td>0.00103</td>\n",
       "      <td>1</td>\n",
       "    </tr>\n",
       "    <tr>\n",
       "      <th>3</th>\n",
       "      <td>0.645758</td>\n",
       "      <td>0.375096</td>\n",
       "      <td>0.545853</td>\n",
       "      <td>EarlyGranite</td>\n",
       "      <td>EarlyGranite_Series</td>\n",
       "      <td>1</td>\n",
       "      <td>NaN</td>\n",
       "      <td>0.0</td>\n",
       "      <td>0.00103</td>\n",
       "      <td>1</td>\n",
       "    </tr>\n",
       "    <tr>\n",
       "      <th>4</th>\n",
       "      <td>0.640718</td>\n",
       "      <td>0.328727</td>\n",
       "      <td>0.545622</td>\n",
       "      <td>EarlyGranite</td>\n",
       "      <td>EarlyGranite_Series</td>\n",
       "      <td>1</td>\n",
       "      <td>NaN</td>\n",
       "      <td>0.0</td>\n",
       "      <td>0.00103</td>\n",
       "      <td>1</td>\n",
       "    </tr>\n",
       "  </tbody>\n",
       "</table>\n",
       "</div>"
      ],
      "text/plain": [
       "          X         Y         Z     formation               series  \\\n",
       "0  0.251624    0.2501  0.545482  EarlyGranite  EarlyGranite_Series   \n",
       "1  0.627614   0.30554  0.545444  EarlyGranite  EarlyGranite_Series   \n",
       "2  0.630638  0.389207  0.545792  EarlyGranite  EarlyGranite_Series   \n",
       "3  0.645758  0.375096  0.545853  EarlyGranite  EarlyGranite_Series   \n",
       "4  0.640718  0.328727  0.545622  EarlyGranite  EarlyGranite_Series   \n",
       "\n",
       "   order_series X_std  Y_std    Z_std  formation number  \n",
       "0             1   NaN    0.0  0.00103                 1  \n",
       "1             1   NaN    0.0  0.00103                 1  \n",
       "2             1   NaN    0.0  0.00103                 1  \n",
       "3             1   NaN    0.0  0.00103                 1  \n",
       "4             1   NaN    0.0  0.00103                 1  "
      ]
     },
     "execution_count": 7,
     "metadata": {},
     "output_type": "execute_result"
    }
   ],
   "source": [
    "interp_data.data.interfaces.head()"
   ]
  },
  {
   "cell_type": "code",
   "execution_count": 8,
   "metadata": {},
   "outputs": [],
   "source": [
    "import pymc3 as pm"
   ]
  },
  {
   "cell_type": "code",
   "execution_count": 9,
   "metadata": {
    "code_folding": []
   },
   "outputs": [],
   "source": [
    "# with pm.Model():\n",
    "#     Z = pm.Normal('Z_unc', interp_data.data.interfaces['Z'].as_matrix().astype('float'),\n",
    "#                   interp_data.data.interfaces['Z_std'].as_matrix().astype('float'))"
   ]
  },
  {
   "cell_type": "code",
   "execution_count": null,
   "metadata": {},
   "outputs": [],
   "source": []
  },
  {
   "cell_type": "code",
   "execution_count": 10,
   "metadata": {},
   "outputs": [],
   "source": [
    "import theano\n",
    "import theano.tensor as T\n",
    "geomodel = theano.OpFromGraph( interp_data.interpolator.tg.input_parameters_list(),\n",
    "                              [interp_data.interpolator.tg.whole_block_model(0)], on_unused_input='ignore',\n",
    "                            )"
   ]
  },
  {
   "cell_type": "code",
   "execution_count": 11,
   "metadata": {},
   "outputs": [
    {
     "name": "stdout",
     "output_type": "stream",
     "text": [
      "[3, 3]\n"
     ]
    }
   ],
   "source": [
    "input_data_P = interp_data.get_input_data()"
   ]
  },
  {
   "cell_type": "code",
   "execution_count": 12,
   "metadata": {
    "code_folding": []
   },
   "outputs": [
    {
     "name": "stderr",
     "output_type": "stream",
     "text": [
      "/home/miguel/anaconda3/lib/python3.6/site-packages/theano/compile/pfunc.py:96: UserWarning: You are creating a TensorVariable with float64 dtype. You requested an action via the Theano flag warn_float64={ignore,warn,raise,pdb}.\n",
      "  [clone_d[i] for i in owner.inputs], strict=rebuild_strict)\n",
      "/home/miguel/anaconda3/lib/python3.6/site-packages/theano/compile/pfunc.py:96: UserWarning: You are creating a TensorVariable with float64 dtype. You requested an action via the Theano flag warn_float64={ignore,warn,raise,pdb}.\n",
      "  [clone_d[i] for i in owner.inputs], strict=rebuild_strict)\n",
      "/home/miguel/anaconda3/lib/python3.6/site-packages/theano/compile/pfunc.py:96: UserWarning: You are creating a TensorVariable with float64 dtype. You requested an action via the Theano flag warn_float64={ignore,warn,raise,pdb}.\n",
      "  [clone_d[i] for i in owner.inputs], strict=rebuild_strict)\n",
      "/home/miguel/anaconda3/lib/python3.6/site-packages/theano/compile/function_module.py:177: UserWarning: You are creating a TensorVariable with float64 dtype. You requested an action via the Theano flag warn_float64={ignore,warn,raise,pdb}.\n",
      "  update_mapping=update_mapping)\n",
      "/home/miguel/anaconda3/lib/python3.6/site-packages/theano/scan_module/scan_utils.py:96: UserWarning: You are creating a TensorVariable with float64 dtype. You requested an action via the Theano flag warn_float64={ignore,warn,raise,pdb}.\n",
      "  nw_x = x.type()\n",
      "/home/miguel/anaconda3/lib/python3.6/site-packages/theano/scan_module/scan_utils.py:242: UserWarning: You are creating a TensorVariable with float64 dtype. You requested an action via the Theano flag warn_float64={ignore,warn,raise,pdb}.\n",
      "  tmp_replace = [(x, x.type()) for x, y in items]\n",
      "/home/miguel/anaconda3/lib/python3.6/site-packages/theano/scan_module/scan_op.py:660: UserWarning: You are creating a TensorVariable with float64 dtype. You requested an action via the Theano flag warn_float64={ignore,warn,raise,pdb}.\n",
      "  [t() for t in self.output_types])\n",
      "/home/miguel/anaconda3/lib/python3.6/site-packages/theano/scan_module/scan_opt.py:555: UserWarning: You are creating a TensorVariable with float64 dtype. You requested an action via the Theano flag warn_float64={ignore,warn,raise,pdb}.\n",
      "  new_outer = outside_ins.dimshuffle(new_ord)\n",
      "/home/miguel/anaconda3/lib/python3.6/site-packages/theano/compile/function_module.py:1474: UserWarning: You are creating a TensorVariable with float64 dtype. You requested an action via the Theano flag warn_float64={ignore,warn,raise,pdb}.\n",
      "  optimizer_profile = optimizer(fgraph)\n",
      "/home/miguel/anaconda3/lib/python3.6/site-packages/theano/compile/pfunc.py:96: UserWarning: You are creating a TensorVariable with float64 dtype. You requested an action via the Theano flag warn_float64={ignore,warn,raise,pdb}.\n",
      "  [clone_d[i] for i in owner.inputs], strict=rebuild_strict)\n",
      "/home/miguel/anaconda3/lib/python3.6/site-packages/theano/compile/pfunc.py:96: UserWarning: You are creating a TensorVariable with float64 dtype. You requested an action via the Theano flag warn_float64={ignore,warn,raise,pdb}.\n",
      "  [clone_d[i] for i in owner.inputs], strict=rebuild_strict)\n",
      "/home/miguel/anaconda3/lib/python3.6/site-packages/theano/scan_module/scan_op.py:660: UserWarning: You are creating a TensorVariable with float64 dtype. You requested an action via the Theano flag warn_float64={ignore,warn,raise,pdb}.\n",
      "  [t() for t in self.output_types])\n",
      "/home/miguel/anaconda3/lib/python3.6/site-packages/theano/compile/pfunc.py:96: UserWarning: You are creating a TensorVariable with float64 dtype. You requested an action via the Theano flag warn_float64={ignore,warn,raise,pdb}.\n",
      "  [clone_d[i] for i in owner.inputs], strict=rebuild_strict)\n",
      "/home/miguel/anaconda3/lib/python3.6/site-packages/theano/compile/function_module.py:177: UserWarning: You are creating a TensorVariable with float64 dtype. You requested an action via the Theano flag warn_float64={ignore,warn,raise,pdb}.\n",
      "  update_mapping=update_mapping)\n",
      "/home/miguel/anaconda3/lib/python3.6/site-packages/theano/compile/ops.py:55: UserWarning: You are creating a TensorVariable with float64 dtype. You requested an action via the Theano flag warn_float64={ignore,warn,raise,pdb}.\n",
      "  return gof.Apply(self, [x], [x.type()])\n",
      "/home/miguel/anaconda3/lib/python3.6/site-packages/theano/compile/function_module.py:1661: UserWarning: You are creating a TensorVariable with float64 dtype. You requested an action via the Theano flag warn_float64={ignore,warn,raise,pdb}.\n",
      "  input_storage=input_storage_lists, storage_map=storage_map)\n",
      "/home/miguel/anaconda3/lib/python3.6/site-packages/theano/compile/function_module.py:1661: UserWarning: You are creating a TensorVariable with float64 dtype. You requested an action via the Theano flag warn_float64={ignore,warn,raise,pdb}.\n",
      "  input_storage=input_storage_lists, storage_map=storage_map)\n",
      "/home/miguel/anaconda3/lib/python3.6/site-packages/theano/compile/function_module.py:1661: UserWarning: You are creating a TensorVariable with float64 dtype. You requested an action via the Theano flag warn_float64={ignore,warn,raise,pdb}.\n",
      "  input_storage=input_storage_lists, storage_map=storage_map)\n",
      "/home/miguel/anaconda3/lib/python3.6/site-packages/theano/compile/function_module.py:1661: UserWarning: You are creating a TensorVariable with float64 dtype. You requested an action via the Theano flag warn_float64={ignore,warn,raise,pdb}.\n",
      "  input_storage=input_storage_lists, storage_map=storage_map)\n",
      "/home/miguel/anaconda3/lib/python3.6/site-packages/scipy/linalg/basic.py:223: RuntimeWarning: scipy.linalg.solve\n",
      "Ill-conditioned matrix detected. Result is not guaranteed to be accurate.\n",
      "Reciprocal condition number: 4.2776672870559196e-08\n",
      "  ' condition number: {}'.format(rcond), RuntimeWarning)\n"
     ]
    }
   ],
   "source": [
    "# This is the creation of the model\n",
    "import pymc3 as pm\n",
    "theano.config.compute_test_value = 'off'\n",
    "theano.config.warn_float64 = 'warn'\n",
    "model = pm.Model()\n",
    "with model:\n",
    "    # Stochastic value\n",
    "    Z_rest = pm.Normal('Z_unc_rest',\n",
    "       interp_data.interpolator.pandas_rest_layer_points['Z'].as_matrix().astype('float32'),\n",
    "       interp_data.interpolator.pandas_rest_layer_points['Z_std'].as_matrix().astype('float32'),\n",
    "                  dtype='float32', shape = (66))\n",
    "    \n",
    "    Z_ref = pm.Normal('Z_unc_ref', interp_data.interpolator.ref_layer_points[:, 2].astype('float32'),\n",
    "              interp_data.interpolator.ref_layer_points[:, 2].astype('float32'),\n",
    "              dtype='float32', shape = (66))\n",
    "\n",
    "    # We convert a python variable to theano.shared\n",
    "    input_sh = []\n",
    "    for i in input_data_P:\n",
    "        input_sh.append(theano.shared(i))\n",
    "        # We add the stochastic value to the correspondant array\n",
    "    input_sh[4] = T.set_subtensor(\n",
    "    input_sh[4][:, 2], Z_ref)\n",
    "\n",
    "    input_sh[5] = T.set_subtensor(\n",
    "    input_sh[5][:, 2], Z_rest)\n",
    "\n",
    "    geo_model = pm.Deterministic('GeMpy', geomodel(input_sh[0], input_sh[1], input_sh[2],\n",
    "                                                   input_sh[3], input_sh[4], input_sh[5]))"
   ]
  },
  {
   "cell_type": "code",
   "execution_count": 13,
   "metadata": {
    "scrolled": false
   },
   "outputs": [
    {
     "name": "stderr",
     "output_type": "stream",
     "text": [
      "  0%|          | 0/40 [00:00<?, ?it/s]/home/miguel/anaconda3/lib/python3.6/site-packages/scipy/linalg/basic.py:223: RuntimeWarning: scipy.linalg.solve\n",
      "Ill-conditioned matrix detected. Result is not guaranteed to be accurate.\n",
      "Reciprocal condition number: 4.2776672870559196e-08\n",
      "  ' condition number: {}'.format(rcond), RuntimeWarning)\n",
      "100%|██████████| 40/40 [00:25<00:00,  2.03it/s]/home/miguel/anaconda3/lib/python3.6/site-packages/pymc3/step_methods/hmc/nuts.py:418: UserWarning: Chain 0 contains only 30 samples.\n",
      "  % (self._chain_id, n))\n",
      "/home/miguel/anaconda3/lib/python3.6/site-packages/pymc3/step_methods/hmc/nuts.py:448: UserWarning: Chain 0 reached the maximum tree depth. Increase max_treedepth, increase target_accept or reparameterize.\n",
      "  'reparameterize.' % self._chain_id)\n",
      "\n"
     ]
    }
   ],
   "source": [
    "theano.config.compute_test_value = 'ignore'\n",
    "# This is the sampling\n",
    "# BEFORE RUN THIS FOR LONG CHECK IN THE MODULE THEANOGRAF THAT THE FLAG THEANO OPTIMIZER IS IN 'fast_run'!!\n",
    "with model:\n",
    "   # backend = pm.backends.ndarray.NDArray('geomodels')\n",
    "    step = pm.NUTS()\n",
    "    trace = pm.sample(30, tune=10, init=None, step=step, )"
   ]
  },
  {
   "cell_type": "code",
   "execution_count": 15,
   "metadata": {},
   "outputs": [],
   "source": [
    "input_data_T = interp_data.interpolator.tg.input_parameters_list()\n",
    "\n",
    "\n",
    "\n",
    "\n",
    "\n",
    "\n",
    "select = interp_data.interpolator.pandas_rest_layer_points['formation'] == 'Reservoir'"
   ]
  },
  {
   "cell_type": "code",
   "execution_count": 16,
   "metadata": {},
   "outputs": [
    {
     "ename": "ValueError",
     "evalue": "Cannot compute test value: input 0 (Position of the dips) of Op Subtensor{int64:int64:, ::}(Position of the dips, ScalarFromTensor.0, ScalarFromTensor.0) missing default value.  \nBacktrace when that variable is created:\n\n  File \"/home/miguel/anaconda3/lib/python3.6/site-packages/IPython/core/interactiveshell.py\", line 2698, in run_cell\n    interactivity=interactivity, compiler=compiler, result=result)\n  File \"/home/miguel/anaconda3/lib/python3.6/site-packages/IPython/core/interactiveshell.py\", line 2802, in run_ast_nodes\n    if self.run_code(code, result):\n  File \"/home/miguel/anaconda3/lib/python3.6/site-packages/IPython/core/interactiveshell.py\", line 2862, in run_code\n    exec(code_obj, self.user_global_ns, self.user_ns)\n  File \"<ipython-input-6-5483455a72af>\", line 1, in <module>\n    interp_data = gp.InterpolatorInput(geo_data, compile_theano=False, u_grade=[3,3])\n  File \"../gempy/DataManagement.py\", line 941, in __init__\n    self.interpolator = self.set_interpolator(**kwargs)\n  File \"../gempy/DataManagement.py\", line 1094, in set_interpolator\n    interpolator = self.InterpolatorClass(geo_data_in, geo_data_in.grid, *args, **kwargs)\n  File \"../gempy/DataManagement.py\", line 1185, in __init__\n    self.tg = theanograf.TheanoGraph_pro(dtype=dtype, verbose=verbose,)\n  File \"../gempy/theanograf.py\", line 94, in __init__\n    self.dips_position_all = T.matrix(\"Position of the dips\")\n",
     "output_type": "error",
     "traceback": [
      "\u001b[0;31m---------------------------------------------------------------------------\u001b[0m",
      "\u001b[0;31mAttributeError\u001b[0m                            Traceback (most recent call last)",
      "\u001b[0;32m~/anaconda3/lib/python3.6/site-packages/theano/gof/op.py\u001b[0m in \u001b[0;36m__call__\u001b[0;34m(self, *inputs, **kwargs)\u001b[0m\n\u001b[1;32m    624\u001b[0m                 \u001b[0;32mtry\u001b[0m\u001b[0;34m:\u001b[0m\u001b[0;34m\u001b[0m\u001b[0m\n\u001b[0;32m--> 625\u001b[0;31m                     \u001b[0mstorage_map\u001b[0m\u001b[0;34m[\u001b[0m\u001b[0mins\u001b[0m\u001b[0;34m]\u001b[0m \u001b[0;34m=\u001b[0m \u001b[0;34m[\u001b[0m\u001b[0mself\u001b[0m\u001b[0;34m.\u001b[0m\u001b[0m_get_test_value\u001b[0m\u001b[0;34m(\u001b[0m\u001b[0mins\u001b[0m\u001b[0;34m)\u001b[0m\u001b[0;34m]\u001b[0m\u001b[0;34m\u001b[0m\u001b[0m\n\u001b[0m\u001b[1;32m    626\u001b[0m                     \u001b[0mcompute_map\u001b[0m\u001b[0;34m[\u001b[0m\u001b[0mins\u001b[0m\u001b[0;34m]\u001b[0m \u001b[0;34m=\u001b[0m \u001b[0;34m[\u001b[0m\u001b[0;32mTrue\u001b[0m\u001b[0;34m]\u001b[0m\u001b[0;34m\u001b[0m\u001b[0m\n",
      "\u001b[0;32m~/anaconda3/lib/python3.6/site-packages/theano/gof/op.py\u001b[0m in \u001b[0;36m_get_test_value\u001b[0;34m(cls, v)\u001b[0m\n\u001b[1;32m    580\u001b[0m         \u001b[0mdetailed_err_msg\u001b[0m \u001b[0;34m=\u001b[0m \u001b[0mutils\u001b[0m\u001b[0;34m.\u001b[0m\u001b[0mget_variable_trace_string\u001b[0m\u001b[0;34m(\u001b[0m\u001b[0mv\u001b[0m\u001b[0;34m)\u001b[0m\u001b[0;34m\u001b[0m\u001b[0m\n\u001b[0;32m--> 581\u001b[0;31m         \u001b[0;32mraise\u001b[0m \u001b[0mAttributeError\u001b[0m\u001b[0;34m(\u001b[0m\u001b[0;34m'%s has no test value %s'\u001b[0m \u001b[0;34m%\u001b[0m \u001b[0;34m(\u001b[0m\u001b[0mv\u001b[0m\u001b[0;34m,\u001b[0m \u001b[0mdetailed_err_msg\u001b[0m\u001b[0;34m)\u001b[0m\u001b[0;34m)\u001b[0m\u001b[0;34m\u001b[0m\u001b[0m\n\u001b[0m\u001b[1;32m    582\u001b[0m \u001b[0;34m\u001b[0m\u001b[0m\n",
      "\u001b[0;31mAttributeError\u001b[0m: Position of the dips has no test value  \nBacktrace when that variable is created:\n\n  File \"/home/miguel/anaconda3/lib/python3.6/site-packages/IPython/core/interactiveshell.py\", line 2698, in run_cell\n    interactivity=interactivity, compiler=compiler, result=result)\n  File \"/home/miguel/anaconda3/lib/python3.6/site-packages/IPython/core/interactiveshell.py\", line 2802, in run_ast_nodes\n    if self.run_code(code, result):\n  File \"/home/miguel/anaconda3/lib/python3.6/site-packages/IPython/core/interactiveshell.py\", line 2862, in run_code\n    exec(code_obj, self.user_global_ns, self.user_ns)\n  File \"<ipython-input-6-5483455a72af>\", line 1, in <module>\n    interp_data = gp.InterpolatorInput(geo_data, compile_theano=False, u_grade=[3,3])\n  File \"../gempy/DataManagement.py\", line 941, in __init__\n    self.interpolator = self.set_interpolator(**kwargs)\n  File \"../gempy/DataManagement.py\", line 1094, in set_interpolator\n    interpolator = self.InterpolatorClass(geo_data_in, geo_data_in.grid, *args, **kwargs)\n  File \"../gempy/DataManagement.py\", line 1185, in __init__\n    self.tg = theanograf.TheanoGraph_pro(dtype=dtype, verbose=verbose,)\n  File \"../gempy/theanograf.py\", line 94, in __init__\n    self.dips_position_all = T.matrix(\"Position of the dips\")\n",
      "\nDuring handling of the above exception, another exception occurred:\n",
      "\u001b[0;31mValueError\u001b[0m                                Traceback (most recent call last)",
      "\u001b[0;32m<ipython-input-16-486a4325a379>\u001b[0m in \u001b[0;36m<module>\u001b[0;34m()\u001b[0m\n\u001b[1;32m      1\u001b[0m \u001b[0;32mimport\u001b[0m \u001b[0mtheano\u001b[0m\u001b[0;34m\u001b[0m\u001b[0m\n\u001b[1;32m      2\u001b[0m \u001b[0;32mimport\u001b[0m \u001b[0mtheano\u001b[0m\u001b[0;34m.\u001b[0m\u001b[0mtensor\u001b[0m \u001b[0;32mas\u001b[0m \u001b[0mT\u001b[0m\u001b[0;34m\u001b[0m\u001b[0m\n\u001b[0;32m----> 3\u001b[0;31m \u001b[0mgeomodel\u001b[0m \u001b[0;34m=\u001b[0m \u001b[0mtheano\u001b[0m\u001b[0;34m.\u001b[0m\u001b[0mOpFromGraph\u001b[0m\u001b[0;34m(\u001b[0m\u001b[0minput_data_T\u001b[0m\u001b[0;34m,\u001b[0m \u001b[0;34m[\u001b[0m\u001b[0minterp_data\u001b[0m\u001b[0;34m.\u001b[0m\u001b[0minterpolator\u001b[0m\u001b[0;34m.\u001b[0m\u001b[0mtg\u001b[0m\u001b[0;34m.\u001b[0m\u001b[0mwhole_block_model\u001b[0m\u001b[0;34m(\u001b[0m\u001b[0;36m0\u001b[0m\u001b[0;34m)\u001b[0m\u001b[0;34m]\u001b[0m\u001b[0;34m,\u001b[0m \u001b[0mon_unused_input\u001b[0m\u001b[0;34m=\u001b[0m\u001b[0;34m'ignore'\u001b[0m\u001b[0;34m)\u001b[0m\u001b[0;34m\u001b[0m\u001b[0m\n\u001b[0m",
      "\u001b[0;32m~/PycharmProjects/GeMpy/gempy/theanograf.py\u001b[0m in \u001b[0;36mwhole_block_model\u001b[0;34m(self, n_faults, compute_all)\u001b[0m\n\u001b[1;32m   1309\u001b[0m                                \u001b[0mdict\u001b[0m\u001b[0;34m(\u001b[0m\u001b[0minput\u001b[0m\u001b[0;34m=\u001b[0m\u001b[0mself\u001b[0m\u001b[0;34m.\u001b[0m\u001b[0mlen_series_f\u001b[0m\u001b[0;34m[\u001b[0m\u001b[0mn_faults\u001b[0m\u001b[0;34m:\u001b[0m\u001b[0;34m]\u001b[0m\u001b[0;34m,\u001b[0m \u001b[0mtaps\u001b[0m\u001b[0;34m=\u001b[0m\u001b[0;34m[\u001b[0m\u001b[0;36m0\u001b[0m\u001b[0;34m,\u001b[0m \u001b[0;36m1\u001b[0m\u001b[0;34m]\u001b[0m\u001b[0;34m)\u001b[0m\u001b[0;34m,\u001b[0m\u001b[0;34m\u001b[0m\u001b[0m\n\u001b[1;32m   1310\u001b[0m                                \u001b[0mdict\u001b[0m\u001b[0;34m(\u001b[0m\u001b[0minput\u001b[0m\u001b[0;34m=\u001b[0m\u001b[0mself\u001b[0m\u001b[0;34m.\u001b[0m\u001b[0mn_formations_per_serie\u001b[0m\u001b[0;34m[\u001b[0m\u001b[0mn_faults\u001b[0m\u001b[0;34m:\u001b[0m\u001b[0;34m]\u001b[0m\u001b[0;34m,\u001b[0m \u001b[0mtaps\u001b[0m\u001b[0;34m=\u001b[0m\u001b[0;34m[\u001b[0m\u001b[0;36m0\u001b[0m\u001b[0;34m,\u001b[0m \u001b[0;36m1\u001b[0m\u001b[0;34m]\u001b[0m\u001b[0;34m)\u001b[0m\u001b[0;34m,\u001b[0m\u001b[0;34m\u001b[0m\u001b[0m\n\u001b[0;32m-> 1311\u001b[0;31m                                dict(input=self.u_grade_T[n_faults:], taps=[0])]\n\u001b[0m\u001b[1;32m   1312\u001b[0m                 \u001b[0;31m# all_series_pf, updates3 = theano.scan(\u001b[0m\u001b[0;34m\u001b[0m\u001b[0;34m\u001b[0m\u001b[0m\n\u001b[1;32m   1313\u001b[0m                 \u001b[0;31m#      fn=self.compute_a_series,\u001b[0m\u001b[0;34m\u001b[0m\u001b[0;34m\u001b[0m\u001b[0m\n",
      "\u001b[0;32m~/anaconda3/lib/python3.6/site-packages/theano/scan_module/scan.py\u001b[0m in \u001b[0;36mscan\u001b[0;34m(fn, sequences, outputs_info, non_sequences, n_steps, truncate_gradient, go_backwards, mode, name, profile, allow_gc, strict, return_list)\u001b[0m\n\u001b[1;32m    771\u001b[0m     \u001b[0;31m# and outputs that needs to be separated\u001b[0m\u001b[0;34m\u001b[0m\u001b[0;34m\u001b[0m\u001b[0m\n\u001b[1;32m    772\u001b[0m \u001b[0;34m\u001b[0m\u001b[0m\n\u001b[0;32m--> 773\u001b[0;31m     \u001b[0mcondition\u001b[0m\u001b[0;34m,\u001b[0m \u001b[0moutputs\u001b[0m\u001b[0;34m,\u001b[0m \u001b[0mupdates\u001b[0m \u001b[0;34m=\u001b[0m \u001b[0mscan_utils\u001b[0m\u001b[0;34m.\u001b[0m\u001b[0mget_updates_and_outputs\u001b[0m\u001b[0;34m(\u001b[0m\u001b[0mfn\u001b[0m\u001b[0;34m(\u001b[0m\u001b[0;34m*\u001b[0m\u001b[0margs\u001b[0m\u001b[0;34m)\u001b[0m\u001b[0;34m)\u001b[0m\u001b[0;34m\u001b[0m\u001b[0m\n\u001b[0m\u001b[1;32m    774\u001b[0m     \u001b[0;32mif\u001b[0m \u001b[0mcondition\u001b[0m \u001b[0;32mis\u001b[0m \u001b[0;32mnot\u001b[0m \u001b[0;32mNone\u001b[0m\u001b[0;34m:\u001b[0m\u001b[0;34m\u001b[0m\u001b[0m\n\u001b[1;32m    775\u001b[0m         \u001b[0mas_while\u001b[0m \u001b[0;34m=\u001b[0m \u001b[0;32mTrue\u001b[0m\u001b[0;34m\u001b[0m\u001b[0m\n",
      "\u001b[0;32m~/PycharmProjects/GeMpy/gempy/theanograf.py\u001b[0m in \u001b[0;36mcompute_a_series\u001b[0;34m(self, len_i_0, len_i_1, len_f_0, len_f_1, n_form_per_serie_0, n_form_per_serie_1, u_grade_iter, final_block)\u001b[0m\n\u001b[1;32m   1138\u001b[0m         \u001b[0mself\u001b[0m\u001b[0;34m.\u001b[0m\u001b[0mu_grade_T_op\u001b[0m \u001b[0;34m=\u001b[0m \u001b[0mu_grade_iter\u001b[0m\u001b[0;34m\u001b[0m\u001b[0m\n\u001b[1;32m   1139\u001b[0m \u001b[0;34m\u001b[0m\u001b[0m\n\u001b[0;32m-> 1140\u001b[0;31m         \u001b[0mself\u001b[0m\u001b[0;34m.\u001b[0m\u001b[0mdips_position\u001b[0m \u001b[0;34m=\u001b[0m \u001b[0mself\u001b[0m\u001b[0;34m.\u001b[0m\u001b[0mdips_position_all\u001b[0m\u001b[0;34m[\u001b[0m\u001b[0mlen_f_0\u001b[0m\u001b[0;34m:\u001b[0m \u001b[0mlen_f_1\u001b[0m\u001b[0;34m,\u001b[0m \u001b[0;34m:\u001b[0m\u001b[0;34m]\u001b[0m\u001b[0;34m\u001b[0m\u001b[0m\n\u001b[0m\u001b[1;32m   1141\u001b[0m         \u001b[0mself\u001b[0m\u001b[0;34m.\u001b[0m\u001b[0mdips_position_tiled\u001b[0m \u001b[0;34m=\u001b[0m \u001b[0mT\u001b[0m\u001b[0;34m.\u001b[0m\u001b[0mtile\u001b[0m\u001b[0;34m(\u001b[0m\u001b[0mself\u001b[0m\u001b[0;34m.\u001b[0m\u001b[0mdips_position\u001b[0m\u001b[0;34m,\u001b[0m \u001b[0;34m(\u001b[0m\u001b[0mself\u001b[0m\u001b[0;34m.\u001b[0m\u001b[0mn_dimensions\u001b[0m\u001b[0;34m,\u001b[0m \u001b[0;36m1\u001b[0m\u001b[0;34m)\u001b[0m\u001b[0;34m)\u001b[0m\u001b[0;34m\u001b[0m\u001b[0m\n\u001b[1;32m   1142\u001b[0m \u001b[0;34m\u001b[0m\u001b[0m\n",
      "\u001b[0;32m~/anaconda3/lib/python3.6/site-packages/theano/tensor/var.py\u001b[0m in \u001b[0;36m__getitem__\u001b[0;34m(self, args)\u001b[0m\n\u001b[1;32m    577\u001b[0m                     self, *theano.tensor.subtensor.Subtensor.collapse(\n\u001b[1;32m    578\u001b[0m                         \u001b[0margs\u001b[0m\u001b[0;34m,\u001b[0m\u001b[0;34m\u001b[0m\u001b[0m\n\u001b[0;32m--> 579\u001b[0;31m                         lambda entry: isinstance(entry, Variable)))\n\u001b[0m\u001b[1;32m    580\u001b[0m \u001b[0;34m\u001b[0m\u001b[0m\n\u001b[1;32m    581\u001b[0m     \u001b[0;32mdef\u001b[0m \u001b[0mtake\u001b[0m\u001b[0;34m(\u001b[0m\u001b[0mself\u001b[0m\u001b[0;34m,\u001b[0m \u001b[0mindices\u001b[0m\u001b[0;34m,\u001b[0m \u001b[0maxis\u001b[0m\u001b[0;34m=\u001b[0m\u001b[0;32mNone\u001b[0m\u001b[0;34m,\u001b[0m \u001b[0mmode\u001b[0m\u001b[0;34m=\u001b[0m\u001b[0;34m'raise'\u001b[0m\u001b[0;34m)\u001b[0m\u001b[0;34m:\u001b[0m\u001b[0;34m\u001b[0m\u001b[0m\n",
      "\u001b[0;32m~/anaconda3/lib/python3.6/site-packages/theano/gof/op.py\u001b[0m in \u001b[0;36m__call__\u001b[0;34m(self, *inputs, **kwargs)\u001b[0m\n\u001b[1;32m    637\u001b[0m                         raise ValueError(\n\u001b[1;32m    638\u001b[0m                             \u001b[0;34m'Cannot compute test value: input %i (%s) of Op %s missing default value. %s'\u001b[0m \u001b[0;34m%\u001b[0m\u001b[0;34m\u001b[0m\u001b[0m\n\u001b[0;32m--> 639\u001b[0;31m                             (i, ins, node, detailed_err_msg))\n\u001b[0m\u001b[1;32m    640\u001b[0m                     \u001b[0;32melif\u001b[0m \u001b[0mconfig\u001b[0m\u001b[0;34m.\u001b[0m\u001b[0mcompute_test_value\u001b[0m \u001b[0;34m==\u001b[0m \u001b[0;34m'ignore'\u001b[0m\u001b[0;34m:\u001b[0m\u001b[0;34m\u001b[0m\u001b[0m\n\u001b[1;32m    641\u001b[0m                         \u001b[0;31m# silently skip test\u001b[0m\u001b[0;34m\u001b[0m\u001b[0;34m\u001b[0m\u001b[0m\n",
      "\u001b[0;31mValueError\u001b[0m: Cannot compute test value: input 0 (Position of the dips) of Op Subtensor{int64:int64:, ::}(Position of the dips, ScalarFromTensor.0, ScalarFromTensor.0) missing default value.  \nBacktrace when that variable is created:\n\n  File \"/home/miguel/anaconda3/lib/python3.6/site-packages/IPython/core/interactiveshell.py\", line 2698, in run_cell\n    interactivity=interactivity, compiler=compiler, result=result)\n  File \"/home/miguel/anaconda3/lib/python3.6/site-packages/IPython/core/interactiveshell.py\", line 2802, in run_ast_nodes\n    if self.run_code(code, result):\n  File \"/home/miguel/anaconda3/lib/python3.6/site-packages/IPython/core/interactiveshell.py\", line 2862, in run_code\n    exec(code_obj, self.user_global_ns, self.user_ns)\n  File \"<ipython-input-6-5483455a72af>\", line 1, in <module>\n    interp_data = gp.InterpolatorInput(geo_data, compile_theano=False, u_grade=[3,3])\n  File \"../gempy/DataManagement.py\", line 941, in __init__\n    self.interpolator = self.set_interpolator(**kwargs)\n  File \"../gempy/DataManagement.py\", line 1094, in set_interpolator\n    interpolator = self.InterpolatorClass(geo_data_in, geo_data_in.grid, *args, **kwargs)\n  File \"../gempy/DataManagement.py\", line 1185, in __init__\n    self.tg = theanograf.TheanoGraph_pro(dtype=dtype, verbose=verbose,)\n  File \"../gempy/theanograf.py\", line 94, in __init__\n    self.dips_position_all = T.matrix(\"Position of the dips\")\n"
     ]
    }
   ],
   "source": [
    "import theano\n",
    "import theano.tensor as T\n",
    "geomodel = theano.OpFromGraph(input_data_T, [interp_data.interpolator.tg.whole_block_model(0)], on_unused_input='ignore')"
   ]
  },
  {
   "cell_type": "markdown",
   "metadata": {},
   "source": [
    "Because now the GeMpy model is a theano operation and not a theano function, to call it we need to use theano variables (with theano functions we call them with python variables). This is very easy to modify, we just need to use theano shared to convert our python input data into theano variables.\n",
    "\n",
    "The pymc3 objects are already theano variables (pm.Normal and so on). Now the trick is that using the theano function T.set_subtensor, we can change one deterministic value of the input arrays(the ones printed in the cell above) by a stochastic pymc3 object. Then with the new arrays we just have to call the theano operation and pymc will do the rest"
   ]
  },
  {
   "cell_type": "code",
   "execution_count": null,
   "metadata": {},
   "outputs": [],
   "source": [
    "# This is the creation of the model\n",
    "import pymc3 as pm\n",
    "theano.config.compute_test_value = 'off'\n",
    "model = pm.Model()\n",
    "with model:\n",
    "    # Stochastic value\n",
    "    reservoir = pm.Normal('reservoir', np.array([0], dtype='float64')\n",
    "                          , sd=np.array([0.09], dtype='float64'), dtype='float64', shape=(1))\n",
    "    \n",
    "    # We convert a python variable to theano.shared\n",
    "    ref = theano.shared(input_data_P[4])\n",
    "    rest = theano.shared(input_data_P[5])\n",
    "    \n",
    "    # We add the stochastic value to the correspondant array\n",
    "    ref = pm.Deterministic('reference', T.set_subtensor(\n",
    "       ref[T.nonzero(T.cast(select.as_matrix(), \"int8\"))[0], 2],\n",
    "       ref[T.nonzero(T.cast(select.as_matrix(), \"int8\"))[0], 2]+reservoir))\n",
    "    rest = pm.Deterministic('rest', T.set_subtensor(\n",
    "        rest[T.nonzero(T.cast(select.as_matrix(), \"int8\"))[0], 2],\n",
    "        rest[T.nonzero(T.cast(select.as_matrix(), \"int8\"))[0], 2]+reservoir))#\n",
    "  \n",
    "    geo_model = pm.Deterministic('GeMpy', geomodel(theano.shared(input_data_P[0]),\n",
    "                                                  theano.shared(input_data_P[1]),\n",
    "                                                  theano.shared(input_data_P[2]),\n",
    "                                                  theano.shared(input_data_P[3]),\n",
    "                                                  ref, rest))"
   ]
  },
  {
   "cell_type": "code",
   "execution_count": null,
   "metadata": {
    "scrolled": false
   },
   "outputs": [],
   "source": [
    "theano.config.compute_test_value = 'ignore'\n",
    "# This is the sampling\n",
    "# BEFORE RUN THIS FOR LONG CHECK IN THE MODULE THEANOGRAF THAT THE FLAG THEANO OPTIMIZER IS IN 'fast_run'!!\n",
    "with model:\n",
    "   # backend = pm.backends.ndarray.NDArray('geomodels')\n",
    "    step = pm.NUTS()\n",
    "    trace = pm.sample(30, init=None, step=step, )"
   ]
  },
  {
   "cell_type": "code",
   "execution_count": null,
   "metadata": {},
   "outputs": [],
   "source": [
    "gp.trace.get_values('GeMpy')[0][-1,0,:])"
   ]
  },
  {
   "cell_type": "code",
   "execution_count": null,
   "metadata": {},
   "outputs": [],
   "source": [
    "gp.plot_section(geo_data, trace.get_values('GeMpy')[0][-1, 0, :], 13,\n",
    "                       direction='y', plot_data=False)"
   ]
  },
  {
   "cell_type": "code",
   "execution_count": 17,
   "metadata": {
    "scrolled": false
   },
   "outputs": [
    {
     "data": {
      "image/png": "[encoded data removed]",
      "text/plain": [
       "<matplotlib.figure.Figure at 0x7f07651eb160>"
      ]
     },
     "metadata": {},
     "output_type": "display_data"
    },
    {
     "data": {
      "image/png": "[encoded data removed]",
      "text/plain": [
       "<matplotlib.figure.Figure at 0x7f07650cbc88>"
      ]
     },
     "metadata": {},
     "output_type": "display_data"
    },
    {
     "data": {
      "image/png": "[encoded data removed]",
      "text/plain": [
       "<matplotlib.figure.Figure at 0x7f0764938358>"
      ]
     },
     "metadata": {},
     "output_type": "display_data"
    },
    {
     "data": {
      "image/png": "[encoded data removed]",
      "text/plain": [
       "<matplotlib.figure.Figure at 0x7f0764970a58>"
      ]
     },
     "metadata": {},
     "output_type": "display_data"
    },
    {
     "data": {
      "image/png": "[encoded data removed]",
      "text/plain": [
       "<matplotlib.figure.Figure at 0x7f07640314a8>"
      ]
     },
     "metadata": {},
     "output_type": "display_data"
    },
    {
     "data": {
      "image/png": "[encoded data removed]",
      "text/plain": [
       "<matplotlib.figure.Figure at 0x7f0764993e48>"
      ]
     },
     "metadata": {},
     "output_type": "display_data"
    },
    {
     "data": {
      "image/png": "[encoded data removed]",
      "text/plain": [
       "<matplotlib.figure.Figure at 0x7f07542e90f0>"
      ]
     },
     "metadata": {},
     "output_type": "display_data"
    },
    {
     "data": {
      "image/png": "[encoded data removed]",
      "text/plain": [
       "<matplotlib.figure.Figure at 0x7f0764943358>"
      ]
     },
     "metadata": {},
     "output_type": "display_data"
    },
    {
     "data": {
      "image/png": "[encoded data removed]",
      "text/plain": [
       "<matplotlib.figure.Figure at 0x7f07659e8a58>"
      ]
     },
     "metadata": {},
     "output_type": "display_data"
    },
    {
     "data": {
      "image/png": "[encoded data removed]",
      "text/plain": [
       "<matplotlib.figure.Figure at 0x7f0765205240>"
      ]
     },
     "metadata": {},
     "output_type": "display_data"
    },
    {
     "data": {
      "image/png": "[encoded data removed]",
      "text/plain": [
       "<matplotlib.figure.Figure at 0x7f0764d94780>"
      ]
     },
     "metadata": {},
     "output_type": "display_data"
    },
    {
     "data": {
      "image/png": "[encoded data removed]",
      "text/plain": [
       "<matplotlib.figure.Figure at 0x7f0789709828>"
      ]
     },
     "metadata": {},
     "output_type": "display_data"
    },
    {
     "data": {
      "image/png": "[encoded data removed]",
      "text/plain": [
       "<matplotlib.figure.Figure at 0x7f07659cb0f0>"
      ]
     },
     "metadata": {},
     "output_type": "display_data"
    },
    {
     "data": {
      "image/png": "[encoded data removed]",
      "text/plain": [
       "<matplotlib.figure.Figure at 0x7f077e334748>"
      ]
     },
     "metadata": {},
     "output_type": "display_data"
    },
    {
     "data": {
      "image/png": "[encoded data removed]",
      "text/plain": [
       "<matplotlib.figure.Figure at 0x7f077d828c50>"
      ]
     },
     "metadata": {},
     "output_type": "display_data"
    },
    {
     "data": {
      "image/png": "[encoded data removed]",
      "text/plain": [
       "<matplotlib.figure.Figure at 0x7f0789201048>"
      ]
     },
     "metadata": {},
     "output_type": "display_data"
    },
    {
     "data": {
      "image/png": "[encoded data removed]",
      "text/plain": [
       "<matplotlib.figure.Figure at 0x7f0788a5e128>"
      ]
     },
     "metadata": {},
     "output_type": "display_data"
    },
    {
     "data": {
      "image/png": "[encoded data removed]",
      "text/plain": [
       "<matplotlib.figure.Figure at 0x7f077d5440b8>"
      ]
     },
     "metadata": {},
     "output_type": "display_data"
    },
    {
     "data": {
      "image/png": "[encoded data removed]",
      "text/plain": [
       "<matplotlib.figure.Figure at 0x7f077e3895c0>"
      ]
     },
     "metadata": {},
     "output_type": "display_data"
    },
    {
     "data": {
      "image/png": "[encoded data removed]",
      "text/plain": [
       "<matplotlib.figure.Figure at 0x7f07887a7978>"
      ]
     },
     "metadata": {},
     "output_type": "display_data"
    },
    {
     "data": {
      "image/png": "[encoded data removed]",
      "text/plain": [
       "<matplotlib.figure.Figure at 0x7f076455d208>"
      ]
     },
     "metadata": {},
     "output_type": "display_data"
    },
    {
     "data": {
      "image/png": "[encoded data removed]",
      "text/plain": [
       "<matplotlib.figure.Figure at 0x7f076496aef0>"
      ]
     },
     "metadata": {},
     "output_type": "display_data"
    },
    {
     "data": {
      "image/png": "[encoded data removed]",
      "text/plain": [
       "<matplotlib.figure.Figure at 0x7f07889eb978>"
      ]
     },
     "metadata": {},
     "output_type": "display_data"
    },
    {
     "data": {
      "image/png": "[encoded data removed]",
      "text/plain": [
       "<matplotlib.figure.Figure at 0x7f077d409080>"
      ]
     },
     "metadata": {},
     "output_type": "display_data"
    },
    {
     "data": {
      "image/png": "[encoded data removed]",
      "text/plain": [
       "<matplotlib.figure.Figure at 0x7f077d22dbe0>"
      ]
     },
     "metadata": {},
     "output_type": "display_data"
    },
    {
     "data": {
      "image/png": "[encoded data removed]",
      "text/plain": [
       "<matplotlib.figure.Figure at 0x7f07888193c8>"
      ]
     },
     "metadata": {},
     "output_type": "display_data"
    },
    {
     "data": {
      "image/png": "[encoded data removed]",
      "text/plain": [
       "<matplotlib.figure.Figure at 0x7f076561a198>"
      ]
     },
     "metadata": {},
     "output_type": "display_data"
    },
    {
     "data": {
      "image/png": "[encoded data removed]",
      "text/plain": [
       "<matplotlib.figure.Figure at 0x7f0788800be0>"
      ]
     },
     "metadata": {},
     "output_type": "display_data"
    },
    {
     "data": {
      "image/png": "[encoded data removed]",
      "text/plain": [
       "<matplotlib.figure.Figure at 0x7f0765918550>"
      ]
     },
     "metadata": {},
     "output_type": "display_data"
    },
    {
     "data": {
      "image/png": "[encoded data removed]",
      "text/plain": [
       "<matplotlib.figure.Figure at 0x7f07888fc518>"
      ]
     },
     "metadata": {},
     "output_type": "display_data"
    },
    {
     "ename": "IndexError",
     "evalue": "index 30 is out of bounds for axis 0 with size 30",
     "output_type": "error",
     "traceback": [
      "\u001b[0;31m---------------------------------------------------------------------------\u001b[0m",
      "\u001b[0;31mIndexError\u001b[0m                                Traceback (most recent call last)",
      "\u001b[0;32m<ipython-input-17-6b10bc712b5f>\u001b[0m in \u001b[0;36m<module>\u001b[0;34m()\u001b[0m\n\u001b[1;32m      1\u001b[0m \u001b[0;32mimport\u001b[0m \u001b[0mmatplotlib\u001b[0m\u001b[0;34m.\u001b[0m\u001b[0mpyplot\u001b[0m \u001b[0;32mas\u001b[0m \u001b[0mplt\u001b[0m\u001b[0;34m\u001b[0m\u001b[0m\n\u001b[1;32m      2\u001b[0m \u001b[0;32mfor\u001b[0m \u001b[0mi\u001b[0m \u001b[0;32min\u001b[0m \u001b[0mrange\u001b[0m\u001b[0;34m(\u001b[0m\u001b[0;36m100\u001b[0m\u001b[0;34m)\u001b[0m\u001b[0;34m:\u001b[0m\u001b[0;34m\u001b[0m\u001b[0m\n\u001b[0;32m----> 3\u001b[0;31m     gp.plot_section(geo_data, trace.get_values('GeMpy')[i][-1, 0, :], 13,\n\u001b[0m\u001b[1;32m      4\u001b[0m                        direction='y', plot_data=False)\n\u001b[1;32m      5\u001b[0m     \u001b[0mplt\u001b[0m\u001b[0;34m.\u001b[0m\u001b[0mshow\u001b[0m\u001b[0;34m(\u001b[0m\u001b[0;34m)\u001b[0m\u001b[0;34m\u001b[0m\u001b[0m\n",
      "\u001b[0;31mIndexError\u001b[0m: index 30 is out of bounds for axis 0 with size 30"
     ]
    }
   ],
   "source": [
    "import matplotlib.pyplot as plt\n",
    "for i in range(100):\n",
    "    gp.plot_section(geo_data, trace.get_values('GeMpy')[i][-1, 0, :], 13,\n",
    "                       direction='y', plot_data=False)\n",
    "    plt.show()"
   ]
  },
  {
   "cell_type": "code",
   "execution_count": 18,
   "metadata": {},
   "outputs": [
    {
     "data": {
      "text/plain": [
       "array([3, 3])"
      ]
     },
     "execution_count": 18,
     "metadata": {},
     "output_type": "execute_result"
    }
   ],
   "source": [
    "interp_data.interpolator.tg.u_grade_T.get_value()"
   ]
  },
  {
   "cell_type": "code",
   "execution_count": null,
   "metadata": {
    "collapsed": true
   },
   "outputs": [],
   "source": []
  }
 ],
 "metadata": {
  "kernelspec": {
   "display_name": "Python 3",
   "language": "python",
   "name": "python3"
  },
  "language_info": {
   "codemirror_mode": {
    "name": "ipython",
    "version": 3
   },
   "file_extension": ".py",
   "mimetype": "text/x-python",
   "name": "python",
   "nbconvert_exporter": "python",
   "pygments_lexer": "ipython3",
   "version": "3.6.1"
  },
  "latex_envs": {
   "LaTeX_envs_menu_present": true,
   "autocomplete": true,
   "bibliofile": "biblio.bib",
   "cite_by": "apalike",
   "current_citInitial": 1,
   "eqLabelWithNumbers": true,
   "eqNumInitial": 1,
   "hotkeys": {
    "equation": "Ctrl-E",
    "itemize": "Ctrl-I"
   },
   "labels_anchors": false,
   "latex_user_defs": false,
   "report_style_numbering": false,
   "user_envs_cfg": false
  },
  "toc": {
   "colors": {
    "hover_highlight": "#DAA520",
    "running_highlight": "#FF0000",
    "selected_highlight": "#FFD700"
   },
   "moveMenuLeft": true,
   "nav_menu": {
    "height": "39px",
    "width": "252px"
   },
   "navigate_menu": true,
   "number_sections": true,
   "sideBar": true,
   "threshold": 4,
   "toc_cell": false,
   "toc_section_display": "block",
   "toc_window_display": false,
   "widenNotebook": false
  }
 },
 "nbformat": 4,
 "nbformat_minor": 2
}
