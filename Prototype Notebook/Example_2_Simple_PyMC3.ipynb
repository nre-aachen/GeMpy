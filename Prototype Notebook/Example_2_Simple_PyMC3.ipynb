{
 "cells": [
  {
   "cell_type": "markdown",
   "metadata": {
    "deletable": true,
    "editable": true,
    "hide_input": true
   },
   "source": [
    "# Example 2: Implementing GeMpy into PyMC3"
   ]
  },
  {
   "cell_type": "markdown",
   "metadata": {
    "deletable": true,
    "editable": true
   },
   "source": [
    "### Generating data"
   ]
  },
  {
   "cell_type": "code",
   "execution_count": 1,
   "metadata": {
    "collapsed": false,
    "deletable": true,
    "editable": true
   },
   "outputs": [],
   "source": [
    "# Importing and data\n",
    "import theano.tensor as T\n",
    "import theano\n",
    "import sys, os\n",
    "sys.path.append(\"../GeMpy\")\n",
    "\n",
    "# Importing GeMpy modules\n",
    "import GeMpy\n",
    "\n",
    "# Reloading (only for development purposes)\n",
    "import importlib\n",
    "importlib.reload(GeMpy)\n",
    "\n",
    "# Usuful packages\n",
    "import numpy as np\n",
    "import pandas as pn\n",
    "\n",
    "import matplotlib.pyplot as plt\n",
    "\n",
    "# This was to choose the gpu\n",
    "os.environ['CUDA_LAUNCH_BLOCKING'] = '1'\n",
    "\n",
    "# Default options of printin\n",
    "np.set_printoptions(precision = 6, linewidth= 130, suppress =  True)\n",
    "\n",
    "#%matplotlib inline\n",
    "%matplotlib inline\n",
    "\n",
    "\n",
    "\n",
    "# Setting the extent\n",
    "geo_data = GeMpy.import_data([0,10,0,10,0,10], [50,50,50])\n",
    "\n",
    "\n",
    "# =========================\n",
    "# DATA GENERATION IN PYTHON\n",
    "# =========================\n",
    "# Layers coordinates\n",
    "layer_1 = np.array([[0.5,4,7], [2,4,6.5], [4,4,7], [5,4,6]])#-np.array([5,5,4]))/8+0.5\n",
    "layer_2 = np.array([[3,4,5], [6,4,4],[8,4,4], [7,4,3], [1,4,6]])\n",
    "layers = np.asarray([layer_1,layer_2])\n",
    "\n",
    "# Foliations coordinates\n",
    "dip_pos_1 = np.array([7,4,7])#- np.array([5,5,4]))/8+0.5\n",
    "dip_pos_2 = np.array([2.,4,4])\n",
    "\n",
    "# Dips\n",
    "dip_angle_1 = float(15)\n",
    "dip_angle_2 = float(340)\n",
    "dips_angles = np.asarray([dip_angle_1, dip_angle_2], dtype=\"float64\")\n",
    "\n",
    "# Azimuths\n",
    "azimuths = np.asarray([90,90], dtype=\"float64\")\n",
    "\n",
    "# Polarity\n",
    "polarity = np.asarray([1,1], dtype=\"float64\")\n",
    "\n",
    "# Setting foliations and interfaces values\n",
    "GeMpy.set_interfaces(geo_data, pn.DataFrame(\n",
    "    data = {\"X\" :np.append(layer_1[:, 0],layer_2[:,0]),\n",
    "            \"Y\" :np.append(layer_1[:, 1],layer_2[:,1]),\n",
    "            \"Z\" :np.append(layer_1[:, 2],layer_2[:,2]),\n",
    "            \"formation\" : np.append(\n",
    "               np.tile(\"Layer 1\", len(layer_1)), \n",
    "               np.tile(\"Layer 2\", len(layer_2))),\n",
    "            \"labels\" : [r'${\\bf{x}}_{\\alpha \\, 0}^1$',\n",
    "               r'${\\bf{x}}_{\\alpha \\, 1}^1$',\n",
    "               r'${\\bf{x}}_{\\alpha \\, 2}^1$',\n",
    "               r'${\\bf{x}}_{\\alpha \\, 3}^1$',\n",
    "               r'${\\bf{x}}_{\\alpha \\, 0}^2$',\n",
    "               r'${\\bf{x}}_{\\alpha \\, 1}^2$',\n",
    "               r'${\\bf{x}}_{\\alpha \\, 2}^2$',\n",
    "               r'${\\bf{x}}_{\\alpha \\, 3}^2$',\n",
    "        \n",
    "                        r'${\\bf{x}}_{\\alpha \\, 4}^2$'] }))\n",
    "\n",
    "GeMpy.set_foliations(geo_data,  pn.DataFrame(\n",
    "    data = {\"X\" :np.append(dip_pos_1[0],dip_pos_2[0]),\n",
    "            \"Y\" :np.append(dip_pos_1[ 1],dip_pos_2[1]),\n",
    "            \"Z\" :np.append(dip_pos_1[ 2],dip_pos_2[2]),\n",
    "            \"azimuth\" : azimuths,\n",
    "            \"dip\" : dips_angles,\n",
    "            \"polarity\" : polarity,\n",
    "            \"formation\" : [\"Layer 1\", \"Layer 2\"],\n",
    "            \"labels\" : [r'${\\bf{x}}_{\\beta \\,{0}}$',\n",
    "              r'${\\bf{x}}_{\\beta \\,{1}}$'] })) \n",
    "\n",
    "\n",
    "\n",
    "layer_3 = np.array([[2,4,3], [8,4,2], [9,4,3]])\n",
    "dip_pos_3 = np.array([1,4,1])\n",
    "dip_angle_3 = float(80)\n",
    "azimuth_3 = 90\n",
    "polarity_3 = 1\n",
    "\n",
    "\n",
    "\n",
    "GeMpy.set_interfaces(geo_data, pn.DataFrame(\n",
    "    data = {\"X\" :layer_3[:, 0],\n",
    "            \"Y\" :layer_3[:, 1],\n",
    "            \"Z\" :layer_3[:, 2],\n",
    "            \"formation\" : np.tile(\"Layer 3\", len(layer_3)), \n",
    "            \"labels\" : [  r'${\\bf{x}}_{\\alpha \\, 0}^3$',\n",
    "                           r'${\\bf{x}}_{\\alpha \\, 1}^3$',\n",
    "                           r'${\\bf{x}}_{\\alpha \\, 2}^3$'] }), append = True)\n",
    "GeMpy.get_raw_data(geo_data,\"interfaces\")\n",
    "\n",
    "\n",
    "GeMpy.set_foliations(geo_data, pn.DataFrame(data = {\n",
    "                     \"X\" : dip_pos_3[0],\n",
    "                     \"Y\" : dip_pos_3[1],\n",
    "                     \"Z\" : dip_pos_3[2],\n",
    "            \n",
    "                     \"azimuth\" : azimuth_3,\n",
    "                     \"dip\" : dip_angle_3,\n",
    "                     \"polarity\" : polarity_3,\n",
    "                     \"formation\" : [ 'Layer 3'],\n",
    "                     \"labels\" : r'${\\bf{x}}_{\\beta \\,{2}}$'}), append = True)\n",
    "\n",
    "\n",
    "GeMpy.set_data_series(geo_data, {'younger': ('Layer 1', 'Layer 2'),\n",
    "                      'older': 'Layer 3'}, order_series = ['younger', 'older'])\n",
    "\n",
    "\n"
   ]
  },
  {
   "cell_type": "code",
   "execution_count": 2,
   "metadata": {
    "collapsed": false,
    "deletable": true,
    "editable": true
   },
   "outputs": [
    {
     "data": {
      "text/plain": [
       "<Visualization.PlotData at 0x7f292523fba8>"
      ]
     },
     "execution_count": 2,
     "metadata": {},
     "output_type": "execute_result"
    },
    {
     "data": {
      "image/png": "[encoded data removed]",
      "text/plain": [
       "<matplotlib.figure.Figure at 0x7f292523f860>"
      ]
     },
     "metadata": {},
     "output_type": "display_data"
    }
   ],
   "source": [
    "GeMpy.plot_data(geo_data, direction='y')"
   ]
  },
  {
   "cell_type": "code",
   "execution_count": 15,
   "metadata": {
    "collapsed": false,
    "deletable": true,
    "editable": true
   },
   "outputs": [],
   "source": [
    "# Select series to interpolate (if you do not want to interpolate all)\n",
    "new_series = GeMpy.select_series(geo_data, ['younger'])\n",
    "data_interp = GeMpy.set_interpolator(geo_data,\n",
    "                                    #verbose = 'potential_field_at_all'\n",
    "                                    )"
   ]
  },
  {
   "cell_type": "code",
   "execution_count": 16,
   "metadata": {
    "collapsed": false
   },
   "outputs": [
    {
     "data": {
      "text/plain": [
       "array([ 0.,  0.,  0., ...,  0.,  0.,  0.])"
      ]
     },
     "execution_count": 16,
     "metadata": {},
     "output_type": "execute_result"
    }
   ],
   "source": [
    "data_interp.interpolator.tg.final_block[0].eval()"
   ]
  },
  {
   "cell_type": "code",
   "execution_count": 17,
   "metadata": {
    "collapsed": false
   },
   "outputs": [
    {
     "data": {
      "text/plain": [
       "array([ 0.,  0.,  0.])"
      ]
     },
     "execution_count": 17,
     "metadata": {},
     "output_type": "execute_result"
    }
   ],
   "source": [
    "np.zeros((1,3))[-1,:]"
   ]
  },
  {
   "cell_type": "code",
   "execution_count": 18,
   "metadata": {
    "collapsed": false,
    "deletable": true,
    "editable": true,
    "scrolled": false
   },
   "outputs": [],
   "source": [
    "# This are the shared parameters and the compilation of the function. This will be hidden as well at some point\n",
    "input_data_T = data_interp.interpolator.tg.input_parameters_list()\n",
    "debugging = theano.function(input_data_T, data_interp.interpolator.tg.whole_block_model(),\n",
    "                            on_unused_input='ignore',\n",
    "                            allow_input_downcast=True, profile=True)"
   ]
  },
  {
   "cell_type": "code",
   "execution_count": 19,
   "metadata": {
    "collapsed": false,
    "deletable": true,
    "editable": true,
    "scrolled": false
   },
   "outputs": [],
   "source": [
    "# This prepares the user data to the theano function\n",
    "input_data_P = data_interp.interpolator.data_prep() \n",
    "\n",
    "# Solution of theano\n",
    "sol = debugging(input_data_P[0], input_data_P[1], input_data_P[2], input_data_P[3],input_data_P[4], input_data_P[5])"
   ]
  },
  {
   "cell_type": "code",
   "execution_count": 21,
   "metadata": {
    "collapsed": false,
    "deletable": true,
    "editable": true
   },
   "outputs": [
    {
     "data": {
      "text/plain": [
       "array([[[ 0.      ,  0.      ,  0.      , ...,  1.      ,  1.      ,  1.      ],\n",
       "        [ 0.36806 ,  0.382449,  0.396833, ...,  1.180996,  1.196952,  1.21291 ]],\n",
       "\n",
       "       [[ 0.      ,  0.      ,  0.      , ...,  1.      ,  1.      ,  1.      ],\n",
       "        [-0.04368 , -0.041716, -0.039599, ...,  1.180996,  1.196952,  1.21291 ]]])"
      ]
     },
     "execution_count": 21,
     "metadata": {},
     "output_type": "execute_result"
    }
   ],
   "source": [
    "sol"
   ]
  },
  {
   "cell_type": "code",
   "execution_count": 27,
   "metadata": {
    "collapsed": false,
    "deletable": true,
    "editable": true
   },
   "outputs": [
    {
     "data": {
      "text/plain": [
       "<Visualization.PlotData at 0x7f28b95242e8>"
      ]
     },
     "execution_count": 27,
     "metadata": {},
     "output_type": "execute_result"
    },
    {
     "data": {
      "image/png": "[encoded data removed]",
      "text/plain": [
       "<matplotlib.figure.Figure at 0x7f28d82effd0>"
      ]
     },
     "metadata": {},
     "output_type": "display_data"
    }
   ],
   "source": [
    "GeMpy.plot_section(geo_data, 30,  block = sol[1,0,:], direction='y', plot_data = True)"
   ]
  },
  {
   "cell_type": "code",
   "execution_count": 28,
   "metadata": {
    "collapsed": false
   },
   "outputs": [
    {
     "data": {
      "image/png": "[encoded data removed]",
      "text/plain": [
       "<matplotlib.figure.Figure at 0x7f28ba9f64e0>"
      ]
     },
     "metadata": {},
     "output_type": "display_data"
    }
   ],
   "source": [
    "GeMpy.plot_potential_field(new_series, sol[1,1,:].reshape(50, 50, 50), 30)"
   ]
  },
  {
   "cell_type": "code",
   "execution_count": 13,
   "metadata": {
    "collapsed": false,
    "deletable": true,
    "editable": true
   },
   "outputs": [
    {
     "data": {
      "text/html": [
       "<div>\n",
       "<table border=\"1\" class=\"dataframe\">\n",
       "  <thead>\n",
       "    <tr style=\"text-align: right;\">\n",
       "      <th></th>\n",
       "      <th>G_x</th>\n",
       "      <th>G_y</th>\n",
       "      <th>G_z</th>\n",
       "      <th>X</th>\n",
       "      <th>Y</th>\n",
       "      <th>Z</th>\n",
       "      <th>azimuth</th>\n",
       "      <th>dip</th>\n",
       "      <th>formation</th>\n",
       "      <th>labels</th>\n",
       "      <th>order_series</th>\n",
       "      <th>polarity</th>\n",
       "      <th>series</th>\n",
       "    </tr>\n",
       "  </thead>\n",
       "  <tbody>\n",
       "    <tr>\n",
       "      <th>0</th>\n",
       "      <td>0.258819</td>\n",
       "      <td>1.584810e-17</td>\n",
       "      <td>0.965926</td>\n",
       "      <td>7.0</td>\n",
       "      <td>4.0</td>\n",
       "      <td>7.0</td>\n",
       "      <td>90.0</td>\n",
       "      <td>40.0</td>\n",
       "      <td>Layer 1</td>\n",
       "      <td>${\\bf{x}}_{\\beta \\,{0}}$</td>\n",
       "      <td>1</td>\n",
       "      <td>1.0</td>\n",
       "      <td>younger</td>\n",
       "    </tr>\n",
       "    <tr>\n",
       "      <th>1</th>\n",
       "      <td>-0.342020</td>\n",
       "      <td>-2.094269e-17</td>\n",
       "      <td>0.939693</td>\n",
       "      <td>2.0</td>\n",
       "      <td>4.0</td>\n",
       "      <td>4.0</td>\n",
       "      <td>90.0</td>\n",
       "      <td>340.0</td>\n",
       "      <td>Layer 2</td>\n",
       "      <td>${\\bf{x}}_{\\beta \\,{1}}$</td>\n",
       "      <td>1</td>\n",
       "      <td>1.0</td>\n",
       "      <td>younger</td>\n",
       "    </tr>\n",
       "    <tr>\n",
       "      <th>0</th>\n",
       "      <td>0.984808</td>\n",
       "      <td>6.030208e-17</td>\n",
       "      <td>0.173648</td>\n",
       "      <td>1.0</td>\n",
       "      <td>4.0</td>\n",
       "      <td>1.0</td>\n",
       "      <td>90.0</td>\n",
       "      <td>40.0</td>\n",
       "      <td>Layer 3</td>\n",
       "      <td>${\\bf{x}}_{\\beta \\,{2}}$</td>\n",
       "      <td>2</td>\n",
       "      <td>1.0</td>\n",
       "      <td>older</td>\n",
       "    </tr>\n",
       "  </tbody>\n",
       "</table>\n",
       "</div>"
      ],
      "text/plain": [
       "        G_x           G_y       G_z    X    Y    Z  azimuth    dip formation  \\\n",
       "0  0.258819  1.584810e-17  0.965926  7.0  4.0  7.0     90.0   40.0   Layer 1   \n",
       "1 -0.342020 -2.094269e-17  0.939693  2.0  4.0  4.0     90.0  340.0   Layer 2   \n",
       "0  0.984808  6.030208e-17  0.173648  1.0  4.0  1.0     90.0   40.0   Layer 3   \n",
       "\n",
       "                     labels  order_series  polarity   series  \n",
       "0  ${\\bf{x}}_{\\beta \\,{0}}$             1       1.0  younger  \n",
       "1  ${\\bf{x}}_{\\beta \\,{1}}$             1       1.0  younger  \n",
       "0  ${\\bf{x}}_{\\beta \\,{2}}$             2       1.0    older  "
      ]
     },
     "execution_count": 13,
     "metadata": {},
     "output_type": "execute_result"
    }
   ],
   "source": [
    "# If you change the values here. Here changes the plot as well\n",
    "geo_data.foliations.set_value(0, 'dip', 40)"
   ]
  },
  {
   "cell_type": "code",
   "execution_count": 14,
   "metadata": {
    "collapsed": false,
    "deletable": true,
    "editable": true
   },
   "outputs": [],
   "source": [
    "# You need to set the interpolator again\n",
    "new_series = GeMpy.select_series(geo_data, ['younger'])\n",
    "data_interp = GeMpy.set_interpolator(new_series, verbose= ['cov_function'])\n"
   ]
  },
  {
   "cell_type": "code",
   "execution_count": 15,
   "metadata": {
    "collapsed": false,
    "deletable": true,
    "editable": true
   },
   "outputs": [],
   "source": [
    "# If you change it here is not necesary. Maybe some function in GeMpy with an attribute to choose would be good\n",
    "data_interp.interpolator._data_scaled.foliations.set_value(0, 'dip', 40)\n",
    "# In any case, data prep has to be called to convert the data to pure arrays. This function should be hidden I guess\n",
    "input_data_P = data_interp.interpolator.data_prep()"
   ]
  },
  {
   "cell_type": "code",
   "execution_count": 16,
   "metadata": {
    "collapsed": false,
    "deletable": true,
    "editable": true,
    "scrolled": false
   },
   "outputs": [],
   "source": [
    "sol = debugging(input_data_P[0], input_data_P[1], input_data_P[2], input_data_P[3],input_data_P[4], input_data_P[5])"
   ]
  },
  {
   "cell_type": "code",
   "execution_count": 22,
   "metadata": {
    "collapsed": false,
    "deletable": true,
    "editable": true
   },
   "outputs": [
    {
     "data": {
      "text/plain": [
       "<Visualization.PlotData at 0x7fd1ef06eba8>"
      ]
     },
     "execution_count": 22,
     "metadata": {},
     "output_type": "execute_result"
    },
    {
     "data": {
      "image/png": "[encoded data removed]",
      "text/plain": [
       "<matplotlib.figure.Figure at 0x7fd1ef072a58>"
      ]
     },
     "metadata": {},
     "output_type": "display_data"
    }
   ],
   "source": [
    "GeMpy.plot_section(new_series, 13,block= sol, plot_data = True)"
   ]
  },
  {
   "cell_type": "markdown",
   "metadata": {
    "deletable": true,
    "editable": true
   },
   "source": [
    "## PyMC3"
   ]
  },
  {
   "cell_type": "code",
   "execution_count": 13,
   "metadata": {
    "collapsed": false,
    "deletable": true,
    "editable": true
   },
   "outputs": [],
   "source": [
    "data_interp = GeMpy.set_interpolator(geo_data, u_grade = 0)\n",
    "\n",
    "# This are the shared parameters and the compilation of the function. This will be hidden as well at some point\n",
    "input_data_T = data_interp.interpolator.tg.input_parameters_list()\n",
    "# This prepares the user data to the theano function\n",
    "input_data_P = data_interp.interpolator.data_prep() "
   ]
  },
  {
   "cell_type": "code",
   "execution_count": 14,
   "metadata": {
    "collapsed": false,
    "deletable": true,
    "editable": true
   },
   "outputs": [],
   "source": [
    "# We create the op. Because is an op we cannot call it with python variables anymore. Thats why we have to make them shared\n",
    "# Before\n",
    "op2 = theano.OpFromGraph(input_data_T, [data_interp.interpolator.tg.whole_block_model()], on_unused_input='ignore')"
   ]
  },
  {
   "cell_type": "code",
   "execution_count": 15,
   "metadata": {
    "collapsed": false,
    "deletable": true,
    "editable": true,
    "scrolled": false
   },
   "outputs": [
    {
     "name": "stderr",
     "output_type": "stream",
     "text": [
      "Auto-assigning NUTS sampler...\n",
      "Initializing NUTS using advi...\n",
      "Average ELBO = -0.012037: 100%|██████████| 200000/200000 [00:07<00:00, 25793.75it/s] \n",
      "Finished [100%]: Average ELBO = -0.0012071\n",
      "100%|██████████| 6/6 [00:00<00:00, 18.53it/s]\n"
     ]
    }
   ],
   "source": [
    "import pymc3 as pm\n",
    "theano.config.compute_test_value = 'ignore'\n",
    "model = pm.Model()\n",
    "with model:\n",
    "    # Stochastic value\n",
    "    foliation = pm.Normal('foliation', 40, sd=10)\n",
    "    \n",
    "    # We convert a python variable to theano.shared\n",
    "    dips = theano.shared(input_data_P[1])\n",
    "    \n",
    "    # We add the stochastic value to the correspondant array\n",
    "    dips = T.set_subtensor(dips[0], foliation)\n",
    "\n",
    "    geo_model = pm.Deterministic('GeMpy', op2(theano.shared(input_data_P[0]), dips, \n",
    "                                     theano.shared(input_data_P[2]), theano.shared(input_data_P[3]),\n",
    "                                     theano.shared(input_data_P[4]), theano.shared(input_data_P[5])))\n",
    "\n",
    "    trace = pm.sample(6)"
   ]
  },
  {
   "cell_type": "code",
   "execution_count": 16,
   "metadata": {
    "collapsed": false,
    "deletable": true,
    "editable": true
   },
   "outputs": [
    {
     "data": {
      "text/plain": [
       "(['foliation', 'GeMpy'], array([[0, 0, 0, ..., 1, 1, 1],\n",
       "        [0, 0, 0, ..., 1, 1, 1],\n",
       "        [0, 0, 0, ..., 1, 1, 1],\n",
       "        [0, 0, 0, ..., 1, 1, 1],\n",
       "        [0, 0, 0, ..., 1, 1, 1],\n",
       "        [0, 0, 0, ..., 1, 1, 1]]))"
      ]
     },
     "execution_count": 16,
     "metadata": {},
     "output_type": "execute_result"
    }
   ],
   "source": [
    "trace.varnames, trace.get_values(\"GeMpy\")"
   ]
  },
  {
   "cell_type": "code",
   "execution_count": 22,
   "metadata": {
    "collapsed": false,
    "deletable": true,
    "editable": true,
    "scrolled": false
   },
   "outputs": [
    {
     "data": {
      "image/png": "[encoded data removed]",
      "text/plain": [
       "<matplotlib.figure.Figure at 0x7ff23ed5f550>"
      ]
     },
     "metadata": {},
     "output_type": "display_data"
    },
    {
     "data": {
      "image/png": "[encoded data removed]",
      "text/plain": [
       "<matplotlib.figure.Figure at 0x7ff23ed85908>"
      ]
     },
     "metadata": {},
     "output_type": "display_data"
    },
    {
     "data": {
      "image/png": "[encoded data removed]",
      "text/plain": [
       "<matplotlib.figure.Figure at 0x7ff23ebcfcf8>"
      ]
     },
     "metadata": {},
     "output_type": "display_data"
    },
    {
     "data": {
      "image/png": "[encoded data removed]",
      "text/plain": [
       "<matplotlib.figure.Figure at 0x7ff23ec4ee48>"
      ]
     },
     "metadata": {},
     "output_type": "display_data"
    },
    {
     "data": {
      "image/png": "[encoded data removed]",
      "text/plain": [
       "<matplotlib.figure.Figure at 0x7ff23ebcfdd8>"
      ]
     },
     "metadata": {},
     "output_type": "display_data"
    },
    {
     "data": {
      "image/png": "[encoded data removed]",
      "text/plain": [
       "<matplotlib.figure.Figure at 0x7ff23ea83748>"
      ]
     },
     "metadata": {},
     "output_type": "display_data"
    }
   ],
   "source": [
    "for i in trace.get_values('GeMpy'):\n",
    "    GeMpy.plot_section(new_series, 13, block = i, plot_data = False)\n",
    "    plt.show()"
   ]
  },
  {
   "cell_type": "code",
   "execution_count": 24,
   "metadata": {
    "collapsed": false,
    "deletable": true,
    "editable": true
   },
   "outputs": [],
   "source": [
    "import ipyvolume.pylab as p3\n",
    "import ipyvolume.serialize\n",
    "ipyvolume.serialize.performance = 1 # 1 for binary, 0 for JSON\n",
    "#p3 = ipyvolume.pylab.figure(width=200,height=600)"
   ]
  },
  {
   "cell_type": "code",
   "execution_count": 56,
   "metadata": {
    "collapsed": false,
    "deletable": true,
    "editable": true
   },
   "outputs": [
    {
     "data": {
      "application/vnd.jupyter.widget-view+json": {
       "model_id": "0431015df72c484cbf1fbbf91c4c57a8"
      }
     },
     "metadata": {},
     "output_type": "display_data"
    }
   ],
   "source": [
    "lith0 = trace['GeMpy'][0] == 0\n",
    "lith1 = trace['GeMpy'][0] == 1\n",
    "lith2 = trace['GeMpy'][0] == 2\n",
    "lith3 = trace['GeMpy'][0] == 3\n",
    "p3.figure(width=800)\n",
    "\n",
    "p3.scatter(geo_data.grid.grid[:,0][lith0],\n",
    "           geo_data.grid.grid[:,1][lith0],\n",
    "           geo_data.grid.grid[:,2][lith0], marker='box', color = 'blue' )\n",
    "\n",
    "p3.scatter(geo_data.grid.grid[:,0][lith1],\n",
    "           geo_data.grid.grid[:,1][lith1],\n",
    "           geo_data.grid.grid[:,2][lith1], marker='box', color = 'yellow', size = 1 )\n",
    "\n",
    "p3.scatter(geo_data.grid.grid[:,0][lith2],\n",
    "           geo_data.grid.grid[:,1][lith2],\n",
    "           geo_data.grid.grid[:,2][lith2], marker='box', color = 'green' )\n",
    "\n",
    "p3.scatter(geo_data.grid.grid[:,0][lith3],\n",
    "           geo_data.grid.grid[:,1][lith3],\n",
    "           geo_data.grid.grid[:,2][lith3], marker='box', color = 'red' )\n",
    "\n",
    "p3.show()"
   ]
  },
  {
   "cell_type": "markdown",
   "metadata": {
    "collapsed": false,
    "deletable": true,
    "editable": true
   },
   "source": [
    "## Cholesky  (Under development)"
   ]
  },
  {
   "cell_type": "code",
   "execution_count": 18,
   "metadata": {
    "collapsed": false,
    "deletable": true,
    "editable": true
   },
   "outputs": [
    {
     "ename": "NameError",
     "evalue": "name 'C' is not defined",
     "output_type": "error",
     "traceback": [
      "\u001b[0;31m---------------------------------------------------------------------------\u001b[0m",
      "\u001b[0;31mNameError\u001b[0m                                 Traceback (most recent call last)",
      "\u001b[0;32m<ipython-input-18-c22109665cca>\u001b[0m in \u001b[0;36m<module>\u001b[0;34m()\u001b[0m\n\u001b[1;32m      1\u001b[0m \u001b[0;31m# Cholesky solution\u001b[0m\u001b[0;34m\u001b[0m\u001b[0;34m\u001b[0m\u001b[0m\n\u001b[0;32m----> 2\u001b[0;31m \u001b[0mL\u001b[0m \u001b[0;34m=\u001b[0m \u001b[0mnp\u001b[0m\u001b[0;34m.\u001b[0m\u001b[0mlinalg\u001b[0m\u001b[0;34m.\u001b[0m\u001b[0mcholesky\u001b[0m\u001b[0;34m(\u001b[0m\u001b[0mC\u001b[0m\u001b[0;34m)\u001b[0m\u001b[0;34m\u001b[0m\u001b[0m\n\u001b[0m\u001b[1;32m      3\u001b[0m \u001b[0mU\u001b[0m \u001b[0;34m=\u001b[0m \u001b[0msc\u001b[0m\u001b[0;34m.\u001b[0m\u001b[0mlinalg\u001b[0m\u001b[0;34m.\u001b[0m\u001b[0mcholesky\u001b[0m\u001b[0;34m(\u001b[0m\u001b[0mC\u001b[0m\u001b[0;34m)\u001b[0m\u001b[0;34m\u001b[0m\u001b[0m\n\u001b[1;32m      4\u001b[0m \u001b[0mY\u001b[0m \u001b[0;34m=\u001b[0m \u001b[0msc\u001b[0m\u001b[0;34m.\u001b[0m\u001b[0mlinalg\u001b[0m\u001b[0;34m.\u001b[0m\u001b[0msolve_triangular\u001b[0m\u001b[0;34m(\u001b[0m\u001b[0mL\u001b[0m\u001b[0;34m,\u001b[0m\u001b[0mb\u001b[0m\u001b[0;34m,\u001b[0m \u001b[0mlower\u001b[0m\u001b[0;34m=\u001b[0m\u001b[0;32mTrue\u001b[0m\u001b[0;34m)\u001b[0m\u001b[0;34m\u001b[0m\u001b[0m\n\u001b[1;32m      5\u001b[0m \u001b[0mx\u001b[0m \u001b[0;34m=\u001b[0m \u001b[0msc\u001b[0m\u001b[0;34m.\u001b[0m\u001b[0mlinalg\u001b[0m\u001b[0;34m.\u001b[0m\u001b[0msolve_triangular\u001b[0m\u001b[0;34m(\u001b[0m\u001b[0mL\u001b[0m\u001b[0;34m.\u001b[0m\u001b[0mconj\u001b[0m\u001b[0;34m(\u001b[0m\u001b[0;34m)\u001b[0m\u001b[0;34m.\u001b[0m\u001b[0mT\u001b[0m\u001b[0;34m,\u001b[0m \u001b[0mY\u001b[0m\u001b[0;34m)\u001b[0m\u001b[0;34m\u001b[0m\u001b[0m\n",
      "\u001b[0;31mNameError\u001b[0m: name 'C' is not defined"
     ]
    }
   ],
   "source": [
    "# Cholesky solution\n",
    "L = np.linalg.cholesky(C)\n",
    "U = sc.linalg.cholesky(C)\n",
    "Y = sc.linalg.solve_triangular(L,b, lower=True)\n",
    "x = sc.linalg.solve_triangular(L.conj().T, Y)"
   ]
  },
  {
   "cell_type": "code",
   "execution_count": null,
   "metadata": {
    "collapsed": false,
    "deletable": true,
    "editable": true
   },
   "outputs": [],
   "source": [
    "import scipy as sc\n",
    "Y = sc.linalg.solve_triangular?"
   ]
  },
  {
   "cell_type": "code",
   "execution_count": null,
   "metadata": {
    "collapsed": false,
    "deletable": true,
    "editable": true
   },
   "outputs": [],
   "source": []
  },
  {
   "cell_type": "code",
   "execution_count": null,
   "metadata": {
    "collapsed": false,
    "deletable": true,
    "editable": true
   },
   "outputs": [],
   "source": [
    "debugging.profile.summary()"
   ]
  },
  {
   "cell_type": "code",
   "execution_count": null,
   "metadata": {
    "collapsed": false,
    "deletable": true,
    "editable": true
   },
   "outputs": [],
   "source": []
  },
  {
   "cell_type": "code",
   "execution_count": null,
   "metadata": {
    "collapsed": false,
    "deletable": true,
    "editable": true
   },
   "outputs": [],
   "source": [
    "data_interp.interpolator.tg.dips_position_all.set_value(input_data_P[0])\n",
    "data_interp.interpolator.tg.dip_angles_all.set_value(input_data_P[1])\n",
    "data_interp.interpolator.tg.azimuth_all.set_value(input_data_P[2])\n",
    "data_interp.interpolator.tg.polarity_all.set_value(input_data_P[3])\n",
    "data_interp.interpolator.tg.ref_layer_points_all.set_value(input_data_P[4])\n",
    "data_interp.interpolator.tg.rest_layer_points_all.set_value(input_data_P[5])"
   ]
  },
  {
   "cell_type": "code",
   "execution_count": null,
   "metadata": {
    "collapsed": false,
    "deletable": true,
    "editable": true
   },
   "outputs": [],
   "source": []
  },
  {
   "cell_type": "code",
   "execution_count": null,
   "metadata": {
    "collapsed": false,
    "deletable": true,
    "editable": true
   },
   "outputs": [],
   "source": []
  },
  {
   "cell_type": "code",
   "execution_count": null,
   "metadata": {
    "collapsed": false,
    "deletable": true,
    "editable": true
   },
   "outputs": [],
   "source": []
  }
 ],
 "metadata": {
  "anaconda-cloud": {},
  "celltoolbar": "Initialisation Cell",
  "kernelspec": {
   "display_name": "Python 3",
   "language": "python",
   "name": "python3"
  },
  "language_info": {
   "codemirror_mode": {
    "name": "ipython",
    "version": 3
   },
   "file_extension": ".py",
   "mimetype": "text/x-python",
   "name": "python",
   "nbconvert_exporter": "python",
   "pygments_lexer": "ipython3",
   "version": "3.6.0"
  },
  "latex_envs": {
   "LaTeX_envs_menu_present": true,
   "autocomplete": true,
   "bibliofile": "biblio.bib",
   "cite_by": "number",
   "current_citInitial": 1,
   "eqLabelWithNumbers": true,
   "eqNumInitial": 0,
   "hotkeys": {
    "equation": "Ctrl-E",
    "itemize": "Ctrl-I"
   },
   "labels_anchors": false,
   "latex_user_defs": false,
   "report_style_numbering": false,
   "user_envs_cfg": false
  },
  "nav_menu": {},
  "toc": {
   "colors": {
    "hover_highlight": "#DAA520",
    "running_highlight": "#FF0000",
    "selected_highlight": "#FFD700"
   },
   "moveMenuLeft": true,
   "nav_menu": {
    "height": "98px",
    "width": "252px"
   },
   "navigate_menu": true,
   "number_sections": false,
   "sideBar": true,
   "threshold": 4,
   "toc_cell": false,
   "toc_section_display": "block",
   "toc_window_display": false,
   "widenNotebook": false
  }
 },
 "nbformat": 4,
 "nbformat_minor": 0
}
