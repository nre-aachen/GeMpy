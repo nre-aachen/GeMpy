{
 "cells": [
  {
   "cell_type": "markdown",
   "metadata": {},
   "source": [
    "# Example 1: Sandstone Model"
   ]
  },
  {
   "cell_type": "code",
   "execution_count": 1,
   "metadata": {},
   "outputs": [],
   "source": [
    "# Importing\n",
    "import theano.tensor as T\n",
    "import theano\n",
    "import sys, os\n",
    "sys.path.append(\"../GeMpy\")\n",
    "sys.path.append(\"../\")\n",
    "# Importing GeMpy modules\n",
    "import gempy as GeMpy\n",
    "\n",
    "# Reloading (only for development purposes)\n",
    "import importlib\n",
    "importlib.reload(GeMpy)\n",
    "\n",
    "# Usuful packages\n",
    "import numpy as np\n",
    "import pandas as pn\n",
    "\n",
    "import matplotlib.pyplot as plt\n",
    "\n",
    "# This was to choose the gpu\n",
    "os.environ['CUDA_LAUNCH_BLOCKING'] = '1'\n",
    "\n",
    "# Default options of printin\n",
    "np.set_printoptions(precision = 6, linewidth= 130, suppress =  True)\n",
    "\n",
    "#%matplotlib inline\n",
    "%matplotlib inline"
   ]
  },
  {
   "cell_type": "code",
   "execution_count": 3,
   "metadata": {},
   "outputs": [],
   "source": [
    "# Importing the data from csv files and settign extent and resolution\n",
    "geo_data = GeMpy.create_data([696000,747000,6863000,6950000,-20000, 200],[ 50, 50, 50],\n",
    "                         path_f = os.pardir+\"/input_data/a_Foliations.csv\",\n",
    "                         path_i = os.pardir+\"/input_data/a_Points.csv\")\n",
    "\n",
    "# Assigning series to formations as well as their order (timewise)\n",
    "GeMpy.set_data_series(geo_data, {\"EarlyGranite_Series\":geo_data.formations[-1], \n",
    "                      \"BIF_Series\":(geo_data.formations[0], geo_data.formations[1]),\n",
    "                      \"SimpleMafic_Series\":geo_data.formations[2]}, \n",
    "                       order_series = [\"EarlyGranite_Series\",\n",
    "                                       \"BIF_Series\",\n",
    "                                       \"SimpleMafic_Series\"], verbose=0)"
   ]
  },
  {
   "cell_type": "code",
   "execution_count": 4,
   "metadata": {
    "collapsed": true
   },
   "outputs": [],
   "source": [
    "GeMpy.data_to_pickle(geo_data, 'sandstone')"
   ]
  },
  {
   "cell_type": "code",
   "execution_count": 5,
   "metadata": {},
   "outputs": [
    {
     "name": "stdout",
     "output_type": "stream",
     "text": [
      "I am in the setting\n",
      "float32\n",
      "I am here\n",
      "[2, 2]\n"
     ]
    }
   ],
   "source": [
    "inter = GeMpy.InterpolatorInput(geo_data)"
   ]
  },
  {
   "cell_type": "code",
   "execution_count": 8,
   "metadata": {},
   "outputs": [
    {
     "data": {
      "text/plain": [
       "array([1, 2, 3, 4])"
      ]
     },
     "execution_count": 8,
     "metadata": {},
     "output_type": "execute_result"
    }
   ],
   "source": [
    "inter.interpolator.tg.n_formation.get_value()"
   ]
  },
  {
   "cell_type": "code",
   "execution_count": 2,
   "metadata": {},
   "outputs": [
    {
     "data": {
      "text/plain": [
       "array([], shape=(100, 0), dtype=float64)"
      ]
     },
     "execution_count": 2,
     "metadata": {},
     "output_type": "execute_result"
    }
   ],
   "source": [
    "import numpy as np\n",
    "np.zeros((100,0))"
   ]
  },
  {
   "cell_type": "code",
   "execution_count": 5,
   "metadata": {},
   "outputs": [
    {
     "data": {
      "text/plain": [
       "100.0"
      ]
     },
     "execution_count": 5,
     "metadata": {},
     "output_type": "execute_result"
    }
   ],
   "source": [
    "100000/1000"
   ]
  },
  {
   "cell_type": "code",
   "execution_count": null,
   "metadata": {},
   "outputs": [],
   "source": []
  },
  {
   "cell_type": "code",
   "execution_count": 3,
   "metadata": {},
   "outputs": [
    {
     "data": {
      "text/plain": [
       "<gempy.Visualization.PlotData at 0x7f2c60535d68>"
      ]
     },
     "execution_count": 3,
     "metadata": {},
     "output_type": "execute_result"
    },
    {
     "data": {
      "image/png": "[encoded data removed]",
      "text/plain": [
       "<matplotlib.figure.Figure at 0x7f2c605fefd0>"
      ]
     },
     "metadata": {},
     "output_type": "display_data"
    }
   ],
   "source": [
    "GeMpy.plot_data(geo_data)"
   ]
  },
  {
   "cell_type": "code",
   "execution_count": 3,
   "metadata": {},
   "outputs": [
    {
     "data": {
      "text/plain": [
       "array(['SimpleMafic2', 'SimpleBIF', 'SimpleMafic1', 'EarlyGranite'], dtype=object)"
      ]
     },
     "execution_count": 3,
     "metadata": {},
     "output_type": "execute_result"
    }
   ],
   "source": [
    "geo_data.formations"
   ]
  },
  {
   "cell_type": "code",
   "execution_count": 5,
   "metadata": {},
   "outputs": [
    {
     "name": "stdout",
     "output_type": "stream",
     "text": [
      "I am in the setting\n",
      "float32\n",
      "I am here\n",
      "[2, 2]\n"
     ]
    }
   ],
   "source": [
    "di = GeMpy.InterpolatorInput(geo_data)"
   ]
  },
  {
   "cell_type": "code",
   "execution_count": 8,
   "metadata": {},
   "outputs": [
    {
     "data": {
      "text/plain": [
       "{'DefaultBasement': 0,\n",
       " 'EarlyGranite': 1,\n",
       " 'SimpleBIF': 3,\n",
       " 'SimpleMafic1': 4,\n",
       " 'SimpleMafic2': 2}"
      ]
     },
     "execution_count": 8,
     "metadata": {},
     "output_type": "execute_result"
    }
   ],
   "source": [
    "di.data.get_formation_number()"
   ]
  },
  {
   "cell_type": "code",
   "execution_count": 4,
   "metadata": {},
   "outputs": [],
   "source": [
    "geo_data_s = GeMpy.select_series(geo_data, ['EarlyGranite_Series'])"
   ]
  },
  {
   "cell_type": "code",
   "execution_count": 4,
   "metadata": {
    "scrolled": false
   },
   "outputs": [
    {
     "ename": "AttributeError",
     "evalue": "module 'gempy' has no attribute 'set_interpolator'",
     "output_type": "error",
     "traceback": [
      "\u001b[1;31m---------------------------------------------------------------------------\u001b[0m",
      "\u001b[1;31mAttributeError\u001b[0m                            Traceback (most recent call last)",
      "\u001b[1;32m<ipython-input-4-a7517a358746>\u001b[0m in \u001b[0;36m<module>\u001b[1;34m()\u001b[0m\n\u001b[0;32m      4\u001b[0m \u001b[1;31m# use the GPU. Verbose is huge. There is a large list of strings that select what you want to print while\u001b[0m\u001b[1;33m\u001b[0m\u001b[1;33m\u001b[0m\u001b[0m\n\u001b[0;32m      5\u001b[0m \u001b[1;31m# the computation.\u001b[0m\u001b[1;33m\u001b[0m\u001b[1;33m\u001b[0m\u001b[0m\n\u001b[1;32m----> 6\u001b[1;33m data_interp = GeMpy.set_interpolator(geo_data,\n\u001b[0m\u001b[0;32m      7\u001b[0m                                      \u001b[0mdtype\u001b[0m\u001b[1;33m=\u001b[0m\u001b[1;34m\"float32\"\u001b[0m\u001b[1;33m,\u001b[0m\u001b[1;33m\u001b[0m\u001b[0m\n\u001b[0;32m      8\u001b[0m                                      verbose=[])\n",
      "\u001b[1;31mAttributeError\u001b[0m: module 'gempy' has no attribute 'set_interpolator'"
     ]
    }
   ],
   "source": [
    "# Preprocessing data to interpolate: This rescales the coordinates between 0 and 1 for stability issues.\n",
    "# Here we can choose also the drift degree (in new updates I will change it to be possible to change the\n",
    "# grade after compilation). From here we can set also the data type of the operations in case you want to\n",
    "# use the GPU. Verbose is huge. There is a large list of strings that select what you want to print while\n",
    "# the computation.\n",
    "data_interp = GeMpy.set_interpolator(geo_data,\n",
    "                                     dtype=\"float32\",\n",
    "                                     verbose=[])"
   ]
  },
  {
   "cell_type": "code",
   "execution_count": 6,
   "metadata": {
    "scrolled": false
   },
   "outputs": [
    {
     "name": "stdout",
     "output_type": "stream",
     "text": [
      "[9 9 9]\n"
     ]
    }
   ],
   "source": [
    "# This cell will go to the backend\n",
    "\n",
    "# Set all the theano shared parameters and return the symbolic variables (the input of the theano function)\n",
    "input_data_T = data_interp.interpolator.tg.input_parameters_list()\n",
    "\n",
    "# Prepare the input data (interfaces, foliations data) to call the theano function.\n",
    "#Also set a few theano shared variables with the len of formations series and so on\n",
    "input_data_P = data_interp.interpolator.data_prep() \n",
    "\n",
    "# Compile the theano function.\n",
    "debugging = theano.function(input_data_T, data_interp.interpolator.tg.whole_block_model(), on_unused_input='ignore',\n",
    "                            allow_input_downcast=True, profile=True)"
   ]
  },
  {
   "cell_type": "code",
   "execution_count": 12,
   "metadata": {
    "scrolled": false
   },
   "outputs": [
    {
     "name": "stdout",
     "output_type": "stream",
     "text": [
      "1 loop, best of 3: 5.34 s per loop\n"
     ]
    }
   ],
   "source": [
    "%%timeit\n",
    "# Solve model calling the theano function\n",
    "sol = debugging(input_data_P[0], input_data_P[1], input_data_P[2], input_data_P[3],input_data_P[4], input_data_P[5])\n"
   ]
  },
  {
   "cell_type": "code",
   "execution_count": 16,
   "metadata": {},
   "outputs": [],
   "source": [
    "lith = sol[-1,0,:]"
   ]
  },
  {
   "cell_type": "code",
   "execution_count": 17,
   "metadata": {},
   "outputs": [],
   "source": [
    "np.save('sandstone_lith', lith)"
   ]
  },
  {
   "cell_type": "code",
   "execution_count": 22,
   "metadata": {
    "run_control": {
     "marked": false
    }
   },
   "outputs": [],
   "source": [
    "a = geo_data.grid.grid[:,0].astype(bool)"
   ]
  },
  {
   "cell_type": "code",
   "execution_count": 12,
   "metadata": {
    "run_control": {
     "marked": false
    }
   },
   "outputs": [],
   "source": [
    "a2 = a.reshape(50,50,50)"
   ]
  },
  {
   "cell_type": "code",
   "execution_count": 16,
   "metadata": {},
   "outputs": [
    {
     "data": {
      "text/plain": [
       "array([[ True,  True,  True, ...,  True,  True,  True],\n",
       "       [ True,  True,  True, ...,  True,  True,  True],\n",
       "       [ True,  True,  True, ...,  True,  True,  True],\n",
       "       ..., \n",
       "       [ True,  True,  True, ...,  True,  True,  True],\n",
       "       [ True,  True,  True, ...,  True,  True,  True],\n",
       "       [ True,  True,  True, ...,  True,  True,  True]], dtype=bool)"
      ]
     },
     "execution_count": 16,
     "metadata": {},
     "output_type": "execute_result"
    }
   ],
   "source": [
    "a2[:,:,0]"
   ]
  },
  {
   "cell_type": "code",
   "execution_count": 17,
   "metadata": {},
   "outputs": [
    {
     "data": {
      "text/plain": [
       "array([[  696000.      ,  6863000.      ,   -20000.      ],\n",
       "       [  696000.      ,  6863000.      ,   -19551.019531],\n",
       "       [  696000.      ,  6863000.      ,   -19102.041016],\n",
       "       ..., \n",
       "       [  747000.      ,  6950000.      ,     1102.040771],\n",
       "       [  747000.      ,  6950000.      ,     1551.020386],\n",
       "       [  747000.      ,  6950000.      ,     2000.      ]], dtype=float32)"
      ]
     },
     "execution_count": 17,
     "metadata": {},
     "output_type": "execute_result"
    }
   ],
   "source": [
    "geo_data.grid.grid"
   ]
  },
  {
   "cell_type": "code",
   "execution_count": 20,
   "metadata": {},
   "outputs": [
    {
     "data": {
      "text/plain": [
       "2500"
      ]
     },
     "execution_count": 20,
     "metadata": {},
     "output_type": "execute_result"
    }
   ],
   "source": [
    "50*50"
   ]
  },
  {
   "cell_type": "code",
   "execution_count": 18,
   "metadata": {},
   "outputs": [],
   "source": [
    "geo_data.data_to_pickle('sandstone')"
   ]
  },
  {
   "cell_type": "code",
   "execution_count": 21,
   "metadata": {},
   "outputs": [
    {
     "ename": "NameError",
     "evalue": "name 'a1' is not defined",
     "output_type": "error",
     "traceback": [
      "\u001b[0;31m---------------------------------------------------------------------------\u001b[0m",
      "\u001b[0;31mNameError\u001b[0m                                 Traceback (most recent call last)",
      "\u001b[0;32m<ipython-input-21-8c06ea332964>\u001b[0m in \u001b[0;36m<module>\u001b[0;34m()\u001b[0m\n\u001b[0;32m----> 1\u001b[0;31m \u001b[0ma2\u001b[0m \u001b[0;34m=\u001b[0m \u001b[0ma1\u001b[0m\u001b[0;34m[\u001b[0m\u001b[0;34m:\u001b[0m\u001b[0;36m2500\u001b[0m\u001b[0;34m]\u001b[0m\u001b[0;34m\u001b[0m\u001b[0m\n\u001b[0m\u001b[1;32m      2\u001b[0m \u001b[0;34m\u001b[0m\u001b[0m\n",
      "\u001b[0;31mNameError\u001b[0m: name 'a1' is not defined"
     ]
    }
   ],
   "source": [
    "a2 = a1[:2500]\n",
    "\n"
   ]
  },
  {
   "cell_type": "code",
   "execution_count": 30,
   "metadata": {},
   "outputs": [],
   "source": [
    "g = geo_data.grid.grid\n",
    "h = geo_data.grid.grid[:2500]"
   ]
  },
  {
   "cell_type": "code",
   "execution_count": 33,
   "metadata": {},
   "outputs": [
    {
     "name": "stdout",
     "output_type": "stream",
     "text": [
      "1 loop, best of 3: 1.73 s per loop\n"
     ]
    }
   ],
   "source": [
    "%%timeit\n",
    "eu(g,h)"
   ]
  },
  {
   "cell_type": "code",
   "execution_count": 11,
   "metadata": {},
   "outputs": [],
   "source": [
    "def squared_euclidean_distances(x_1, x_2):\n",
    "    \"\"\"\n",
    "    Compute the euclidian distances in 3D between all the points in x_1 and x_2\n",
    "    Args:\n",
    "        x_1 (theano.tensor.matrix): shape n_points x number dimension\n",
    "        x_2 (theano.tensor.matrix): shape n_points x number dimension\n",
    "\n",
    "    Returns:\n",
    "        theano.tensor.matrix: Distancse matrix. shape n_points x n_points\n",
    "    \"\"\"\n",
    "\n",
    "    # T.maximum avoid negative numbers increasing stability\n",
    "\n",
    "\n",
    "    return sqd"
   ]
  },
  {
   "cell_type": "code",
   "execution_count": 24,
   "metadata": {},
   "outputs": [],
   "source": [
    "x_1 = T.matrix()\n",
    "x_2 = T.matrix()\n",
    "\n",
    "sqd = T.sqrt(T.maximum(\n",
    "    (x_1**2).sum(1).reshape((x_1.shape[0], 1)) +\n",
    "    (x_2**2).sum(1).reshape((1, x_2.shape[0])) -\n",
    "    2 * x_1.dot(x_2.T), 0\n",
    "))\n",
    "eu = theano.function([x_1, x_2], sqd)"
   ]
  },
  {
   "cell_type": "code",
   "execution_count": 22,
   "metadata": {
    "run_control": {
     "marked": true
    }
   },
   "outputs": [
    {
     "ename": "MemoryError",
     "evalue": "\nApply node that caused the error: Elemwise{add,no_inplace}(Reshape{2}.0, Reshape{2}.0)\nToposort index: 15\nInputs types: [TensorType(float32, col), TensorType(float32, row)]\nInputs shapes: [(125000, 1), (1, 125000)]\nInputs strides: [(4, 4), (500000, 4)]\nInputs values: ['not shown', 'not shown']\nInputs type_num: [11, 11]\nOutputs clients: [[Elemwise{sub,no_inplace}(Elemwise{add,no_inplace}.0, Elemwise{mul,no_inplace}.0)]]\n\nBacktrace when the node is created(use Theano flag traceback.limit=N to make it longer):\n  File \"/home/miguel/anaconda3/lib/python3.6/site-packages/ipykernel/kernelbase.py\", line 228, in dispatch_shell\n    handler(stream, idents, msg)\n  File \"/home/miguel/anaconda3/lib/python3.6/site-packages/ipykernel/kernelbase.py\", line 390, in execute_request\n    user_expressions, allow_stdin)\n  File \"/home/miguel/anaconda3/lib/python3.6/site-packages/ipykernel/ipkernel.py\", line 196, in do_execute\n    res = shell.run_cell(code, store_history=store_history, silent=silent)\n  File \"/home/miguel/anaconda3/lib/python3.6/site-packages/ipykernel/zmqshell.py\", line 501, in run_cell\n    return super(ZMQInteractiveShell, self).run_cell(*args, **kwargs)\n  File \"/home/miguel/anaconda3/lib/python3.6/site-packages/IPython/core/interactiveshell.py\", line 2717, in run_cell\n    interactivity=interactivity, compiler=compiler, result=result)\n  File \"/home/miguel/anaconda3/lib/python3.6/site-packages/IPython/core/interactiveshell.py\", line 2821, in run_ast_nodes\n    if self.run_code(code, result):\n  File \"/home/miguel/anaconda3/lib/python3.6/site-packages/IPython/core/interactiveshell.py\", line 2881, in run_code\n    exec(code_obj, self.user_global_ns, self.user_ns)\n  File \"<ipython-input-15-49bfe268a453>\", line 6, in <module>\n    (x_2**2).sum(1).reshape((1, x_2.shape[0])) -\n\nDebugprint of the apply node: \nElemwise{add,no_inplace} [id A] <TensorType(float32, matrix)> ''   \n |Reshape{2} [id B] <TensorType(float32, col)> ''   \n | |Sum{axis=[1], acc_dtype=float64} [id C] <TensorType(float32, vector)> ''   \n | | |Elemwise{pow,no_inplace} [id D] <TensorType(float32, matrix)> ''   \n | |   |<TensorType(float32, matrix)> [id E] <TensorType(float32, matrix)>\n | |   |TensorConstant{(1, 1) of 2} [id F] <TensorType(int8, (True, True))>\n | |MakeVector{dtype='int64'} [id G] <TensorType(int64, vector)> ''   \n |   |Subtensor{int64} [id H] <TensorType(int64, scalar)> ''   \n |   | |Shape [id I] <TensorType(int64, vector)> ''   \n |   | | |<TensorType(float32, matrix)> [id E] <TensorType(float32, matrix)>\n |   | |Constant{0} [id J] <int64>\n |   |TensorConstant{1} [id K] <TensorType(int64, scalar)>\n |Reshape{2} [id L] <TensorType(float32, row)> ''   \n   |Sum{axis=[1], acc_dtype=float64} [id M] <TensorType(float32, vector)> ''   \n   | |Elemwise{pow,no_inplace} [id N] <TensorType(float32, matrix)> ''   \n   |   |<TensorType(float32, matrix)> [id O] <TensorType(float32, matrix)>\n   |   |TensorConstant{(1, 1) of 2} [id F] <TensorType(int8, (True, True))>\n   |MakeVector{dtype='int64'} [id P] <TensorType(int64, vector)> ''   \n     |TensorConstant{1} [id K] <TensorType(int64, scalar)>\n     |Subtensor{int64} [id Q] <TensorType(int64, scalar)> ''   \n       |Shape [id R] <TensorType(int64, vector)> ''   \n       | |<TensorType(float32, matrix)> [id O] <TensorType(float32, matrix)>\n       |Constant{0} [id J] <int64>\n\nStorage map footprint:\n - <TensorType(float32, matrix)>, Input, Shape: (125000, 3), ElemSize: 4 Byte(s), TotalSize: 1500000 Byte(s)\n - <TensorType(float32, matrix)>, Input, Shape: (125000, 3), ElemSize: 4 Byte(s), TotalSize: 1500000 Byte(s)\n - Reshape{2}.0, Shape: (1, 125000), ElemSize: 4 Byte(s), TotalSize: 500000 Byte(s)\n - Reshape{2}.0, Shape: (125000, 1), ElemSize: 4 Byte(s), TotalSize: 500000 Byte(s)\n - Constant{0}, Shape: (), ElemSize: 8 Byte(s), TotalSize: 8.0 Byte(s)\n - TensorConstant{1}, Shape: (), ElemSize: 8 Byte(s), TotalSize: 8.0 Byte(s)\n - TensorConstant{(1, 1) of 2}, Shape: (1, 1), ElemSize: 1 Byte(s), TotalSize: 1 Byte(s)\n - TensorConstant{(1, 1) of 0}, Shape: (1, 1), ElemSize: 1 Byte(s), TotalSize: 1 Byte(s)\n TotalSize: 4000018.0 Byte(s) 0.004 GB\n TotalSize inputs: 3000018.0 Byte(s) 0.003 GB\n\n",
     "output_type": "error",
     "traceback": [
      "\u001b[0;31m---------------------------------------------------------------------------\u001b[0m",
      "\u001b[0;31mMemoryError\u001b[0m                               Traceback (most recent call last)",
      "\u001b[0;32m/home/miguel/anaconda3/lib/python3.6/site-packages/Theano-0.9.0rc4-py3.6.egg/theano/compile/function_module.py\u001b[0m in \u001b[0;36m__call__\u001b[0;34m(self, *args, **kwargs)\u001b[0m\n\u001b[1;32m    883\u001b[0m             \u001b[0moutputs\u001b[0m \u001b[0;34m=\u001b[0m\u001b[0;31m\\\u001b[0m\u001b[0;34m\u001b[0m\u001b[0m\n\u001b[0;32m--> 884\u001b[0;31m                 \u001b[0mself\u001b[0m\u001b[0;34m.\u001b[0m\u001b[0mfn\u001b[0m\u001b[0;34m(\u001b[0m\u001b[0;34m)\u001b[0m \u001b[0;32mif\u001b[0m \u001b[0moutput_subset\u001b[0m \u001b[0;32mis\u001b[0m \u001b[0;32mNone\u001b[0m \u001b[0;32melse\u001b[0m\u001b[0;31m\\\u001b[0m\u001b[0;34m\u001b[0m\u001b[0m\n\u001b[0m\u001b[1;32m    885\u001b[0m                 \u001b[0mself\u001b[0m\u001b[0;34m.\u001b[0m\u001b[0mfn\u001b[0m\u001b[0;34m(\u001b[0m\u001b[0moutput_subset\u001b[0m\u001b[0;34m=\u001b[0m\u001b[0moutput_subset\u001b[0m\u001b[0;34m)\u001b[0m\u001b[0;34m\u001b[0m\u001b[0m\n",
      "\u001b[0;31mMemoryError\u001b[0m: ",
      "\nDuring handling of the above exception, another exception occurred:\n",
      "\u001b[0;31mMemoryError\u001b[0m                               Traceback (most recent call last)",
      "\u001b[0;32m<ipython-input-22-b10321a210b8>\u001b[0m in \u001b[0;36m<module>\u001b[0;34m()\u001b[0m\n\u001b[0;32m----> 1\u001b[0;31m \u001b[0meu\u001b[0m\u001b[0;34m(\u001b[0m\u001b[0ma1\u001b[0m\u001b[0;34m,\u001b[0m \u001b[0ma2\u001b[0m\u001b[0;34m)\u001b[0m\u001b[0;34m\u001b[0m\u001b[0m\n\u001b[0m",
      "\u001b[0;32m/home/miguel/anaconda3/lib/python3.6/site-packages/Theano-0.9.0rc4-py3.6.egg/theano/compile/function_module.py\u001b[0m in \u001b[0;36m__call__\u001b[0;34m(self, *args, **kwargs)\u001b[0m\n\u001b[1;32m    896\u001b[0m                     \u001b[0mnode\u001b[0m\u001b[0;34m=\u001b[0m\u001b[0mself\u001b[0m\u001b[0;34m.\u001b[0m\u001b[0mfn\u001b[0m\u001b[0;34m.\u001b[0m\u001b[0mnodes\u001b[0m\u001b[0;34m[\u001b[0m\u001b[0mself\u001b[0m\u001b[0;34m.\u001b[0m\u001b[0mfn\u001b[0m\u001b[0;34m.\u001b[0m\u001b[0mposition_of_error\u001b[0m\u001b[0;34m]\u001b[0m\u001b[0;34m,\u001b[0m\u001b[0;34m\u001b[0m\u001b[0m\n\u001b[1;32m    897\u001b[0m                     \u001b[0mthunk\u001b[0m\u001b[0;34m=\u001b[0m\u001b[0mthunk\u001b[0m\u001b[0;34m,\u001b[0m\u001b[0;34m\u001b[0m\u001b[0m\n\u001b[0;32m--> 898\u001b[0;31m                     storage_map=getattr(self.fn, 'storage_map', None))\n\u001b[0m\u001b[1;32m    899\u001b[0m             \u001b[0;32melse\u001b[0m\u001b[0;34m:\u001b[0m\u001b[0;34m\u001b[0m\u001b[0m\n\u001b[1;32m    900\u001b[0m                 \u001b[0;31m# old-style linkers raise their own exceptions\u001b[0m\u001b[0;34m\u001b[0m\u001b[0;34m\u001b[0m\u001b[0m\n",
      "\u001b[0;32m/home/miguel/anaconda3/lib/python3.6/site-packages/Theano-0.9.0rc4-py3.6.egg/theano/gof/link.py\u001b[0m in \u001b[0;36mraise_with_op\u001b[0;34m(node, thunk, exc_info, storage_map)\u001b[0m\n\u001b[1;32m    323\u001b[0m         \u001b[0;31m# extra long error message in that case.\u001b[0m\u001b[0;34m\u001b[0m\u001b[0;34m\u001b[0m\u001b[0m\n\u001b[1;32m    324\u001b[0m         \u001b[0;32mpass\u001b[0m\u001b[0;34m\u001b[0m\u001b[0m\n\u001b[0;32m--> 325\u001b[0;31m     \u001b[0mreraise\u001b[0m\u001b[0;34m(\u001b[0m\u001b[0mexc_type\u001b[0m\u001b[0;34m,\u001b[0m \u001b[0mexc_value\u001b[0m\u001b[0;34m,\u001b[0m \u001b[0mexc_trace\u001b[0m\u001b[0;34m)\u001b[0m\u001b[0;34m\u001b[0m\u001b[0m\n\u001b[0m\u001b[1;32m    326\u001b[0m \u001b[0;34m\u001b[0m\u001b[0m\n\u001b[1;32m    327\u001b[0m \u001b[0;34m\u001b[0m\u001b[0m\n",
      "\u001b[0;32m/home/miguel/anaconda3/lib/python3.6/site-packages/six.py\u001b[0m in \u001b[0;36mreraise\u001b[0;34m(tp, value, tb)\u001b[0m\n\u001b[1;32m    683\u001b[0m             \u001b[0mvalue\u001b[0m \u001b[0;34m=\u001b[0m \u001b[0mtp\u001b[0m\u001b[0;34m(\u001b[0m\u001b[0;34m)\u001b[0m\u001b[0;34m\u001b[0m\u001b[0m\n\u001b[1;32m    684\u001b[0m         \u001b[0;32mif\u001b[0m \u001b[0mvalue\u001b[0m\u001b[0;34m.\u001b[0m\u001b[0m__traceback__\u001b[0m \u001b[0;32mis\u001b[0m \u001b[0;32mnot\u001b[0m \u001b[0mtb\u001b[0m\u001b[0;34m:\u001b[0m\u001b[0;34m\u001b[0m\u001b[0m\n\u001b[0;32m--> 685\u001b[0;31m             \u001b[0;32mraise\u001b[0m \u001b[0mvalue\u001b[0m\u001b[0;34m.\u001b[0m\u001b[0mwith_traceback\u001b[0m\u001b[0;34m(\u001b[0m\u001b[0mtb\u001b[0m\u001b[0;34m)\u001b[0m\u001b[0;34m\u001b[0m\u001b[0m\n\u001b[0m\u001b[1;32m    686\u001b[0m         \u001b[0;32mraise\u001b[0m \u001b[0mvalue\u001b[0m\u001b[0;34m\u001b[0m\u001b[0m\n\u001b[1;32m    687\u001b[0m \u001b[0;34m\u001b[0m\u001b[0m\n",
      "\u001b[0;32m/home/miguel/anaconda3/lib/python3.6/site-packages/Theano-0.9.0rc4-py3.6.egg/theano/compile/function_module.py\u001b[0m in \u001b[0;36m__call__\u001b[0;34m(self, *args, **kwargs)\u001b[0m\n\u001b[1;32m    882\u001b[0m         \u001b[0;32mtry\u001b[0m\u001b[0;34m:\u001b[0m\u001b[0;34m\u001b[0m\u001b[0m\n\u001b[1;32m    883\u001b[0m             \u001b[0moutputs\u001b[0m \u001b[0;34m=\u001b[0m\u001b[0;31m\\\u001b[0m\u001b[0;34m\u001b[0m\u001b[0m\n\u001b[0;32m--> 884\u001b[0;31m                 \u001b[0mself\u001b[0m\u001b[0;34m.\u001b[0m\u001b[0mfn\u001b[0m\u001b[0;34m(\u001b[0m\u001b[0;34m)\u001b[0m \u001b[0;32mif\u001b[0m \u001b[0moutput_subset\u001b[0m \u001b[0;32mis\u001b[0m \u001b[0;32mNone\u001b[0m \u001b[0;32melse\u001b[0m\u001b[0;31m\\\u001b[0m\u001b[0;34m\u001b[0m\u001b[0m\n\u001b[0m\u001b[1;32m    885\u001b[0m                 \u001b[0mself\u001b[0m\u001b[0;34m.\u001b[0m\u001b[0mfn\u001b[0m\u001b[0;34m(\u001b[0m\u001b[0moutput_subset\u001b[0m\u001b[0;34m=\u001b[0m\u001b[0moutput_subset\u001b[0m\u001b[0;34m)\u001b[0m\u001b[0;34m\u001b[0m\u001b[0m\n\u001b[1;32m    886\u001b[0m         \u001b[0;32mexcept\u001b[0m \u001b[0mException\u001b[0m\u001b[0;34m:\u001b[0m\u001b[0;34m\u001b[0m\u001b[0m\n",
      "\u001b[0;31mMemoryError\u001b[0m: \nApply node that caused the error: Elemwise{add,no_inplace}(Reshape{2}.0, Reshape{2}.0)\nToposort index: 15\nInputs types: [TensorType(float32, col), TensorType(float32, row)]\nInputs shapes: [(125000, 1), (1, 125000)]\nInputs strides: [(4, 4), (500000, 4)]\nInputs values: ['not shown', 'not shown']\nInputs type_num: [11, 11]\nOutputs clients: [[Elemwise{sub,no_inplace}(Elemwise{add,no_inplace}.0, Elemwise{mul,no_inplace}.0)]]\n\nBacktrace when the node is created(use Theano flag traceback.limit=N to make it longer):\n  File \"/home/miguel/anaconda3/lib/python3.6/site-packages/ipykernel/kernelbase.py\", line 228, in dispatch_shell\n    handler(stream, idents, msg)\n  File \"/home/miguel/anaconda3/lib/python3.6/site-packages/ipykernel/kernelbase.py\", line 390, in execute_request\n    user_expressions, allow_stdin)\n  File \"/home/miguel/anaconda3/lib/python3.6/site-packages/ipykernel/ipkernel.py\", line 196, in do_execute\n    res = shell.run_cell(code, store_history=store_history, silent=silent)\n  File \"/home/miguel/anaconda3/lib/python3.6/site-packages/ipykernel/zmqshell.py\", line 501, in run_cell\n    return super(ZMQInteractiveShell, self).run_cell(*args, **kwargs)\n  File \"/home/miguel/anaconda3/lib/python3.6/site-packages/IPython/core/interactiveshell.py\", line 2717, in run_cell\n    interactivity=interactivity, compiler=compiler, result=result)\n  File \"/home/miguel/anaconda3/lib/python3.6/site-packages/IPython/core/interactiveshell.py\", line 2821, in run_ast_nodes\n    if self.run_code(code, result):\n  File \"/home/miguel/anaconda3/lib/python3.6/site-packages/IPython/core/interactiveshell.py\", line 2881, in run_code\n    exec(code_obj, self.user_global_ns, self.user_ns)\n  File \"<ipython-input-15-49bfe268a453>\", line 6, in <module>\n    (x_2**2).sum(1).reshape((1, x_2.shape[0])) -\n\nDebugprint of the apply node: \nElemwise{add,no_inplace} [id A] <TensorType(float32, matrix)> ''   \n |Reshape{2} [id B] <TensorType(float32, col)> ''   \n | |Sum{axis=[1], acc_dtype=float64} [id C] <TensorType(float32, vector)> ''   \n | | |Elemwise{pow,no_inplace} [id D] <TensorType(float32, matrix)> ''   \n | |   |<TensorType(float32, matrix)> [id E] <TensorType(float32, matrix)>\n | |   |TensorConstant{(1, 1) of 2} [id F] <TensorType(int8, (True, True))>\n | |MakeVector{dtype='int64'} [id G] <TensorType(int64, vector)> ''   \n |   |Subtensor{int64} [id H] <TensorType(int64, scalar)> ''   \n |   | |Shape [id I] <TensorType(int64, vector)> ''   \n |   | | |<TensorType(float32, matrix)> [id E] <TensorType(float32, matrix)>\n |   | |Constant{0} [id J] <int64>\n |   |TensorConstant{1} [id K] <TensorType(int64, scalar)>\n |Reshape{2} [id L] <TensorType(float32, row)> ''   \n   |Sum{axis=[1], acc_dtype=float64} [id M] <TensorType(float32, vector)> ''   \n   | |Elemwise{pow,no_inplace} [id N] <TensorType(float32, matrix)> ''   \n   |   |<TensorType(float32, matrix)> [id O] <TensorType(float32, matrix)>\n   |   |TensorConstant{(1, 1) of 2} [id F] <TensorType(int8, (True, True))>\n   |MakeVector{dtype='int64'} [id P] <TensorType(int64, vector)> ''   \n     |TensorConstant{1} [id K] <TensorType(int64, scalar)>\n     |Subtensor{int64} [id Q] <TensorType(int64, scalar)> ''   \n       |Shape [id R] <TensorType(int64, vector)> ''   \n       | |<TensorType(float32, matrix)> [id O] <TensorType(float32, matrix)>\n       |Constant{0} [id J] <int64>\n\nStorage map footprint:\n - <TensorType(float32, matrix)>, Input, Shape: (125000, 3), ElemSize: 4 Byte(s), TotalSize: 1500000 Byte(s)\n - <TensorType(float32, matrix)>, Input, Shape: (125000, 3), ElemSize: 4 Byte(s), TotalSize: 1500000 Byte(s)\n - Reshape{2}.0, Shape: (1, 125000), ElemSize: 4 Byte(s), TotalSize: 500000 Byte(s)\n - Reshape{2}.0, Shape: (125000, 1), ElemSize: 4 Byte(s), TotalSize: 500000 Byte(s)\n - Constant{0}, Shape: (), ElemSize: 8 Byte(s), TotalSize: 8.0 Byte(s)\n - TensorConstant{1}, Shape: (), ElemSize: 8 Byte(s), TotalSize: 8.0 Byte(s)\n - TensorConstant{(1, 1) of 2}, Shape: (1, 1), ElemSize: 1 Byte(s), TotalSize: 1 Byte(s)\n - TensorConstant{(1, 1) of 0}, Shape: (1, 1), ElemSize: 1 Byte(s), TotalSize: 1 Byte(s)\n TotalSize: 4000018.0 Byte(s) 0.004 GB\n TotalSize inputs: 3000018.0 Byte(s) 0.003 GB\n\n"
     ]
    }
   ],
   "source": []
  },
  {
   "cell_type": "code",
   "execution_count": 16,
   "metadata": {},
   "outputs": [
    {
     "data": {
      "text/plain": [
       "'/home/miguel/PycharmProjects/GeMpy/Prototype Notebook/sandstone.vtr'"
      ]
     },
     "execution_count": 16,
     "metadata": {},
     "output_type": "execute_result"
    }
   ],
   "source": [
    "from evtk.hl import gridToVTK \n",
    "\n",
    "import numpy as np \n",
    "\n",
    "# Dimensions \n",
    "\n",
    "\n",
    "nx, ny, nz = 50, 50, 50 \n",
    "\n",
    "lx = geo_data.extent[0]-geo_data.extent[1]\n",
    "ly = geo_data.extent[2]-geo_data.extent[3]\n",
    "lz = geo_data.extent[4]-geo_data.extent[5]\n",
    "\n",
    "dx, dy, dz = lx/nx, ly/ny, lz/nz \n",
    "\n",
    "ncells = nx * ny * nz \n",
    "\n",
    "npoints = (nx + 1) * (ny + 1) * (nz + 1) \n",
    "\n",
    "# Coordinates \n",
    "\n",
    "x = np.arange(0, lx + 0.1*dx, dx, dtype='float64') \n",
    "\n",
    "y = np.arange(0, ly + 0.1*dy, dy, dtype='float64') \n",
    "\n",
    "z = np.arange(0, lz + 0.1*dz, dz, dtype='float64') \n",
    "\n",
    "x += geo_data.extent[0]\n",
    "y +=geo_data.extent[2]\n",
    "z +=geo_data.extent[5]\n",
    "\n",
    "# Variables \n",
    " \n",
    "litho = sol[-1,0,:].reshape( (nx, ny, nz))\n",
    "\n",
    "\n",
    "\n",
    "gridToVTK(\"./sandstone\", x, y, z, cellData = {\"lithology\" : litho},) "
   ]
  },
  {
   "cell_type": "code",
   "execution_count": 13,
   "metadata": {},
   "outputs": [
    {
     "data": {
      "text/plain": [
       "-20000"
      ]
     },
     "execution_count": 13,
     "metadata": {},
     "output_type": "execute_result"
    }
   ],
   "source": [
    "geo_data.extent[4]"
   ]
  },
  {
   "cell_type": "code",
   "execution_count": 14,
   "metadata": {},
   "outputs": [
    {
     "data": {
      "text/plain": [
       "<Visualization.PlotData at 0x7fe0505a2b38>"
      ]
     },
     "execution_count": 14,
     "metadata": {},
     "output_type": "execute_result"
    },
    {
     "data": {
      "image/png": "[encoded data removed]",
      "text/plain": [
       "<matplotlib.figure.Figure at 0x7fe0505a2a58>"
      ]
     },
     "metadata": {},
     "output_type": "display_data"
    }
   ],
   "source": [
    "# Plot the block model. \n",
    "GeMpy.plot_section(geo_data, 13,  block = sol[-1,0,:], direction='x', plot_data = True)"
   ]
  },
  {
   "cell_type": "code",
   "execution_count": null,
   "metadata": {},
   "outputs": [],
   "source": []
  },
  {
   "cell_type": "code",
   "execution_count": 6,
   "metadata": {},
   "outputs": [],
   "source": [
    "geo_res = pn.read_csv('olaqases.vox')"
   ]
  },
  {
   "cell_type": "code",
   "execution_count": 7,
   "metadata": {},
   "outputs": [],
   "source": [
    "geo_res = geo_res.iloc[9:]\n"
   ]
  },
  {
   "cell_type": "code",
   "execution_count": 8,
   "metadata": {},
   "outputs": [
    {
     "data": {
      "text/plain": [
       "(array(['Murchison', 'EarlyGranite', 'SimpleMafic', 'SimpleBIF', 'SimpleMafic2', 'out'], dtype=object),\n",
       " array(['SimpleMafic2', 'SimpleBIF', 'SimpleMafic1', 'EarlyGranite'], dtype=object))"
      ]
     },
     "execution_count": 8,
     "metadata": {},
     "output_type": "execute_result"
    }
   ],
   "source": [
    "geo_res['nx 50'].unique(), geo_data.formations"
   ]
  },
  {
   "cell_type": "code",
   "execution_count": 46,
   "metadata": {},
   "outputs": [],
   "source": [
    "ip_addresses = geo_data.interfaces[\"formation\"].unique()\n",
    "ip_dict = dict(zip(ip_addresses, range(1, len(ip_addresses) + 1)))\n",
    "ip_dict['Murchison'] = 0\n",
    "ip_dict['out'] = 0\n",
    "ip_dict['SimpleMafic'] = 4\n",
    "geo_res_num = geo_res['nx 50'].replace(ip_dict)\n"
   ]
  },
  {
   "cell_type": "code",
   "execution_count": 47,
   "metadata": {},
   "outputs": [
    {
     "data": {
      "text/plain": [
       "9         0\n",
       "10        0\n",
       "11        0\n",
       "12        0\n",
       "13        0\n",
       "14        1\n",
       "15        1\n",
       "16        1\n",
       "17        1\n",
       "18        1\n",
       "19        1\n",
       "20        1\n",
       "21        1\n",
       "22        1\n",
       "23        1\n",
       "24        1\n",
       "25        1\n",
       "26        1\n",
       "27        1\n",
       "28        1\n",
       "29        1\n",
       "30        1\n",
       "31        1\n",
       "32        1\n",
       "33        1\n",
       "34        1\n",
       "35        1\n",
       "36        1\n",
       "37        1\n",
       "38        1\n",
       "         ..\n",
       "124979    0\n",
       "124980    0\n",
       "124981    0\n",
       "124982    0\n",
       "124983    0\n",
       "124984    0\n",
       "124985    0\n",
       "124986    0\n",
       "124987    0\n",
       "124988    0\n",
       "124989    0\n",
       "124990    0\n",
       "124991    0\n",
       "124992    0\n",
       "124993    0\n",
       "124994    0\n",
       "124995    0\n",
       "124996    0\n",
       "124997    0\n",
       "124998    0\n",
       "124999    0\n",
       "125000    0\n",
       "125001    0\n",
       "125002    0\n",
       "125003    0\n",
       "125004    0\n",
       "125005    0\n",
       "125006    0\n",
       "125007    0\n",
       "125008    0\n",
       "Name: nx 50, dtype: int64"
      ]
     },
     "execution_count": 47,
     "metadata": {},
     "output_type": "execute_result"
    }
   ],
   "source": [
    "geo_res_num"
   ]
  },
  {
   "cell_type": "code",
   "execution_count": 48,
   "metadata": {},
   "outputs": [
    {
     "data": {
      "text/plain": [
       "{'EarlyGranite': 1,\n",
       " 'Murchison': 0,\n",
       " 'SimpleBIF': 3,\n",
       " 'SimpleMafic': 4,\n",
       " 'SimpleMafic1': 4,\n",
       " 'SimpleMafic2': 2,\n",
       " 'out': 0}"
      ]
     },
     "execution_count": 48,
     "metadata": {},
     "output_type": "execute_result"
    }
   ],
   "source": [
    "ip_dict"
   ]
  },
  {
   "cell_type": "code",
   "execution_count": 49,
   "metadata": {},
   "outputs": [
    {
     "data": {
      "text/plain": [
       "(125000, 125000)"
      ]
     },
     "execution_count": 49,
     "metadata": {},
     "output_type": "execute_result"
    }
   ],
   "source": [
    "(geo_res_num.shape[0]), sol[-1,0,:].shape[0]"
   ]
  },
  {
   "cell_type": "code",
   "execution_count": 50,
   "metadata": {},
   "outputs": [
    {
     "data": {
      "text/plain": [
       "0.0"
      ]
     },
     "execution_count": 50,
     "metadata": {},
     "output_type": "execute_result"
    }
   ],
   "source": [
    "sol[-1,0, :][7]"
   ]
  },
  {
   "cell_type": "code",
   "execution_count": 52,
   "metadata": {},
   "outputs": [
    {
     "ename": "SyntaxError",
     "evalue": "invalid syntax (<ipython-input-52-5e3f8ae6fad0>, line 1)",
     "output_type": "error",
     "traceback": [
      "\u001b[0;36m  File \u001b[0;32m\"<ipython-input-52-5e3f8ae6fad0>\"\u001b[0;36m, line \u001b[0;32m1\u001b[0m\n\u001b[0;31m    geo_res_num:\u001b[0m\n\u001b[0m                ^\u001b[0m\n\u001b[0;31mSyntaxError\u001b[0m\u001b[0;31m:\u001b[0m invalid syntax\n"
     ]
    }
   ],
   "source": [
    "geo_res_num:"
   ]
  },
  {
   "cell_type": "code",
   "execution_count": 53,
   "metadata": {},
   "outputs": [
    {
     "data": {
      "text/plain": [
       "array([0, 0, 0, ..., 0, 0, 0])"
      ]
     },
     "execution_count": 53,
     "metadata": {},
     "output_type": "execute_result"
    }
   ],
   "source": [
    "geo_res_num.as_matrix().astype(int)"
   ]
  },
  {
   "cell_type": "code",
   "execution_count": 76,
   "metadata": {},
   "outputs": [
    {
     "data": {
      "text/plain": [
       "<matplotlib.image.AxesImage at 0x7fce296c54e0>"
      ]
     },
     "execution_count": 76,
     "metadata": {},
     "output_type": "execute_result"
    },
    {
     "data": {
      "image/png": "[encoded data removed]",
      "text/plain": [
       "<matplotlib.figure.Figure at 0x7fce2ecb75c0>"
      ]
     },
     "metadata": {},
     "output_type": "display_data"
    }
   ],
   "source": [
    "plt.imshow( geo_res_num.as_matrix().reshape(50, 50, 50)[:, 23, :],  origin=\"bottom\", cmap=\"viridis\" )"
   ]
  },
  {
   "cell_type": "code",
   "execution_count": 77,
   "metadata": {},
   "outputs": [
    {
     "data": {
      "text/plain": [
       "<matplotlib.image.AxesImage at 0x7fce296879b0>"
      ]
     },
     "execution_count": 77,
     "metadata": {},
     "output_type": "execute_result"
    },
    {
     "data": {
      "image/png": "[encoded data removed]",
      "text/plain": [
       "<matplotlib.figure.Figure at 0x7fce31720b00>"
      ]
     },
     "metadata": {},
     "output_type": "display_data"
    }
   ],
   "source": [
    "plt.imshow( sol[-1,0,:].reshape(50, 50, 50)[:, 23, :].T,  origin=\"bottom\", cmap=\"viridis\" )"
   ]
  },
  {
   "cell_type": "code",
   "execution_count": 59,
   "metadata": {},
   "outputs": [
    {
     "data": {
      "text/plain": [
       "<Visualization.PlotData at 0x7fce2a206d68>"
      ]
     },
     "execution_count": 59,
     "metadata": {},
     "output_type": "execute_result"
    },
    {
     "data": {
      "image/png": "[encoded data removed]",
      "text/plain": [
       "<matplotlib.figure.Figure at 0x7fce2ac99e10>"
      ]
     },
     "metadata": {},
     "output_type": "display_data"
    }
   ],
   "source": [
    "# Plot the block model. \n",
    "GeMpy.plot_section(geo_data, 13,  block = geo_res_num.as_matrix(), direction='y', plot_data = True)"
   ]
  },
  {
   "cell_type": "code",
   "execution_count": 57,
   "metadata": {},
   "outputs": [
    {
     "data": {
      "text/plain": [
       "125000"
      ]
     },
     "execution_count": 57,
     "metadata": {},
     "output_type": "execute_result"
    }
   ],
   "source": [
    "50*50*50"
   ]
  },
  {
   "cell_type": "code",
   "execution_count": 78,
   "metadata": {},
   "outputs": [
    {
     "data": {
      "text/plain": [
       "array([ 0.,  1.,  2.,  3.,  4.])"
      ]
     },
     "execution_count": 78,
     "metadata": {},
     "output_type": "execute_result"
    }
   ],
   "source": [
    "np.unique(sol[-1,0,:])"
   ]
  },
  {
   "cell_type": "code",
   "execution_count": 79,
   "metadata": {},
   "outputs": [
    {
     "data": {
      "text/plain": [
       "formation number\n",
       "1    [EarlyGranite]\n",
       "2    [SimpleMafic2]\n",
       "3       [SimpleBIF]\n",
       "4    [SimpleMafic1]\n",
       "Name: formation, dtype: object"
      ]
     },
     "execution_count": 79,
     "metadata": {},
     "output_type": "execute_result"
    }
   ],
   "source": [
    "# Formation number and formation\n",
    "data_interp.interfaces.groupby('formation number').formation.unique()"
   ]
  },
  {
   "cell_type": "code",
   "execution_count": null,
   "metadata": {},
   "outputs": [],
   "source": [
    "data_interp.interpolator.tg.u_grade_T.get_value()"
   ]
  },
  {
   "cell_type": "code",
   "execution_count": null,
   "metadata": {},
   "outputs": [],
   "source": [
    "np.unique(sol)"
   ]
  },
  {
   "cell_type": "code",
   "execution_count": null,
   "metadata": {},
   "outputs": [],
   "source": [
    "#np.save('SandstoneSol', sol)\n",
    "np.count_nonzero(np.load('SandstoneSol.npy') == sol)"
   ]
  },
  {
   "cell_type": "code",
   "execution_count": null,
   "metadata": {},
   "outputs": [],
   "source": [
    "sol.shape"
   ]
  },
  {
   "cell_type": "code",
   "execution_count": 12,
   "metadata": {},
   "outputs": [
    {
     "name": "stdout",
     "output_type": "stream",
     "text": [
      "\n",
      ">> Welcome to the Python client library for Steno3D!\n",
      "\n",
      "Credentials file found: /home/miguel/.steno3d_client/credentials\n",
      "Accessing API developer key for @leguark\n",
      "Welcome to Steno3D! You are logged in as @leguark\n",
      "Verifying your quota for public projects...\n",
      "This PUBLIC project will be viewable by everyone.\n",
      "Total progress: 100% - Uploading: project Sandstone\n",
      "Complete!\n",
      "https://steno3d.com/resource/volume/BWCZxkJUmmdHurZg3mGs\n"
     ]
    },
    {
     "data": {
      "text/html": [
       "\n",
       "        <iframe\n",
       "            width=\"100%\"\n",
       "            height=\"500\"\n",
       "            src=\"https://steno3d.com/resource/volume/BWCZxkJUmmdHurZg3mGs\"\n",
       "            frameborder=\"0\"\n",
       "            allowfullscreen\n",
       "        ></iframe>\n",
       "        "
      ],
      "text/plain": [
       "<IPython.lib.display.IFrame at 0x7fae33fd3c50>"
      ]
     },
     "execution_count": 12,
     "metadata": {},
     "output_type": "execute_result"
    }
   ],
   "source": [
    "GeMpy.PlotData(geo_data).plot3D_steno(sol[-1,0,:], 'Sandstone', description='The sandstone model')"
   ]
  },
  {
   "cell_type": "code",
   "execution_count": 18,
   "metadata": {},
   "outputs": [
    {
     "data": {
      "text/plain": [
       "(array([ 696000.      ,  697307.692308,  698615.384615,  699923.076923,  701230.769231,  702538.461538,  703846.153846,\n",
       "         705153.846154,  706461.538462,  707769.230769,  709076.923077,  710384.615385,  711692.307692,  713000.      ,\n",
       "         714307.692308,  715615.384615,  716923.076923,  718230.769231,  719538.461538,  720846.153846,  722153.846154,\n",
       "         723461.538462,  724769.230769,  726076.923077,  727384.615385,  728692.307692,  730000.      ,  731307.692308,\n",
       "         732615.384615,  733923.076923,  735230.769231,  736538.461538,  737846.153846,  739153.846154,  740461.538462,\n",
       "         741769.230769,  743076.923077,  744384.615385,  745692.307692,  747000.      ]),\n",
       " 1307.6923076923076)"
      ]
     },
     "execution_count": 18,
     "metadata": {},
     "output_type": "execute_result"
    }
   ],
   "source": [
    "np.linspace(geo_data.extent[0], geo_data.extent[1], geo_data.resolution[0], retstep=True)"
   ]
  },
  {
   "cell_type": "code",
   "execution_count": 8,
   "metadata": {},
   "outputs": [
    {
     "data": {
      "text/plain": [
       "(39,)"
      ]
     },
     "execution_count": 8,
     "metadata": {},
     "output_type": "execute_result"
    }
   ],
   "source": [
    "np.diff(np.linspace(geo_data.extent[0], geo_data.extent[1], geo_data.resolution[0], retstep=False)).shape"
   ]
  },
  {
   "cell_type": "code",
   "execution_count": 21,
   "metadata": {},
   "outputs": [
    {
     "data": {
      "text/plain": [
       "1271.0"
      ]
     },
     "execution_count": 21,
     "metadata": {},
     "output_type": "execute_result"
    }
   ],
   "source": [
    "(geo_data.extent[1]- geo_data.extent[0])/ geo_data.resolution[0]-4"
   ]
  },
  {
   "cell_type": "code",
   "execution_count": 25,
   "metadata": {},
   "outputs": [
    {
     "data": {
      "text/plain": [
       "1307.6923076923076"
      ]
     },
     "execution_count": 25,
     "metadata": {},
     "output_type": "execute_result"
    }
   ],
   "source": [
    "(geo_data.extent[1]- geo_data.extent[0])/39"
   ]
  },
  {
   "cell_type": "code",
   "execution_count": 12,
   "metadata": {
    "scrolled": false
   },
   "outputs": [
    {
     "data": {
      "application/vnd.jupyter.widget-view+json": {
       "model_id": "2fa1aa6439df4ed4afcf0b129ac2660c"
      }
     },
     "metadata": {},
     "output_type": "display_data"
    }
   ],
   "source": [
    "# So far this is a simple 3D visualization. I have to adapt it into GeMpy \n",
    "\n",
    "lith0 = sol == 0\n",
    "lith1 = sol == 1\n",
    "lith2 = sol == 2\n",
    "lith3 = sol == 3\n",
    "lith4 = sol == 4\n",
    "np.unique(sol)\n",
    "\n",
    "import ipyvolume.pylab as p3\n",
    "\n",
    "p3.figure(width=800)\n",
    "\n",
    "p3.scatter(geo_data.grid.grid[:,0][lith0],\n",
    "           geo_data.grid.grid[:,1][lith0],\n",
    "           geo_data.grid.grid[:,2][lith0], marker='box', color = 'blue', size = 0.1 )\n",
    "\n",
    "p3.scatter(geo_data.grid.grid[:,0][lith1],\n",
    "           geo_data.grid.grid[:,1][lith1],\n",
    "           geo_data.grid.grid[:,2][lith1], marker='box', color = 'yellow', size = 1 )\n",
    "\n",
    "p3.scatter(geo_data.grid.grid[:,0][lith2],\n",
    "           geo_data.grid.grid[:,1][lith2],\n",
    "           geo_data.grid.grid[:,2][lith2], marker='box', color = 'green', size = 1 )\n",
    "\n",
    "p3.scatter(geo_data.grid.grid[:,0][lith3],\n",
    "           geo_data.grid.grid[:,1][lith3],\n",
    "           geo_data.grid.grid[:,2][lith3], marker='box', color = 'pink', size = 1 )\n",
    "\n",
    "p3.scatter(geo_data.grid.grid[:,0][lith4],\n",
    "           geo_data.grid.grid[:,1][lith4],\n",
    "           geo_data.grid.grid[:,2][lith4], marker='box', color = 'red', size = 1 )\n",
    "\n",
    "p3.xlim(np.min(geo_data.grid.grid[:,0]),np.min(geo_data.grid.grid[:,0])+2175.0*40)\n",
    "p3.ylim(np.min(geo_data.grid.grid[:,1]),np.max(geo_data.grid.grid[:,1]))\n",
    "p3.zlim(np.min(geo_data.grid.grid[:,2]),np.min(geo_data.grid.grid[:,2])+2175.0*40)#np.max(geo_data.grid.grid[:,2]))\n",
    "\n",
    "p3.show()"
   ]
  },
  {
   "cell_type": "code",
   "execution_count": 11,
   "metadata": {
    "scrolled": false
   },
   "outputs": [
    {
     "name": "stderr",
     "output_type": "stream",
     "text": [
      "Function profiling\n",
      "==================\n",
      "  Message: <ipython-input-6-22dcf15bad61>:3\n",
      "  Time in 5 calls to Function.__call__: 1.357155e+01s\n",
      "  Time in Function.fn.__call__: 1.357096e+01s (99.996%)\n",
      "  Time in thunks: 1.357014e+01s (99.990%)\n",
      "  Total compile time: 2.592983e+01s\n",
      "    Number of Apply nodes: 95\n",
      "    Theano Optimizer time: 1.642699e+01s\n",
      "       Theano validate time: 3.617525e-02s\n",
      "    Theano Linker time (includes C, CUDA code generation/compiling): 9.462233e+00s\n",
      "       Import time 1.913705e-01s\n",
      "       Node make_thunk time 9.450990e+00s\n",
      "           Node forall_inplace,cpu,scan_fn}(Elemwise{Maximum}[(0, 0)].0, Subtensor{int64:int64:int8}.0, Subtensor{int64:int64:int8}.0, Subtensor{int64:int64:int8}.0, Subtensor{int64:int64:int8}.0, Subtensor{int64:int64:int8}.0, Subtensor{int64:int64:int8}.0, IncSubtensor{InplaceSet;:int64:}.0, grade of the universal drift, <TensorType(float64, matrix)>, <TensorType(float64, vector)>, Value of the formation, Position of the dips, Rest of the points of the layers, Reference points for every layer, Angle of every dip, Azimuth, Polarity, InplaceDimShuffle{x,x}.0, InplaceDimShuffle{x,x}.0, Elemwise{Composite{((sqr(sqr(i0)) * sqr(i0)) * i0)}}.0, Elemwise{Composite{(sqr(sqr(i0)) * i0)}}.0, Elemwise{Composite{(sqr(i0) * i0)}}.0, Elemwise{mul,no_inplace}.0, Elemwise{neg,no_inplace}.0, Elemwise{mul,no_inplace}.0, Elemwise{true_div,no_inplace}.0, Elemwise{Mul}[(0, 1)].0, Elemwise{mul,no_inplace}.0, Elemwise{Composite{(i0 * Composite{sqr(sqr(i0))}(i1))}}.0, Elemwise{Composite{(((i0 * i1) / sqr(i2)) + i3)}}.0, Reshape{2}.0) time 9.275085e+00s\n",
      "           Node Elemwise{Composite{Switch(LT((i0 - Composite{Switch(LT(i0, i1), i0, i1)}(i1, i2)), i3), (i4 - i0), Switch(GE((i0 - Composite{Switch(LT(i0, i1), i0, i1)}(i1, i2)), (i2 - Composite{Switch(LT(i0, i1), i0, i1)}(i1, i2))), (i5 + i0), Switch(LE((i2 - Composite{Switch(LT(i0, i1), i0, i1)}(i1, i2)), i3), (i5 + i0), i0)))}}(Elemwise{Composite{minimum(minimum(minimum(minimum(minimum(i0, i1), i2), i3), i4), i5)}}.0, TensorConstant{1}, Elemwise{add,no_inplace}.0, TensorConstant{0}, TensorConstant{-2}, TensorConstant{2}) time 3.851414e-03s\n",
      "           Node Elemwise{Composite{Switch(i0, Switch(LT((i1 + i2), i3), i3, (i1 + i2)), Switch(LT(i1, i2), i1, i2))}}(Elemwise{lt,no_inplace}.0, Elemwise{Composite{minimum(minimum(minimum(minimum(minimum(i0, i1), i2), i3), i4), i5)}}.0, Elemwise{Composite{Switch(LT((i0 + i1), i2), i2, (i0 + i1))}}.0, TensorConstant{0}) time 3.796577e-03s\n",
      "           Node Elemwise{Composite{minimum(minimum(minimum(minimum(minimum(i0, i1), i2), i3), i4), i5)}}(Elemwise{Composite{Switch(LT((i0 + i1), i2), i2, (i0 + i1))}}.0, Elemwise{sub,no_inplace}.0, Elemwise{Composite{Switch(LT((i0 + i1), i2), i2, (i0 + i1))}}.0, Elemwise{sub,no_inplace}.0, Elemwise{Composite{Switch(LT((i0 + i1), i2), i2, (i0 + i1))}}.0, Elemwise{sub,no_inplace}.0) time 3.589630e-03s\n",
      "           Node Elemwise{Composite{(((i0 - maximum(i1, i2)) - i3) + maximum(i4, i5))}}[(0, 0)](Elemwise{Composite{Switch(LT(i0, i1), (i0 + i2), i0)}}.0, Elemwise{Composite{minimum(((i0 + i1) - i2), i3)}}.0, TensorConstant{1}, TensorConstant{1}, Elemwise{Composite{((maximum(i0, i1) - Switch(LT(i2, i3), (i2 + i4), i2)) + i1)}}[(0, 2)].0, TensorConstant{2}) time 3.567696e-03s\n",
      "\n",
      "Time in all call to theano.grad() 0.000000e+00s\n",
      "Time since theano import 74.908s\n",
      "Class\n",
      "---\n",
      "<% time> <sum %> <apply time> <time per call> <type> <#call> <#apply> <Class name>\n",
      "  99.6%    99.6%      13.517s       2.70e+00s     Py       5       1   theano.scan_module.scan_op.Scan\n",
      "   0.2%    99.9%       0.034s       6.76e-03s     Py       5       1   theano.tensor.basic.Nonzero\n",
      "   0.1%   100.0%       0.012s       4.31e-05s     C      285      57   theano.tensor.elemwise.Elemwise\n",
      "   0.0%   100.0%       0.005s       9.77e-04s     C        5       1   theano.tensor.subtensor.AdvancedSubtensor1\n",
      "   0.0%   100.0%       0.001s       2.78e-04s     C        5       1   theano.tensor.subtensor.IncSubtensor\n",
      "   0.0%   100.0%       0.000s       2.13e-06s     C       40       8   theano.tensor.subtensor.Subtensor\n",
      "   0.0%   100.0%       0.000s       3.59e-06s     C       15       3   theano.tensor.basic.Reshape\n",
      "   0.0%   100.0%       0.000s       7.26e-07s     C       65      13   theano.tensor.basic.ScalarFromTensor\n",
      "   0.0%   100.0%       0.000s       9.44e-06s     C        5       1   theano.tensor.basic.AllocEmpty\n",
      "   0.0%   100.0%       0.000s       1.88e-06s     C       20       4   theano.compile.ops.Shape_i\n",
      "   0.0%   100.0%       0.000s       1.86e-06s     C       20       4   theano.tensor.elemwise.DimShuffle\n",
      "   0.0%   100.0%       0.000s       8.58e-07s     C        5       1   theano.compile.ops.Rebroadcast\n",
      "   ... (remaining 0 Classes account for   0.00%(0.00s) of the runtime)\n",
      "\n",
      "Ops\n",
      "---\n",
      "<% time> <sum %> <apply time> <time per call> <type> <#call> <#apply> <Op name>\n",
      "  99.6%    99.6%      13.517s       2.70e+00s     Py       5        1   forall_inplace,cpu,scan_fn}\n",
      "   0.2%    99.9%       0.034s       6.76e-03s     Py       5        1   Nonzero\n",
      "   0.1%    99.9%       0.011s       5.50e-04s     C       20        4   Elemwise{mul,no_inplace}\n",
      "   0.0%   100.0%       0.005s       9.77e-04s     C        5        1   AdvancedSubtensor1\n",
      "   0.0%   100.0%       0.001s       2.78e-04s     C        5        1   IncSubtensor{InplaceSet;:int64:}\n",
      "   0.0%   100.0%       0.001s       1.77e-04s     C        5        1   Elemwise{eq,no_inplace}\n",
      "   0.0%   100.0%       0.000s       7.26e-07s     C       65       13   ScalarFromTensor\n",
      "   0.0%   100.0%       0.000s       9.44e-06s     C        5        1   AllocEmpty{dtype='float64'}\n",
      "   0.0%   100.0%       0.000s       4.32e-06s     C       10        2   Subtensor{int64}\n",
      "   0.0%   100.0%       0.000s       1.40e-06s     C       30        6   Subtensor{int64:int64:int8}\n",
      "   0.0%   100.0%       0.000s       1.88e-06s     C       20        4   Shape_i{0}\n",
      "   0.0%   100.0%       0.000s       3.39e-06s     C       10        2   Reshape{1}\n",
      "   0.0%   100.0%       0.000s       2.31e-06s     C       10        2   InplaceDimShuffle{x,x}\n",
      "   0.0%   100.0%       0.000s       7.63e-07s     C       30        6   Elemwise{le,no_inplace}\n",
      "   0.0%   100.0%       0.000s       1.45e-06s     C       15        3   Elemwise{Composite{Switch(LT((i0 + i1), i2), i2, (i0 + i1))}}\n",
      "   0.0%   100.0%       0.000s       4.01e-06s     C        5        1   Elemwise{true_div,no_inplace}\n",
      "   0.0%   100.0%       0.000s       4.01e-06s     C        5        1   Reshape{2}\n",
      "   0.0%   100.0%       0.000s       3.81e-06s     C        5        1   Elemwise{Composite{Switch(LT((i0 - Composite{Switch(LT(i0, i1), i0, i1)}(i1, i2)), i3), (i4 - i0), Switch(GE((i0 - Composite{Switch(LT(i0, i1), i0, i1)}(i1, i2)), (i2 - Composite{Switch(LT(i0, i1), i0, i1)}(i1, i2))), (i5 + i0), Switch(LE((i2 - Composite{Switch(LT(i0, i1), i0, i1)}(i1, i2)), i3), (i5 + i0), i0)))}}\n",
      "   0.0%   100.0%       0.000s       1.21e-06s     C       15        3   Elemwise{sub,no_inplace}\n",
      "   0.0%   100.0%       0.000s       3.62e-06s     C        5        1   Elemwise{Composite{(i0 * Composite{sqr(sqr(i0))}(i1))}}\n",
      "   ... (remaining 27 Ops account for   0.00%(0.00s) of the runtime)\n",
      "\n",
      "Apply\n",
      "------\n",
      "<% time> <sum %> <apply time> <time per call> <#call> <id> <Apply name>\n",
      "  99.6%    99.6%      13.517s       2.70e+00s      5    93   forall_inplace,cpu,scan_fn}(Elemwise{Maximum}[(0, 0)].0, Subtensor{int64:int64:int8}.0, Subtensor{int64:int64:int8}.0, Subtensor{int64:int64:int8}.0, Subtensor{int64:int64:int8}.0, Subtensor{int64:int64:int8}.0, Subtensor{int64:int64:int8}.0, IncSubtensor{InplaceSet;:int64:}.0, grade of the universal drift, <TensorType(float64, matrix)>, <TensorType(float64, vector)>, Value of the formation, Position of the dips, Rest of the points of the layers, Re\n",
      "    input 0: dtype=int64, shape=no shape, strides=no strides \n",
      "    input 1: dtype=int64, shape=no shape, strides=no strides \n",
      "    input 2: dtype=int64, shape=no shape, strides=no strides \n",
      "    input 3: dtype=int64, shape=no shape, strides=no strides \n",
      "    input 4: dtype=int64, shape=no shape, strides=no strides \n",
      "    input 5: dtype=int64, shape=no shape, strides=no strides \n",
      "    input 6: dtype=int64, shape=no shape, strides=no strides \n",
      "    input 7: dtype=float64, shape=no shape, strides=no strides \n",
      "    input 8: dtype=int64, shape=no shape, strides=no strides \n",
      "    input 9: dtype=float64, shape=no shape, strides=no strides \n",
      "    input 10: dtype=float64, shape=no shape, strides=no strides \n",
      "    input 11: dtype=float64, shape=no shape, strides=no strides \n",
      "    input 12: dtype=float32, shape=no shape, strides=no strides \n",
      "    input 13: dtype=float32, shape=no shape, strides=no strides \n",
      "    input 14: dtype=float32, shape=no shape, strides=no strides \n",
      "    input 15: dtype=float32, shape=no shape, strides=no strides \n",
      "    input 16: dtype=float32, shape=no shape, strides=no strides \n",
      "    input 17: dtype=float32, shape=no shape, strides=no strides \n",
      "    input 18: dtype=float64, shape=no shape, strides=no strides \n",
      "    input 19: dtype=float64, shape=no shape, strides=no strides \n",
      "    input 20: dtype=float64, shape=no shape, strides=no strides \n",
      "    input 21: dtype=float64, shape=no shape, strides=no strides \n",
      "    input 22: dtype=float64, shape=no shape, strides=no strides \n",
      "    input 23: dtype=float64, shape=no shape, strides=no strides \n",
      "    input 24: dtype=float64, shape=no shape, strides=no strides \n",
      "    input 25: dtype=float64, shape=no shape, strides=no strides \n",
      "    input 26: dtype=float64, shape=no shape, strides=no strides \n",
      "    input 27: dtype=float64, shape=no shape, strides=no strides \n",
      "    input 28: dtype=float64, shape=no shape, strides=no strides \n",
      "    input 29: dtype=float64, shape=no shape, strides=no strides \n",
      "    input 30: dtype=float64, shape=no shape, strides=no strides \n",
      "    input 31: dtype=float64, shape=no shape, strides=no strides \n",
      "    output 0: dtype=float64, shape=no shape, strides=no strides \n",
      "   0.2%    99.9%       0.034s       6.76e-03s      5    37   Nonzero(Reshape{1}.0)\n",
      "    input 0: dtype=float64, shape=no shape, strides=no strides \n",
      "    output 0: dtype=int64, shape=no shape, strides=no strides \n",
      "   0.1%    99.9%       0.011s       2.19e-03s      5    27   Elemwise{mul,no_inplace}(<TensorType(float64, matrix)>, Elemwise{eq,no_inplace}.0)\n",
      "    input 0: dtype=float64, shape=no shape, strides=no strides \n",
      "    input 1: dtype=bool, shape=no shape, strides=no strides \n",
      "    output 0: dtype=float64, shape=no shape, strides=no strides \n",
      "   0.0%   100.0%       0.005s       9.77e-04s      5    51   AdvancedSubtensor1(Reshape{1}.0, Subtensor{int64}.0)\n",
      "    input 0: dtype=float64, shape=no shape, strides=no strides \n",
      "    input 1: dtype=int64, shape=no shape, strides=no strides \n",
      "    output 0: dtype=float64, shape=no shape, strides=no strides \n",
      "   0.0%   100.0%       0.001s       2.78e-04s      5    91   IncSubtensor{InplaceSet;:int64:}(AllocEmpty{dtype='float64'}.0, Rebroadcast{0}.0, Constant{1})\n",
      "    input 0: dtype=float64, shape=no shape, strides=no strides \n",
      "    input 1: dtype=float64, shape=no shape, strides=no strides \n",
      "    input 2: dtype=int64, shape=no shape, strides=no strides \n",
      "    output 0: dtype=float64, shape=no shape, strides=no strides \n",
      "   0.0%   100.0%       0.001s       1.77e-04s      5    15   Elemwise{eq,no_inplace}(InplaceDimShuffle{0,x}.0, TensorConstant{(1, 1) of 0})\n",
      "    input 0: dtype=float64, shape=no shape, strides=no strides \n",
      "    input 1: dtype=int8, shape=no shape, strides=no strides \n",
      "    output 0: dtype=bool, shape=no shape, strides=no strides \n",
      "   0.0%   100.0%       0.000s       9.44e-06s      5    88   AllocEmpty{dtype='float64'}(Elemwise{Composite{(Switch(LT(maximum(i0, i1), i2), (maximum(i0, i1) + i3), (maximum(i0, i1) - i2)) + i4)}}[(0, 0)].0, Shape_i{0}.0)\n",
      "    input 0: dtype=int64, shape=no shape, strides=no strides \n",
      "    input 1: dtype=int64, shape=no shape, strides=no strides \n",
      "    output 0: dtype=float64, shape=no shape, strides=no strides \n",
      "   0.0%   100.0%       0.000s       5.25e-06s      5    34   Reshape{1}(Elemwise{mul,no_inplace}.0, TensorConstant{(1,) of -1})\n",
      "    input 0: dtype=float64, shape=no shape, strides=no strides \n",
      "    input 1: dtype=int64, shape=no shape, strides=no strides \n",
      "    output 0: dtype=float64, shape=no shape, strides=no strides \n",
      "   0.0%   100.0%       0.000s       4.63e-06s      5    44   Subtensor{int64}(Nonzero.0, Constant{0})\n",
      "    input 0: dtype=int64, shape=no shape, strides=no strides \n",
      "    input 1: dtype=int64, shape=no shape, strides=no strides \n",
      "    output 0: dtype=int64, shape=no shape, strides=no strides \n",
      "   0.0%   100.0%       0.000s       4.29e-06s      5    23   Elemwise{mul,no_inplace}(TensorConstant{(1, 1) of 4.0}, InplaceDimShuffle{x,x}.0)\n",
      "    input 0: dtype=float64, shape=no shape, strides=no strides \n",
      "    input 1: dtype=float64, shape=no shape, strides=no strides \n",
      "    output 0: dtype=float64, shape=no shape, strides=no strides \n",
      "   0.0%   100.0%       0.000s       4.01e-06s      5    94   Subtensor{int64}(forall_inplace,cpu,scan_fn}.0, ScalarFromTensor.0)\n",
      "    input 0: dtype=float64, shape=no shape, strides=no strides \n",
      "    input 1: dtype=int64, shape=no shape, strides=no strides \n",
      "    output 0: dtype=float64, shape=no shape, strides=no strides \n",
      "   0.0%   100.0%       0.000s       4.01e-06s      5    58   Reshape{2}(AdvancedSubtensor1.0, TensorConstant{[-1  3]})\n",
      "    input 0: dtype=float64, shape=no shape, strides=no strides \n",
      "    input 1: dtype=int64, shape=no shape, strides=no strides \n",
      "    output 0: dtype=float64, shape=no shape, strides=no strides \n",
      "   0.0%   100.0%       0.000s       4.01e-06s      5    29   Elemwise{true_div,no_inplace}(TensorConstant{(1, 1) of -14.0}, Elemwise{sqr,no_inplace}.0)\n",
      "    input 0: dtype=float64, shape=no shape, strides=no strides \n",
      "    input 1: dtype=float64, shape=no shape, strides=no strides \n",
      "    output 0: dtype=float64, shape=no shape, strides=no strides \n",
      "   0.0%   100.0%       0.000s       3.81e-06s      5    38   Elemwise{Composite{Switch(LT((i0 - Composite{Switch(LT(i0, i1), i0, i1)}(i1, i2)), i3), (i4 - i0), Switch(GE((i0 - Composite{Switch(LT(i0, i1), i0, i1)}(i1, i2)), (i2 - Composite{Switch(LT(i0, i1), i0, i1)}(i1, i2))), (i5 + i0), Switch(LE((i2 - Composite{Switch(LT(i0, i1), i0, i1)}(i1, i2)), i3), (i5 + i0), i0)))}}(Elemwise{Composite{minimum(minimum(minimum(minimum(minimum(i0, i1), i2), i3), i4), i5)}}.0, TensorConstant{1}, Elemwise{add,no_inplace}.\n",
      "    input 0: dtype=int64, shape=no shape, strides=no strides \n",
      "    input 1: dtype=int64, shape=no shape, strides=no strides \n",
      "    input 2: dtype=int64, shape=no shape, strides=no strides \n",
      "    input 3: dtype=int8, shape=no shape, strides=no strides \n",
      "    input 4: dtype=int64, shape=no shape, strides=no strides \n",
      "    input 5: dtype=int64, shape=no shape, strides=no strides \n",
      "    output 0: dtype=int64, shape=no shape, strides=no strides \n",
      "   0.0%   100.0%       0.000s       3.62e-06s      5    17   Elemwise{Composite{(i0 * Composite{sqr(sqr(i0))}(i1))}}(TensorConstant{(1, 1) of 15.0}, InplaceDimShuffle{x,x}.0)\n",
      "    input 0: dtype=float64, shape=no shape, strides=no strides \n",
      "    input 1: dtype=float64, shape=no shape, strides=no strides \n",
      "    output 0: dtype=float64, shape=no shape, strides=no strides \n",
      "   0.0%   100.0%       0.000s       3.62e-06s      5     2   Shape_i{0}(Length of interfaces in every series)\n",
      "    input 0: dtype=int64, shape=no shape, strides=no strides \n",
      "    output 0: dtype=int64, shape=no shape, strides=no strides \n",
      "   0.0%   100.0%       0.000s       3.58e-06s      5    20   Elemwise{Composite{((sqr(sqr(i0)) * sqr(i0)) * i0)}}(InplaceDimShuffle{x,x}.0)\n",
      "    input 0: dtype=float64, shape=no shape, strides=no strides \n",
      "    output 0: dtype=float64, shape=no shape, strides=no strides \n",
      "   0.0%   100.0%       0.000s       3.39e-06s      5    81   Subtensor{int64:int64:int8}(Length of interfaces in every series, ScalarFromTensor.0, ScalarFromTensor.0, Constant{1})\n",
      "    input 0: dtype=int64, shape=no shape, strides=no strides \n",
      "    input 1: dtype=int64, shape=no shape, strides=no strides \n",
      "    input 2: dtype=int64, shape=no shape, strides=no strides \n",
      "    input 3: dtype=int8, shape=no shape, strides=no strides \n",
      "    output 0: dtype=int64, shape=no shape, strides=no strides \n",
      "   0.0%   100.0%       0.000s       3.19e-06s      5     8   Elemwise{Composite{(((i0 * i1) / sqr(i2)) + i3)}}(TensorConstant{14.0}, <TensorType(float64, scalar)>, <TensorType(float64, scalar)>, <TensorType(float64, scalar)>)\n",
      "    input 0: dtype=float64, shape=no shape, strides=no strides \n",
      "    input 1: dtype=float64, shape=no shape, strides=no strides \n",
      "    input 2: dtype=float64, shape=no shape, strides=no strides \n",
      "    input 3: dtype=float64, shape=no shape, strides=no strides \n",
      "    output 0: dtype=float64, shape=no shape, strides=no strides \n",
      "   0.0%   100.0%       0.000s       3.00e-06s      5    77   Elemwise{Composite{(((i0 - maximum(i1, i2)) - i3) + maximum(i4, i5))}}[(0, 0)](Elemwise{Composite{Switch(LT(i0, i1), (i0 + i2), i0)}}.0, Elemwise{Composite{minimum(((i0 + i1) - i2), i3)}}.0, TensorConstant{1}, TensorConstant{1}, Elemwise{Composite{((maximum(i0, i1) - Switch(LT(i2, i3), (i2 + i4), i2)) + i1)}}[(0, 2)].0, TensorConstant{2})\n",
      "    input 0: dtype=int64, shape=no shape, strides=no strides \n",
      "    input 1: dtype=int64, shape=no shape, strides=no strides \n",
      "    input 2: dtype=int8, shape=no shape, strides=no strides \n",
      "    input 3: dtype=int8, shape=no shape, strides=no strides \n",
      "    input 4: dtype=int64, shape=no shape, strides=no strides \n",
      "    input 5: dtype=int8, shape=no shape, strides=no strides \n",
      "    output 0: dtype=int64, shape=no shape, strides=no strides \n",
      "   ... (remaining 75 Apply instances account for 0.00%(0.00s) of the runtime)\n",
      "\n",
      "Here are tips to potentially make your code run faster\n",
      "                 (if you think of new ones, suggest them on the mailing list).\n",
      "                 Test them first, as they are not guaranteed to always provide a speedup.\n",
      "  Sorry, no tip for today.\n"
     ]
    }
   ],
   "source": [
    "# The profile at the moment sucks because all what is whithin a scan is not subdivided\n",
    "debugging.profile.summary()"
   ]
  },
  {
   "cell_type": "markdown",
   "metadata": {},
   "source": [
    "#### Below here so far is deprecated"
   ]
  },
  {
   "cell_type": "markdown",
   "metadata": {},
   "source": [
    "First we make a GeMpy instance with most of the parameters default (except range that is given by the project). Then we also fix the extension and the resolution of the domain we want to interpolate. Finally we compile the function, only needed once every time we open the project (the guys of theano they are working on letting loading compiled files, even though in our case it is not a big deal).\n",
    "\n",
    "*General note. So far the reescaling factor is calculated for all series at the same time. GeoModeller does it individually for every potential field. I have to look better what this parameter exactly means*"
   ]
  },
  {
   "cell_type": "markdown",
   "metadata": {},
   "source": [
    "All input data is stored in pandas dataframes under, ```self.Data.Interances``` and ```self.Data.Foliations```:"
   ]
  },
  {
   "cell_type": "markdown",
   "metadata": {},
   "source": [
    "In case of disconformities, we can define which formation belong to which series using a dictionary. Until python 3.6 is important to specify the order of the series otherwise is random"
   ]
  },
  {
   "cell_type": "markdown",
   "metadata": {},
   "source": [
    "Now in the data frame we should have the series column too"
   ]
  },
  {
   "cell_type": "markdown",
   "metadata": {},
   "source": [
    "Next step is the creating of a grid. So far only regular. By default it takes the extent and the resolution given in the `import_data` method."
   ]
  },
  {
   "cell_type": "code",
   "execution_count": 6,
   "metadata": {},
   "outputs": [],
   "source": [
    "# Create a class Grid so far just regular grid\n",
    "#GeMpy.set_grid(geo_data)\n",
    "#GeMpy.get_grid(geo_data)"
   ]
  },
  {
   "cell_type": "markdown",
   "metadata": {},
   "source": [
    "## Plotting raw data"
   ]
  },
  {
   "cell_type": "markdown",
   "metadata": {},
   "source": [
    "The object Plot is created automatically as we call the methods above. This object contains some methods to plot the data and the results.\n",
    "\n",
    "It is possible to plot a 2D projection of the data in a specific direction using the following method. Also is possible to choose the series you want to plot. Additionally all the key arguments of seaborn lmplot can be used."
   ]
  },
  {
   "cell_type": "code",
   "execution_count": 7,
   "metadata": {},
   "outputs": [],
   "source": [
    "#GeMpy.plot_data(geo_data, 'y', geo_data.series.columns.values[1])"
   ]
  },
  {
   "cell_type": "markdown",
   "metadata": {},
   "source": [
    "## Class Interpolator"
   ]
  },
  {
   "cell_type": "markdown",
   "metadata": {},
   "source": [
    "This class will take the data from the class Data and calculate potential fields and block. We can pass as key arguments all the variables of the interpolation. I recommend not to touch them if you do not know what are you doing. The default values should be good enough. Also the first time we execute the method, we will compile the theano function so it can take a bit of time."
   ]
  },
  {
   "cell_type": "code",
   "execution_count": 10,
   "metadata": {
    "scrolled": false
   },
   "outputs": [
    {
     "name": "stdout",
     "output_type": "stream",
     "text": [
      "> \u001b[1;32m/home/bl3/PycharmProjects/GeMpy/GeMpy/GeMpy.py\u001b[0m(46)\u001b[0;36mrescale_data\u001b[1;34m()\u001b[0m\n",
      "\u001b[1;32m     44 \u001b[1;33m\u001b[1;33m\u001b[0m\u001b[0m\n",
      "\u001b[0m\u001b[1;32m     45 \u001b[1;33m    \u001b[0mnew_coord_extent\u001b[0m \u001b[1;33m=\u001b[0m \u001b[0m_np\u001b[0m\u001b[1;33m.\u001b[0m\u001b[0mzeros_like\u001b[0m\u001b[1;33m(\u001b[0m\u001b[0mgeo_data\u001b[0m\u001b[1;33m.\u001b[0m\u001b[0mextent\u001b[0m\u001b[1;33m)\u001b[0m\u001b[1;33m\u001b[0m\u001b[0m\n",
      "\u001b[0m\u001b[1;32m---> 46 \u001b[1;33m    \u001b[0mnew_coord_extent\u001b[0m\u001b[1;33m[\u001b[0m\u001b[1;33m:\u001b[0m\u001b[1;36m2\u001b[0m\u001b[1;33m]\u001b[0m \u001b[1;33m=\u001b[0m \u001b[0mgeo_data\u001b[0m\u001b[1;33m.\u001b[0m\u001b[0mextent\u001b[0m\u001b[1;33m[\u001b[0m\u001b[1;33m:\u001b[0m\u001b[1;36m2\u001b[0m\u001b[1;33m]\u001b[0m \u001b[1;33m-\u001b[0m \u001b[0mcenters\u001b[0m\u001b[1;33m[\u001b[0m\u001b[1;36m0\u001b[0m\u001b[1;33m]\u001b[0m \u001b[1;33m/\u001b[0m \u001b[0mrescaling_factor\u001b[0m \u001b[1;33m+\u001b[0m \u001b[1;36m0.5001\u001b[0m\u001b[1;33m\u001b[0m\u001b[0m\n",
      "\u001b[0m\u001b[1;32m     47 \u001b[1;33m    \u001b[0mnew_coord_extent\u001b[0m\u001b[1;33m[\u001b[0m\u001b[1;36m2\u001b[0m\u001b[1;33m:\u001b[0m\u001b[1;36m4\u001b[0m\u001b[1;33m]\u001b[0m \u001b[1;33m=\u001b[0m \u001b[0mgeo_data\u001b[0m\u001b[1;33m.\u001b[0m\u001b[0mextent\u001b[0m\u001b[1;33m[\u001b[0m\u001b[1;36m2\u001b[0m\u001b[1;33m:\u001b[0m\u001b[1;36m4\u001b[0m\u001b[1;33m]\u001b[0m \u001b[1;33m-\u001b[0m \u001b[0mcenters\u001b[0m\u001b[1;33m[\u001b[0m\u001b[1;36m1\u001b[0m\u001b[1;33m]\u001b[0m \u001b[1;33m/\u001b[0m \u001b[0mrescaling_factor\u001b[0m \u001b[1;33m+\u001b[0m \u001b[1;36m0.5001\u001b[0m\u001b[1;33m\u001b[0m\u001b[0m\n",
      "\u001b[0m\u001b[1;32m     48 \u001b[1;33m    \u001b[0mnew_coord_extent\u001b[0m\u001b[1;33m[\u001b[0m\u001b[1;36m4\u001b[0m\u001b[1;33m:\u001b[0m\u001b[1;36m6\u001b[0m\u001b[1;33m]\u001b[0m \u001b[1;33m=\u001b[0m \u001b[0mgeo_data\u001b[0m\u001b[1;33m.\u001b[0m\u001b[0mextent\u001b[0m\u001b[1;33m[\u001b[0m\u001b[1;36m4\u001b[0m\u001b[1;33m:\u001b[0m\u001b[1;36m6\u001b[0m\u001b[1;33m]\u001b[0m \u001b[1;33m-\u001b[0m \u001b[0mcenters\u001b[0m\u001b[1;33m[\u001b[0m\u001b[1;36m2\u001b[0m\u001b[1;33m]\u001b[0m \u001b[1;33m/\u001b[0m \u001b[0mrescaling_factor\u001b[0m \u001b[1;33m+\u001b[0m \u001b[1;36m0.5001\u001b[0m\u001b[1;33m\u001b[0m\u001b[0m\n",
      "\u001b[0m\n",
      "\u0001\u0002ipdb> \u0001\u0002geo_data.extent[:2]\n",
      "[696000, 747000]\n",
      "\u0001\u0002ipdb> \u0001\u0002centers[0]\n",
      "396789.0625\n",
      "\u0001\u0002ipdb> \u0001\u0002new_coord_extent[:2]\n",
      "array([0, 0])\n",
      "\u0001\u0002ipdb> \u0001\u0002geo_data.extent[:2] - centers[0] / rescaling_factor + 0.5001\n",
      "*** TypeError: unsupported operand type(s) for -: 'list' and 'float'\n",
      "\u0001\u0002ipdb> \u0001\u0002geo_data.extent[:2] - centers[0] / rescaling_factor\n",
      "*** TypeError: unsupported operand type(s) for -: 'list' and 'float'\n",
      "\u0001\u0002ipdb> \u0001\u0002geo_data.extent[:2] - centers[0]\n",
      "*** TypeError: unsupported operand type(s) for -: 'list' and 'float'\n",
      "\u0001\u0002ipdb> \u0001\u0002centers[0]\n",
      "396789.0625\n",
      "\u0001\u0002ipdb> \u0001\u0002geo_data.extent[:2] - centers[0].as_matrix(\n",
      "*** SyntaxError: unexpected EOF while parsing\n",
      "\u0001\u0002ipdb> \u0001\u0002geo_data.extent[:2] - centers[0].as_matrix()\n",
      "*** AttributeError: 'float' object has no attribute 'as_matrix'\n",
      "\u0001\u0002ipdb> \u0001\u0002geo_data.extent[:2] - centers.as_matrix()[0]\n",
      "*** TypeError: unsupported operand type(s) for -: 'list' and 'float'\n",
      "\u0001\u0002ipdb> \u0001\u0002exit\n"
     ]
    }
   ],
   "source": [
    "%debug"
   ]
  },
  {
   "cell_type": "code",
   "execution_count": 9,
   "metadata": {},
   "outputs": [
    {
     "data": {
      "text/plain": [
       "[array([ nan,  nan,  nan,  nan,  nan,  nan,  nan,  nan,  nan,  nan,  nan,  nan,  nan,  nan,  nan,  nan]),\n",
       " array([[ 0.343335,       inf,       inf, ..., -0.000003, -0.000002, -0.000002],\n",
       "        [      inf,  0.343335,       inf, ..., -0.000003, -0.000002, -0.000002],\n",
       "        [      inf,       inf,  0.343335, ..., -0.000003, -0.000002, -0.000002],\n",
       "        ..., \n",
       "        [-0.000003, -0.000003, -0.000003, ...,  0.      ,  0.      ,  0.      ],\n",
       "        [-0.000002, -0.000002, -0.000002, ...,  0.      ,  0.      ,  0.      ],\n",
       "        [-0.000002, -0.000002, -0.000002, ...,  0.      ,  0.      ,  0.      ]]),\n",
       " array([ nan,  nan,  nan,  nan,  nan,  nan,  nan,  nan,  nan,  nan,  nan,  nan,  nan,  nan,  nan,  nan,  nan,  nan,  nan,  nan,\n",
       "         nan,  nan,  nan,  nan,  nan,  nan,  nan,  nan,  nan,  nan,  nan,  nan,  nan,  nan,  nan,  nan,  nan,  nan,  nan,  nan,\n",
       "         nan,  nan,  nan,  nan,  nan,  nan,  nan,  nan,  nan,  nan,  nan,  nan,  nan,  nan,  nan]),\n",
       " array([[ 0.      ,  0.407196,  0.244746, ...,  0.494572,  0.551419,  0.469685],\n",
       "        [ 0.407196,  0.      ,  0.629916, ...,  0.603107,  0.642273,  0.554478],\n",
       "        [ 0.244746,  0.629916,       nan, ...,  0.547687,  0.6045  ,  0.542099],\n",
       "        ..., \n",
       "        [ 0.494572,  0.603107,  0.547687, ...,  0.      ,  0.058977,  0.050814],\n",
       "        [ 0.551419,  0.642273,  0.6045  , ...,  0.058977,  0.      ,  0.092778],\n",
       "        [ 0.469685,  0.554478,  0.542099, ...,  0.050814,  0.092778,  0.      ]], dtype=float32)]"
      ]
     },
     "execution_count": 9,
     "metadata": {},
     "output_type": "execute_result"
    }
   ],
   "source": [
    "geo_data.interpolator.results"
   ]
  },
  {
   "cell_type": "code",
   "execution_count": 10,
   "metadata": {},
   "outputs": [
    {
     "data": {
      "text/plain": [
       "(array(253666666), array(103218))"
      ]
     },
     "execution_count": 10,
     "metadata": {},
     "output_type": "execute_result"
    }
   ],
   "source": [
    "geo_data.interpolator.tg.c_o_T.get_value(), geo_data.interpolator.tg.a_T.get_value()"
   ]
  },
  {
   "cell_type": "code",
   "execution_count": 9,
   "metadata": {
    "scrolled": false
   },
   "outputs": [
    {
     "data": {
      "text/plain": [
       "<theano.compile.function_module.Function at 0x7f30696b9780>"
      ]
     },
     "execution_count": 9,
     "metadata": {},
     "output_type": "execute_result"
    }
   ],
   "source": [
    "geo_data.interpolator.compile_potential_field_function()"
   ]
  },
  {
   "cell_type": "code",
   "execution_count": 31,
   "metadata": {},
   "outputs": [
    {
     "name": "stdout",
     "output_type": "stream",
     "text": [
      "The serie formations are SimpleMafic2|SimpleBIF\n",
      "The formations are: \n",
      "Layers \n",
      "                 X             Y            Z     formation      series\n",
      "0   735484.817806  6.891936e+06 -1819.319309  SimpleMafic2  BIF_Series\n",
      "1   729854.915982  6.891938e+06 -1432.263309  SimpleMafic2  BIF_Series\n",
      "2   724084.267161  6.891939e+06 -4739.830309  SimpleMafic2  BIF_Series\n",
      "3   733521.625000  6.895282e+06   521.555240  SimpleMafic2  BIF_Series\n",
      "4   721933.375000  6.884592e+06   496.669295  SimpleMafic2  BIF_Series\n",
      "5   724251.000000  6.886909e+06   484.550926  SimpleMafic2  BIF_Series\n",
      "6   727316.313000  6.886460e+06   478.254423  SimpleMafic2  BIF_Series\n",
      "7   729858.250000  6.887134e+06   484.259574  SimpleMafic2  BIF_Series\n",
      "8   732699.250000  6.885040e+06   494.526481  SimpleMafic2  BIF_Series\n",
      "9   716849.500000  6.887358e+06   508.981894  SimpleMafic2  BIF_Series\n",
      "10  719017.625000  6.892218e+06   508.179387  SimpleMafic2  BIF_Series\n",
      "11  739179.440691  6.891936e+06  -552.591309     SimpleBIF  BIF_Series\n",
      "12  735564.599804  6.891936e+06 -2652.196309     SimpleBIF  BIF_Series\n",
      "13  730009.009977  6.891938e+06 -2088.409309     SimpleBIF  BIF_Series\n",
      "14  718795.791326  6.891941e+06 -2773.169309     SimpleBIF  BIF_Series\n",
      "15  724143.386160  6.891939e+06 -5569.907309     SimpleBIF  BIF_Series\n",
      "16  723877.188000  6.899768e+06   529.152169     SimpleBIF  BIF_Series\n",
      "17  732998.313000  6.898049e+06   521.619609     SimpleBIF  BIF_Series\n",
      "18  743689.438000  6.891769e+06   512.811278     SimpleBIF  BIF_Series\n",
      "19  712961.813000  6.882722e+06   547.826016     SimpleBIF  BIF_Series\n",
      "20  716284.875000  6.891346e+06   515.586860     SimpleBIF  BIF_Series\n",
      "21  718942.875000  6.897600e+06   538.490136     SimpleBIF  BIF_Series\n",
      "22  722157.625000  6.882947e+06   481.747055     SimpleBIF  BIF_Series\n",
      "23  723952.000000  6.885488e+06   480.122832     SimpleBIF  BIF_Series\n",
      "24  728736.813000  6.885488e+06   477.929009     SimpleBIF  BIF_Series\n",
      "25  738829.813000  6.878087e+06   470.081431     SimpleBIF  BIF_Series \n",
      " foliations \n",
      "                X             Y            Z  azimuth   dip  polarity  \\\n",
      "0  739426.627684  6.891935e+06    75.422691    220.0  70.0         1   \n",
      "1  717311.112372  6.891941e+06 -1497.488309     90.0  60.0         1   \n",
      "\n",
      "   formation      series       G_x           G_y      G_z  \n",
      "0  SimpleBIF  BIF_Series -0.604023 -7.198463e-01  0.34202  \n",
      "1  SimpleBIF  BIF_Series  0.866025  5.302876e-17  0.50000  \n",
      "Dual Kriging weights:  [ nan  nan  nan  nan  nan  nan  nan  nan  nan  nan  nan  nan  nan  nan  nan  nan  nan  nan  nan  nan  nan  nan  nan  nan  nan  nan\n",
      "  nan  nan  nan  nan]\n"
     ]
    },
    {
     "data": {
      "text/plain": [
       "array([[[ nan,  nan,  nan, ...,  nan,  nan,  nan],\n",
       "        [ nan,  nan,  nan, ...,  nan,  nan,  nan],\n",
       "        [ nan,  nan,  nan, ...,  nan,  nan,  nan],\n",
       "        ..., \n",
       "        [ nan,  nan,  nan, ...,  nan,  nan,  nan],\n",
       "        [ nan,  nan,  nan, ...,  nan,  nan,  nan],\n",
       "        [ nan,  nan,  nan, ...,  nan,  nan,  nan]],\n",
       "\n",
       "       [[ nan,  nan,  nan, ...,  nan,  nan,  nan],\n",
       "        [ nan,  nan,  nan, ...,  nan,  nan,  nan],\n",
       "        [ nan,  nan,  nan, ...,  nan,  nan,  nan],\n",
       "        ..., \n",
       "        [ nan,  nan,  nan, ...,  nan,  nan,  nan],\n",
       "        [ nan,  nan,  nan, ...,  nan,  nan,  nan],\n",
       "        [ nan,  nan,  nan, ...,  nan,  nan,  nan]],\n",
       "\n",
       "       [[ nan,  nan,  nan, ...,  nan,  nan,  nan],\n",
       "        [ nan,  nan,  nan, ...,  nan,  nan,  nan],\n",
       "        [ nan,  nan,  nan, ...,  nan,  nan,  nan],\n",
       "        ..., \n",
       "        [ nan,  nan,  nan, ...,  nan,  nan,  nan],\n",
       "        [ nan,  nan,  nan, ...,  nan,  nan,  nan],\n",
       "        [ nan,  nan,  nan, ...,  nan,  nan,  nan]],\n",
       "\n",
       "       ..., \n",
       "       [[ nan,  nan,  nan, ...,  nan,  nan,  nan],\n",
       "        [ nan,  nan,  nan, ...,  nan,  nan,  nan],\n",
       "        [ nan,  nan,  nan, ...,  nan,  nan,  nan],\n",
       "        ..., \n",
       "        [ nan,  nan,  nan, ...,  nan,  nan,  nan],\n",
       "        [ nan,  nan,  nan, ...,  nan,  nan,  nan],\n",
       "        [ nan,  nan,  nan, ...,  nan,  nan,  nan]],\n",
       "\n",
       "       [[ nan,  nan,  nan, ...,  nan,  nan,  nan],\n",
       "        [ nan,  nan,  nan, ...,  nan,  nan,  nan],\n",
       "        [ nan,  nan,  nan, ...,  nan,  nan,  nan],\n",
       "        ..., \n",
       "        [ nan,  nan,  nan, ...,  nan,  nan,  nan],\n",
       "        [ nan,  nan,  nan, ...,  nan,  nan,  nan],\n",
       "        [ nan,  nan,  nan, ...,  nan,  nan,  nan]],\n",
       "\n",
       "       [[ nan,  nan,  nan, ...,  nan,  nan,  nan],\n",
       "        [ nan,  nan,  nan, ...,  nan,  nan,  nan],\n",
       "        [ nan,  nan,  nan, ...,  nan,  nan,  nan],\n",
       "        ..., \n",
       "        [ nan,  nan,  nan, ...,  nan,  nan,  nan],\n",
       "        [ nan,  nan,  nan, ...,  nan,  nan,  nan],\n",
       "        [ nan,  nan,  nan, ...,  nan,  nan,  nan]]])"
      ]
     },
     "execution_count": 31,
     "metadata": {},
     "output_type": "execute_result"
    }
   ],
   "source": [
    "geo_data.interpolator.compute_potential_fields('BIF_Series',verbose = 3)"
   ]
  },
  {
   "cell_type": "code",
   "execution_count": 18,
   "metadata": {},
   "outputs": [
    {
     "data": {
      "text/plain": [
       "[array([[[ nan,  nan,  nan, ...,  nan,  nan,  nan],\n",
       "         [ nan,  nan,  nan, ...,  nan,  nan,  nan],\n",
       "         [ nan,  nan,  nan, ...,  nan,  nan,  nan],\n",
       "         ..., \n",
       "         [ nan,  nan,  nan, ...,  nan,  nan,  nan],\n",
       "         [ nan,  nan,  nan, ...,  nan,  nan,  nan],\n",
       "         [ nan,  nan,  nan, ...,  nan,  nan,  nan]],\n",
       " \n",
       "        [[ nan,  nan,  nan, ...,  nan,  nan,  nan],\n",
       "         [ nan,  nan,  nan, ...,  nan,  nan,  nan],\n",
       "         [ nan,  nan,  nan, ...,  nan,  nan,  nan],\n",
       "         ..., \n",
       "         [ nan,  nan,  nan, ...,  nan,  nan,  nan],\n",
       "         [ nan,  nan,  nan, ...,  nan,  nan,  nan],\n",
       "         [ nan,  nan,  nan, ...,  nan,  nan,  nan]],\n",
       " \n",
       "        [[ nan,  nan,  nan, ...,  nan,  nan,  nan],\n",
       "         [ nan,  nan,  nan, ...,  nan,  nan,  nan],\n",
       "         [ nan,  nan,  nan, ...,  nan,  nan,  nan],\n",
       "         ..., \n",
       "         [ nan,  nan,  nan, ...,  nan,  nan,  nan],\n",
       "         [ nan,  nan,  nan, ...,  nan,  nan,  nan],\n",
       "         [ nan,  nan,  nan, ...,  nan,  nan,  nan]],\n",
       " \n",
       "        ..., \n",
       "        [[ nan,  nan,  nan, ...,  nan,  nan,  nan],\n",
       "         [ nan,  nan,  nan, ...,  nan,  nan,  nan],\n",
       "         [ nan,  nan,  nan, ...,  nan,  nan,  nan],\n",
       "         ..., \n",
       "         [ nan,  nan,  nan, ...,  nan,  nan,  nan],\n",
       "         [ nan,  nan,  nan, ...,  nan,  nan,  nan],\n",
       "         [ nan,  nan,  nan, ...,  nan,  nan,  nan]],\n",
       " \n",
       "        [[ nan,  nan,  nan, ...,  nan,  nan,  nan],\n",
       "         [ nan,  nan,  nan, ...,  nan,  nan,  nan],\n",
       "         [ nan,  nan,  nan, ...,  nan,  nan,  nan],\n",
       "         ..., \n",
       "         [ nan,  nan,  nan, ...,  nan,  nan,  nan],\n",
       "         [ nan,  nan,  nan, ...,  nan,  nan,  nan],\n",
       "         [ nan,  nan,  nan, ...,  nan,  nan,  nan]],\n",
       " \n",
       "        [[ nan,  nan,  nan, ...,  nan,  nan,  nan],\n",
       "         [ nan,  nan,  nan, ...,  nan,  nan,  nan],\n",
       "         [ nan,  nan,  nan, ...,  nan,  nan,  nan],\n",
       "         ..., \n",
       "         [ nan,  nan,  nan, ...,  nan,  nan,  nan],\n",
       "         [ nan,  nan,  nan, ...,  nan,  nan,  nan],\n",
       "         [ nan,  nan,  nan, ...,  nan,  nan,  nan]]]),\n",
       " array([[[ nan,  nan,  nan, ...,  nan,  nan,  nan],\n",
       "         [ nan,  nan,  nan, ...,  nan,  nan,  nan],\n",
       "         [ nan,  nan,  nan, ...,  nan,  nan,  nan],\n",
       "         ..., \n",
       "         [ nan,  nan,  nan, ...,  nan,  nan,  nan],\n",
       "         [ nan,  nan,  nan, ...,  nan,  nan,  nan],\n",
       "         [ nan,  nan,  nan, ...,  nan,  nan,  nan]],\n",
       " \n",
       "        [[ nan,  nan,  nan, ...,  nan,  nan,  nan],\n",
       "         [ nan,  nan,  nan, ...,  nan,  nan,  nan],\n",
       "         [ nan,  nan,  nan, ...,  nan,  nan,  nan],\n",
       "         ..., \n",
       "         [ nan,  nan,  nan, ...,  nan,  nan,  nan],\n",
       "         [ nan,  nan,  nan, ...,  nan,  nan,  nan],\n",
       "         [ nan,  nan,  nan, ...,  nan,  nan,  nan]],\n",
       " \n",
       "        [[ nan,  nan,  nan, ...,  nan,  nan,  nan],\n",
       "         [ nan,  nan,  nan, ...,  nan,  nan,  nan],\n",
       "         [ nan,  nan,  nan, ...,  nan,  nan,  nan],\n",
       "         ..., \n",
       "         [ nan,  nan,  nan, ...,  nan,  nan,  nan],\n",
       "         [ nan,  nan,  nan, ...,  nan,  nan,  nan],\n",
       "         [ nan,  nan,  nan, ...,  nan,  nan,  nan]],\n",
       " \n",
       "        ..., \n",
       "        [[ nan,  nan,  nan, ...,  nan,  nan,  nan],\n",
       "         [ nan,  nan,  nan, ...,  nan,  nan,  nan],\n",
       "         [ nan,  nan,  nan, ...,  nan,  nan,  nan],\n",
       "         ..., \n",
       "         [ nan,  nan,  nan, ...,  nan,  nan,  nan],\n",
       "         [ nan,  nan,  nan, ...,  nan,  nan,  nan],\n",
       "         [ nan,  nan,  nan, ...,  nan,  nan,  nan]],\n",
       " \n",
       "        [[ nan,  nan,  nan, ...,  nan,  nan,  nan],\n",
       "         [ nan,  nan,  nan, ...,  nan,  nan,  nan],\n",
       "         [ nan,  nan,  nan, ...,  nan,  nan,  nan],\n",
       "         ..., \n",
       "         [ nan,  nan,  nan, ...,  nan,  nan,  nan],\n",
       "         [ nan,  nan,  nan, ...,  nan,  nan,  nan],\n",
       "         [ nan,  nan,  nan, ...,  nan,  nan,  nan]],\n",
       " \n",
       "        [[ nan,  nan,  nan, ...,  nan,  nan,  nan],\n",
       "         [ nan,  nan,  nan, ...,  nan,  nan,  nan],\n",
       "         [ nan,  nan,  nan, ...,  nan,  nan,  nan],\n",
       "         ..., \n",
       "         [ nan,  nan,  nan, ...,  nan,  nan,  nan],\n",
       "         [ nan,  nan,  nan, ...,  nan,  nan,  nan],\n",
       "         [ nan,  nan,  nan, ...,  nan,  nan,  nan]]]),\n",
       " array([[[ nan,  nan,  nan, ...,  nan,  nan,  nan],\n",
       "         [ nan,  nan,  nan, ...,  nan,  nan,  nan],\n",
       "         [ nan,  nan,  nan, ...,  nan,  nan,  nan],\n",
       "         ..., \n",
       "         [ nan,  nan,  nan, ...,  nan,  nan,  nan],\n",
       "         [ nan,  nan,  nan, ...,  nan,  nan,  nan],\n",
       "         [ nan,  nan,  nan, ...,  nan,  nan,  nan]],\n",
       " \n",
       "        [[ nan,  nan,  nan, ...,  nan,  nan,  nan],\n",
       "         [ nan,  nan,  nan, ...,  nan,  nan,  nan],\n",
       "         [ nan,  nan,  nan, ...,  nan,  nan,  nan],\n",
       "         ..., \n",
       "         [ nan,  nan,  nan, ...,  nan,  nan,  nan],\n",
       "         [ nan,  nan,  nan, ...,  nan,  nan,  nan],\n",
       "         [ nan,  nan,  nan, ...,  nan,  nan,  nan]],\n",
       " \n",
       "        [[ nan,  nan,  nan, ...,  nan,  nan,  nan],\n",
       "         [ nan,  nan,  nan, ...,  nan,  nan,  nan],\n",
       "         [ nan,  nan,  nan, ...,  nan,  nan,  nan],\n",
       "         ..., \n",
       "         [ nan,  nan,  nan, ...,  nan,  nan,  nan],\n",
       "         [ nan,  nan,  nan, ...,  nan,  nan,  nan],\n",
       "         [ nan,  nan,  nan, ...,  nan,  nan,  nan]],\n",
       " \n",
       "        ..., \n",
       "        [[ nan,  nan,  nan, ...,  nan,  nan,  nan],\n",
       "         [ nan,  nan,  nan, ...,  nan,  nan,  nan],\n",
       "         [ nan,  nan,  nan, ...,  nan,  nan,  nan],\n",
       "         ..., \n",
       "         [ nan,  nan,  nan, ...,  nan,  nan,  nan],\n",
       "         [ nan,  nan,  nan, ...,  nan,  nan,  nan],\n",
       "         [ nan,  nan,  nan, ...,  nan,  nan,  nan]],\n",
       " \n",
       "        [[ nan,  nan,  nan, ...,  nan,  nan,  nan],\n",
       "         [ nan,  nan,  nan, ...,  nan,  nan,  nan],\n",
       "         [ nan,  nan,  nan, ...,  nan,  nan,  nan],\n",
       "         ..., \n",
       "         [ nan,  nan,  nan, ...,  nan,  nan,  nan],\n",
       "         [ nan,  nan,  nan, ...,  nan,  nan,  nan],\n",
       "         [ nan,  nan,  nan, ...,  nan,  nan,  nan]],\n",
       " \n",
       "        [[ nan,  nan,  nan, ...,  nan,  nan,  nan],\n",
       "         [ nan,  nan,  nan, ...,  nan,  nan,  nan],\n",
       "         [ nan,  nan,  nan, ...,  nan,  nan,  nan],\n",
       "         ..., \n",
       "         [ nan,  nan,  nan, ...,  nan,  nan,  nan],\n",
       "         [ nan,  nan,  nan, ...,  nan,  nan,  nan],\n",
       "         [ nan,  nan,  nan, ...,  nan,  nan,  nan]]])]"
      ]
     },
     "execution_count": 18,
     "metadata": {},
     "output_type": "execute_result"
    }
   ],
   "source": [
    "geo_data.interpolator.potential_fields"
   ]
  },
  {
   "cell_type": "code",
   "execution_count": 11,
   "metadata": {},
   "outputs": [
    {
     "data": {
      "text/plain": [
       "[array([ nan,  nan,  nan,  nan,  nan,  nan,  nan,  nan,  nan,  nan,  nan,  nan,  nan,  nan,  nan,  nan]),\n",
       " array([[ 0.343335,       inf,       inf, ..., -0.000003, -0.000002, -0.000002],\n",
       "        [      inf,  0.343335,       inf, ..., -0.000003, -0.000002, -0.000002],\n",
       "        [      inf,       inf,  0.343335, ..., -0.000003, -0.000002, -0.000002],\n",
       "        ..., \n",
       "        [-0.000003, -0.000003, -0.000003, ...,  0.      ,  0.      ,  0.      ],\n",
       "        [-0.000002, -0.000002, -0.000002, ...,  0.      ,  0.      ,  0.      ],\n",
       "        [-0.000002, -0.000002, -0.000002, ...,  0.      ,  0.      ,  0.      ]]),\n",
       " array([ nan,  nan,  nan,  nan,  nan,  nan,  nan,  nan,  nan,  nan,  nan,  nan,  nan,  nan,  nan,  nan,  nan,  nan,  nan,  nan,\n",
       "         nan,  nan,  nan,  nan,  nan,  nan,  nan,  nan,  nan,  nan,  nan,  nan,  nan,  nan,  nan,  nan,  nan,  nan,  nan,  nan,\n",
       "         nan,  nan,  nan,  nan,  nan,  nan,  nan,  nan,  nan,  nan,  nan,  nan,  nan,  nan,  nan]),\n",
       " array([[ 0.      ,  0.407196,  0.244746, ...,  0.494572,  0.551419,  0.469685],\n",
       "        [ 0.407196,  0.      ,  0.629916, ...,  0.603107,  0.642273,  0.554478],\n",
       "        [ 0.244746,  0.629916,       nan, ...,  0.547687,  0.6045  ,  0.542099],\n",
       "        ..., \n",
       "        [ 0.494572,  0.603107,  0.547687, ...,  0.      ,  0.058977,  0.050814],\n",
       "        [ 0.551419,  0.642273,  0.6045  , ...,  0.058977,  0.      ,  0.092778],\n",
       "        [ 0.469685,  0.554478,  0.542099, ...,  0.050814,  0.092778,  0.      ]], dtype=float32)]"
      ]
     },
     "execution_count": 11,
     "metadata": {},
     "output_type": "execute_result"
    }
   ],
   "source": [
    "geo_data.interpolator.results"
   ]
  },
  {
   "cell_type": "code",
   "execution_count": 41,
   "metadata": {},
   "outputs": [
    {
     "data": {
      "text/plain": [
       "array(48561)"
      ]
     },
     "execution_count": 41,
     "metadata": {},
     "output_type": "execute_result"
    }
   ],
   "source": [
    "geo_data.interpolator.tg.c_resc.get_value()"
   ]
  },
  {
   "cell_type": "markdown",
   "metadata": {},
   "source": [
    "Now we could visualize the individual potential fields as follow:"
   ]
  },
  {
   "cell_type": "markdown",
   "metadata": {},
   "source": [
    "###  Early granite"
   ]
  },
  {
   "cell_type": "code",
   "execution_count": null,
   "metadata": {},
   "outputs": [],
   "source": [
    "GeMpy.plot_potential_field(geo_data,10, n_pf=0)"
   ]
  },
  {
   "cell_type": "markdown",
   "metadata": {
    "collapsed": true
   },
   "source": [
    "### BIF Series"
   ]
  },
  {
   "cell_type": "code",
   "execution_count": 12,
   "metadata": {},
   "outputs": [
    {
     "data": {
      "image/png": "[encoded data removed]",
      "text/plain": [
       "<matplotlib.figure.Figure at 0x7fea56addd68>"
      ]
     },
     "metadata": {},
     "output_type": "display_data"
    }
   ],
   "source": [
    "GeMpy.plot_potential_field(geo_data,13, n_pf=1, cmap = \"magma\",  plot_data = True,\n",
    "                                        verbose = 5)"
   ]
  },
  {
   "cell_type": "markdown",
   "metadata": {},
   "source": [
    "###  SImple mafic"
   ]
  },
  {
   "cell_type": "code",
   "execution_count": 13,
   "metadata": {
    "ExecuteTime": {
     "end_time": "2016-11-17T17:20:00.656405",
     "start_time": "2016-11-17T16:19:58.027Z"
    }
   },
   "outputs": [
    {
     "data": {
      "image/png": "[encoded data removed]",
      "text/plain": [
       "<matplotlib.figure.Figure at 0x7fea56a6b5f8>"
      ]
     },
     "metadata": {},
     "output_type": "display_data"
    }
   ],
   "source": [
    "GeMpy.plot_potential_field(geo_data, 10, n_pf=2)"
   ]
  },
  {
   "cell_type": "markdown",
   "metadata": {},
   "source": [
    "## Optimizing the export of lithologies\n",
    "\n",
    "But usually the final result we want to get is the final block. The method `compute_block_model` will compute the block model, updating the attribute `block`. This attribute is a theano shared function that can return a 3D array (raveled) using the method `get_value()`."
   ]
  },
  {
   "cell_type": "code",
   "execution_count": 7,
   "metadata": {},
   "outputs": [
    {
     "name": "stderr",
     "output_type": "stream",
     "text": [
      "../GeMpy/GeMpy.py:38: UserWarning: Using default interpolation values\n",
      "  warnings.warn('Using default interpolation values')\n"
     ]
    },
    {
     "data": {
      "text/plain": [
       "Final block computed"
      ]
     },
     "execution_count": 7,
     "metadata": {},
     "output_type": "execute_result"
    }
   ],
   "source": [
    "GeMpy.compute_block_model(geo_data)"
   ]
  },
  {
   "cell_type": "code",
   "execution_count": null,
   "metadata": {},
   "outputs": [],
   "source": [
    "#GeMpy.set_interpolator(geo_data, u_grade = 0, compute_potential_field=True)"
   ]
  },
  {
   "cell_type": "markdown",
   "metadata": {},
   "source": [
    "And again after computing the model in the Plot object we can use the method `plot_block_section` to see a 2D section of the model"
   ]
  },
  {
   "cell_type": "code",
   "execution_count": 8,
   "metadata": {},
   "outputs": [
    {
     "data": {
      "text/plain": [
       "<Visualization.PlotData at 0x7f780fd9ecc0>"
      ]
     },
     "execution_count": 8,
     "metadata": {},
     "output_type": "execute_result"
    },
    {
     "data": {
      "image/png": "[encoded data removed]",
      "text/plain": [
       "<matplotlib.figure.Figure at 0x7f780fd9edd8>"
      ]
     },
     "metadata": {},
     "output_type": "display_data"
    }
   ],
   "source": [
    "GeMpy.plot_section(geo_data, 13, direction='y')"
   ]
  },
  {
   "cell_type": "markdown",
   "metadata": {
    "collapsed": true
   },
   "source": [
    "## Export  to vtk. (*Under development*)"
   ]
  },
  {
   "cell_type": "code",
   "execution_count": 14,
   "metadata": {},
   "outputs": [
    {
     "ename": "ImportError",
     "evalue": "No module named 'pyevtk'",
     "output_type": "error",
     "traceback": [
      "\u001b[1;31m---------------------------------------------------------------------------\u001b[0m",
      "\u001b[1;31mImportError\u001b[0m                               Traceback (most recent call last)",
      "\u001b[1;32m<ipython-input-14-ff637538da86>\u001b[0m in \u001b[0;36m<module>\u001b[1;34m()\u001b[0m\n\u001b[0;32m     19\u001b[0m \u001b[0mdely\u001b[0m \u001b[1;33m=\u001b[0m \u001b[1;36m0.2\u001b[0m\u001b[1;33m\u001b[0m\u001b[0m\n\u001b[0;32m     20\u001b[0m \u001b[0mdelz\u001b[0m \u001b[1;33m=\u001b[0m \u001b[1;36m0.2\u001b[0m\u001b[1;33m\u001b[0m\u001b[0m\n\u001b[1;32m---> 21\u001b[1;33m \u001b[1;32mfrom\u001b[0m \u001b[0mpyevtk\u001b[0m\u001b[1;33m.\u001b[0m\u001b[0mhl\u001b[0m \u001b[1;32mimport\u001b[0m \u001b[0mgridToVTK\u001b[0m\u001b[1;33m\u001b[0m\u001b[0m\n\u001b[0m\u001b[0;32m     22\u001b[0m \u001b[1;31m# Coordinates\u001b[0m\u001b[1;33m\u001b[0m\u001b[1;33m\u001b[0m\u001b[0m\n\u001b[0;32m     23\u001b[0m \u001b[0mx\u001b[0m \u001b[1;33m=\u001b[0m \u001b[0mnp\u001b[0m\u001b[1;33m.\u001b[0m\u001b[0marange\u001b[0m\u001b[1;33m(\u001b[0m\u001b[1;36m0\u001b[0m\u001b[1;33m,\u001b[0m \u001b[0mextent_x\u001b[0m \u001b[1;33m+\u001b[0m \u001b[1;36m0.1\u001b[0m\u001b[1;33m*\u001b[0m\u001b[0mdelx\u001b[0m\u001b[1;33m,\u001b[0m \u001b[0mdelx\u001b[0m\u001b[1;33m,\u001b[0m \u001b[0mdtype\u001b[0m\u001b[1;33m=\u001b[0m\u001b[1;34m'float64'\u001b[0m\u001b[1;33m)\u001b[0m\u001b[1;33m\u001b[0m\u001b[0m\n",
      "\u001b[1;31mImportError\u001b[0m: No module named 'pyevtk'"
     ]
    }
   ],
   "source": [
    "\"\"\"Export model to VTK\n",
    "\n",
    "Export the geology blocks to VTK for visualisation of the entire 3-D model in an\n",
    "external VTK viewer, e.g. Paraview.\n",
    "\n",
    "..Note:: Requires pyevtk, available for free on: https://github.com/firedrakeproject/firedrake/tree/master/python/evtk\n",
    "\n",
    "**Optional keywords**:\n",
    "    - *vtk_filename* = string : filename of VTK file (default: output_name)\n",
    "    - *data* = np.array : data array to export to VKT (default: entire block model)\n",
    "\"\"\"\n",
    "vtk_filename = \"noddyFunct2\"\n",
    "\n",
    "extent_x = 10\n",
    "extent_y = 10\n",
    "extent_z = 10\n",
    "\n",
    "delx = 0.2\n",
    "dely = 0.2\n",
    "delz = 0.2\n",
    "from pyevtk.hl import gridToVTK\n",
    "# Coordinates\n",
    "x = np.arange(0, extent_x + 0.1*delx, delx, dtype='float64')\n",
    "y = np.arange(0, extent_y + 0.1*dely, dely, dtype='float64')\n",
    "z = np.arange(0, extent_z + 0.1*delz, delz, dtype='float64')\n",
    "\n",
    "# self.block = np.swapaxes(self.block, 0, 2)\n",
    "gridToVTK(vtk_filename, x, y, z, cellData = {\"geology\" : sol})"
   ]
  },
  {
   "cell_type": "markdown",
   "metadata": {
    "collapsed": true
   },
   "source": [
    "## Performance Analysis"
   ]
  },
  {
   "cell_type": "markdown",
   "metadata": {},
   "source": [
    "One of the advantages of theano is the posibility to create a full profile of the function. This has to be included in at the time of the creation of the function. At the moment it should be active (the downside is larger compilation time and I think also a bit in the computation so be careful if you need a fast call)"
   ]
  },
  {
   "cell_type": "markdown",
   "metadata": {},
   "source": [
    "### CPU"
   ]
  },
  {
   "cell_type": "markdown",
   "metadata": {},
   "source": [
    "The following profile is with a 2 core laptop. Nothing spectacular."
   ]
  },
  {
   "cell_type": "markdown",
   "metadata": {},
   "source": [
    "Looking at the profile we can see that most of time is in pow operation (exponential). This probably is that the extent is huge and we are doing it with too much precision. I am working on it"
   ]
  },
  {
   "cell_type": "markdown",
   "metadata": {},
   "source": [
    "### GPU"
   ]
  },
  {
   "cell_type": "code",
   "execution_count": 16,
   "metadata": {},
   "outputs": [
    {
     "name": "stdout",
     "output_type": "stream",
     "text": [
      "1 loop, best of 3: 1.74 s per loop\n"
     ]
    }
   ],
   "source": [
    "%%timeit\n",
    "\n",
    "# Compute the block\n",
    "GeMpy.compute_block_model(geo_data, [0,1,2], verbose = 0)"
   ]
  },
  {
   "cell_type": "code",
   "execution_count": 17,
   "metadata": {
    "scrolled": false
   },
   "outputs": [
    {
     "name": "stderr",
     "output_type": "stream",
     "text": [
      "Function profiling\n",
      "==================\n",
      "  Message: ../GeMpy/DataManagement.py:994\n",
      "  Time in 3 calls to Function.__call__: 8.400567e-01s\n",
      "  Time in Function.fn.__call__: 8.395956e-01s (99.945%)\n",
      "  Time in thunks: 8.275988e-01s (98.517%)\n",
      "  Total compile time: 3.540267e+00s\n",
      "    Number of Apply nodes: 342\n",
      "    Theano Optimizer time: 2.592782e+00s\n",
      "       Theano validate time: 1.640296e-01s\n",
      "    Theano Linker time (includes C, CUDA code generation/compiling): 8.665011e-01s\n",
      "       Import time 1.915064e-01s\n",
      "\n",
      "Time in all call to theano.grad() 0.000000e+00s\n",
      "Time since theano import 72.847s\n",
      "Class\n",
      "---\n",
      "<% time> <sum %> <apply time> <time per call> <type> <#call> <#apply> <Class name>\n",
      "  57.3%    57.3%       0.474s       2.87e-03s     C      165      55   theano.tensor.elemwise.Elemwise\n",
      "  10.1%    67.4%       0.084s       2.79e-03s     C       30      10   theano.tensor.blas.Dot22Scalar\n",
      "   9.6%    77.0%       0.079s       9.81e-04s     C       81      27   theano.sandbox.cuda.basic_ops.HostFromGpu\n",
      "   6.4%    83.4%       0.053s       8.89e-03s     Py       6       2   theano.tensor.basic.Nonzero\n",
      "   6.4%    89.8%       0.053s       1.77e-02s     Py       3       1   theano.tensor.nlinalg.MatrixInverse\n",
      "   5.1%    95.0%       0.042s       2.01e-03s     C       21       7   theano.tensor.elemwise.Sum\n",
      "   2.3%    97.2%       0.019s       3.13e-03s     C        6       2   theano.sandbox.cuda.basic_ops.GpuAdvancedSubtensor1\n",
      "   0.9%    98.1%       0.007s       5.00e-04s     C       15       5   theano.tensor.basic.Alloc\n",
      "   0.5%    98.6%       0.004s       2.34e-04s     C       18       6   theano.sandbox.cuda.basic_ops.GpuAlloc\n",
      "   0.5%    99.1%       0.004s       1.43e-04s     C       27       9   theano.sandbox.cuda.basic_ops.GpuJoin\n",
      "   0.4%    99.5%       0.004s       3.59e-05s     C      102      34   theano.sandbox.cuda.basic_ops.GpuElemwise\n",
      "   0.2%    99.7%       0.001s       5.48e-05s     C       27       9   theano.sandbox.cuda.basic_ops.GpuFromHost\n",
      "   0.1%    99.8%       0.001s       1.49e-05s     C       66      22   theano.sandbox.cuda.basic_ops.GpuReshape\n",
      "   0.0%    99.9%       0.000s       4.41e-05s     C        6       2   theano.compile.ops.DeepCopyOp\n",
      "   0.0%    99.9%       0.000s       2.63e-06s     C       72      24   theano.tensor.subtensor.IncSubtensor\n",
      "   0.0%    99.9%       0.000s       2.80e-06s     C       48      16   theano.sandbox.cuda.basic_ops.GpuSubtensor\n",
      "   0.0%    99.9%       0.000s       1.13e-06s     C      114      38   theano.sandbox.cuda.basic_ops.GpuDimShuffle\n",
      "   0.0%    99.9%       0.000s       3.96e-05s     C        3       1   theano.sandbox.cuda.basic_ops.GpuAllocEmpty\n",
      "   0.0%   100.0%       0.000s       3.20e-05s     Py       3       1   theano.tensor.extra_ops.FillDiagonal\n",
      "   0.0%   100.0%       0.000s       1.23e-06s     C       69      23   theano.tensor.elemwise.DimShuffle\n",
      "   ... (remaining 9 Classes account for   0.03%(0.00s) of the runtime)\n",
      "\n",
      "Ops\n",
      "---\n",
      "<% time> <sum %> <apply time> <time per call> <type> <#call> <#apply> <Op name>\n",
      "  36.2%    36.2%       0.300s       9.98e-02s     C        3        1   Elemwise{Composite{(i0 * i1 * LT(Composite{Cast{float32}(sqrt(((i0 + i1) - i2)))}(i2, i3, i4), i5) * (((i6 + ((i7 * Composite{Cast{float32}(sqrt(((i0 + i1) - i2)))}(i2, i3, i4)) / i8)) - ((i9 * Composite{(sqr(i0) * i0)}(Composite{Cast{float32}(sqrt(((i0 + i1) - i2)))}(i2, i3, i4))) / i10)) + ((i11 * Composite{(sqr(sqr(i0)) * i0)}(Composite{Cast{float32}(sqrt(((i0 + i1) - i2)))}(i2, i3, i4))) / i12)))}}[(0, 4)]\n",
      "  19.2%    55.4%       0.159s       5.30e-02s     C        3        1   Elemwise{Composite{(i0 * ((LT(Composite{Cast{float32}(sqrt(((i0 + i1) - i2)))}(i1, i2, i3), i4) * ((i5 + (i6 * Composite{(sqr(i0) * i0)}((Composite{Cast{float32}(sqrt(((i0 + i1) - i2)))}(i1, i2, i3) / i4))) + (i7 * Composite{((sqr(sqr(i0)) * sqr(i0)) * i0)}((Composite{Cast{float32}(sqrt(((i0 + i1) - i2)))}(i1, i2, i3) / i4)))) - ((i8 * sqr((Composite{Cast{float32}(sqrt(((i0 + i1) - i2)))}(i1, i2, i3) / i4))) + (i9 * Composite{(sqr(sqr(i0)\n",
      "  10.1%    65.5%       0.084s       2.79e-03s     C       30       10   Dot22Scalar\n",
      "   9.6%    75.1%       0.079s       9.81e-04s     C       81       27   HostFromGpu\n",
      "   6.4%    81.5%       0.053s       8.89e-03s     Py       6        2   Nonzero\n",
      "   6.4%    88.0%       0.053s       1.77e-02s     Py       3        1   MatrixInverse\n",
      "   5.0%    92.9%       0.041s       4.58e-03s     C        9        3   Sum{axis=[0], acc_dtype=float64}\n",
      "   2.3%    95.2%       0.019s       3.13e-03s     C        6        2   GpuAdvancedSubtensor1\n",
      "   0.9%    96.1%       0.008s       1.27e-03s     C        6        2   Elemwise{Mul}[(0, 1)]\n",
      "   0.9%    97.0%       0.007s       5.00e-04s     C       15        5   Alloc\n",
      "   0.6%    97.6%       0.005s       1.72e-03s     C        3        1   Elemwise{Composite{((i0 / i1) + ((i2 * i3) / i1) + ((i4 * i2 * i5) / i6))}}[(0, 0)]\n",
      "   0.5%    98.1%       0.004s       2.76e-04s     C       15        5   GpuAlloc\n",
      "   0.5%    98.6%       0.004s       1.43e-04s     C       27        9   GpuJoin\n",
      "   0.3%    98.9%       0.002s       4.95e-05s     C       45       15   GpuElemwise{sub,no_inplace}\n",
      "   0.2%    99.1%       0.001s       5.48e-05s     C       27        9   GpuFromHost\n",
      "   0.2%    99.2%       0.001s       1.08e-04s     C       12        4   Elemwise{Cast{float64}}\n",
      "   0.1%    99.3%       0.001s       9.13e-05s     C       12        4   Sum{axis=[1], acc_dtype=float64}\n",
      "   0.1%    99.5%       0.001s       6.88e-05s     C       15        5   GpuElemwise{mul,no_inplace}\n",
      "   0.1%    99.6%       0.001s       6.47e-05s     C       15        5   Elemwise{Sqr}[(0, 0)]\n",
      "   0.1%    99.7%       0.001s       1.61e-05s     C       60       20   GpuReshape{2}\n",
      "   ... (remaining 75 Ops account for   0.29%(0.00s) of the runtime)\n",
      "\n",
      "Apply\n",
      "------\n",
      "<% time> <sum %> <apply time> <time per call> <#call> <id> <Apply name>\n",
      "  36.2%    36.2%       0.300s       9.98e-02s      3   332   Elemwise{Composite{(i0 * i1 * LT(Composite{Cast{float32}(sqrt(((i0 + i1) - i2)))}(i2, i3, i4), i5) * (((i6 + ((i7 * Composite{Cast{float32}(sqrt(((i0 + i1) - i2)))}(i2, i3, i4)) / i8)) - ((i9 * Composite{(sqr(i0) * i0)}(Composite{Cast{float32}(sqrt(((i0 + i1) - i2)))}(i2, i3, i4))) / i10)) + ((i11 * Composite{(sqr(sqr(i0)) * i0)}(Composite{Cast{float32}(sqrt(((i0 + i1) - i2)))}(i2, i3, i4))) / i12)))}}[(0, 4)](HostFromGpu.0, HostFromGpu.0, Reshape{2\n",
      "  19.2%    55.4%       0.159s       5.30e-02s      3   331   Elemwise{Composite{(i0 * ((LT(Composite{Cast{float32}(sqrt(((i0 + i1) - i2)))}(i1, i2, i3), i4) * ((i5 + (i6 * Composite{(sqr(i0) * i0)}((Composite{Cast{float32}(sqrt(((i0 + i1) - i2)))}(i1, i2, i3) / i4))) + (i7 * Composite{((sqr(sqr(i0)) * sqr(i0)) * i0)}((Composite{Cast{float32}(sqrt(((i0 + i1) - i2)))}(i1, i2, i3) / i4)))) - ((i8 * sqr((Composite{Cast{float32}(sqrt(((i0 + i1) - i2)))}(i1, i2, i3) / i4))) + (i9 * Composite{(sqr(sqr(i0)) * i0)}((C\n",
      "   6.4%    61.8%       0.053s       1.77e-02s      3   318   MatrixInverse(IncSubtensor{InplaceSet;int64::, int64:int64:}.0)\n",
      "   5.3%    67.1%       0.044s       1.46e-02s      3   180   Nonzero(HostFromGpu.0)\n",
      "   5.0%    72.1%       0.042s       1.39e-02s      3   269   Dot22Scalar(Elemwise{Cast{float64}}.0, InplaceDimShuffle{1,0}.0, TensorConstant{2.0})\n",
      "   3.8%    75.9%       0.031s       1.04e-02s      3   335   Sum{axis=[0], acc_dtype=float64}(Elemwise{Composite{(i0 * i1 * LT(Composite{Cast{float32}(sqrt(((i0 + i1) - i2)))}(i2, i3, i4), i5) * (((i6 + ((i7 * Composite{Cast{float32}(sqrt(((i0 + i1) - i2)))}(i2, i3, i4)) / i8)) - ((i9 * Composite{(sqr(i0) * i0)}(Composite{Cast{float32}(sqrt(((i0 + i1) - i2)))}(i2, i3, i4))) / i10)) + ((i11 * Composite{(sqr(sqr(i0)) * i0)}(Composite{Cast{float32}(sqrt(((i0 + i1) - i2)))}(i2, i3, i4))) / i12)))}}[(0, 4)].0)\n",
      "   3.5%    79.4%       0.029s       9.55e-03s      3   286   HostFromGpu(GpuJoin.0)\n",
      "   3.0%    82.3%       0.025s       8.18e-03s      3   329   HostFromGpu(GpuSubtensor{:int64:}.0)\n",
      "   2.5%    84.8%       0.021s       6.96e-03s      3   268   Dot22Scalar(Elemwise{Cast{float64}}.0, InplaceDimShuffle{1,0}.0, TensorConstant{2.0})\n",
      "   2.5%    87.4%       0.021s       6.93e-03s      3   267   Dot22Scalar(Elemwise{Cast{float64}}.0, InplaceDimShuffle{1,0}.0, TensorConstant{2.0})\n",
      "   1.6%    89.0%       0.013s       4.46e-03s      3   216   GpuAdvancedSubtensor1(GpuReshape{1}.0, Subtensor{int64}.0)\n",
      "   1.3%    90.3%       0.011s       3.56e-03s      3   328   HostFromGpu(GpuSubtensor{int64:int64:}.0)\n",
      "   1.2%    91.4%       0.010s       3.22e-03s      3   200   Nonzero(HostFromGpu.0)\n",
      "   0.9%    92.4%       0.008s       2.53e-03s      3   333   Elemwise{Mul}[(0, 1)](HostFromGpu.0, InplaceDimShuffle{1,0}.0, HostFromGpu.0)\n",
      "   0.9%    93.3%       0.007s       2.47e-03s      3   235   Alloc(Subtensor{:int64:}.0, Elemwise{Composite{((i0 // i1) + i2)}}[(0, 0)].0, TensorConstant{1}, TensorConstant{1}, Elemwise{Composite{Switch(LT(i0, i1), Switch(LT((i2 + i0), i1), i1, (i2 + i0)), Switch(LT(i0, i2), i0, i2))}}.0)\n",
      "   0.9%    94.1%       0.007s       2.36e-03s      3   334   Sum{axis=[0], acc_dtype=float64}(Elemwise{Composite{(i0 * ((LT(Composite{Cast{float32}(sqrt(((i0 + i1) - i2)))}(i1, i2, i3), i4) * ((i5 + (i6 * Composite{(sqr(i0) * i0)}((Composite{Cast{float32}(sqrt(((i0 + i1) - i2)))}(i1, i2, i3) / i4))) + (i7 * Composite{((sqr(sqr(i0)) * sqr(i0)) * i0)}((Composite{Cast{float32}(sqrt(((i0 + i1) - i2)))}(i1, i2, i3) / i4)))) - ((i8 * sqr((Composite{Cast{float32}(sqrt(((i0 + i1) - i2)))}(i1, i2, i3) / i4))) + (i9 * \n",
      "   0.6%    94.8%       0.005s       1.79e-03s      3   226   GpuAdvancedSubtensor1(GpuReshape{1}.0, Subtensor{int64}.0)\n",
      "   0.6%    95.4%       0.005s       1.72e-03s      3   337   Elemwise{Composite{((i0 / i1) + ((i2 * i3) / i1) + ((i4 * i2 * i5) / i6))}}[(0, 0)](Sum{axis=[0], acc_dtype=float64}.0, InplaceDimShuffle{x}.0, InplaceDimShuffle{x}.0, Sum{axis=[0], acc_dtype=float64}.0, TensorConstant{(1,) of -1.0}, Sum{axis=[0], acc_dtype=float64}.0, InplaceDimShuffle{x}.0)\n",
      "   0.6%    96.0%       0.005s       1.69e-03s      3   330   HostFromGpu(GpuSubtensor{int64::}.0)\n",
      "   0.5%    96.5%       0.004s       1.37e-03s      3   153   HostFromGpu(GpuReshape{1}.0)\n",
      "   ... (remaining 322 Apply instances account for 3.51%(0.03s) of the runtime)\n",
      "\n",
      "Here are tips to potentially make your code run faster\n",
      "                 (if you think of new ones, suggest them on the mailing list).\n",
      "                 Test them first, as they are not guaranteed to always provide a speedup.\n",
      "  - Try installing amdlibm and set the Theano flag lib.amdlibm=True. This speeds up only some Elemwise operation.\n"
     ]
    }
   ],
   "source": [
    "geo_data.interpolator._interpolate.profile.summary()"
   ]
  },
  {
   "cell_type": "code",
   "execution_count": null,
   "metadata": {},
   "outputs": [],
   "source": []
  }
 ],
 "metadata": {
  "anaconda-cloud": {},
  "kernelspec": {
   "display_name": "Python 3",
   "language": "python",
   "name": "python3"
  },
  "language_info": {
   "codemirror_mode": {
    "name": "ipython",
    "version": 3
   },
   "file_extension": ".py",
   "mimetype": "text/x-python",
   "name": "python",
   "nbconvert_exporter": "python",
   "pygments_lexer": "ipython3",
   "version": "3.6.1"
  },
  "latex_envs": {
   "LaTeX_envs_menu_present": true,
   "autocomplete": true,
   "bibliofile": "biblio.bib",
   "cite_by": "apalike",
   "current_citInitial": 1,
   "eqLabelWithNumbers": true,
   "eqNumInitial": 0,
   "hotkeys": {
    "equation": "Ctrl-E",
    "itemize": "Ctrl-I"
   },
   "labels_anchors": false,
   "latex_user_defs": false,
   "report_style_numbering": false,
   "user_envs_cfg": false
  },
  "nav_menu": {},
  "toc": {
   "colors": {
    "hover_highlight": "#DAA520",
    "running_highlight": "#FF0000",
    "selected_highlight": "#FFD700"
   },
   "moveMenuLeft": true,
   "nav_menu": {
    "height": "235px",
    "width": "252px"
   },
   "navigate_menu": true,
   "number_sections": false,
   "sideBar": true,
   "threshold": 4,
   "toc_cell": false,
   "toc_section_display": "none",
   "toc_window_display": false,
   "widenNotebook": false
  },
  "toc_position": {
   "height": "548px",
   "left": "0px",
   "right": "1099px",
   "top": "106px",
   "width": "202px"
  }
 },
 "nbformat": 4,
 "nbformat_minor": 1
}
