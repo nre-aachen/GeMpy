{
 "cells": [
  {
   "cell_type": "markdown",
   "metadata": {},
   "source": [
    "# GeMpy"
   ]
  },
  {
   "cell_type": "code",
   "execution_count": 1,
   "metadata": {
    "collapsed": true
   },
   "outputs": [],
   "source": [
    "import sys\n",
    "sys.path.append(\"C:/Users/Alex/git/GeMpy\")\n",
    "import gempy as gp\n",
    "\n",
    "%matplotlib inline\n",
    "import pymc\n",
    "import numpy as np\n",
    "import math"
   ]
  },
  {
   "cell_type": "code",
   "execution_count": 28,
   "metadata": {
    "collapsed": true
   },
   "outputs": [],
   "source": [
    "geo_data = gp.read_pickle(\"C:/Users/Alex/git/GeMpy/input_data/BasicFault.pickle\")\n",
    "geo_data.n_faults = 1"
   ]
  },
  {
   "cell_type": "code",
   "execution_count": 29,
   "metadata": {},
   "outputs": [
    {
     "data": {
      "text/html": [
       "<div>\n",
       "<style>\n",
       "    .dataframe thead tr:only-child th {\n",
       "        text-align: right;\n",
       "    }\n",
       "\n",
       "    .dataframe thead th {\n",
       "        text-align: left;\n",
       "    }\n",
       "\n",
       "    .dataframe tbody tr th {\n",
       "        vertical-align: top;\n",
       "    }\n",
       "</style>\n",
       "<table border=\"1\" class=\"dataframe\">\n",
       "  <thead>\n",
       "    <tr style=\"text-align: right;\">\n",
       "      <th></th>\n",
       "      <th>X</th>\n",
       "      <th>Y</th>\n",
       "      <th>Z</th>\n",
       "      <th>formation</th>\n",
       "      <th>series</th>\n",
       "      <th>order_series</th>\n",
       "      <th>isFault</th>\n",
       "    </tr>\n",
       "  </thead>\n",
       "  <tbody>\n",
       "    <tr>\n",
       "      <th>0</th>\n",
       "      <td>800.0</td>\n",
       "      <td>1000.0</td>\n",
       "      <td>-1600.0</td>\n",
       "      <td>MainFault</td>\n",
       "      <td>fault</td>\n",
       "      <td>1</td>\n",
       "      <td>True</td>\n",
       "    </tr>\n",
       "    <tr>\n",
       "      <th>1</th>\n",
       "      <td>1200.0</td>\n",
       "      <td>1000.0</td>\n",
       "      <td>-400.0</td>\n",
       "      <td>MainFault</td>\n",
       "      <td>fault</td>\n",
       "      <td>1</td>\n",
       "      <td>True</td>\n",
       "    </tr>\n",
       "    <tr>\n",
       "      <th>2</th>\n",
       "      <td>1100.0</td>\n",
       "      <td>1000.0</td>\n",
       "      <td>-700.0</td>\n",
       "      <td>MainFault</td>\n",
       "      <td>fault</td>\n",
       "      <td>1</td>\n",
       "      <td>True</td>\n",
       "    </tr>\n",
       "    <tr>\n",
       "      <th>3</th>\n",
       "      <td>900.0</td>\n",
       "      <td>1000.0</td>\n",
       "      <td>-1300.0</td>\n",
       "      <td>MainFault</td>\n",
       "      <td>fault</td>\n",
       "      <td>1</td>\n",
       "      <td>True</td>\n",
       "    </tr>\n",
       "    <tr>\n",
       "      <th>4</th>\n",
       "      <td>1000.0</td>\n",
       "      <td>1000.0</td>\n",
       "      <td>-1000.0</td>\n",
       "      <td>MainFault</td>\n",
       "      <td>fault</td>\n",
       "      <td>1</td>\n",
       "      <td>True</td>\n",
       "    </tr>\n",
       "  </tbody>\n",
       "</table>\n",
       "</div>"
      ],
      "text/plain": [
       "        X       Y       Z  formation series  order_series  isFault\n",
       "0   800.0  1000.0 -1600.0  MainFault  fault             1     True\n",
       "1  1200.0  1000.0  -400.0  MainFault  fault             1     True\n",
       "2  1100.0  1000.0  -700.0  MainFault  fault             1     True\n",
       "3   900.0  1000.0 -1300.0  MainFault  fault             1     True\n",
       "4  1000.0  1000.0 -1000.0  MainFault  fault             1     True"
      ]
     },
     "execution_count": 29,
     "metadata": {},
     "output_type": "execute_result"
    }
   ],
   "source": [
    "geo_data.interfaces.head()"
   ]
  },
  {
   "cell_type": "code",
   "execution_count": 30,
   "metadata": {},
   "outputs": [
    {
     "data": {
      "text/plain": [
       "<gempy.Visualization.PlotData at 0x1e59a17f6a0>"
      ]
     },
     "execution_count": 30,
     "metadata": {},
     "output_type": "execute_result"
    },
    {
     "data": {
      "image/png": "[encoded data removed]",
      "text/plain": [
       "<matplotlib.figure.Figure at 0x1e59e862940>"
      ]
     },
     "metadata": {},
     "output_type": "display_data"
    }
   ],
   "source": [
    "gp.plot_data(geo_data, direction='y')"
   ]
  },
  {
   "cell_type": "code",
   "execution_count": 31,
   "metadata": {
    "collapsed": true
   },
   "outputs": [],
   "source": [
    "# stdev for x,y,z interface coordinates\n",
    "geo_data.interfaces['X_std'] = None\n",
    "geo_data.interfaces['Y_std'] = None\n",
    "geo_data.interfaces['Z_std'] = 100\n",
    "geo_data.interfaces['dist_type'] = \"Normal\" # should be initially None\n",
    "geo_data.interfaces['X_dist'] = None\n",
    "geo_data.interfaces['Y_dist'] = None\n",
    "geo_data.interfaces['Z_dist'] = None\n",
    "\n",
    "#geo_data.foliations['X_std'] = None\n",
    "#geo_data.foliations['Y_std'] = 0\n",
    "#geo_data.foliations['Z_std'] = 0"
   ]
  },
  {
   "cell_type": "code",
   "execution_count": 32,
   "metadata": {
    "collapsed": true
   },
   "outputs": [],
   "source": [
    "geo_data.interfaces[\"Z_std\"] = 500"
   ]
  },
  {
   "cell_type": "code",
   "execution_count": 33,
   "metadata": {},
   "outputs": [
    {
     "name": "stdout",
     "output_type": "stream",
     "text": [
      "I am in the setting\n",
      "float32\n",
      "I am here\n",
      "[2, 2]\n"
     ]
    }
   ],
   "source": [
    "interp_data = gp.InterpolatorInput(geo_data, \n",
    "                                   u_grade = [3, 3],\n",
    "                                   compile_theano=True)"
   ]
  },
  {
   "cell_type": "raw",
   "metadata": {
    "collapsed": true
   },
   "source": [
    "sol = gp.compute_model(interp_data)"
   ]
  },
  {
   "cell_type": "markdown",
   "metadata": {},
   "source": [
    "adding dataframe columns for uncertainty analysis"
   ]
  },
  {
   "cell_type": "markdown",
   "metadata": {},
   "source": [
    "### Create pymc.Distribution objects for each stochastic value and put into df"
   ]
  },
  {
   "cell_type": "code",
   "execution_count": 34,
   "metadata": {
    "collapsed": true
   },
   "outputs": [],
   "source": [
    "def create_priors(data, data_ref):\n",
    "    \"\"\"\n",
    "    data = interp_data.interpolator.pandas_rest_layer_points\n",
    "    data_ref = interp_data.interpolator.ref_layer_points\n",
    "    \"\"\"\n",
    "    X_priors = np.array([])\n",
    "    Y_priors = np.array([])\n",
    "    Z_priors = np.array([])\n",
    "\n",
    "    # iterate over dataframe\n",
    "    for i, row in data.T.iteritems():\n",
    "        if math.isnan(row[\"X_std\"]):\n",
    "            X_priors = np.append(X_priors, row[\"X\"])\n",
    "        else:\n",
    "            dist = pymc.Normal(\"X_\" + str(i), row[\"X\"], 1 / row[\"X_std\"] ** 2)\n",
    "            X_priors = np.append(X_priors, dist)\n",
    "\n",
    "        if math.isnan(row[\"Y_std\"]):\n",
    "            Y_priors = np.append(Y_priors, row[\"Y\"])\n",
    "        else:\n",
    "            dist = pymc.Normal(\"Y_\" + str(i), row[\"Y\"], 1 / row[\"Y_std\"] ** 2)\n",
    "            Y_priors = np.append(Y_priors, dist)\n",
    "\n",
    "        if math.isnan(row[\"Z_std\"]):\n",
    "            Z_priors = np.append(Z_priors, row[\"Z\"])\n",
    "        else:\n",
    "            dist = pymc.Normal(\"Z_\" + str(i), row[\"Z\"], 1 / row[\"Z_std\"] ** 2)\n",
    "            Z_priors = np.append(Z_priors, dist)\n",
    "    \n",
    "    # ///////////////////////////////////////////////////////////////////////////////////\n",
    "    # take care of ref values\n",
    "    for fmt in np.unique(data[\"formation\"].values):\n",
    "        f = np.where(data[\"formation\"].values == fmt)[0]\n",
    "        #print(fmt+\":\",f)\n",
    "        #print(ref_z[f[0]:f[-1]+1])\n",
    "        data_ref[:,0][f[0]:f[-1]+1] = X_priors[f[0]]\n",
    "        data_ref[:,1][f[0]:f[-1]+1] = Y_priors[f[0]]\n",
    "        data_ref[:,2][f[0]:f[-1]+1] = Z_priors[f[0]]\n",
    "    \n",
    "    # ///////////////////////////////////////////////////////////////////////////////////\n",
    "    return X_priors, Y_priors, Z_priors, data_ref  #, index"
   ]
  },
  {
   "cell_type": "code",
   "execution_count": 35,
   "metadata": {},
   "outputs": [],
   "source": [
    "X_priors, Y_priors, Z_priors, data_ref = create_priors(interp_data.interpolator.pandas_rest_layer_points, interp_data.interpolator.ref_layer_points)"
   ]
  },
  {
   "cell_type": "markdown",
   "metadata": {},
   "source": [
    "### Create pymc.Model"
   ]
  },
  {
   "cell_type": "code",
   "execution_count": 36,
   "metadata": {},
   "outputs": [
    {
     "name": "stderr",
     "output_type": "stream",
     "text": [
      "C:\\Users\\Alex\\Anaconda3\\lib\\site-packages\\pymc\\Node.py:403: VisibleDeprecationWarning: using a non-integer number instead of an integer will result in an error in the future\n",
      "  self.__name__ = input['__name__']\n"
     ]
    },
    {
     "name": "stdout",
     "output_type": "stream",
     "text": [
      "[3, 3]\n"
     ]
    }
   ],
   "source": [
    "@pymc.deterministic\n",
    "def gempy_model(value=0, interp_data=interp_data,\n",
    "          xp = X_priors, yp = Y_priors, zp = Z_priors, ref = data_ref):\n",
    "    \n",
    "    # set data to fixed and/or prior draws\n",
    "    interp_data.interpolator.pandas_rest_layer_points[\"X\"] = xp\n",
    "    interp_data.interpolator.pandas_rest_layer_points[\"Y\"] = yp\n",
    "    interp_data.interpolator.pandas_rest_layer_points[\"Z\"] = zp\n",
    "    # set ref values accordingly\n",
    "    interp_data.interpolator.ref_layer_points = data_ref\n",
    "    # print(interp_data.interpolator.pandas_rest_layer_points[\"Z\"].values)\n",
    "    # compute model\n",
    "    sol = gp.compute_model(interp_data)\n",
    "    # return solution\n",
    "    return sol"
   ]
  },
  {
   "cell_type": "code",
   "execution_count": 37,
   "metadata": {
    "collapsed": true
   },
   "outputs": [],
   "source": [
    "# set number of iterations\n",
    "iterations = 10"
   ]
  },
  {
   "cell_type": "code",
   "execution_count": 38,
   "metadata": {
    "collapsed": true
   },
   "outputs": [],
   "source": [
    "params = []\n",
    "for p in X_priors:\n",
    "    if type(p) != np.float64:\n",
    "        params.append(p)\n",
    "for p in Y_priors:\n",
    "    if type(p) != np.float64:\n",
    "        params.append(p)\n",
    "for p in Z_priors:\n",
    "    if type(p) != np.float64:\n",
    "        params.append(p)\n",
    "params.append(gempy_model)\n",
    "\n",
    "# set model\n",
    "pymc_model = pymc.Model(params)"
   ]
  },
  {
   "cell_type": "markdown",
   "metadata": {},
   "source": [
    "### MCFS"
   ]
  },
  {
   "cell_type": "code",
   "execution_count": 39,
   "metadata": {},
   "outputs": [
    {
     "name": "stdout",
     "output_type": "stream",
     "text": [
      "[3, 3]\n",
      " [-------          20%                  ] 2 of 10 complete in 2.7 sec[3, 3]\n",
      " [-----------      30%                  ] 3 of 10 complete in 5.6 sec[3, 3]\n",
      " [---------------  40%                  ] 4 of 10 complete in 8.4 sec[3, 3]\n",
      " [-----------------50%                  ] 5 of 10 complete in 11.1 sec[3, 3]\n",
      " [-----------------60%--                ] 6 of 10 complete in 13.9 sec[3, 3]\n",
      " [-----------------70%------            ] 7 of 10 complete in 16.6 sec[3, 3]\n",
      " [-----------------80%----------        ] 8 of 10 complete in 19.6 sec[3, 3]\n",
      " [-----------------90%--------------    ] 9 of 10 complete in 22.5 sec[3, 3]\n",
      " [-----------------100%-----------------] 10 of 10 complete in 25.4 sec[3, 3]\n",
      " [------------------110%-------------------] 11 of 10 complete in 28.5 sec"
     ]
    }
   ],
   "source": [
    "MCFS_RUN = pymc.MCMC(pymc_model)\n",
    "MCFS_RUN.sample(iter=iterations)"
   ]
  },
  {
   "cell_type": "code",
   "execution_count": 40,
   "metadata": {
    "collapsed": true
   },
   "outputs": [],
   "source": [
    "import matplotlib.pyplot as plt"
   ]
  },
  {
   "cell_type": "code",
   "execution_count": 41,
   "metadata": {
    "collapsed": true
   },
   "outputs": [],
   "source": [
    "from ipywidgets import interact, interactive, fixed, interact_manual\n",
    "import ipywidgets as widgets"
   ]
  },
  {
   "cell_type": "code",
   "execution_count": 49,
   "metadata": {},
   "outputs": [],
   "source": [
    "def p(i):\n",
    "    ax.imshow(MCFS_RUN.trace(\"gempy_model\", chain=-1)[i][0].reshape(50,50,50)[:,24,:].T, origin=\"lower\")"
   ]
  },
  {
   "cell_type": "code",
   "execution_count": 50,
   "metadata": {},
   "outputs": [
    {
     "data": {
      "application/vnd.jupyter.widget-view+json": {
       "model_id": "89ac450f67fd46a9a3ece0f8c19a6656"
      }
     },
     "metadata": {},
     "output_type": "display_data"
    },
    {
     "data": {
      "image/png": "[encoded data removed]",
      "text/plain": [
       "<matplotlib.figure.Figure at 0x1e5b3c3c668>"
      ]
     },
     "metadata": {},
     "output_type": "display_data"
    }
   ],
   "source": [
    "fig, ax = plt.subplots()\n",
    "interact(p, i=widgets.IntSlider(min=0, max=9, step=1, value=0));"
   ]
  },
  {
   "cell_type": "code",
   "execution_count": null,
   "metadata": {
    "collapsed": true
   },
   "outputs": [],
   "source": []
  }
 ],
 "metadata": {
  "kernelspec": {
   "display_name": "Python 3",
   "language": "python",
   "name": "python3"
  },
  "language_info": {
   "codemirror_mode": {
    "name": "ipython",
    "version": 3
   },
   "file_extension": ".py",
   "mimetype": "text/x-python",
   "name": "python",
   "nbconvert_exporter": "python",
   "pygments_lexer": "ipython3",
   "version": "3.6.1"
  }
 },
 "nbformat": 4,
 "nbformat_minor": 2
}
