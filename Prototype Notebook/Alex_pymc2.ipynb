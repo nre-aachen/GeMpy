{
 "cells": [
  {
   "cell_type": "markdown",
   "metadata": {},
   "source": [
    "# GeMpy"
   ]
  },
  {
   "cell_type": "code",
   "execution_count": 1,
   "metadata": {},
   "outputs": [],
   "source": [
    "import sys\n",
    "sys.path.append(\"../\")\n",
    "import gempy as gp\n",
    "\n",
    "%matplotlib inline\n",
    "import pymc\n",
    "import numpy as np\n",
    "import math"
   ]
  },
  {
   "cell_type": "code",
   "execution_count": 2,
   "metadata": {},
   "outputs": [],
   "source": [
    "geo_data = gp.read_pickle(\"../input_data/BasicFault.pickle\")\n",
    "geo_data.n_faults = 1"
   ]
  },
  {
   "cell_type": "code",
   "execution_count": 3,
   "metadata": {},
   "outputs": [
    {
     "data": {
      "text/html": [
       "<div>\n",
       "<style>\n",
       "    .dataframe thead tr:only-child th {\n",
       "        text-align: right;\n",
       "    }\n",
       "\n",
       "    .dataframe thead th {\n",
       "        text-align: left;\n",
       "    }\n",
       "\n",
       "    .dataframe tbody tr th {\n",
       "        vertical-align: top;\n",
       "    }\n",
       "</style>\n",
       "<table border=\"1\" class=\"dataframe\">\n",
       "  <thead>\n",
       "    <tr style=\"text-align: right;\">\n",
       "      <th></th>\n",
       "      <th>X</th>\n",
       "      <th>Y</th>\n",
       "      <th>Z</th>\n",
       "      <th>formation</th>\n",
       "      <th>series</th>\n",
       "      <th>order_series</th>\n",
       "      <th>isFault</th>\n",
       "    </tr>\n",
       "  </thead>\n",
       "  <tbody>\n",
       "    <tr>\n",
       "      <th>0</th>\n",
       "      <td>800.0</td>\n",
       "      <td>1000.0</td>\n",
       "      <td>-1600.0</td>\n",
       "      <td>MainFault</td>\n",
       "      <td>fault</td>\n",
       "      <td>1</td>\n",
       "      <td>True</td>\n",
       "    </tr>\n",
       "    <tr>\n",
       "      <th>1</th>\n",
       "      <td>1200.0</td>\n",
       "      <td>1000.0</td>\n",
       "      <td>-400.0</td>\n",
       "      <td>MainFault</td>\n",
       "      <td>fault</td>\n",
       "      <td>1</td>\n",
       "      <td>True</td>\n",
       "    </tr>\n",
       "    <tr>\n",
       "      <th>2</th>\n",
       "      <td>1100.0</td>\n",
       "      <td>1000.0</td>\n",
       "      <td>-700.0</td>\n",
       "      <td>MainFault</td>\n",
       "      <td>fault</td>\n",
       "      <td>1</td>\n",
       "      <td>True</td>\n",
       "    </tr>\n",
       "    <tr>\n",
       "      <th>3</th>\n",
       "      <td>900.0</td>\n",
       "      <td>1000.0</td>\n",
       "      <td>-1300.0</td>\n",
       "      <td>MainFault</td>\n",
       "      <td>fault</td>\n",
       "      <td>1</td>\n",
       "      <td>True</td>\n",
       "    </tr>\n",
       "    <tr>\n",
       "      <th>4</th>\n",
       "      <td>1000.0</td>\n",
       "      <td>1000.0</td>\n",
       "      <td>-1000.0</td>\n",
       "      <td>MainFault</td>\n",
       "      <td>fault</td>\n",
       "      <td>1</td>\n",
       "      <td>True</td>\n",
       "    </tr>\n",
       "  </tbody>\n",
       "</table>\n",
       "</div>"
      ],
      "text/plain": [
       "        X       Y       Z  formation series  order_series  isFault\n",
       "0   800.0  1000.0 -1600.0  MainFault  fault             1     True\n",
       "1  1200.0  1000.0  -400.0  MainFault  fault             1     True\n",
       "2  1100.0  1000.0  -700.0  MainFault  fault             1     True\n",
       "3   900.0  1000.0 -1300.0  MainFault  fault             1     True\n",
       "4  1000.0  1000.0 -1000.0  MainFault  fault             1     True"
      ]
     },
     "execution_count": 3,
     "metadata": {},
     "output_type": "execute_result"
    }
   ],
   "source": [
    "geo_data.interfaces.head()"
   ]
  },
  {
   "cell_type": "code",
   "execution_count": 4,
   "metadata": {},
   "outputs": [
    {
     "data": {
      "text/plain": [
       "<gempy.Visualization.PlotData at 0x7f5596963198>"
      ]
     },
     "execution_count": 4,
     "metadata": {},
     "output_type": "execute_result"
    },
    {
     "data": {
      "image/png": "[encoded data removed]",
      "text/plain": [
       "<matplotlib.figure.Figure at 0x7f5517d00278>"
      ]
     },
     "metadata": {},
     "output_type": "display_data"
    }
   ],
   "source": [
    "gp.plot_data(geo_data, direction='y')"
   ]
  },
  {
   "cell_type": "code",
   "execution_count": 5,
   "metadata": {},
   "outputs": [],
   "source": [
    "# stdev for x,y,z interface coordinates\n",
    "geo_data.interfaces['X_std'] = None\n",
    "geo_data.interfaces['Y_std'] = None\n",
    "geo_data.interfaces['Z_std'] = 100\n",
    "geo_data.interfaces['dist_type'] = \"Normal\" # should be initially None\n",
    "geo_data.interfaces['X_dist'] = None\n",
    "geo_data.interfaces['Y_dist'] = None\n",
    "geo_data.interfaces['Z_dist'] = None\n",
    "\n",
    "#geo_data.foliations['X_std'] = None\n",
    "#geo_data.foliations['Y_std'] = 0\n",
    "#geo_data.foliations['Z_std'] = 0"
   ]
  },
  {
   "cell_type": "code",
   "execution_count": 6,
   "metadata": {},
   "outputs": [],
   "source": [
    "geo_data.interfaces[\"Z_std\"] = 500"
   ]
  },
  {
   "cell_type": "code",
   "execution_count": 7,
   "metadata": {},
   "outputs": [
    {
     "name": "stdout",
     "output_type": "stream",
     "text": [
      "I am in the setting\n",
      "float32\n",
      "I am here\n",
      "[2, 2]\n"
     ]
    }
   ],
   "source": [
    "interp_data = gp.InterpolatorInput(geo_data, \n",
    "                                   u_grade = [3, 3],\n",
    "                                   compile_theano=True)"
   ]
  },
  {
   "cell_type": "code",
   "execution_count": 8,
   "metadata": {},
   "outputs": [
    {
     "name": "stdout",
     "output_type": "stream",
     "text": [
      "[3, 3]\n"
     ]
    }
   ],
   "source": [
    "sol = gp.compute_model(interp_data)"
   ]
  },
  {
   "cell_type": "markdown",
   "metadata": {},
   "source": [
    "adding dataframe columns for uncertainty analysis"
   ]
  },
  {
   "cell_type": "markdown",
   "metadata": {},
   "source": [
    "### Create pymc.Distribution objects for each stochastic value and put into df"
   ]
  },
  {
   "cell_type": "code",
   "execution_count": 14,
   "metadata": {
    "code_folding": []
   },
   "outputs": [],
   "source": [
    "# def create_priors(data, data_ref):\n",
    "#     \"\"\"\n",
    "#     data = interp_data.interpolator.pandas_rest_layer_points\n",
    "#     data_ref = interp_data.interpolator.ref_layer_points\n",
    "#     \"\"\"\n",
    "#     X_priors = np.array([])\n",
    "#     Y_priors = np.array([])\n",
    "#     Z_priors = np.array([])\n",
    "\n",
    "#     # iterate over dataframe\n",
    "#     for i, row in data.T.iteritems():\n",
    "#         if math.isnan(row[\"X_std\"]):\n",
    "#             X_priors = np.append(X_priors, row[\"X\"])\n",
    "#         else:\n",
    "#             dist = pymc.Normal(\"X_\" + str(i), row[\"X\"], 1 / row[\"X_std\"] ** 2)\n",
    "#             X_priors = np.append(X_priors, dist)\n",
    "\n",
    "#         if math.isnan(row[\"Y_std\"]):\n",
    "#             Y_priors = np.append(Y_priors, row[\"Y\"])\n",
    "#         else:\n",
    "#             dist = pymc.Normal(\"Y_\" + str(i), row[\"Y\"], 1 / row[\"Y_std\"] ** 2)\n",
    "#             Y_priors = np.append(Y_priors, dist)\n",
    "\n",
    "#         if math.isnan(row[\"Z_std\"]):\n",
    "#             Z_priors = np.append(Z_priors, row[\"Z\"])\n",
    "#         else:\n",
    "#             dist = pymc.Normal(\"Z_\" + str(i), row[\"Z\"], 1 / row[\"Z_std\"] ** 2)\n",
    "#             Z_priors = np.append(Z_priors, dist)\n",
    "    \n",
    "#     # ///////////////////////////////////////////////////////////////////////////////////\n",
    "#     # take care of ref values\n",
    "#     for fmt in np.unique(data[\"formation\"].values):\n",
    "#         f = np.where(data[\"formation\"].values == fmt)[0]\n",
    "#         #print(fmt+\":\",f)\n",
    "#         #print(ref_z[f[0]:f[-1]+1])\n",
    "#         data_ref[:,0][f[0]:f[-1]+1] = X_priors[f[0]]\n",
    "#         data_ref[:,1][f[0]:f[-1]+1] = Y_priors[f[0]]\n",
    "#         data_ref[:,2][f[0]:f[-1]+1] = Z_priors[f[0]]\n",
    "    \n",
    "#     # ///////////////////////////////////////////////////////////////////////////////////\n",
    "#     return X_priors, Y_priors, Z_priors, data_ref  #, index"
   ]
  },
  {
   "cell_type": "code",
   "execution_count": 15,
   "metadata": {},
   "outputs": [],
   "source": [
    "# X_priors, Y_priors, Z_priors, data_ref = create_priors(interp_data.interpolator.pandas_rest_layer_points, interp_data.interpolator.ref_layer_points)"
   ]
  },
  {
   "cell_type": "markdown",
   "metadata": {},
   "source": [
    "### Create pymc.Model"
   ]
  },
  {
   "cell_type": "code",
   "execution_count": null,
   "metadata": {},
   "outputs": [
    {
     "name": "stdout",
     "output_type": "stream",
     "text": [
      "[3, 3]\n",
      "[ 0.57728528  0.61724461  0.80699255  0.14351529  0.19571524  0.27359596\n",
      "  0.10882381  0.61704877  0.5887598   0.35015698  0.49871974  0.3627911\n",
      "  0.37365318  0.78250426  0.04102793  0.95016949  0.63627125  0.7518359\n",
      "  0.47729116  0.50643691  0.39287393  0.64445192  0.77556823  0.3929568\n",
      "  0.44532401  0.7608251   0.25510512  0.27652353  0.44684761  0.47614468\n",
      "  1.00114623  0.74206441  1.06929816  0.43818562]\n"
     ]
    }
   ],
   "source": [
    "Z_rest = pymc.Normal('Z_unc_rest',  interp_data.interpolator.pandas_rest_layer_points['Z'].as_matrix().astype('float32'),\n",
    "           1./interp_data.interpolator.pandas_rest_layer_points['Z_std'].as_matrix().astype('float32'))\n",
    "\n",
    "Z_ref = pymc.Normal('Z_unc_ref',  interp_data.interpolator.pandas_ref_layer_points['Z'].as_matrix().astype('float32'),\n",
    "           1./interp_data.interpolator.pandas_ref_layer_points['Z_std'].as_matrix().astype('float32'))\n",
    "\n",
    "i = interp_data.get_input_data()\n",
    "\n",
    "@pymc.deterministic\n",
    "def gempy_model(value=0, input_ =  i, Z_rest_m = Z_rest, Z_ref_m = Z_ref):\n",
    "          #xp = X_priors, yp = Y_priors, zp = Z_priors, ref = data_ref):\n",
    "    \n",
    "    # set data to fixed and/or prior draws\n",
    "    #interp_data.interpolator.pandas_rest_layer_points[\"X\"] = xp\n",
    "    #interp_data.interpolator.pandas_rest_layer_points[\"Y\"] = yp\n",
    "    #interp_data.interpolator.pandas_rest_layer_points[\"Z\"] = zp\n",
    "    # set ref values accordingly\n",
    "    #interp_data.interpolator.ref_layer_points = data_ref\n",
    "    # print(interp_data.interpolator.pandas_rest_layer_points[\"Z\"].values)\n",
    "    # compute model\n",
    "    #print(input_)\n",
    "    \n",
    "    \n",
    "    print(Z_rest_m)\n",
    "    input_[4][:, 2] = Z_ref_m\n",
    "    input_[5][:, 2] = Z_rest_m\n",
    "    \n",
    "    sol = interp_data.th_fn(*input_)\n",
    "    print(sol[0,0,:].sum())\n",
    "    # return solution\n",
    "    return sol"
   ]
  },
  {
   "cell_type": "code",
   "execution_count": 32,
   "metadata": {},
   "outputs": [],
   "source": [
    "# set number of iterations\n",
    "iterations = 10"
   ]
  },
  {
   "cell_type": "code",
   "execution_count": 46,
   "metadata": {},
   "outputs": [],
   "source": [
    "# params = []\n",
    "# for p in X_priors:\n",
    "#     if type(p) != np.float64:\n",
    "#         params.append(p)\n",
    "# for p in Y_priors:\n",
    "#     if type(p) != np.float64:\n",
    "#         params.append(p)\n",
    "# for p in Z_priors:\n",
    "#     if type(p) != np.float64:\n",
    "#         params.append(p)\n",
    "# params.append(gempy_model)\n",
    "\n",
    "# set model\n",
    "pymc_model = pymc.Model(Z_ref, Z_rest, gempy_model)"
   ]
  },
  {
   "cell_type": "markdown",
   "metadata": {},
   "source": [
    "### MCFS"
   ]
  },
  {
   "cell_type": "code",
   "execution_count": 47,
   "metadata": {},
   "outputs": [
    {
     "name": "stdout",
     "output_type": "stream",
     "text": [
      "[ 0.50824911  0.52304404  0.47968816  1.48400291  0.19591368  0.12159001\n",
      "  0.31993469  0.52355802  0.84217959  0.97343923  0.05558474  0.24931155\n",
      "  0.43928538  0.60183283  0.47737269  0.30060655  0.25921237  0.96598702\n",
      "  0.64816486  0.45481204  0.09963733  1.07518811  0.37568034  0.30193841\n",
      "  1.07027548  0.67914637  0.36619024  0.97829326  0.47592809  0.64834739\n",
      "  0.33856895  0.24597525 -0.16535583  0.2119532 ]\n",
      "235299.0\n",
      " [-------          20%                  ] 2 of 10 complete in 2.1 sec[ 0.79399276  0.72294611  0.25936813  0.44018987  0.50775865  0.88579596\n",
      "  0.12767651  0.80934262  0.47705568  0.6902525   0.61245729  0.80717615\n",
      "  0.29727516  0.69384809 -0.113679    1.25214188  0.61645707  0.04446764\n",
      "  0.0646411   1.06148822 -0.09150041 -0.50148713 -0.46340191  0.67982218\n",
      "  0.95656464  0.50172423  0.45391556 -0.48155822  0.30770022  0.1740999\n",
      "  0.30816556  0.92573777  0.42846736  0.66107576]\n",
      "332796.0\n",
      " [-----------      30%                  ] 3 of 10 complete in 4.0 sec[ 1.10141496  0.47625459  0.74374248  0.99780379 -0.10481402  0.27093447\n",
      "  0.35834066  0.49040156  0.31983227  0.18749653  0.49556896 -0.03923138\n",
      "  0.87707417  1.0459368  -0.07079265  0.88239155 -0.18795658  0.98160313\n",
      "  0.67641209  0.8263834   0.89417518  0.84867312  0.9683448   0.47511141\n",
      "  0.40361195  0.81950616  0.7424288   0.71078526 -0.07246404  0.32730922\n",
      "  0.1377124   0.12516037  0.92231966  0.28681332]\n",
      "230169.0\n",
      " [---------------  40%                  ] 4 of 10 complete in 6.0 sec[ 0.36913917  1.01495145  0.57530751 -0.25744586  0.90786714  0.62342994\n",
      "  0.87987653  0.32768874  0.11657307  0.13599875  0.49623418  0.44745044\n",
      "  0.32768473  0.32149949  0.81710978 -0.04854572  0.8661446   0.27092128\n",
      "  1.03287525  1.10228266  0.12586956  0.10050135  0.40644651  0.78503872\n",
      "  0.39222704  1.1763363  -0.07075745  0.23718851  0.21052568  0.08641836\n",
      "  0.71605655  0.42676675  0.32107921  0.52684848]\n",
      "175440.0\n",
      " [-----------------50%                  ] 5 of 10 complete in 7.9 sec[ 1.12159337  0.54475594 -0.07889392  0.20957375  0.06386422  0.8853307\n",
      " -0.1379733   0.30484679  0.62327738  0.83288575  0.1866398   0.72885643\n",
      "  0.39410597  0.65776877 -0.13277579  0.26606732 -0.08595662  0.86978701\n",
      "  0.0767493   0.30401674  1.25069329  0.35708776  0.99664524  0.98932703\n",
      "  1.00563957  0.40820699  0.41224656  0.64373851  0.34966301 -0.05156352\n",
      "  0.26062917 -0.15848749  0.49843183  0.7923573 ]\n",
      "267279.0\n",
      " [-----------------60%--                ] 6 of 10 complete in 9.8 sec[ 0.23578199  0.52106211  0.09332556  0.38866056  0.75565936  0.82184115\n",
      "  0.45931581  0.29728421  0.64705177  0.30029024  0.09494498  0.65831871\n",
      "  0.33879337  0.51820366 -0.01239726  0.12793194  0.54496186  0.64850002\n",
      "  0.68976308  0.5000788   0.54744148  0.06111482  0.98749473  0.54610045\n",
      "  0.6151585   0.41468652  0.94256038  0.9784671   0.19792652  0.54241042\n",
      "  0.68688092 -0.26113544  0.36316267  0.07526467]\n",
      "240377.0\n",
      " [-----------------70%------            ] 7 of 10 complete in 11.8 sec[ 0.42258901  0.65703783  0.62879948  0.52341084  0.95337348  1.03600433\n",
      "  0.27715021  0.36199904  0.38242292  0.85563829  0.56278526  0.38391138\n",
      "  0.42328846  1.16450421  0.25529812  0.57542448  0.35484656  1.04666489\n",
      "  0.13390256  0.91942193  0.67239551  0.33370478  1.06170904  0.40235184\n",
      "  0.5112183   0.55633004  0.38807663  0.73501745 -0.0868735  -0.51286328\n",
      " -0.05519939  0.93030985  1.00534406  0.45269068]\n",
      "250636.0\n",
      " [-----------------80%----------        ] 8 of 10 complete in 13.7 sec[ 0.34829841  0.50097981  0.76961978  0.89282465  0.35593091  0.2981231\n",
      "  0.77528658  0.38579802  0.37692869  0.43382341  0.55979797  0.80639582\n",
      "  0.41918831  0.44201014  1.14713139  0.81125387  0.47448999  0.43798619\n",
      "  0.98423423 -0.08679326  0.26583821  0.70840922  0.40575611  0.75436761\n",
      "  1.05492319  1.13116788  0.89762817  0.31660838 -0.27380813  0.33677092\n",
      "  0.5426455  -0.0964817   0.18849686  0.94978691]\n",
      "306495.0\n",
      " [-----------------90%--------------    ] 9 of 10 complete in 15.8 sec[ 0.83336114  0.37346264 -0.13260026  0.72001065  0.61993635  0.30314743\n",
      "  0.86256781  0.1720623   0.56985929  0.53727514  0.42539558  0.89663304\n",
      "  0.11911212  0.42883172  0.46012326  0.60723582  0.19616524  0.32587112\n",
      "  0.11088188  0.40977388  0.70310357  0.41841733  0.68450781  0.57017987\n",
      " -0.14981026 -0.0952782   0.57086838  0.43687066  0.05942949  1.21029633\n",
      "  0.46235179  0.56367391  0.10737669  0.25688896]\n",
      "243552.0\n",
      " [-----------------100%-----------------] 10 of 10 complete in 17.7 sec[ 0.54674411  0.53303828 -0.04206074  0.26576713  0.90392307  0.24284521\n",
      " -0.32720728  0.66926294  0.42261439 -0.03310796 -0.00388844 -0.14558929\n",
      "  0.72552862 -0.53214835  0.40140398  0.10946079  1.15711366  0.41547301\n",
      "  0.36615046  0.50693459  0.97222982  0.52378365  0.4427995   0.92751093\n",
      "  0.59070002  0.61177216  0.87330766  0.31493401  0.31612004  0.05209345\n",
      "  0.55494642  0.08023514  0.77906529  0.32873507]\n",
      "252195.0\n",
      " [------------------110%-------------------] 11 of 10 complete in 19.6 sec"
     ]
    }
   ],
   "source": [
    "MCFS_RUN = pymc.MCMC(pymc_model)\n",
    "MCFS_RUN.sample(iter=iterations)"
   ]
  },
  {
   "cell_type": "code",
   "execution_count": 48,
   "metadata": {},
   "outputs": [],
   "source": [
    "import matplotlib.pyplot as plt"
   ]
  },
  {
   "cell_type": "code",
   "execution_count": 49,
   "metadata": {},
   "outputs": [],
   "source": [
    "from ipywidgets import interact, interactive, fixed, interact_manual\n",
    "import ipywidgets as widgets"
   ]
  },
  {
   "cell_type": "code",
   "execution_count": 50,
   "metadata": {},
   "outputs": [],
   "source": [
    "def p(i):\n",
    "    ax.imshow(MCFS_RUN.trace(\"gempy_model\", chain=-1)[i][0, 0, :].reshape(50,50,50)[:,24,:].T, origin=\"lower\")"
   ]
  },
  {
   "cell_type": "code",
   "execution_count": 51,
   "metadata": {},
   "outputs": [
    {
     "data": {
      "application/vnd.jupyter.widget-view+json": {
       "model_id": "046012a9436845c694377423985f7ff8"
      }
     },
     "metadata": {},
     "output_type": "display_data"
    },
    {
     "data": {
      "image/png": "[encoded data removed]",
      "text/plain": [
       "<matplotlib.figure.Figure at 0x7f54fb733748>"
      ]
     },
     "metadata": {},
     "output_type": "display_data"
    }
   ],
   "source": [
    "fig, ax = plt.subplots()\n",
    "interact(p, i=widgets.IntSlider(min=0, max=9, step=1, value=0));"
   ]
  },
  {
   "cell_type": "code",
   "execution_count": 53,
   "metadata": {},
   "outputs": [
    {
     "data": {
      "text/plain": [
       "<matplotlib.image.AxesImage at 0x7f54fac935c0>"
      ]
     },
     "execution_count": 53,
     "metadata": {},
     "output_type": "execute_result"
    },
    {
     "data": {
      "image/png": "[encoded data removed]",
      "text/plain": [
       "<matplotlib.figure.Figure at 0x7f54fb9c6a90>"
      ]
     },
     "metadata": {},
     "output_type": "display_data"
    }
   ],
   "source": [
    "plt.imshow(MCFS_RUN.trace(\"gempy_model\", chain=-1)[2][0, 0, :].reshape(50,50,50)[:,24,:].T, origin=\"lower\")"
   ]
  },
  {
   "cell_type": "code",
   "execution_count": null,
   "metadata": {
    "collapsed": true
   },
   "outputs": [],
   "source": []
  }
 ],
 "metadata": {
  "kernelspec": {
   "display_name": "Python 3",
   "language": "python",
   "name": "python3"
  },
  "language_info": {
   "codemirror_mode": {
    "name": "ipython",
    "version": 3
   },
   "file_extension": ".py",
   "mimetype": "text/x-python",
   "name": "python",
   "nbconvert_exporter": "python",
   "pygments_lexer": "ipython3",
   "version": "3.6.1"
  },
  "latex_envs": {
   "LaTeX_envs_menu_present": true,
   "autocomplete": true,
   "bibliofile": "biblio.bib",
   "cite_by": "apalike",
   "current_citInitial": 1,
   "eqLabelWithNumbers": true,
   "eqNumInitial": 1,
   "hotkeys": {
    "equation": "Ctrl-E",
    "itemize": "Ctrl-I"
   },
   "labels_anchors": false,
   "latex_user_defs": false,
   "report_style_numbering": false,
   "user_envs_cfg": false
  },
  "toc": {
   "colors": {
    "hover_highlight": "#DAA520",
    "running_highlight": "#FF0000",
    "selected_highlight": "#FFD700"
   },
   "moveMenuLeft": true,
   "nav_menu": {
    "height": "99px",
    "width": "252px"
   },
   "navigate_menu": true,
   "number_sections": true,
   "sideBar": true,
   "threshold": 4,
   "toc_cell": false,
   "toc_section_display": "block",
   "toc_window_display": false,
   "widenNotebook": false
  }
 },
 "nbformat": 4,
 "nbformat_minor": 2
}
