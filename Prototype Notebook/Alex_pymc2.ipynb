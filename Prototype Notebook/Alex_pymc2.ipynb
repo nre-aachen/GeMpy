{
 "cells": [
  {
   "cell_type": "markdown",
   "metadata": {},
   "source": [
    "# GeMpy"
   ]
  },
  {
   "cell_type": "code",
   "execution_count": 1,
   "metadata": {},
   "outputs": [],
   "source": [
    "import sys\n",
    "sys.path.append(\"../\")\n",
    "import gempy as gp\n",
    "\n",
    "%matplotlib inline\n",
    "import pymc\n",
    "import numpy as np\n",
    "import math"
   ]
  },
  {
   "cell_type": "code",
   "execution_count": 2,
   "metadata": {},
   "outputs": [],
   "source": [
    "geo_data = gp.read_pickle(\"../input_data/BasicFault.pickle\")\n",
    "geo_data.n_faults = 1"
   ]
  },
  {
   "cell_type": "code",
   "execution_count": 3,
   "metadata": {},
   "outputs": [
    {
     "data": {
      "text/html": [
       "<div>\n",
       "<style>\n",
       "    .dataframe thead tr:only-child th {\n",
       "        text-align: right;\n",
       "    }\n",
       "\n",
       "    .dataframe thead th {\n",
       "        text-align: left;\n",
       "    }\n",
       "\n",
       "    .dataframe tbody tr th {\n",
       "        vertical-align: top;\n",
       "    }\n",
       "</style>\n",
       "<table border=\"1\" class=\"dataframe\">\n",
       "  <thead>\n",
       "    <tr style=\"text-align: right;\">\n",
       "      <th></th>\n",
       "      <th>X</th>\n",
       "      <th>Y</th>\n",
       "      <th>Z</th>\n",
       "      <th>formation</th>\n",
       "      <th>series</th>\n",
       "      <th>order_series</th>\n",
       "      <th>isFault</th>\n",
       "    </tr>\n",
       "  </thead>\n",
       "  <tbody>\n",
       "    <tr>\n",
       "      <th>0</th>\n",
       "      <td>800.0</td>\n",
       "      <td>1000.0</td>\n",
       "      <td>-1600.0</td>\n",
       "      <td>MainFault</td>\n",
       "      <td>fault</td>\n",
       "      <td>1</td>\n",
       "      <td>True</td>\n",
       "    </tr>\n",
       "    <tr>\n",
       "      <th>1</th>\n",
       "      <td>1200.0</td>\n",
       "      <td>1000.0</td>\n",
       "      <td>-400.0</td>\n",
       "      <td>MainFault</td>\n",
       "      <td>fault</td>\n",
       "      <td>1</td>\n",
       "      <td>True</td>\n",
       "    </tr>\n",
       "    <tr>\n",
       "      <th>2</th>\n",
       "      <td>1100.0</td>\n",
       "      <td>1000.0</td>\n",
       "      <td>-700.0</td>\n",
       "      <td>MainFault</td>\n",
       "      <td>fault</td>\n",
       "      <td>1</td>\n",
       "      <td>True</td>\n",
       "    </tr>\n",
       "    <tr>\n",
       "      <th>3</th>\n",
       "      <td>900.0</td>\n",
       "      <td>1000.0</td>\n",
       "      <td>-1300.0</td>\n",
       "      <td>MainFault</td>\n",
       "      <td>fault</td>\n",
       "      <td>1</td>\n",
       "      <td>True</td>\n",
       "    </tr>\n",
       "    <tr>\n",
       "      <th>4</th>\n",
       "      <td>1000.0</td>\n",
       "      <td>1000.0</td>\n",
       "      <td>-1000.0</td>\n",
       "      <td>MainFault</td>\n",
       "      <td>fault</td>\n",
       "      <td>1</td>\n",
       "      <td>True</td>\n",
       "    </tr>\n",
       "  </tbody>\n",
       "</table>\n",
       "</div>"
      ],
      "text/plain": [
       "        X       Y       Z  formation series  order_series  isFault\n",
       "0   800.0  1000.0 -1600.0  MainFault  fault             1     True\n",
       "1  1200.0  1000.0  -400.0  MainFault  fault             1     True\n",
       "2  1100.0  1000.0  -700.0  MainFault  fault             1     True\n",
       "3   900.0  1000.0 -1300.0  MainFault  fault             1     True\n",
       "4  1000.0  1000.0 -1000.0  MainFault  fault             1     True"
      ]
     },
     "execution_count": 3,
     "metadata": {},
     "output_type": "execute_result"
    }
   ],
   "source": [
    "geo_data.interfaces.head()"
   ]
  },
  {
   "cell_type": "code",
   "execution_count": 4,
   "metadata": {},
   "outputs": [
    {
     "data": {
      "text/plain": [
       "<gempy.Visualization.PlotData at 0x7f5596963198>"
      ]
     },
     "execution_count": 4,
     "metadata": {},
     "output_type": "execute_result"
    },
    {
     "data": {
      "image/png": "[encoded data removed]",
      "text/plain": [
       "<matplotlib.figure.Figure at 0x7f5517d00278>"
      ]
     },
     "metadata": {},
     "output_type": "display_data"
    }
   ],
   "source": [
    "gp.plot_data(geo_data, direction='y')"
   ]
  },
  {
   "cell_type": "code",
   "execution_count": 5,
   "metadata": {},
   "outputs": [],
   "source": [
    "# stdev for x,y,z interface coordinates\n",
    "geo_data.interfaces['X_std'] = None\n",
    "geo_data.interfaces['Y_std'] = None\n",
    "geo_data.interfaces['Z_std'] = 100\n",
    "geo_data.interfaces['dist_type'] = \"Normal\" # should be initially None\n",
    "geo_data.interfaces['X_dist'] = None\n",
    "geo_data.interfaces['Y_dist'] = None\n",
    "geo_data.interfaces['Z_dist'] = None\n",
    "\n",
    "#geo_data.foliations['X_std'] = None\n",
    "#geo_data.foliations['Y_std'] = 0\n",
    "#geo_data.foliations['Z_std'] = 0"
   ]
  },
  {
   "cell_type": "code",
   "execution_count": 6,
   "metadata": {},
   "outputs": [],
   "source": [
    "geo_data.interfaces[\"Z_std\"] = 500"
   ]
  },
  {
   "cell_type": "code",
   "execution_count": 7,
   "metadata": {},
   "outputs": [
    {
     "name": "stdout",
     "output_type": "stream",
     "text": [
      "I am in the setting\n",
      "float32\n",
      "I am here\n",
      "[2, 2]\n"
     ]
    }
   ],
   "source": [
    "interp_data = gp.InterpolatorInput(geo_data, \n",
    "                                   u_grade = [3, 3],\n",
    "                                   compile_theano=True)"
   ]
  },
  {
   "cell_type": "code",
   "execution_count": 8,
   "metadata": {},
   "outputs": [
    {
     "name": "stdout",
     "output_type": "stream",
     "text": [
      "[3, 3]\n"
     ]
    }
   ],
   "source": [
    "sol = gp.compute_model(interp_data)"
   ]
  },
  {
   "cell_type": "code",
   "execution_count": null,
   "metadata": {
    "collapsed": true
   },
   "outputs": [],
   "source": []
  },
  {
   "cell_type": "markdown",
   "metadata": {},
   "source": [
    "adding dataframe columns for uncertainty analysis"
   ]
  },
  {
   "cell_type": "markdown",
   "metadata": {},
   "source": [
    "### Create pymc.Distribution objects for each stochastic value and put into df"
   ]
  },
  {
   "cell_type": "code",
   "execution_count": 14,
   "metadata": {
    "code_folding": [
     0
    ]
   },
   "outputs": [],
   "source": [
    "def create_priors(data, data_ref):\n",
    "    \"\"\"\n",
    "    data = interp_data.interpolator.pandas_rest_layer_points\n",
    "    data_ref = interp_data.interpolator.ref_layer_points\n",
    "    \"\"\"\n",
    "    X_priors = np.array([])\n",
    "    Y_priors = np.array([])\n",
    "    Z_priors = np.array([])\n",
    "\n",
    "    # iterate over dataframe\n",
    "    for i, row in data.T.iteritems():\n",
    "        if math.isnan(row[\"X_std\"]):\n",
    "            X_priors = np.append(X_priors, row[\"X\"])\n",
    "        else:\n",
    "            dist = pymc.Normal(\"X_\" + str(i), row[\"X\"], 1 / row[\"X_std\"] ** 2)\n",
    "            X_priors = np.append(X_priors, dist)\n",
    "\n",
    "        if math.isnan(row[\"Y_std\"]):\n",
    "            Y_priors = np.append(Y_priors, row[\"Y\"])\n",
    "        else:\n",
    "            dist = pymc.Normal(\"Y_\" + str(i), row[\"Y\"], 1 / row[\"Y_std\"] ** 2)\n",
    "            Y_priors = np.append(Y_priors, dist)\n",
    "\n",
    "        if math.isnan(row[\"Z_std\"]):\n",
    "            Z_priors = np.append(Z_priors, row[\"Z\"])\n",
    "        else:\n",
    "            dist = pymc.Normal(\"Z_\" + str(i), row[\"Z\"], 1 / row[\"Z_std\"] ** 2)\n",
    "            Z_priors = np.append(Z_priors, dist)\n",
    "    \n",
    "    # ///////////////////////////////////////////////////////////////////////////////////\n",
    "    # take care of ref values\n",
    "    for fmt in np.unique(data[\"formation\"].values):\n",
    "        f = np.where(data[\"formation\"].values == fmt)[0]\n",
    "        #print(fmt+\":\",f)\n",
    "        #print(ref_z[f[0]:f[-1]+1])\n",
    "        data_ref[:,0][f[0]:f[-1]+1] = X_priors[f[0]]\n",
    "        data_ref[:,1][f[0]:f[-1]+1] = Y_priors[f[0]]\n",
    "        data_ref[:,2][f[0]:f[-1]+1] = Z_priors[f[0]]\n",
    "    \n",
    "    # ///////////////////////////////////////////////////////////////////////////////////\n",
    "    return X_priors, Y_priors, Z_priors, data_ref  #, index"
   ]
  },
  {
   "cell_type": "code",
   "execution_count": 15,
   "metadata": {},
   "outputs": [],
   "source": [
    "X_priors, Y_priors, Z_priors, data_ref = create_priors(interp_data.interpolator.pandas_rest_layer_points, interp_data.interpolator.ref_layer_points)"
   ]
  },
  {
   "cell_type": "markdown",
   "metadata": {},
   "source": [
    "### Create pymc.Model"
   ]
  },
  {
   "cell_type": "code",
   "execution_count": 13,
   "metadata": {},
   "outputs": [],
   "source": [
    "Z_rest = pymc.Normal('Z_unc',  interp_data.interpolator.pandas_rest_layer_points['Z'].as_matrix().astype('float32'),\n",
    "           1./interp_data.interpolator.pandas_rest_layer_points['Z_std'].as_matrix().astype('float32'))\n",
    "\n",
    "Z_ref = pymc.Normal('Z_unc',  interp_data.interpolator.pandas_ref_layer_points['Z'].as_matrix().astype('float32'),\n",
    "           1./interp_data.interpolator.pandas_ref_layer_points['Z_std'].as_matrix().astype('float32'))"
   ]
  },
  {
   "cell_type": "code",
   "execution_count": 14,
   "metadata": {},
   "outputs": [
    {
     "name": "stdout",
     "output_type": "stream",
     "text": [
      "[3, 3]\n"
     ]
    }
   ],
   "source": [
    "i = interp_data.get_input_data()"
   ]
  },
  {
   "cell_type": "code",
   "execution_count": 15,
   "metadata": {
    "scrolled": false
   },
   "outputs": [
    {
     "name": "stdout",
     "output_type": "stream",
     "text": [
      "[-0.07882348  0.1816738   0.65331517  0.3198098   0.60544731  0.38470313\n",
      "  0.62108657  0.57610506  0.22367794  0.24177635  0.60528518  1.15988415\n",
      "  0.40820467  0.69040109  0.59663142  0.82711956  0.90117814  0.68267933\n",
      "  0.43564997  0.64687274  0.69874035 -0.18489831  0.42275629 -0.23127259\n",
      "  0.31045478  0.4224224   0.70844848  0.1256047   0.08316921  0.60441598\n",
      "  0.25736579 -0.0444082   1.09588699  0.54188184]\n"
     ]
    }
   ],
   "source": [
    "@pymc.deterministic\n",
    "def gempy_model(value=0, input_ =  i, Z_rest_m = Z_rest, Z_ref_m = Z_ref):\n",
    "          #xp = X_priors, yp = Y_priors, zp = Z_priors, ref = data_ref):\n",
    "    \n",
    "    # set data to fixed and/or prior draws\n",
    "    #interp_data.interpolator.pandas_rest_layer_points[\"X\"] = xp\n",
    "    #interp_data.interpolator.pandas_rest_layer_points[\"Y\"] = yp\n",
    "    #interp_data.interpolator.pandas_rest_layer_points[\"Z\"] = zp\n",
    "    # set ref values accordingly\n",
    "    #interp_data.interpolator.ref_layer_points = data_ref\n",
    "    # print(interp_data.interpolator.pandas_rest_layer_points[\"Z\"].values)\n",
    "    # compute model\n",
    "    #print(input_)\n",
    "    print(Z_rest_m)\n",
    "    i[4][:, 2] = Z_ref_m\n",
    "    i[5][:, 2] = Z_rest_m\n",
    "    \n",
    "    sol = interp_data.th_fn(*input_)\n",
    "    # return solution\n",
    "    return sol"
   ]
  },
  {
   "cell_type": "code",
   "execution_count": 137,
   "metadata": {},
   "outputs": [],
   "source": [
    "# set number of iterations\n",
    "iterations = 10"
   ]
  },
  {
   "cell_type": "code",
   "execution_count": 138,
   "metadata": {},
   "outputs": [],
   "source": [
    "# params = []\n",
    "# for p in X_priors:\n",
    "#     if type(p) != np.float64:\n",
    "#         params.append(p)\n",
    "# for p in Y_priors:\n",
    "#     if type(p) != np.float64:\n",
    "#         params.append(p)\n",
    "# for p in Z_priors:\n",
    "#     if type(p) != np.float64:\n",
    "#         params.append(p)\n",
    "# params.append(gempy_model)\n",
    "\n",
    "# set model\n",
    "pymc_model = pymc.Model(Z_ref, Z_rest, gempy_model)"
   ]
  },
  {
   "cell_type": "markdown",
   "metadata": {},
   "source": [
    "### MCFS"
   ]
  },
  {
   "cell_type": "code",
   "execution_count": 139,
   "metadata": {},
   "outputs": [
    {
     "name": "stdout",
     "output_type": "stream",
     "text": [
      "[ 0.65393005  0.57723444  0.42315912  0.50004208  0.42942778  0.42288035\n",
      "  0.47429265  0.48727626  0.44889721  0.43580528  0.48723212  0.47438269\n",
      "  0.48702199  0.47432585  0.39742204  0.39768321  0.48735782  0.61557094\n",
      "  0.60276405  0.55126327  0.57711512  0.55778166  0.57703897  0.55139665\n",
      "  0.52569559  0.53214252  0.56410341  0.4360976   0.35269061  0.39757722\n",
      "  0.37196363  0.35895766  0.42331713  0.34633668]\n",
      " [-------          20%                  ] 2 of 10 complete in 2.1 sec[ 0.65403164  0.57692383  0.4232099   0.50013068  0.4295788   0.42317175\n",
      "  0.47441635  0.48738221  0.44885276  0.43596583  0.48722692  0.47444814\n",
      "  0.48732716  0.47442162  0.3975909   0.39768611  0.48724338  0.61552686\n",
      "  0.60266195  0.55124522  0.57699373  0.55774242  0.5770234   0.5513124\n",
      "  0.52558966  0.53211239  0.56424934  0.43600582  0.35296228  0.39742366\n",
      "  0.37205092  0.35897778  0.42307689  0.34619627]\n",
      " [-----------      30%                  ] 3 of 10 complete in 4.0 sec[ 0.6538665   0.57704397  0.42323849  0.50005505  0.42975169  0.42318807\n",
      "  0.47442853  0.48746243  0.44902144  0.43594829  0.48733418  0.47440464\n",
      "  0.48736287  0.47431842  0.39754416  0.39754639  0.48733796  0.61555935\n",
      "  0.60265529  0.55143498  0.57701324  0.55781861  0.57693814  0.55150185\n",
      "  0.5256703   0.53216237  0.56418595  0.43608373  0.35248157  0.39743455\n",
      "  0.37196939  0.35901422  0.4231781   0.34613691]\n",
      " [---------------  40%                  ] 4 of 10 complete in 6.0 sec[ 0.65394106  0.57697328  0.42323426  0.5002103   0.42949676  0.42320514\n",
      "  0.47428399  0.48726349  0.44885063  0.43593345  0.48735284  0.4745352\n",
      "  0.487371    0.47448688  0.39757083  0.397702    0.48715253  0.61554473\n",
      "  0.60256774  0.55152302  0.57703499  0.5578454   0.57689242  0.55148344\n",
      "  0.52577587  0.5320864   0.56428862  0.43604727  0.35277755  0.39743433\n",
      "  0.3719269   0.35906578  0.42322601  0.3462432 ]\n",
      " [-----------------50%                  ] 5 of 10 complete in 7.9 sec[ 0.65376233  0.57707764  0.42323247  0.50017071  0.42960481  0.4231191\n",
      "  0.47443936  0.48729743  0.44881223  0.43594322  0.48737079  0.4743961\n",
      "  0.48738573  0.47442831  0.39762868  0.39738234  0.48723951  0.61553625\n",
      "  0.60249722  0.55120323  0.5770398   0.55777505  0.57714939  0.55138659\n",
      "  0.52581793  0.53231524  0.56420775  0.43608036  0.35262028  0.3974658\n",
      "  0.37196662  0.35908954  0.42324519  0.34633776]\n",
      " [-----------------60%--                ] 6 of 10 complete in 9.9 sec[ 0.65402994  0.57701918  0.42324032  0.50016519  0.42965488  0.42332976\n",
      "  0.4744599   0.48724102  0.44891405  0.43604935  0.48732998  0.47450746\n",
      "  0.48723601  0.47441804  0.39744221  0.39749565  0.48732659  0.6154241\n",
      "  0.6026596   0.5513382   0.57701687  0.55773253  0.57692141  0.55134503\n",
      "  0.52575069  0.5321382   0.56410412  0.43597739  0.35269644  0.39753305\n",
      "  0.37190937  0.35912365  0.42310754  0.34622557]\n",
      " [-----------------70%------            ] 7 of 10 complete in 11.8 sec[ 0.65388833  0.57707251  0.42314642  0.499982    0.42960727  0.4232057\n",
      "  0.47440939  0.48729923  0.44883577  0.43593639  0.4873931   0.47444983\n",
      "  0.48737622  0.47440665  0.39746129  0.39757207  0.48725915  0.61550166\n",
      "  0.60264871  0.55140964  0.57691022  0.55760222  0.57687336  0.5515407\n",
      "  0.52578439  0.53217414  0.56402771  0.43590903  0.35252901  0.39758678\n",
      "  0.37169346  0.35886898  0.4232582   0.34624327]\n",
      " [-----------------80%----------        ] 8 of 10 complete in 13.9 sec[ 0.65403528  0.57713896  0.42321066  0.5001836   0.42950863  0.42336139\n",
      "  0.47455684  0.48749348  0.44879588  0.43613151  0.48728905  0.47447671\n",
      "  0.48739101  0.47449533  0.39747     0.39767122  0.48735844  0.61549568\n",
      "  0.60260046  0.55139142  0.57722329  0.55778706  0.57684962  0.55133742\n",
      "  0.52588996  0.53206192  0.56428096  0.43589294  0.35270541  0.39744288\n",
      "  0.37168356  0.35921206  0.42311607  0.34619465]\n",
      " [-----------------90%--------------    ] 9 of 10 complete in 16.0 sec[ 0.65405539  0.57708158  0.42326361  0.49994336  0.42942837  0.423147\n",
      "  0.47443084  0.48744951  0.44894973  0.43588393  0.48721495  0.4743547\n",
      "  0.48734919  0.47434275  0.39754965  0.39756838  0.48726228  0.61550552\n",
      "  0.60269319  0.55113052  0.57716285  0.55787478  0.57716186  0.5516851\n",
      "  0.52573853  0.532115    0.56440954  0.43600566  0.35257031  0.39743297\n",
      "  0.37209317  0.3590879   0.42308392  0.34616593]\n",
      " [-----------------100%-----------------] 10 of 10 complete in 18.1 sec[ 0.65393291  0.57700545  0.423192    0.50021443  0.42943604  0.42338581\n",
      "  0.47453464  0.48738177  0.44878758  0.43611364  0.48711702  0.47440725\n",
      "  0.48710753  0.47441658  0.39748111  0.39741901  0.487304    0.61541075\n",
      "  0.60266468  0.55139048  0.57713636  0.5578627   0.57689482  0.55144581\n",
      "  0.5257266   0.53243823  0.56421999  0.43590441  0.3527061   0.39748173\n",
      "  0.37182642  0.35915328  0.42327139  0.34621196]\n",
      " [------------------110%-------------------] 11 of 10 complete in 20.1 sec"
     ]
    }
   ],
   "source": [
    "MCFS_RUN = pymc.MCMC(pymc_model)\n",
    "MCFS_RUN.sample(iter=iterations)"
   ]
  },
  {
   "cell_type": "code",
   "execution_count": 127,
   "metadata": {},
   "outputs": [],
   "source": [
    "import matplotlib.pyplot as plt"
   ]
  },
  {
   "cell_type": "code",
   "execution_count": 128,
   "metadata": {},
   "outputs": [],
   "source": [
    "from ipywidgets import interact, interactive, fixed, interact_manual\n",
    "import ipywidgets as widgets"
   ]
  },
  {
   "cell_type": "code",
   "execution_count": 129,
   "metadata": {},
   "outputs": [],
   "source": [
    "def p(i):\n",
    "    ax.imshow(MCFS_RUN.trace(\"gempy_model\", chain=-1)[i][0, 0, :].reshape(50,50,50)[:,24,:].T, origin=\"lower\")"
   ]
  },
  {
   "cell_type": "code",
   "execution_count": 130,
   "metadata": {},
   "outputs": [
    {
     "data": {
      "application/vnd.jupyter.widget-view+json": {
       "model_id": "b63efa8a3bb748f6848f3fedf73c6240"
      }
     },
     "metadata": {},
     "output_type": "display_data"
    },
    {
     "data": {
      "image/png": "[encoded data removed]",
      "text/plain": [
       "<matplotlib.figure.Figure at 0x7f12d74ac198>"
      ]
     },
     "metadata": {},
     "output_type": "display_data"
    }
   ],
   "source": [
    "fig, ax = plt.subplots()\n",
    "interact(p, i=widgets.IntSlider(min=0, max=9, step=1, value=0));"
   ]
  },
  {
   "cell_type": "code",
   "execution_count": 112,
   "metadata": {},
   "outputs": [
    {
     "data": {
      "text/plain": [
       "array([[ 2.        ,  2.        ,  2.        , ...,  0.        ,\n",
       "         0.        ,  0.        ],\n",
       "       [-0.03737294, -0.03730883, -0.03726807, ..., -0.14511564,\n",
       "        -0.14736997, -0.1495508 ],\n",
       "       [ 1.        ,  1.        ,  1.        , ...,  0.        ,\n",
       "         0.        ,  0.        ]], dtype=float32)"
      ]
     },
     "execution_count": 112,
     "metadata": {},
     "output_type": "execute_result"
    }
   ],
   "source": [
    "MCFS_RUN.trace(\"gempy_model\", chain=-1)[0][0]"
   ]
  },
  {
   "cell_type": "code",
   "execution_count": 135,
   "metadata": {},
   "outputs": [
    {
     "data": {
      "text/plain": [
       "<matplotlib.image.AxesImage at 0x7f12d6e8e080>"
      ]
     },
     "execution_count": 135,
     "metadata": {},
     "output_type": "execute_result"
    },
    {
     "data": {
      "image/png": "[encoded data removed]",
      "text/plain": [
       "<matplotlib.figure.Figure at 0x7f12d6f50fd0>"
      ]
     },
     "metadata": {},
     "output_type": "display_data"
    }
   ],
   "source": [
    "plt.imshow(MCFS_RUN.trace(\"gempy_model\", chain=-1)[6][0, 0, :].reshape(50,50,50)[:,24,:].T, origin=\"lower\")"
   ]
  },
  {
   "cell_type": "code",
   "execution_count": null,
   "metadata": {
    "collapsed": true
   },
   "outputs": [],
   "source": []
  }
 ],
 "metadata": {
  "kernelspec": {
   "display_name": "Python 3",
   "language": "python",
   "name": "python3"
  },
  "language_info": {
   "codemirror_mode": {
    "name": "ipython",
    "version": 3
   },
   "file_extension": ".py",
   "mimetype": "text/x-python",
   "name": "python",
   "nbconvert_exporter": "python",
   "pygments_lexer": "ipython3",
   "version": "3.6.1"
  },
  "latex_envs": {
   "LaTeX_envs_menu_present": true,
   "autocomplete": true,
   "bibliofile": "biblio.bib",
   "cite_by": "apalike",
   "current_citInitial": 1,
   "eqLabelWithNumbers": true,
   "eqNumInitial": 1,
   "hotkeys": {
    "equation": "Ctrl-E",
    "itemize": "Ctrl-I"
   },
   "labels_anchors": false,
   "latex_user_defs": false,
   "report_style_numbering": false,
   "user_envs_cfg": false
  },
  "toc": {
   "colors": {
    "hover_highlight": "#DAA520",
    "running_highlight": "#FF0000",
    "selected_highlight": "#FFD700"
   },
   "moveMenuLeft": true,
   "nav_menu": {
    "height": "99px",
    "width": "252px"
   },
   "navigate_menu": true,
   "number_sections": true,
   "sideBar": true,
   "threshold": 4,
   "toc_cell": false,
   "toc_section_display": "block",
   "toc_window_display": false,
   "widenNotebook": false
  }
 },
 "nbformat": 4,
 "nbformat_minor": 2
}
