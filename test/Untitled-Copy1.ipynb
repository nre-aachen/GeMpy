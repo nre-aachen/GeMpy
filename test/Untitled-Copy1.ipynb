{
 "cells": [
  {
   "cell_type": "code",
   "execution_count": 1,
   "metadata": {
    "collapsed": false,
    "deletable": true,
    "editable": true,
    "run_control": {
     "marked": false
    }
   },
   "outputs": [],
   "source": [
    "# Importing\n",
    "import theano.tensor as T\n",
    "import theano\n",
    "import sys, os\n",
    "sys.path.append(\"../GeMpy\")\n",
    "\n",
    "# Importing GeMpy modules\n",
    "import GeMpy\n",
    "\n",
    "# Reloading (only for development purposes)\n",
    "import importlib\n",
    "importlib.reload(GeMpy)\n",
    "\n",
    "# Usuful packages\n",
    "import numpy as np\n",
    "import pandas as pn\n",
    "\n",
    "import matplotlib.pyplot as plt\n",
    "\n",
    "# This was to choose the gpu\n",
    "os.environ['CUDA_LAUNCH_BLOCKING'] = '1'\n",
    "\n",
    "# Default options of printin\n",
    "np.set_printoptions(precision = 6, linewidth= 130, suppress =  True)\n",
    "\n",
    "#%matplotlib inline\n",
    "%matplotlib inline"
   ]
  },
  {
   "cell_type": "code",
   "execution_count": 23,
   "metadata": {
    "collapsed": false,
    "deletable": true,
    "editable": true
   },
   "outputs": [
    {
     "data": {
      "text/html": [
       "<div>\n",
       "<table border=\"1\" class=\"dataframe\">\n",
       "  <thead>\n",
       "    <tr style=\"text-align: right;\">\n",
       "      <th></th>\n",
       "      <th>X</th>\n",
       "      <th>Y</th>\n",
       "      <th>Z</th>\n",
       "      <th>azimuth</th>\n",
       "      <th>dip</th>\n",
       "      <th>polarity</th>\n",
       "      <th>formation</th>\n",
       "      <th>series</th>\n",
       "      <th>order_series</th>\n",
       "      <th>G_x</th>\n",
       "      <th>G_y</th>\n",
       "      <th>G_z</th>\n",
       "    </tr>\n",
       "  </thead>\n",
       "  <tbody>\n",
       "    <tr>\n",
       "      <th>0</th>\n",
       "      <td>5.047732</td>\n",
       "      <td>5.012474</td>\n",
       "      <td>-5.0</td>\n",
       "      <td>90.0</td>\n",
       "      <td>0.0</td>\n",
       "      <td>1</td>\n",
       "      <td>A</td>\n",
       "      <td>Default serie</td>\n",
       "      <td>1</td>\n",
       "      <td>0.0</td>\n",
       "      <td>0.0</td>\n",
       "      <td>1.0</td>\n",
       "    </tr>\n",
       "    <tr>\n",
       "      <th>1</th>\n",
       "      <td>8.047732</td>\n",
       "      <td>5.012474</td>\n",
       "      <td>-4.0</td>\n",
       "      <td>90.0</td>\n",
       "      <td>0.0</td>\n",
       "      <td>1</td>\n",
       "      <td>A</td>\n",
       "      <td>Default serie</td>\n",
       "      <td>1</td>\n",
       "      <td>0.0</td>\n",
       "      <td>0.0</td>\n",
       "      <td>1.0</td>\n",
       "    </tr>\n",
       "  </tbody>\n",
       "</table>\n",
       "</div>"
      ],
      "text/plain": [
       "          X         Y    Z  azimuth  dip  polarity formation         series  \\\n",
       "0  5.047732  5.012474 -5.0     90.0  0.0         1         A  Default serie   \n",
       "1  8.047732  5.012474 -4.0     90.0  0.0         1         A  Default serie   \n",
       "\n",
       "   order_series  G_x  G_y  G_z  \n",
       "0             1  0.0  0.0  1.0  \n",
       "1             1  0.0  0.0  1.0  "
      ]
     },
     "execution_count": 23,
     "metadata": {},
     "output_type": "execute_result"
    }
   ],
   "source": [
    "# Importing the data from csv files and settign extent and resolution\n",
    "geo_data = GeMpy.import_data([0,10,0,10,-10, 0],[ 50, 50, 50],\n",
    "                         path_f = \"./GeoModeller/test_c/test_c_Foliations.csv\",\n",
    "                         path_i = \"./GeoModeller/test_c/test_c_Points.csv\")\n",
    "geo_data.interfaces.set_value(0, 'X', 1.5463)\n",
    "geo_data.interfaces.set_value(1, 'X', 1.5462)\n",
    "geo_data.interfaces.set_value(0, 'Z', -4.6149)\n",
    "geo_data.interfaces.set_value(1, 'Z', -4.6148)\n",
    "\n",
    "\n",
    "geo_data.interfaces = geo_data.interfaces[:2]\n",
    "\n",
    "geo_data.foliations = pn.concat([geo_data.foliations]*2)\n",
    "geo_data.foliations.reset_index(drop=True, inplace=True)\n",
    "geo_data.foliations.set_value(1, 'X', 8.04773195)\n",
    "geo_data.foliations.set_value(1, 'Z', -4)\n"
   ]
  },
  {
   "cell_type": "code",
   "execution_count": 24,
   "metadata": {
    "collapsed": false
   },
   "outputs": [
    {
     "data": {
      "text/html": [
       "<div>\n",
       "<table border=\"1\" class=\"dataframe\">\n",
       "  <thead>\n",
       "    <tr style=\"text-align: right;\">\n",
       "      <th></th>\n",
       "      <th>X</th>\n",
       "      <th>Y</th>\n",
       "      <th>Z</th>\n",
       "      <th>formation</th>\n",
       "      <th>series</th>\n",
       "      <th>order_series</th>\n",
       "    </tr>\n",
       "  </thead>\n",
       "  <tbody>\n",
       "    <tr>\n",
       "      <th>0</th>\n",
       "      <td>1.5463</td>\n",
       "      <td>5.012474</td>\n",
       "      <td>-4.6149</td>\n",
       "      <td>A</td>\n",
       "      <td>Default serie</td>\n",
       "      <td>1</td>\n",
       "    </tr>\n",
       "    <tr>\n",
       "      <th>1</th>\n",
       "      <td>1.5462</td>\n",
       "      <td>5.012474</td>\n",
       "      <td>-4.6148</td>\n",
       "      <td>A</td>\n",
       "      <td>Default serie</td>\n",
       "      <td>1</td>\n",
       "    </tr>\n",
       "  </tbody>\n",
       "</table>\n",
       "</div>"
      ],
      "text/plain": [
       "        X         Y       Z formation         series  order_series\n",
       "0  1.5463  5.012474 -4.6149         A  Default serie             1\n",
       "1  1.5462  5.012474 -4.6148         A  Default serie             1"
      ]
     },
     "execution_count": 24,
     "metadata": {},
     "output_type": "execute_result"
    }
   ],
   "source": [
    "geo_data.interfaces"
   ]
  },
  {
   "cell_type": "code",
   "execution_count": 25,
   "metadata": {
    "collapsed": false
   },
   "outputs": [
    {
     "data": {
      "text/plain": [
       "<Visualization.PlotData at 0x7fcea143d940>"
      ]
     },
     "execution_count": 25,
     "metadata": {},
     "output_type": "execute_result"
    },
    {
     "data": {
      "image/png": "[encoded data removed]",
      "text/plain": [
       "<matplotlib.figure.Figure at 0x7fcea143d240>"
      ]
     },
     "metadata": {},
     "output_type": "display_data"
    }
   ],
   "source": [
    "GeMpy.plot_data(geo_data)"
   ]
  },
  {
   "cell_type": "code",
   "execution_count": 26,
   "metadata": {
    "collapsed": false
   },
   "outputs": [],
   "source": [
    "data_interp = GeMpy.set_interpolator(geo_data,\n",
    "                                     dtype=\"float64\",\n",
    "                                     verbose=['cov_gradients',\n",
    "                                             'b_vector'])"
   ]
  },
  {
   "cell_type": "code",
   "execution_count": 46,
   "metadata": {
    "collapsed": false
   },
   "outputs": [
    {
     "data": {
      "text/plain": [
       "17.320508075688775"
      ]
     },
     "execution_count": 46,
     "metadata": {},
     "output_type": "execute_result"
    }
   ],
   "source": [
    " np.sqrt((10 - 0) ** 2 +\n",
    "         (10 - 0) ** 2 +\n",
    "         (10 - 0) ** 2)"
   ]
  },
  {
   "cell_type": "code",
   "execution_count": 52,
   "metadata": {
    "collapsed": false
   },
   "outputs": [
    {
     "data": {
      "text/plain": [
       "1.3319937618702313"
      ]
     },
     "execution_count": 52,
     "metadata": {},
     "output_type": "execute_result"
    }
   ],
   "source": [
    "17.32/data_interp.rescaling_factor"
   ]
  },
  {
   "cell_type": "code",
   "execution_count": 48,
   "metadata": {
    "collapsed": false
   },
   "outputs": [
    {
     "data": {
      "text/plain": [
       "array(1.33203283540649)"
      ]
     },
     "execution_count": 48,
     "metadata": {},
     "output_type": "execute_result"
    }
   ],
   "source": [
    "data_interp.interpolator.tg.a_T.get_value()\n"
   ]
  },
  {
   "cell_type": "code",
   "execution_count": 51,
   "metadata": {
    "collapsed": false
   },
   "outputs": [
    {
     "data": {
      "text/plain": [
       "array(0.04224551130002508)"
      ]
     },
     "execution_count": 51,
     "metadata": {},
     "output_type": "execute_result"
    }
   ],
   "source": [
    "data_interp.interpolator.tg.c_o_T.get_value()"
   ]
  },
  {
   "cell_type": "code",
   "execution_count": 49,
   "metadata": {
    "collapsed": false
   },
   "outputs": [
    {
     "data": {
      "text/plain": [
       "0.27464442804276673"
      ]
     },
     "execution_count": 49,
     "metadata": {},
     "output_type": "execute_result"
    }
   ],
   "source": [
    "((17.32)**2/2/14/3)/data_interp.rescaling_factor"
   ]
  },
  {
   "cell_type": "code",
   "execution_count": 50,
   "metadata": {
    "collapsed": false
   },
   "outputs": [
    {
     "data": {
      "text/plain": [
       "0.020348254609512086"
      ]
     },
     "execution_count": 50,
     "metadata": {},
     "output_type": "execute_result"
    }
   ],
   "source": [
    "(17/data_interp.rescaling_factor)**2/2/14/3"
   ]
  },
  {
   "cell_type": "code",
   "execution_count": 44,
   "metadata": {
    "collapsed": false
   },
   "outputs": [
    {
     "data": {
      "text/plain": [
       "array([0.13118956382195424, 0.9002390799133118, 0.11461592958794886, 0.8836654456793064, 0.07712276614975333, 0.8461722822411109], dtype=object)"
      ]
     },
     "execution_count": 44,
     "metadata": {},
     "output_type": "execute_result"
    }
   ],
   "source": [
    "data_interp.extent"
   ]
  },
  {
   "cell_type": "code",
   "execution_count": 28,
   "metadata": {
    "collapsed": false,
    "deletable": true,
    "editable": true,
    "run_control": {
     "marked": false
    }
   },
   "outputs": [],
   "source": [
    "# This cell will go to the backend\n",
    "\n",
    "# Set all the theano shared parameters and return the symbolic variables (the input of the theano function)\n",
    "input_data_T = data_interp.interpolator.tg.input_parameters_list()\n",
    "\n",
    "# Prepare the input data (interfaces, foliations data) to call the theano function.\n",
    "#Also set a few theano shared variables with the len of formations series and so on\n",
    "input_data_P = data_interp.interpolator.data_prep(u_grade=[0]) \n",
    "\n",
    "data_interp.interpolator.u_grade_T_op = theano.shared(0)\n",
    "# Compile the theano function.\n",
    "#compiled_f2 = theano.function(input_data_T, data_interp.interpolator.tg.whole_block_model(),\n",
    "                            #on_unused_input='ignore',\n",
    "#                            allow_input_downcast=True, profile=True)\n",
    "\n",
    "\n"
   ]
  },
  {
   "cell_type": "code",
   "execution_count": 29,
   "metadata": {
    "collapsed": false,
    "scrolled": false
   },
   "outputs": [],
   "source": [
    "kriging = theano.function(input_data_T, data_interp.interpolator.tg.solve_kriging(),\n",
    "                            on_unused_input='ignore',\n",
    "                            allow_input_downcast=True, profile=True)"
   ]
  },
  {
   "cell_type": "code",
   "execution_count": 30,
   "metadata": {
    "collapsed": false
   },
   "outputs": [],
   "source": [
    "a = 100\n",
    "\n",
    "data_interp.interpolator.tg.i_reescale.set_value(6000)\n",
    "data_interp.interpolator.tg.gi_reescale.set_value(60000)\n",
    "input_data_P = data_interp.interpolator.data_prep(u_grade=[0])"
   ]
  },
  {
   "cell_type": "code",
   "execution_count": 31,
   "metadata": {
    "collapsed": false
   },
   "outputs": [
    {
     "name": "stdout",
     "output_type": "stream",
     "text": [
      "Cov Gradients __str__ = [[ 0.343333  0.125769  0.        0.        0.       -0.031989]\n",
      " [ 0.125769  0.343333  0.        0.       -0.031989  0.      ]\n",
      " [ 0.        0.        0.343333  0.221735  0.        0.      ]\n",
      " [ 0.        0.        0.221735  0.343333  0.        0.      ]\n",
      " [ 0.       -0.031989  0.        0.        0.343333  0.211072]\n",
      " [-0.031989  0.        0.        0.        0.211072  0.343333]]\n",
      "b vector __str__ = [ 0.  0. -0. -0.  1.  1.  0.]\n"
     ]
    },
    {
     "data": {
      "text/plain": [
       "array([ 1.469797, -0.993369,  0.      ,  0.      , -0.441686,  1.885582, -7.976592], dtype=float32)"
      ]
     },
     "execution_count": 31,
     "metadata": {},
     "output_type": "execute_result"
    }
   ],
   "source": [
    "kriging(input_data_P[0], input_data_P[1], input_data_P[2], input_data_P[3],input_data_P[4], input_data_P[5])"
   ]
  },
  {
   "cell_type": "code",
   "execution_count": 66,
   "metadata": {
    "collapsed": false
   },
   "outputs": [
    {
     "name": "stdout",
     "output_type": "stream",
     "text": [
      "Cov Gradients __str__ = [[ 0.343333  0.128792  0.        0.        0.       -0.031999]\n",
      " [ 0.128792  0.343333  0.        0.       -0.031999  0.      ]\n",
      " [ 0.        0.        0.343333  0.223262  0.        0.      ]\n",
      " [ 0.        0.        0.223262  0.343333  0.        0.      ]\n",
      " [ 0.       -0.031999  0.        0.        0.343333  0.212423]\n",
      " [-0.031999  0.        0.        0.        0.212423  0.343333]]\n",
      "b vector __str__ = [ 0.  0. -0. -0.  1.  1.  0.]\n"
     ]
    },
    {
     "data": {
      "text/plain": [
       "array([-0.932137, -0.268669,  0.      ,  0.      ,  1.942458,  1.20067 , -0.657767], dtype=float32)"
      ]
     },
     "execution_count": 66,
     "metadata": {},
     "output_type": "execute_result"
    }
   ],
   "source": [
    "kriging(input_data_P[0], input_data_P[1], input_data_P[2], input_data_P[3],input_data_P[4], input_data_P[5])"
   ]
  },
  {
   "cell_type": "code",
   "execution_count": 39,
   "metadata": {
    "collapsed": false
   },
   "outputs": [],
   "source": [
    "c = np.array(\n",
    "            [[ 0.343333,  0.125769,  0.      ,  0.      ,  0.      , -0.031989],\n",
    "             [ 0.125769,  0.343333,  0.      ,  0.      , -0.031989,  0.      ],\n",
    "             [ 0.      ,  0.      ,  0.343333,  0.221735,  0.      ,  0.      ],\n",
    "             [ 0.      ,  0.      ,  0.221735,  0.343333,  0.      ,  0.      ],\n",
    "             [ 0.      , -0.031989,  0.      ,  0.      ,  0.343333,  0.211072],\n",
    "             [-0.031989,  0.      ,  0.      ,  0.      ,  0.211072,  0.343333],]\n",
    ")\n",
    "b = np.array([ 0.,  0., -0., -0.,  1., 1])"
   ]
  },
  {
   "cell_type": "code",
   "execution_count": 40,
   "metadata": {
    "collapsed": false
   },
   "outputs": [
    {
     "data": {
      "text/plain": [
       "array([ 0.123486,  0.123486, -0.      , -0.      ,  1.810861,  1.810861])"
      ]
     },
     "execution_count": 40,
     "metadata": {},
     "output_type": "execute_result"
    }
   ],
   "source": [
    "np.linalg.solve(c,b)"
   ]
  },
  {
   "cell_type": "code",
   "execution_count": null,
   "metadata": {
    "collapsed": true
   },
   "outputs": [],
   "source": []
  },
  {
   "cell_type": "code",
   "execution_count": 112,
   "metadata": {
    "collapsed": true
   },
   "outputs": [],
   "source": [
    "result = np.array([0.67437265590,0,3.027615,1.1771865])"
   ]
  },
  {
   "cell_type": "code",
   "execution_count": 127,
   "metadata": {
    "collapsed": false
   },
   "outputs": [],
   "source": [
    "import pymc as pm"
   ]
  },
  {
   "cell_type": "code",
   "execution_count": 128,
   "metadata": {
    "collapsed": false,
    "scrolled": false
   },
   "outputs": [
    {
     "name": "stdout",
     "output_type": "stream",
     "text": [
      "4.803443571136555 9.09782699087833\n",
      "[-0.553288  0.        2.814871 -0.209652]\n"
     ]
    }
   ],
   "source": [
    "a = pm.Uniform('a',0, 10)\n",
    "b = pm.Uniform('b', 0, 10)\n",
    "\n",
    "@pm.deterministic\n",
    "def kriging_f(value=0, a=a, b=b):\n",
    "    data_interp.interpolator.tg.i_reescale.set_value(a)\n",
    "    data_interp.interpolator.tg.gi_reescale.set_value(b)\n",
    "    input_data_P = data_interp.interpolator.data_prep(u_grade=[0])\n",
    "\n",
    "    k = kriging(input_data_P[0], input_data_P[1], input_data_P[2],\n",
    "            input_data_P[3],input_data_P[4], input_data_P[5])\n",
    "    print(a,b)\n",
    "    print(k)\n",
    "    cost = pm.normal_like((result - k).sum(), 0, 1./0.00000000000000001) \n",
    "    return cost\n",
    "\n",
    "model = pm.Model([a,b,kriging_f])\n"
   ]
  },
  {
   "cell_type": "code",
   "execution_count": 129,
   "metadata": {
    "collapsed": true
   },
   "outputs": [],
   "source": [
    "M = pm.MAP(model)\n",
    "M.fit()"
   ]
  },
  {
   "cell_type": "code",
   "execution_count": 130,
   "metadata": {
    "collapsed": false
   },
   "outputs": [
    {
     "name": "stdout",
     "output_type": "stream",
     "text": [
      "7.3913725326823965 7.498398928462048\n"
     ]
    },
    {
     "data": {
      "text/plain": [
       "array([-0.641598,  0.      ,  2.799269, -0.294971], dtype=float32)"
      ]
     },
     "execution_count": 130,
     "metadata": {},
     "output_type": "execute_result"
    }
   ],
   "source": [
    "print(a.value, b.value)\n",
    "data_interp.interpolator.tg.i_reescale.set_value(a.value)\n",
    "data_interp.interpolator.tg.gi_reescale.set_value(b.value)\n",
    "input_data_P = data_interp.interpolator.data_prep(u_grade=[0])\n",
    "kriging(input_data_P[0], input_data_P[1], input_data_P[2],\n",
    "        input_data_P[3],input_data_P[4], input_data_P[5])"
   ]
  },
  {
   "cell_type": "code",
   "execution_count": 105,
   "metadata": {
    "collapsed": false
   },
   "outputs": [],
   "source": [
    "([0.67437265590,0,3.027615,-1.1771865])"
   ]
  },
  {
   "cell_type": "code",
   "execution_count": 25,
   "metadata": {
    "collapsed": false
   },
   "outputs": [
    {
     "data": {
      "text/plain": [
       "1.5461369085578494"
      ]
     },
     "execution_count": 25,
     "metadata": {},
     "output_type": "execute_result"
    }
   ],
   "source": [
    "a.value/b.value"
   ]
  },
  {
   "cell_type": "code",
   "execution_count": 61,
   "metadata": {
    "collapsed": false,
    "deletable": true,
    "editable": true
   },
   "outputs": [
    {
     "name": "stdout",
     "output_type": "stream",
     "text": [
      "Cov Gradients __str__ = [[ 0.343333  0.        0.      ]\n",
      " [ 0.        0.343333  0.      ]\n",
      " [ 0.        0.        0.343333]]\n",
      "b vector __str__ = [ 0. -0.  1.  0.]\n",
      "Dual Kriging parameters __str__ = [-0.674329  0.        2.793487 -0.455812]\n"
     ]
    }
   ],
   "source": [
    "sol2 = compiled_f2(input_data_P[0], input_data_P[1], input_data_P[2], input_data_P[3],input_data_P[4], input_data_P[5])"
   ]
  },
  {
   "cell_type": "code",
   "execution_count": 18,
   "metadata": {
    "collapsed": false
   },
   "outputs": [],
   "source": [
    "c = np.array(   [[ 0.343333 , 0.        ,0.         ],\n",
    "                 [ 0.    ,    0.34333,  0.       ],\n",
    "                 [ 0.    ,    0.     ,   0.343333]]\n",
    ")\n",
    "\n",
    "b = np.array([ 0., -0.,  1., ]\n",
    ")"
   ]
  },
  {
   "cell_type": "code",
   "execution_count": 19,
   "metadata": {
    "collapsed": false
   },
   "outputs": [
    {
     "data": {
      "text/plain": [
       "array([ 0.      , -0.      ,  2.912624])"
      ]
     },
     "execution_count": 19,
     "metadata": {},
     "output_type": "execute_result"
    }
   ],
   "source": [
    "np.linalg.solve(c,b)"
   ]
  },
  {
   "cell_type": "code",
   "execution_count": null,
   "metadata": {
    "collapsed": true
   },
   "outputs": [],
   "source": []
  },
  {
   "cell_type": "code",
   "execution_count": null,
   "metadata": {
    "collapsed": true
   },
   "outputs": [],
   "source": []
  },
  {
   "cell_type": "code",
   "execution_count": null,
   "metadata": {
    "collapsed": true
   },
   "outputs": [],
   "source": []
  },
  {
   "cell_type": "code",
   "execution_count": 47,
   "metadata": {
    "collapsed": false,
    "deletable": true,
    "editable": true
   },
   "outputs": [
    {
     "name": "stdout",
     "output_type": "stream",
     "text": [
      "Dual Kriging parameters __str__ = [ 0.226956  0.        3.12595   1.393168 -1.040949]\n"
     ]
    }
   ],
   "source": [
    "sol3 = compiled_f2(input_data_P[0], input_data_P[1], input_data_P[2], input_data_P[3],input_data_P[4], input_data_P[5])"
   ]
  },
  {
   "cell_type": "markdown",
   "metadata": {
    "hide_input": true
   },
   "source": [
    " geo:Solution sol=\"0.2209432689602124633143631626808200962841510772705078125\"/>\n",
    " \n",
    "geo:Solution sol=\"0\"/>\n",
    "\n",
    "geo:Solution sol=\"3.1148094267002246482434202334843575954437255859375\"/>\n",
    "\n",
    "geo:Solution sol=\"1.004683800648682012734980162349529564380645751953125\"/>\n",
    "\n",
    "geo:Solution sol=\"-1.352295563705855574454517409321852028369903564453125\"/>"
   ]
  },
  {
   "cell_type": "code",
   "execution_count": 44,
   "metadata": {
    "collapsed": false,
    "deletable": true,
    "editable": true
   },
   "outputs": [
    {
     "data": {
      "text/plain": [
       "array([9])"
      ]
     },
     "execution_count": 44,
     "metadata": {},
     "output_type": "execute_result"
    }
   ],
   "source": [
    "data_interp.interpolator.tg.u_grade_T.get_value()"
   ]
  },
  {
   "cell_type": "code",
   "execution_count": 18,
   "metadata": {
    "collapsed": false,
    "deletable": true,
    "editable": true
   },
   "outputs": [],
   "source": [
    "max_coord = pn.concat(\n",
    "        [geo_data.foliations, geo_data.interfaces]).max()[['X', 'Y', 'Z']]\n",
    "min_coord = pn.concat(\n",
    "    [geo_data.foliations, geo_data.interfaces]).min()[['X', 'Y', 'Z']]\n",
    "\n",
    "rescaling_factor = 2*np.max(max_coord - min_coord)"
   ]
  },
  {
   "cell_type": "code",
   "execution_count": 20,
   "metadata": {
    "collapsed": false
   },
   "outputs": [
    {
     "data": {
      "text/plain": [
       "5.95073195"
      ]
     },
     "execution_count": 20,
     "metadata": {},
     "output_type": "execute_result"
    }
   ],
   "source": [
    "rescaling_factor/2"
   ]
  },
  {
   "cell_type": "code",
   "execution_count": 21,
   "metadata": {
    "collapsed": false
   },
   "outputs": [
    {
     "data": {
      "text/plain": [
       "X    5.95073\n",
       "Y          0\n",
       "Z       1.56\n",
       "dtype: object"
      ]
     },
     "execution_count": 21,
     "metadata": {},
     "output_type": "execute_result"
    }
   ],
   "source": [
    "max_coord - min_coord"
   ]
  },
  {
   "cell_type": "code",
   "execution_count": null,
   "metadata": {
    "collapsed": true
   },
   "outputs": [],
   "source": []
  }
 ],
 "metadata": {
  "kernelspec": {
   "display_name": "Python 3",
   "language": "python",
   "name": "python3"
  },
  "language_info": {
   "codemirror_mode": {
    "name": "ipython",
    "version": 3
   },
   "file_extension": ".py",
   "mimetype": "text/x-python",
   "name": "python",
   "nbconvert_exporter": "python",
   "pygments_lexer": "ipython3",
   "version": "3.6.1"
  },
  "latex_envs": {
   "LaTeX_envs_menu_present": true,
   "autocomplete": true,
   "bibliofile": "biblio.bib",
   "cite_by": "apalike",
   "current_citInitial": 1,
   "eqLabelWithNumbers": true,
   "eqNumInitial": 1,
   "hotkeys": {
    "equation": "Ctrl-E",
    "itemize": "Ctrl-I"
   },
   "labels_anchors": false,
   "latex_user_defs": false,
   "report_style_numbering": false,
   "user_envs_cfg": false
  },
  "toc": {
   "colors": {
    "hover_highlight": "#DAA520",
    "running_highlight": "#FF0000",
    "selected_highlight": "#FFD700"
   },
   "moveMenuLeft": true,
   "nav_menu": {
    "height": "12px",
    "width": "252px"
   },
   "navigate_menu": true,
   "number_sections": true,
   "sideBar": true,
   "threshold": 4,
   "toc_cell": false,
   "toc_section_display": "block",
   "toc_window_display": false,
   "widenNotebook": false
  }
 },
 "nbformat": 4,
 "nbformat_minor": 0
}
