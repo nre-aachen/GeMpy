{
 "cells": [
  {
   "cell_type": "code",
   "execution_count": null,
   "metadata": {
    "collapsed": false,
    "deletable": true,
    "editable": true,
    "run_control": {
     "marked": false
    }
   },
   "outputs": [],
   "source": [
    "# Importing\n",
    "import theano.tensor as T\n",
    "import theano\n",
    "import sys, os\n",
    "sys.path.append(\"../GeMpy\")\n",
    "\n",
    "# Importing GeMpy modules\n",
    "import GeMpy\n",
    "\n",
    "# Reloading (only for development purposes)\n",
    "import importlib\n",
    "importlib.reload(GeMpy)\n",
    "\n",
    "# Usuful packages\n",
    "import numpy as np\n",
    "import pandas as pn\n",
    "\n",
    "import matplotlib.pyplot as plt\n",
    "\n",
    "# This was to choose the gpu\n",
    "os.environ['CUDA_LAUNCH_BLOCKING'] = '1'\n",
    "\n",
    "# Default options of printin\n",
    "np.set_printoptions(precision = 6, linewidth= 130, suppress =  True)\n",
    "\n",
    "#%matplotlib inline\n",
    "%matplotlib inline"
   ]
  },
  {
   "cell_type": "code",
   "execution_count": null,
   "metadata": {
    "collapsed": false,
    "scrolled": false
   },
   "outputs": [
    {
     "name": "stdout",
     "output_type": "stream",
     "text": [
      "I am here\n",
      "[2, 2]\n",
      "[3]\n"
     ]
    }
   ],
   "source": [
    "\"\"\"\n",
    "2 Horizontal layers with drift oen\n",
    "\"\"\"\n",
    "# Importing the data from csv files and settign extent and resolution\n",
    "geo_data = GeMpy.import_data([0, 10, 0, 10, -10, 0], [50, 50, 50],\n",
    "                             path_f=\"./GeoModeller/test_a/test_a_Foliations.csv\",\n",
    "                             path_i=\"./GeoModeller/test_a/test_a_Points.csv\")\n",
    "\n",
    "data_interp = GeMpy.set_interpolator(geo_data,\n",
    "                                     dtype=\"float64\",\n",
    "                                     verbose=['solve_kriging',\n",
    "                                             'matrices_shapes'])\n",
    "# This cell will go to the backend\n",
    "\n",
    "# Set all the theano shared parameters and return the symbolic variables (the input of the theano function)\n",
    "input_data_T = data_interp.interpolator.tg.input_parameters_list()\n",
    "\n",
    "# Prepare the input data (interfaces, foliations data) to call the theano function.\n",
    "# Also set a few theano shared variables with the len of formations series and so on\n",
    "input_data_P = data_interp.interpolator.data_prep(u_grade=[3])\n",
    "\n",
    "# Compile the theano function.\n",
    "compiled_f = theano.function(input_data_T, data_interp.interpolator.tg.whole_block_model(),\n",
    "                             allow_input_downcast=True, profile=True)\n",
    "sol = compiled_f(input_data_P[0], input_data_P[1], input_data_P[2], input_data_P[3], input_data_P[4],\n",
    "                 input_data_P[5])\n",
    "\n",
    "real_sol = np.load('test_a_sol.npy')\n",
    "\n",
    "np.testing.assert_array_almost_equal(sol, real_sol)\n",
    "\n",
    "GeMpy.plot_section(geo_data, 25, block=sol[0, 0, :], direction='y', plot_data=True)\n",
    "GeMpy.plot_potential_field(geo_data, sol[0, 1, :], 25)"
   ]
  },
  {
   "cell_type": "code",
   "execution_count": null,
   "metadata": {
    "collapsed": true
   },
   "outputs": [],
   "source": [
    "# Importing the data from csv files and settign extent and resolution\n",
    "geo_data = GeMpy.import_data([0,10,0,10,-10, 0],[ 50, 50, 50],\n",
    "                         path_f = \"./GeoModeller/test_c/test_c_Foliations.csv\",\n",
    "                         path_i = \"./GeoModeller/test_c/test_c_Points.csv\")"
   ]
  },
  {
   "cell_type": "code",
   "execution_count": null,
   "metadata": {
    "collapsed": false
   },
   "outputs": [],
   "source": [
    "rescaled_data = GeMpy.rescale_data(geo_data)"
   ]
  },
  {
   "cell_type": "code",
   "execution_count": null,
   "metadata": {
    "collapsed": false
   },
   "outputs": [],
   "source": [
    "data_interp.interpolator._data_scaled = rescaled_data\n",
    "data_interp.interpolator.order_table()\n",
    "data_interp.interpolator.set_theano_shared_parameteres()\n",
    "\n",
    "# Set all the theano shared parameters and return the symbolic variables (the input of the theano function)\n",
    "input_data_T = data_interp.interpolator.tg.input_parameters_list()\n",
    "\n",
    "# Prepare the input data (interfaces, foliations data) to call the theano function.\n",
    "#Also set a few theano shared variables with the len of formations series and so on\n",
    "input_data_P = data_interp.interpolator.data_prep(u_grade=[0]) "
   ]
  },
  {
   "cell_type": "code",
   "execution_count": 8,
   "metadata": {
    "collapsed": false
   },
   "outputs": [
    {
     "name": "stdout",
     "output_type": "stream",
     "text": [
      "length_of_C __str__ = 5\n",
      "length_of_CG __str__ = 3\n",
      "length_of_CGI __str__ = 2\n",
      "length_of_U_I __str__ = 0\n",
      "Dual Kriging parameters __str__ = [ 0.000001 -0.        2.912621  0.000002  0.      ]\n"
     ]
    },
    {
     "data": {
      "text/plain": [
       "array([[[ 2.      ,  2.      ,  2.      , ...,  2.      ,  2.      ,  2.      ],\n",
       "        [-0.165796, -0.164517, -0.162708, ...,  0.166041,  0.167894,  0.169208]]])"
      ]
     },
     "execution_count": 8,
     "metadata": {},
     "output_type": "execute_result"
    }
   ],
   "source": [
    "compiled_f(input_data_P[0], input_data_P[1], input_data_P[2], input_data_P[3], input_data_P[4],\n",
    "                 input_data_P[5])"
   ]
  },
  {
   "cell_type": "code",
   "execution_count": 10,
   "metadata": {
    "collapsed": false
   },
   "outputs": [
    {
     "name": "stdout",
     "output_type": "stream",
     "text": [
      "[2, 2]\n",
      "[0]\n"
     ]
    },
    {
     "data": {
      "image/png": "[encoded data removed]",
      "text/plain": [
       "<matplotlib.figure.Figure at 0x7fcb2bb90da0>"
      ]
     },
     "metadata": {},
     "output_type": "display_data"
    }
   ],
   "source": [
    "\n",
    "\n",
    "data_interp = GeMpy.set_interpolator(geo_data,\n",
    "                                     dtype=\"float64\",\n",
    "                                     verbose=['solve_kriging',\n",
    "                                             'matrices_shapes'])\n",
    "\n",
    "GeMpy.plot_data(geo_data)\n",
    "\n",
    "# This cell will go to the backend\n",
    "\n",
    "# Set all the theano shared parameters and return the symbolic variables (the input of the theano function)\n",
    "input_data_T = data_interp.interpolator.tg.input_parameters_list()\n",
    "\n",
    "# Prepare the input data (interfaces, foliations data) to call the theano function.\n",
    "#Also set a few theano shared variables with the len of formations series and so on\n",
    "input_data_P = data_interp.interpolator.data_prep(u_grade=[0]) "
   ]
  },
  {
   "cell_type": "code",
   "execution_count": 12,
   "metadata": {
    "collapsed": true
   },
   "outputs": [],
   "source": [
    "data_interp.interpolator.tg.a_T.set_value(55)"
   ]
  },
  {
   "cell_type": "code",
   "execution_count": 15,
   "metadata": {
    "collapsed": false
   },
   "outputs": [
    {
     "data": {
      "text/plain": [
       "({'_data_scaled': <DataManagement.DataManagement at 0x7f82213717b8>,\n",
       "  '_grid_scaled': <DataManagement.DataManagement.GridClass at 0x7f81f25861d0>,\n",
       "  'dtype': 'float64',\n",
       "  'tg': <theanograf.TheanoGraph_pro at 0x7f81f25d0668>},\n",
       " {'a_T': Range,\n",
       "  'azimuth': Subtensor{int64:int64:}.0,\n",
       "  'azimuth_all': Azimuth,\n",
       "  'c_o_T': Covariance at 0,\n",
       "  'compute_pf': True,\n",
       "  'dip_angles': Subtensor{int64:int64:}.0,\n",
       "  'dip_angles_all': Angle of every dip,\n",
       "  'dips_position': Subtensor{int64:int64:, ::}.0,\n",
       "  'dips_position_all': Position of the dips,\n",
       "  'dips_position_tiled': Reshape{2}.0,\n",
       "  'fault_matrix': Alloc.0,\n",
       "  'final_block': final block init,\n",
       "  'gi_reescale': <TensorType(float64, scalar)>,\n",
       "  'grid_val_T': Coordinates of the grid points to interpolate,\n",
       "  'i_reescale': <TensorType(float64, scalar)>,\n",
       "  'len_series_f': Length of foliations in every series,\n",
       "  'len_series_i': Length of interfaces in every series,\n",
       "  'n_dimensions': 3,\n",
       "  'n_formation': Value of the formation,\n",
       "  'n_formation_op': Subtensor{int64:int64:}.0,\n",
       "  'n_formations_per_serie': List with the number of formations,\n",
       "  'nugget_effect_grad_T': <TensorType(float64, scalar)>,\n",
       "  'number_of_points_per_formation_T': <TensorType(int64, vector)>,\n",
       "  'number_of_points_per_formation_T_op': Subtensor{int64:int64:}.0,\n",
       "  'polarity': Subtensor{int64:int64:}.0,\n",
       "  'polarity_all': Polarity,\n",
       "  'ref_layer_points': Subtensor{int64:int64:, ::}.0,\n",
       "  'ref_layer_points_all': Reference points for every layer,\n",
       "  'rest_layer_points': Subtensor{int64:int64:, ::}.0,\n",
       "  'rest_layer_points_all': Rest of the points of the layers,\n",
       "  'u_grade_T': Grade of the universal drift,\n",
       "  'u_grade_T_op': <TensorType(int64, scalar)>,\n",
       "  'universal_grid_matrix_T': <TensorType(float64, matrix)>,\n",
       "  'verbose': ['solve_kriging', 'matrices_shapes'],\n",
       "  'yet_simulated': Yet simulated node})"
      ]
     },
     "execution_count": 15,
     "metadata": {},
     "output_type": "execute_result"
    }
   ],
   "source": [
    "data_interp.interpolator.__dict__, data_interp.interpolator.tg.__dict__"
   ]
  },
  {
   "cell_type": "code",
   "execution_count": 13,
   "metadata": {
    "collapsed": false
   },
   "outputs": [
    {
     "name": "stdout",
     "output_type": "stream",
     "text": [
      "drift degree __str__ = [3]\n",
      "length_of_C __str__ = 8\n",
      "range __str__ = 1.4433756729740645\n",
      "length_of_CG __str__ = 3\n",
      "length_of_CGI __str__ = 2\n",
      "length_of_U_I __str__ = 3\n",
      "Dual Kriging parameters __str__ = [ 0.322024  0.        1.048662  2.689936 -2.448015 -0.043649  0.        0.793738]\n"
     ]
    },
    {
     "data": {
      "text/plain": [
       "array([[[ 0.      ,  0.      ,  0.      , ...,  1.      ,  1.      ,  1.      ],\n",
       "        [ 0.011002,  0.039346,  0.068023, ...,  1.244429,  1.269424,  1.294634]]])"
      ]
     },
     "execution_count": 13,
     "metadata": {},
     "output_type": "execute_result"
    }
   ],
   "source": [
    "compiled_f(input_data_P[0], input_data_P[1], input_data_P[2], input_data_P[3], input_data_P[4],\n",
    "                 input_data_P[5])\n"
   ]
  },
  {
   "cell_type": "code",
   "execution_count": 7,
   "metadata": {
    "collapsed": false
   },
   "outputs": [
    {
     "name": "stdout",
     "output_type": "stream",
     "text": [
      "drift degree __str__ = [3]\n",
      "length_of_C __str__ = 8\n",
      "range __str__ = 1.4433756729740645\n",
      "length_of_CG __str__ = 3\n",
      "length_of_CGI __str__ = 2\n",
      "length_of_U_I __str__ = 3\n",
      "Dual Kriging parameters __str__ = [ 0.322024  0.        1.048662  2.689936 -2.448015 -0.043649  0.        0.793738]\n"
     ]
    },
    {
     "data": {
      "text/plain": [
       "array([[[ 0.      ,  0.      ,  0.      , ...,  1.      ,  1.      ,  1.      ],\n",
       "        [ 0.011002,  0.039346,  0.068023, ...,  1.244429,  1.269424,  1.294634]]])"
      ]
     },
     "execution_count": 7,
     "metadata": {},
     "output_type": "execute_result"
    }
   ],
   "source": [
    "f(input_data_P[0], input_data_P[1], input_data_P[2], input_data_P[3],input_data_P[4], input_data_P[5])"
   ]
  },
  {
   "cell_type": "code",
   "execution_count": 5,
   "metadata": {
    "collapsed": false
   },
   "outputs": [
    {
     "data": {
      "text/plain": [
       "array([0])"
      ]
     },
     "execution_count": 5,
     "metadata": {},
     "output_type": "execute_result"
    }
   ],
   "source": [
    "data_interp.interpolator.tg.u_grade_T.get_value()"
   ]
  },
  {
   "cell_type": "code",
   "execution_count": 8,
   "metadata": {
    "collapsed": false,
    "deletable": true,
    "editable": true,
    "scrolled": true
   },
   "outputs": [
    {
     "name": "stdout",
     "output_type": "stream",
     "text": [
      "drift degree __str__ = [0]\n",
      "range __str__ = 1.425664641137217\n",
      "length_of_U_I __str__ = 0\n",
      "length_of_U_I __str__ = 0\n",
      "length_of_U_I __str__ = 0\n",
      "length_of_U_I __str__ = 0\n",
      "length_of_U_I __str__ = 0\n",
      "length_of_U_I __str__ = 0\n",
      "length_of_U_I __str__ = 0\n",
      "length_of_U_I __str__ = 0\n",
      "length_of_U_I __str__ = 0\n",
      "length_of_U_I __str__ = 0\n",
      "length_of_U_I __str__ = 0\n",
      "length_of_U_I __str__ = 0\n",
      "length_of_U_I __str__ = 0\n",
      "length_of_U_I __str__ = 0\n",
      "length_of_U_I __str__ = 0\n",
      "length_of_U_I __str__ = 0\n",
      "length_of_U_I __str__ = 0\n",
      "length_of_U_I __str__ = 0\n",
      "length_of_U_I __str__ = 0\n",
      "length_of_U_I __str__ = 0\n",
      "length_of_U_I __str__ = 0\n",
      "length_of_U_I __str__ = 0\n",
      "length_of_U_I __str__ = 0\n",
      "length_of_U_I __str__ = 0\n",
      "length_of_U_I __str__ = 0\n",
      "length_of_U_I __str__ = 0\n",
      "length_of_U_I __str__ = 0\n",
      "length_of_U_I __str__ = 0\n",
      "length_of_U_I __str__ = 0\n",
      "length_of_U_I __str__ = 0\n",
      "length_of_U_I __str__ = 0\n",
      "length_of_U_I __str__ = 0\n",
      "length_of_U_I __str__ = 0\n",
      "length_of_U_I __str__ = 0\n",
      "length_of_U_I __str__ = 0\n",
      "length_of_U_I __str__ = 0\n",
      "length_of_U_I __str__ = 0\n",
      "length_of_U_I __str__ = 0\n",
      "length_of_U_I __str__ = 0\n",
      "length_of_U_I __str__ = 0\n",
      "length_of_U_I __str__ = 0\n",
      "length_of_U_I __str__ = 0\n",
      "length_of_U_I __str__ = 0\n",
      "length_of_U_I __str__ = 0\n",
      "length_of_U_I __str__ = 0\n",
      "length_of_U_I __str__ = 0\n",
      "length_of_U_I __str__ = 0\n",
      "length_of_U_I __str__ = 0\n",
      "length_of_U_I __str__ = 0\n",
      "length_of_U_I __str__ = 0\n",
      "length_of_U_I __str__ = 0\n",
      "length_of_U_I __str__ = 0\n",
      "length_of_U_I __str__ = 0\n",
      "length_of_U_I __str__ = 0\n",
      "length_of_U_I __str__ = 0\n",
      "length_of_U_I __str__ = 0\n",
      "length_of_U_I __str__ = 0\n",
      "length_of_U_I __str__ = 0\n",
      "length_of_U_I __str__ = 0\n",
      "length_of_U_I __str__ = 0\n",
      "length_of_U_I __str__ = 0\n",
      "length_of_U_I __str__ = 0\n",
      "length_of_U_I __str__ = 0\n",
      "length_of_U_I __str__ = 0\n",
      "drift degree __str__ = [0]\n",
      "length_of_C __str__ = 5\n",
      "range __str__ = 1.425664641137217\n",
      "length_of_CG __str__ = 3\n",
      "length_of_CGI __str__ = 2\n",
      "length_of_U_I __str__ = 0\n",
      "Dual Kriging parameters __str__ = [ 0.226995  0.        3.125951  1.393202 -1.040915]\n"
     ]
    }
   ],
   "source": [
    "# Compile the theano function.\n",
    "compiled_f2 = theano.function(input_data_T, data_interp.interpolator.tg.whole_block_model(),\n",
    "                            #on_unused_input='ignore',\n",
    "                           allow_input_downcast=True, profile=True)\n",
    "\n",
    "\n",
    "sol2 = compiled_f2(input_data_P[0], input_data_P[1], input_data_P[2], input_data_P[3],input_data_P[4], input_data_P[5])"
   ]
  },
  {
   "cell_type": "code",
   "execution_count": 49,
   "metadata": {
    "collapsed": false,
    "deletable": true,
    "editable": true
   },
   "outputs": [],
   "source": [
    "0.322024  0.        1.048662  2.689936 -2.448015 -0.043649  0.        0.793738]"
   ]
  },
  {
   "cell_type": "code",
   "execution_count": 50,
   "metadata": {
    "collapsed": false,
    "deletable": true,
    "editable": true
   },
   "outputs": [
    {
     "data": {
      "text/plain": [
       "<Visualization.PlotData at 0x7f30c8a4b7b8>"
      ]
     },
     "execution_count": 50,
     "metadata": {},
     "output_type": "execute_result"
    },
    {
     "data": {
      "image/png": "[encoded data removed]",
      "text/plain": [
       "<matplotlib.figure.Figure at 0x7f30a9fb9e80>"
      ]
     },
     "metadata": {},
     "output_type": "display_data"
    }
   ],
   "source": []
  },
  {
   "cell_type": "code",
   "execution_count": 51,
   "metadata": {
    "collapsed": false,
    "deletable": true,
    "editable": true
   },
   "outputs": [],
   "source": [
    "\n",
    "\n",
    "\n"
   ]
  },
  {
   "cell_type": "code",
   "execution_count": 60,
   "metadata": {
    "collapsed": false,
    "deletable": true,
    "editable": true
   },
   "outputs": [],
   "source": [
    "# Importing the data from csv files and settign extent and resolution\n",
    "geo_data = GeMpy.import_data([0,10,0,10,-10, 0],[ 50, 50, 50],\n",
    "                         path_f = \"./GeoModeller/test_b/test_b_Foliations.csv\",\n",
    "                        path_i = \"./GeoModeller/test_b/test_b_Points.csv\")\n",
    "\n",
    "data_interp = GeMpy.set_interpolator(geo_data,\n",
    "                                     dtype=\"float64\",\n",
    "                                     verbose=['solve_kriging'])"
   ]
  },
  {
   "cell_type": "code",
   "execution_count": 61,
   "metadata": {
    "collapsed": false,
    "deletable": true,
    "editable": true
   },
   "outputs": [],
   "source": [
    "# This cell will go to the backend\n",
    "\n",
    "# Set all the theano shared parameters and return the symbolic variables (the input of the theano function)\n",
    "input_data_T = data_interp.interpolator.tg.input_parameters_list()\n",
    "\n",
    "# Prepare the input data (interfaces, foliations data) to call the theano function.\n",
    "#Also set a few theano shared variables with the len of formations series and so on\n",
    "input_data_P = data_interp.interpolator.data_prep(u_grade=[3]) \n",
    "\n",
    "# Compile the theano function.\n",
    "compiled_f3 = theano.function(input_data_T, data_interp.interpolator.tg.whole_block_model(),\n",
    "                            #on_unused_input='ignore',\n",
    "                            allow_input_downcast=True, profile=True)\n",
    "\n"
   ]
  },
  {
   "cell_type": "code",
   "execution_count": 62,
   "metadata": {
    "collapsed": false,
    "deletable": true,
    "editable": true
   },
   "outputs": [
    {
     "name": "stdout",
     "output_type": "stream",
     "text": [
      "Dual Kriging parameters __str__ = [ 0.318122  0.        1.039766  2.666622 -2.427945 -0.043572  0.        0.793337]\n"
     ]
    }
   ],
   "source": [
    "sol3 = compiled_f3(input_data_P[0], input_data_P[1], input_data_P[2], input_data_P[3],input_data_P[4], input_data_P[5])"
   ]
  },
  {
   "cell_type": "code",
   "execution_count": null,
   "metadata": {
    "collapsed": false,
    "deletable": true,
    "editable": true
   },
   "outputs": [],
   "source": []
  }
 ],
 "metadata": {
  "kernelspec": {
   "display_name": "Python 3",
   "language": "python",
   "name": "python3"
  },
  "language_info": {
   "codemirror_mode": {
    "name": "ipython",
    "version": 3
   },
   "file_extension": ".py",
   "mimetype": "text/x-python",
   "name": "python",
   "nbconvert_exporter": "python",
   "pygments_lexer": "ipython3",
   "version": "3.6.1"
  },
  "latex_envs": {
   "LaTeX_envs_menu_present": true,
   "autocomplete": true,
   "bibliofile": "biblio.bib",
   "cite_by": "apalike",
   "current_citInitial": 1,
   "eqLabelWithNumbers": true,
   "eqNumInitial": 1,
   "hotkeys": {
    "equation": "Ctrl-E",
    "itemize": "Ctrl-I"
   },
   "labels_anchors": false,
   "latex_user_defs": false,
   "report_style_numbering": false,
   "user_envs_cfg": false
  },
  "toc": {
   "colors": {
    "hover_highlight": "#DAA520",
    "running_highlight": "#FF0000",
    "selected_highlight": "#FFD700"
   },
   "moveMenuLeft": true,
   "nav_menu": {
    "height": "12px",
    "width": "252px"
   },
   "navigate_menu": true,
   "number_sections": true,
   "sideBar": true,
   "threshold": 4,
   "toc_cell": false,
   "toc_section_display": "block",
   "toc_window_display": false,
   "widenNotebook": false
  }
 },
 "nbformat": 4,
 "nbformat_minor": 0
}
