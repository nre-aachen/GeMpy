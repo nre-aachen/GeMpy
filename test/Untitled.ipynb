{
 "cells": [
  {
   "cell_type": "code",
   "execution_count": 1,
   "metadata": {
    "collapsed": false,
    "deletable": true,
    "editable": true,
    "run_control": {
     "marked": false
    }
   },
   "outputs": [],
   "source": [
    "# Importing\n",
    "import theano.tensor as T\n",
    "import theano\n",
    "import sys, os\n",
    "sys.path.append(\"../GeMpy\")\n",
    "\n",
    "# Importing GeMpy modules\n",
    "import GeMpy\n",
    "\n",
    "# Reloading (only for development purposes)\n",
    "import importlib\n",
    "importlib.reload(GeMpy)\n",
    "\n",
    "# Usuful packages\n",
    "import numpy as np\n",
    "import pandas as pn\n",
    "\n",
    "import matplotlib.pyplot as plt\n",
    "\n",
    "# This was to choose the gpu\n",
    "os.environ['CUDA_LAUNCH_BLOCKING'] = '1'\n",
    "\n",
    "# Default options of printin\n",
    "np.set_printoptions(precision = 6, linewidth= 130, suppress =  False,\n",
    "                   threshold=50)\n",
    "\n",
    "#%matplotlib inline\n",
    "%matplotlib inline"
   ]
  },
  {
   "cell_type": "code",
   "execution_count": 2,
   "metadata": {
    "collapsed": false,
    "deletable": true,
    "editable": true
   },
   "outputs": [],
   "source": [
    "\"\"\"\n",
    "2 Horizontal layers with drift oen\n",
    "\"\"\"\n",
    "# Importing the data from csv files and settign extent and resolution\n",
    "geo_data = GeMpy.import_data([0, 10, 0, 10, -10, 0], [50, 50, 50],\n",
    "                             path_f=\"./GeoModeller/test_e/test_e_Foliations.csv\",\n",
    "                             path_i=\"./GeoModeller/test_e/test_e_Points.csv\")\n",
    "\n"
   ]
  },
  {
   "cell_type": "code",
   "execution_count": 3,
   "metadata": {
    "collapsed": false,
    "deletable": true,
    "editable": true
   },
   "outputs": [
    {
     "data": {
      "text/plain": [
       "<Visualization.PlotData at 0x7f4ff83599b0>"
      ]
     },
     "execution_count": 3,
     "metadata": {},
     "output_type": "execute_result"
    },
    {
     "data": {
      "image/png": "[encoded data removed]",
      "text/plain": [
       "<matplotlib.figure.Figure at 0x7f4ffc5d0208>"
      ]
     },
     "metadata": {},
     "output_type": "display_data"
    }
   ],
   "source": [
    "GeMpy.plot_data(geo_data)"
   ]
  },
  {
   "cell_type": "code",
   "execution_count": 4,
   "metadata": {
    "collapsed": false,
    "deletable": true,
    "editable": true
   },
   "outputs": [
    {
     "data": {
      "text/html": [
       "<div>\n",
       "<table border=\"1\" class=\"dataframe\">\n",
       "  <thead>\n",
       "    <tr style=\"text-align: right;\">\n",
       "      <th></th>\n",
       "      <th>X</th>\n",
       "      <th>Y</th>\n",
       "      <th>Z</th>\n",
       "      <th>azimuth</th>\n",
       "      <th>dip</th>\n",
       "      <th>polarity</th>\n",
       "      <th>formation</th>\n",
       "      <th>series</th>\n",
       "      <th>order_series</th>\n",
       "      <th>G_x</th>\n",
       "      <th>G_y</th>\n",
       "      <th>G_z</th>\n",
       "    </tr>\n",
       "  </thead>\n",
       "  <tbody>\n",
       "    <tr>\n",
       "      <th>0</th>\n",
       "      <td>3.980732</td>\n",
       "      <td>5.012474</td>\n",
       "      <td>-3.832</td>\n",
       "      <td>90.0</td>\n",
       "      <td>72.897</td>\n",
       "      <td>1</td>\n",
       "      <td>f1</td>\n",
       "      <td>Default serie</td>\n",
       "      <td>1</td>\n",
       "      <td>0.955778</td>\n",
       "      <td>5.852450e-17</td>\n",
       "      <td>0.29409</td>\n",
       "    </tr>\n",
       "    <tr>\n",
       "      <th>1</th>\n",
       "      <td>5.047732</td>\n",
       "      <td>5.012474</td>\n",
       "      <td>-5.000</td>\n",
       "      <td>90.0</td>\n",
       "      <td>0.000</td>\n",
       "      <td>1</td>\n",
       "      <td>A</td>\n",
       "      <td>Default serie</td>\n",
       "      <td>1</td>\n",
       "      <td>0.000000</td>\n",
       "      <td>0.000000e+00</td>\n",
       "      <td>1.00000</td>\n",
       "    </tr>\n",
       "  </tbody>\n",
       "</table>\n",
       "</div>"
      ],
      "text/plain": [
       "          X         Y      Z  azimuth     dip  polarity formation  \\\n",
       "0  3.980732  5.012474 -3.832     90.0  72.897         1        f1   \n",
       "1  5.047732  5.012474 -5.000     90.0   0.000         1         A   \n",
       "\n",
       "          series  order_series       G_x           G_y      G_z  \n",
       "0  Default serie             1  0.955778  5.852450e-17  0.29409  \n",
       "1  Default serie             1  0.000000  0.000000e+00  1.00000  "
      ]
     },
     "execution_count": 4,
     "metadata": {},
     "output_type": "execute_result"
    }
   ],
   "source": [
    "geo_data.foliations"
   ]
  },
  {
   "cell_type": "code",
   "execution_count": 5,
   "metadata": {
    "collapsed": false,
    "deletable": true,
    "editable": true
   },
   "outputs": [
    {
     "name": "stdout",
     "output_type": "stream",
     "text": [
      "[2, 2]\n"
     ]
    }
   ],
   "source": [
    "GeMpy.set_data_series(geo_data, {'series': ('A', 'B'),\n",
    "                      'fault1': 'f1'}, order_series = ['fault1', 'series'])\n",
    "\n",
    "#geo_data = GeMpy.select_series(geo_data, ['fault1'])\n",
    "#GeMpy.plot_data(geo_data)\n",
    "data_interp = GeMpy.set_interpolator(geo_data,\n",
    "                                     dtype=\"float64\",\n",
    "                                     verbose=[#'solve_kriging',\n",
    "                                           #  'matrices_shapes',\n",
    "                                     #         'faults block',\n",
    "                                      #   'grid_val'\n",
    "                                         \"potential_field_at_interfaces\",\n",
    "                                      #   \"potential_field_at_all\",\n",
    "                                         'n_formation',\n",
    "                                          #   'faults_contribution',\n",
    "                                             'faults_matrix'\n",
    "                                     ])"
   ]
  },
  {
   "cell_type": "code",
   "execution_count": 6,
   "metadata": {
    "collapsed": false,
    "deletable": true,
    "editable": true,
    "scrolled": false
   },
   "outputs": [
    {
     "name": "stdout",
     "output_type": "stream",
     "text": [
      "[3, 3]\n",
      "n_formation_fault __str__ = [1]\n",
      "n_formation_series __str__ = [2 3]\n"
     ]
    }
   ],
   "source": [
    "# This cell will go to the backend\n",
    "\n",
    "# Set all the theano shared parameters and return the symbolic variables (the input of the theano function)\n",
    "input_data_T = data_interp.interpolator.tg.input_parameters_list()\n",
    "\n",
    "# Prepare the input data (interfaces, foliations data) to call the theano function.\n",
    "# Also set a few theano shared variables with the len of formations series and so on\n",
    "input_data_P = data_interp.interpolator.data_prep(u_grade=[3, 3])\n",
    "\n",
    "# Compile the theano function.\n",
    "compiled_f = theano.function(input_data_T,\n",
    "                             data_interp.interpolator.tg.whole_block_model(1,\n",
    "                                compute_pf=1),\n",
    "                             allow_input_downcast=True, profile=True)"
   ]
  },
  {
   "cell_type": "code",
   "execution_count": 7,
   "metadata": {
    "collapsed": false,
    "deletable": true,
    "editable": true,
    "scrolled": false
   },
   "outputs": [
    {
     "name": "stdout",
     "output_type": "stream",
     "text": [
      "Faults interfaces matrix rest __str__ = []\n",
      "len points __str__ = 3\n",
      "Faults interfaces matrix ref __str__ = []\n",
      "Faults interfaces matrix __str__ = []\n",
      "Value of the potential field at the interfaces __str__ = [ 1.084767  1.549592  1.833368]\n",
      "n_formation_fault __str__ = [1]\n",
      "Faults interfaces matrix rest __str__ = [[1 1]]\n",
      "len points __str__ = 3\n",
      "Faults interfaces matrix ref __str__ = [[0 0]]\n",
      "Faults interfaces matrix __str__ = [[1 1]]\n",
      "Value of the potential field at the interfaces __str__ = [ 0.372115  0.518623  1.133625]\n",
      "n_formation_series __str__ = [2 3]\n"
     ]
    }
   ],
   "source": [
    "sol = compiled_f(input_data_P[0], input_data_P[1], input_data_P[2], input_data_P[3],input_data_P[4], input_data_P[5])"
   ]
  },
  {
   "cell_type": "code",
   "execution_count": 8,
   "metadata": {
    "collapsed": false,
    "deletable": true,
    "editable": true
   },
   "outputs": [
    {
     "data": {
      "text/plain": [
       "(1, 2, 125000)"
      ]
     },
     "execution_count": 8,
     "metadata": {},
     "output_type": "execute_result"
    }
   ],
   "source": [
    "sol.shape"
   ]
  },
  {
   "cell_type": "code",
   "execution_count": 9,
   "metadata": {
    "collapsed": false,
    "deletable": true,
    "editable": true
   },
   "outputs": [
    {
     "data": {
      "text/plain": [
       "[array([[ 0.409738,  0.5001  ,  0.601286],\n",
       "        [ 0.493288,  0.5001  ,  0.509828]]),\n",
       " array([ 72.897,   0.   ]),\n",
       " array([ 90.,  90.]),\n",
       " array([ 1.,  1.]),\n",
       " array([[ 0.345569,  0.5001  ,  0.7501  ],\n",
       "        [ 0.268087,  0.5001  ,  0.354709],\n",
       "        [ 0.262293,  0.5001  ,  0.631903]]),\n",
       " array([[ 0.493429,  0.5001  ,  0.2501  ],\n",
       "        [ 0.728198,  0.5001  ,  0.274917],\n",
       "        [ 0.737907,  0.5001  ,  0.744738]])]"
      ]
     },
     "execution_count": 9,
     "metadata": {},
     "output_type": "execute_result"
    }
   ],
   "source": [
    "input_data_P\n"
   ]
  },
  {
   "cell_type": "code",
   "execution_count": 10,
   "metadata": {
    "collapsed": false,
    "deletable": true,
    "editable": true,
    "run_control": {
     "marked": true
    }
   },
   "outputs": [
    {
     "data": {
      "text/plain": [
       "<Visualization.PlotData at 0x7f4fbf13fe80>"
      ]
     },
     "execution_count": 10,
     "metadata": {},
     "output_type": "execute_result"
    },
    {
     "data": {
      "image/png": "[encoded data removed]",
      "text/plain": [
       "<matplotlib.figure.Figure at 0x7f4faad11d30>"
      ]
     },
     "metadata": {},
     "output_type": "display_data"
    }
   ],
   "source": [
    "GeMpy.plot_section(geo_data, 25, block=sol[0,0, :], direction='y', plot_data=True)\n"
   ]
  },
  {
   "cell_type": "code",
   "execution_count": 11,
   "metadata": {
    "collapsed": false,
    "deletable": true,
    "editable": true
   },
   "outputs": [
    {
     "data": {
      "image/png": "[encoded data removed]",
      "text/plain": [
       "<matplotlib.figure.Figure at 0x7f4faad151d0>"
      ]
     },
     "metadata": {},
     "output_type": "display_data"
    }
   ],
   "source": [
    "\n",
    "GeMpy.plot_potential_field(geo_data, sol[0, 1, :], 25)"
   ]
  },
  {
   "cell_type": "code",
   "execution_count": 37,
   "metadata": {
    "collapsed": false
   },
   "outputs": [
    {
     "data": {
      "text/plain": [
       "'/home/miguel/PycharmProjects/GeMpy/test/structured.vts'"
      ]
     },
     "execution_count": 37,
     "metadata": {},
     "output_type": "execute_result"
    }
   ],
   "source": [
    "from evtk.hl import gridToVTK \n",
    "\n",
    "import numpy as np \n",
    "\n",
    "import random as rnd \n",
    "\n",
    "# Dimensions \n",
    "\n",
    "nx, ny, nz = 50, 50, 50 \n",
    "\n",
    "lx, ly, lz = 10., 10., -10.0 \n",
    "\n",
    "dx, dy, dz = lx/nx, ly/ny, lz/nz \n",
    "\n",
    "ncells = nx * ny * nz \n",
    "\n",
    "npoints = (nx + 1) * (ny + 1) * (nz + 1) \n",
    "\n",
    "# Coordinates \n",
    "\n",
    "X = np.arange(0, lx + 0.1*dx, dx, dtype='float64') \n",
    "\n",
    "Y = np.arange(0, ly + 0.1*dy, dy, dtype='float64') \n",
    "\n",
    "Z = np.arange(0, lz + 0.1*dz, dz, dtype='float64') \n",
    "\n",
    "x = np.zeros((nx + 1, ny + 1, nz + 1)) \n",
    "\n",
    "y = np.zeros((nx + 1, ny + 1, nz + 1)) \n",
    "\n",
    "z = np.zeros((nx + 1, ny + 1, nz + 1)) \n",
    "\n",
    "# We add some random fluctuation to make the grid more interesting \n",
    "\n",
    "for k in range(nz + 1): \n",
    "\n",
    "    for j in range(ny + 1):\n",
    "        for i in range(nx + 1): \n",
    " \n",
    "            x[i,j,k] = X[i] + (0.5 - rnd.random()) * 0.2 * dx \n",
    "\n",
    "            y[i,j,k] = Y[j] + (0.5 - rnd.random()) * 0.2 * dy \n",
    "\n",
    "            z[i,j,k] = Z[k] + (0.5 - rnd.random()) * 0.2 * dz \n",
    "\n",
    "# Variables \n",
    "\n",
    "pressure = sol[0,0,:].reshape( (nx, ny, nz)) \n",
    "\n",
    "gridToVTK(\"./structured\", x, y, z, cellData = {\"pressure\" : pressure})"
   ]
  },
  {
   "cell_type": "code",
   "execution_count": 38,
   "metadata": {
    "collapsed": false
   },
   "outputs": [
    {
     "data": {
      "text/plain": [
       "'/home/miguel/PycharmProjects/GeMpy/test/rectilinear.vtr'"
      ]
     },
     "execution_count": 38,
     "metadata": {},
     "output_type": "execute_result"
    }
   ],
   "source": [
    "from evtk.hl import gridToVTK \n",
    "\n",
    "import numpy as np \n",
    "\n",
    "# Dimensions \n",
    "\n",
    "\n",
    "nx, ny, nz = 50, 50, 50 \n",
    "\n",
    "lx, ly, lz = 10., 10., -10.0 \n",
    "\n",
    "dx, dy, dz = lx/nx, ly/ny, lz/nz \n",
    "\n",
    "ncells = nx * ny * nz \n",
    "\n",
    "npoints = (nx + 1) * (ny + 1) * (nz + 1) \n",
    "\n",
    "# Coordinates \n",
    "\n",
    "x = np.arange(0, lx + 0.1*dx, dx, dtype='float64') \n",
    "\n",
    "y = np.arange(0, ly + 0.1*dy, dy, dtype='float64') \n",
    "\n",
    "z = np.arange(0, lz + 0.1*dz, dz, dtype='float64') \n",
    "\n",
    "# Variables \n",
    " \n",
    "pressure = sol[0,0,:].reshape( (nx, ny, nz))\n",
    "\n",
    "temp = np.random.rand(npoints).reshape( (nx + 1, ny + 1, nz + 1)) \n",
    "\n",
    "gridToVTK(\"./rectilinear\", x, y, z, cellData = {\"lithology\" : pressure},) "
   ]
  },
  {
   "cell_type": "code",
   "execution_count": null,
   "metadata": {
    "collapsed": true
   },
   "outputs": [],
   "source": []
  },
  {
   "cell_type": "code",
   "execution_count": null,
   "metadata": {
    "collapsed": true
   },
   "outputs": [],
   "source": []
  },
  {
   "cell_type": "code",
   "execution_count": null,
   "metadata": {
    "collapsed": true
   },
   "outputs": [],
   "source": []
  },
  {
   "cell_type": "code",
   "execution_count": null,
   "metadata": {
    "collapsed": true
   },
   "outputs": [],
   "source": []
  },
  {
   "cell_type": "code",
   "execution_count": 16,
   "metadata": {
    "collapsed": true
   },
   "outputs": [],
   "source": [
    " def export_to_vtk(self, vtk_filename=\"geo_grid\", real_coords = True, **kwds):\n",
    "        \"\"\"Export grid to VTK for visualisation\n",
    "\n",
    "        **Arguments**:\n",
    "            - *vtk_filename* = string : vtk filename (obviously...)\n",
    "            - *real_coords* = bool : model extent in \"real world\" coordinates\n",
    "\n",
    "        **Optional Keywords**:\n",
    "            - *grid* = numpy grid : grid to save to vtk (default: self.grid)\n",
    "            - *var_name* = string : name of variable to plot (default: Geology)\n",
    "\n",
    "        Note: requires pyevtk, available at: https://bitbucket.org/pauloh/pyevtk\n",
    "        \"\"\"\n",
    "        grid = kwds.get(\"grid\", self.grid)\n",
    "        var_name = kwds.get(\"var_name\", \"Geology\")\n",
    "        #from evtk.hl import gridToVTK\n",
    "        import pyevtk\n",
    "        from pyevtk.hl import gridToVTK\n",
    "        # define coordinates\n",
    "        x = np.zeros(self.nx + 1)\n",
    "        y = np.zeros(self.ny + 1)\n",
    "        z = np.zeros(self.nz + 1)\n",
    "        x[1:] = np.cumsum(self.delx)\n",
    "        y[1:] = np.cumsum(self.dely)\n",
    "        z[1:] = np.cumsum(self.delz)\n",
    "\n",
    "\n",
    "\n",
    "        # plot in coordinates\n",
    "        if real_coords:\n",
    "            x += self.xmin\n",
    "            y += self.ymin\n",
    "            z += self.zmin\n",
    "\n",
    "\n",
    "        gridToVTK(vtk_filename, x, y, z,\n",
    "                  cellData = {var_name: grid})"
   ]
  },
  {
   "cell_type": "code",
   "execution_count": 12,
   "metadata": {
    "collapsed": false
   },
   "outputs": [
    {
     "ename": "ModuleNotFoundError",
     "evalue": "No module named 'pyevtk'",
     "output_type": "error",
     "traceback": [
      "\u001b[0;31m---------------------------------------------------------------------------\u001b[0m",
      "\u001b[0;31mModuleNotFoundError\u001b[0m                       Traceback (most recent call last)",
      "\u001b[0;32m<ipython-input-12-8d114d7c211e>\u001b[0m in \u001b[0;36m<module>\u001b[0;34m()\u001b[0m\n\u001b[0;32m----> 1\u001b[0;31m \u001b[0;32mimport\u001b[0m \u001b[0mpyevtk\u001b[0m\u001b[0;34m\u001b[0m\u001b[0m\n\u001b[0m",
      "\u001b[0;31mModuleNotFoundError\u001b[0m: No module named 'pyevtk'"
     ]
    }
   ],
   "source": [
    "import pyevtk"
   ]
  },
  {
   "cell_type": "code",
   "execution_count": 19,
   "metadata": {
    "collapsed": true
   },
   "outputs": [],
   "source": [
    "from pyevtk.hl import gridToVTK"
   ]
  },
  {
   "cell_type": "code",
   "execution_count": 32,
   "metadata": {
    "collapsed": false
   },
   "outputs": [],
   "source": [
    "from evtk.hl import gridToVTK  \n",
    "\n",
    "nx = geo_data.resolution[0]\n",
    "ny = geo_data.resolution[1]\n",
    "nz = geo_data.resolution[2]\n",
    "dx = (geo_data.extent[0] - geo_data.extent[1]) / geo_data.resolution[0]\n",
    "dy = (geo_data.extent[2] - geo_data.extent[3]) / geo_data.resolution[1]\n",
    "dz = (geo_data.extent[4] - geo_data.extent[5]) / geo_data.resolution[2]"
   ]
  },
  {
   "cell_type": "code",
   "execution_count": 36,
   "metadata": {
    "collapsed": false
   },
   "outputs": [
    {
     "data": {
      "text/plain": [
       "array([[[ 0.,  0.,  0., ...,  0.,  0.,  0.],\n",
       "        [ 0.,  0.,  0., ...,  0.,  0.,  0.],\n",
       "        [ 0.,  0.,  0., ...,  0.,  0.,  0.],\n",
       "        ..., \n",
       "        [ 0.,  0.,  0., ...,  0.,  0.,  0.],\n",
       "        [ 0.,  0.,  0., ...,  0.,  0.,  0.],\n",
       "        [ 0.,  0.,  0., ...,  0.,  0.,  0.]],\n",
       "\n",
       "       [[ 0.,  0.,  0., ...,  0.,  0.,  0.],\n",
       "        [ 0.,  0.,  0., ...,  0.,  0.,  0.],\n",
       "        [ 0.,  0.,  0., ...,  0.,  0.,  0.],\n",
       "        ..., \n",
       "        [ 0.,  0.,  0., ...,  0.,  0.,  0.],\n",
       "        [ 0.,  0.,  0., ...,  0.,  0.,  0.],\n",
       "        [ 0.,  0.,  0., ...,  0.,  0.,  0.]],\n",
       "\n",
       "       [[ 0.,  0.,  0., ...,  0.,  0.,  0.],\n",
       "        [ 0.,  0.,  0., ...,  0.,  0.,  0.],\n",
       "        [ 0.,  0.,  0., ...,  0.,  0.,  0.],\n",
       "        ..., \n",
       "        [ 0.,  0.,  0., ...,  0.,  0.,  0.],\n",
       "        [ 0.,  0.,  0., ...,  0.,  0.,  0.],\n",
       "        [ 0.,  0.,  0., ...,  0.,  0.,  0.]],\n",
       "\n",
       "       ..., \n",
       "       [[ 0.,  0.,  0., ...,  0.,  0.,  0.],\n",
       "        [ 0.,  0.,  0., ...,  0.,  0.,  0.],\n",
       "        [ 0.,  0.,  0., ...,  0.,  0.,  0.],\n",
       "        ..., \n",
       "        [ 0.,  0.,  0., ...,  0.,  0.,  0.],\n",
       "        [ 0.,  0.,  0., ...,  0.,  0.,  0.],\n",
       "        [ 0.,  0.,  0., ...,  0.,  0.,  0.]],\n",
       "\n",
       "       [[ 0.,  0.,  0., ...,  0.,  0.,  0.],\n",
       "        [ 0.,  0.,  0., ...,  0.,  0.,  0.],\n",
       "        [ 0.,  0.,  0., ...,  0.,  0.,  0.],\n",
       "        ..., \n",
       "        [ 0.,  0.,  0., ...,  0.,  0.,  0.],\n",
       "        [ 0.,  0.,  0., ...,  0.,  0.,  0.],\n",
       "        [ 0.,  0.,  0., ...,  0.,  0.,  0.]],\n",
       "\n",
       "       [[ 0.,  0.,  0., ...,  0.,  0.,  0.],\n",
       "        [ 0.,  0.,  0., ...,  0.,  0.,  0.],\n",
       "        [ 0.,  0.,  0., ...,  0.,  0.,  0.],\n",
       "        ..., \n",
       "        [ 0.,  0.,  0., ...,  0.,  0.,  0.],\n",
       "        [ 0.,  0.,  0., ...,  0.,  0.,  0.],\n",
       "        [ 0.,  0.,  0., ...,  0.,  0.,  0.]]])"
      ]
     },
     "execution_count": 36,
     "metadata": {},
     "output_type": "execute_result"
    }
   ],
   "source": [
    "x = np.zeros((nx + 1, ny + 1, nz + 1))\n"
   ]
  },
  {
   "cell_type": "code",
   "execution_count": 28,
   "metadata": {
    "collapsed": false
   },
   "outputs": [],
   "source": [
    "x = np.zeros(geo_data.resolution[0] + 1)\n",
    "y = np.zeros(geo_data.resolution[1] + 1)\n",
    "z = np.zeros(geo_data.resolution[2] + 1)\n",
    "x[1:] = np.cumsum(dx)\n",
    "y[1:] = np.cumsum(dy)\n",
    "z[1:] = np.cumsum(dz)\n"
   ]
  },
  {
   "cell_type": "code",
   "execution_count": 26,
   "metadata": {
    "collapsed": false
   },
   "outputs": [
    {
     "data": {
      "text/plain": [
       "'/home/miguel/PycharmProjects/GeMpy/test/example2.vtr'"
      ]
     },
     "execution_count": 26,
     "metadata": {},
     "output_type": "execute_result"
    }
   ],
   "source": [
    "gridToVTK('example2', x, y, z,\n",
    "              cellData = {'Lithology': sol[0, 0, :].reshape(50,50,50)})"
   ]
  },
  {
   "cell_type": "code",
   "execution_count": 28,
   "metadata": {
    "collapsed": true
   },
   "outputs": [],
   "source": [
    "import vtk"
   ]
  },
  {
   "cell_type": "code",
   "execution_count": 17,
   "metadata": {
    "collapsed": false
   },
   "outputs": [],
   "source": []
  },
  {
   "cell_type": "code",
   "execution_count": 19,
   "metadata": {
    "collapsed": true
   },
   "outputs": [],
   "source": [
    "import evtk.hl"
   ]
  },
  {
   "cell_type": "code",
   "execution_count": 21,
   "metadata": {
    "collapsed": false
   },
   "outputs": [
    {
     "ename": "TypeError",
     "evalue": "unstructuredGridToVTK() missing 3 required positional arguments: 'connectivity', 'offsets', and 'cell_types'",
     "output_type": "error",
     "traceback": [
      "\u001b[0;31m---------------------------------------------------------------------------\u001b[0m",
      "\u001b[0;31mTypeError\u001b[0m                                 Traceback (most recent call last)",
      "\u001b[0;32m<ipython-input-21-2882b78c0aeb>\u001b[0m in \u001b[0;36m<module>\u001b[0;34m()\u001b[0m\n\u001b[1;32m      1\u001b[0m evtk.hl.unstructuredGridToVTK('example_u', x, y, z,\n\u001b[0;32m----> 2\u001b[0;31m               cellData = {'Lithology': sol[0, 0, :]})\n\u001b[0m",
      "\u001b[0;31mTypeError\u001b[0m: unstructuredGridToVTK() missing 3 required positional arguments: 'connectivity', 'offsets', and 'cell_types'"
     ]
    }
   ],
   "source": [
    "evtk.hl.unstructuredGridToVTK('example_u', x, y, z,\n",
    "              cellData = {'Lithology': sol[0, 0, :]})"
   ]
  },
  {
   "cell_type": "code",
   "execution_count": 22,
   "metadata": {
    "collapsed": false
   },
   "outputs": [
    {
     "ename": "ModuleNotFoundError",
     "evalue": "No module named 'enthought'",
     "output_type": "error",
     "traceback": [
      "\u001b[0;31m---------------------------------------------------------------------------\u001b[0m",
      "\u001b[0;31mModuleNotFoundError\u001b[0m                       Traceback (most recent call last)",
      "\u001b[0;32m<ipython-input-22-4a4dcd566e3d>\u001b[0m in \u001b[0;36m<module>\u001b[0;34m()\u001b[0m\n\u001b[1;32m      1\u001b[0m \u001b[0;32mimport\u001b[0m \u001b[0mnumpy\u001b[0m \u001b[0;32mas\u001b[0m \u001b[0mnp\u001b[0m\u001b[0;34m\u001b[0m\u001b[0m\n\u001b[0;32m----> 2\u001b[0;31m \u001b[0;32mfrom\u001b[0m \u001b[0menthought\u001b[0m\u001b[0;34m.\u001b[0m\u001b[0mtvtk\u001b[0m\u001b[0;34m.\u001b[0m\u001b[0mapi\u001b[0m \u001b[0;32mimport\u001b[0m \u001b[0mtvtk\u001b[0m\u001b[0;34m,\u001b[0m \u001b[0mwrite_data\u001b[0m\u001b[0;34m\u001b[0m\u001b[0m\n\u001b[0m\u001b[1;32m      3\u001b[0m \u001b[0;34m\u001b[0m\u001b[0m\n\u001b[1;32m      4\u001b[0m \u001b[0mdata\u001b[0m \u001b[0;34m=\u001b[0m \u001b[0mnp\u001b[0m\u001b[0;34m.\u001b[0m\u001b[0mrandom\u001b[0m\u001b[0;34m.\u001b[0m\u001b[0mrandom\u001b[0m\u001b[0;34m(\u001b[0m\u001b[0;34m(\u001b[0m\u001b[0;36m10\u001b[0m\u001b[0;34m,\u001b[0m\u001b[0;36m10\u001b[0m\u001b[0;34m,\u001b[0m\u001b[0;36m10\u001b[0m\u001b[0;34m)\u001b[0m\u001b[0;34m)\u001b[0m\u001b[0;34m\u001b[0m\u001b[0m\n\u001b[1;32m      5\u001b[0m \u001b[0;34m\u001b[0m\u001b[0m\n",
      "\u001b[0;31mModuleNotFoundError\u001b[0m: No module named 'enthought'"
     ]
    }
   ],
   "source": [
    "import numpy as np\n",
    "from enthought.tvtk.api import tvtk, write_data\n",
    "\n",
    "data = np.random.random((10,10,10))\n",
    "\n",
    "grid = tvtk.ImageData(spacing=(10, 5, -10), origin=(100, 350, 200), \n",
    "                      dimensions=data.shape)\n",
    "grid.point_data.scalars = np.ravel(order='F')\n",
    "grid.point_data.scalars.name = 'Test Data'\n",
    "\n",
    "# Writes legacy \".vtk\" format if filename ends with \"vtk\", otherwise\n",
    "# this will write data using the newer xml-based format.\n",
    "write_data(grid, 'test.vtk')"
   ]
  },
  {
   "cell_type": "code",
   "execution_count": null,
   "metadata": {
    "collapsed": true
   },
   "outputs": [],
   "source": []
  }
 ],
 "metadata": {
  "kernelspec": {
   "display_name": "Python 3",
   "language": "python",
   "name": "python3"
  },
  "language_info": {
   "codemirror_mode": {
    "name": "ipython",
    "version": 3
   },
   "file_extension": ".py",
   "mimetype": "text/x-python",
   "name": "python",
   "nbconvert_exporter": "python",
   "pygments_lexer": "ipython3",
   "version": "3.6.1"
  },
  "latex_envs": {
   "LaTeX_envs_menu_present": true,
   "autocomplete": true,
   "bibliofile": "biblio.bib",
   "cite_by": "apalike",
   "current_citInitial": 1,
   "eqLabelWithNumbers": true,
   "eqNumInitial": 1,
   "hotkeys": {
    "equation": "Ctrl-E",
    "itemize": "Ctrl-I"
   },
   "labels_anchors": false,
   "latex_user_defs": false,
   "report_style_numbering": false,
   "user_envs_cfg": false
  },
  "toc": {
   "colors": {
    "hover_highlight": "#DAA520",
    "running_highlight": "#FF0000",
    "selected_highlight": "#FFD700"
   },
   "moveMenuLeft": true,
   "nav_menu": {
    "height": "12px",
    "width": "252px"
   },
   "navigate_menu": true,
   "number_sections": true,
   "sideBar": true,
   "threshold": 4,
   "toc_cell": false,
   "toc_section_display": "block",
   "toc_window_display": false,
   "widenNotebook": false
  }
 },
 "nbformat": 4,
 "nbformat_minor": 0
}
