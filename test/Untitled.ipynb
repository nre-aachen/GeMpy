{
 "cells": [
  {
   "cell_type": "code",
   "execution_count": 1,
   "metadata": {
    "collapsed": true,
    "run_control": {
     "marked": false
    }
   },
   "outputs": [],
   "source": [
    "# Importing\n",
    "import theano.tensor as T\n",
    "import theano\n",
    "import sys, os\n",
    "sys.path.append(\"../GeMpy\")\n",
    "\n",
    "# Importing GeMpy modules\n",
    "import GeMpy\n",
    "\n",
    "# Reloading (only for development purposes)\n",
    "import importlib\n",
    "importlib.reload(GeMpy)\n",
    "\n",
    "# Usuful packages\n",
    "import numpy as np\n",
    "import pandas as pn\n",
    "\n",
    "import matplotlib.pyplot as plt\n",
    "\n",
    "# This was to choose the gpu\n",
    "os.environ['CUDA_LAUNCH_BLOCKING'] = '1'\n",
    "\n",
    "# Default options of printin\n",
    "np.set_printoptions(precision = 6, linewidth= 130, suppress =  True)\n",
    "\n",
    "#%matplotlib inline\n",
    "%matplotlib inline"
   ]
  },
  {
   "cell_type": "code",
   "execution_count": 12,
   "metadata": {
    "collapsed": true
   },
   "outputs": [],
   "source": [
    " def test_a():\n",
    "        \"\"\"\n",
    "        2 Horizontal layers with drift oen\n",
    "        \"\"\"\n",
    "        # Importing the data from csv files and settign extent and resolution\n",
    "        geo_data = GeMpy.import_data([0, 10, 0, 10, -10, 0], [50, 50, 50],\n",
    "                                     path_f=\"./GeoModeller/test_a/test_a_Foliations.csv\",\n",
    "                                     path_i=\"./GeoModeller/test_a/test_a_Points.csv\")\n",
    "\n",
    "        data_interp = GeMpy.set_interpolator(geo_data,\n",
    "                                             dtype=\"float64\",\n",
    "                                             verbose=['solve_kriging'])\n",
    "        # This cell will go to the backend\n",
    "\n",
    "        # Set all the theano shared parameters and return the symbolic variables (the input of the theano function)\n",
    "        input_data_T = data_interp.interpolator.tg.input_parameters_list()\n",
    "\n",
    "        # Prepare the input data (interfaces, foliations data) to call the theano function.\n",
    "        # Also set a few theano shared variables with the len of formations series and so on\n",
    "        input_data_P = data_interp.interpolator.data_prep(u_grade=[3])\n",
    "\n",
    "        # Compile the theano function.\n",
    "        compiled_f = theano.function(input_data_T, data_interp.interpolator.tg.whole_block_model(),\n",
    "                                     allow_input_downcast=True, profile=True)\n",
    "        sol = compiled_f(input_data_P[0], input_data_P[1], input_data_P[2], input_data_P[3], input_data_P[4],\n",
    "                         input_data_P[5])\n",
    "\n",
    "        real_sol = np.load('test_a_sol.npy')\n",
    "\n",
    "        np.testing.assert_array_almost_equal(sol, real_sol)\n",
    "\n",
    "        GeMpy.plot_section(geo_data, 25, block=sol[0, 0, :], direction='y', plot_data=True)\n",
    "        GeMpy.plot_potential_field(geo_data, sol[0, 1, :], 25)\n",
    "        return compiled_f"
   ]
  },
  {
   "cell_type": "code",
   "execution_count": 14,
   "metadata": {
    "collapsed": false
   },
   "outputs": [
    {
     "name": "stdout",
     "output_type": "stream",
     "text": [
      "Dual Kriging parameters __str__ = [ 0.  0.  0.  0.  0.  0. -0.  1.]\n"
     ]
    },
    {
     "data": {
      "image/png": "[encoded data removed]",
      "text/plain": [
       "<matplotlib.figure.Figure at 0x7f30d90b9550>"
      ]
     },
     "metadata": {},
     "output_type": "display_data"
    },
    {
     "data": {
      "image/png": "[encoded data removed]",
      "text/plain": [
       "<matplotlib.figure.Figure at 0x7f30f3791400>"
      ]
     },
     "metadata": {},
     "output_type": "display_data"
    }
   ],
   "source": [
    "f = test_a()"
   ]
  },
  {
   "cell_type": "code",
   "execution_count": 48,
   "metadata": {
    "collapsed": false
   },
   "outputs": [],
   "source": [
    "# Importing the data from csv files and settign extent and resolution\n",
    "geo_data = GeMpy.import_data([0,10,0,10,-10, 0],[ 50, 50, 50],\n",
    "                         path_f = \"./GeoModeller/test_c/test_c_Foliations.csv\",\n",
    "                         path_i = \"./GeoModeller/test_c/test_c_Points.csv\")"
   ]
  },
  {
   "cell_type": "code",
   "execution_count": 49,
   "metadata": {
    "collapsed": true
   },
   "outputs": [],
   "source": [
    "data_interp = GeMpy.set_interpolator(geo_data,\n",
    "                                     dtype=\"float64\",\n",
    "                                     verbose=['solve_kriging'])"
   ]
  },
  {
   "cell_type": "code",
   "execution_count": 50,
   "metadata": {
    "collapsed": false
   },
   "outputs": [
    {
     "data": {
      "text/plain": [
       "<Visualization.PlotData at 0x7f30c8a4b7b8>"
      ]
     },
     "execution_count": 50,
     "metadata": {},
     "output_type": "execute_result"
    },
    {
     "data": {
      "image/png": "[encoded data removed]",
      "text/plain": [
       "<matplotlib.figure.Figure at 0x7f30a9fb9e80>"
      ]
     },
     "metadata": {},
     "output_type": "display_data"
    }
   ],
   "source": [
    "GeMpy.plot_data(geo_data)"
   ]
  },
  {
   "cell_type": "code",
   "execution_count": 51,
   "metadata": {
    "collapsed": false
   },
   "outputs": [],
   "source": [
    "# This cell will go to the backend\n",
    "\n",
    "# Set all the theano shared parameters and return the symbolic variables (the input of the theano function)\n",
    "input_data_T = data_interp.interpolator.tg.input_parameters_list()\n",
    "\n",
    "# Prepare the input data (interfaces, foliations data) to call the theano function.\n",
    "#Also set a few theano shared variables with the len of formations series and so on\n",
    "input_data_P = data_interp.interpolator.data_prep(u_grade=[0]) \n",
    "\n",
    "# Compile the theano function.\n",
    "compiled_f2 = theano.function(input_data_T, data_interp.interpolator.tg.whole_block_model(),\n",
    "                            #on_unused_input='ignore',\n",
    "                            allow_input_downcast=True, profile=True)\n",
    "\n",
    "\n"
   ]
  },
  {
   "cell_type": "code",
   "execution_count": 52,
   "metadata": {
    "collapsed": false
   },
   "outputs": [
    {
     "name": "stdout",
     "output_type": "stream",
     "text": [
      "Dual Kriging parameters __str__ = [ 0.226956  0.        3.12595   1.393168 -1.040949]\n"
     ]
    }
   ],
   "source": [
    "sol2 = compiled_f2(input_data_P[0], input_data_P[1], input_data_P[2], input_data_P[3],input_data_P[4], input_data_P[5])"
   ]
  },
  {
   "cell_type": "code",
   "execution_count": 6,
   "metadata": {
    "collapsed": false
   },
   "outputs": [
    {
     "data": {
      "image/png": "[encoded data removed]",
      "text/plain": [
       "<matplotlib.figure.Figure at 0x7f30fe0cd278>"
      ]
     },
     "metadata": {},
     "output_type": "display_data"
    },
    {
     "data": {
      "image/png": "[encoded data removed]",
      "text/plain": [
       "<matplotlib.figure.Figure at 0x7f30fdc9b828>"
      ]
     },
     "metadata": {},
     "output_type": "display_data"
    }
   ],
   "source": [
    "GeMpy.plot_section(geo_data, 25,  block = sol[0,0,:], direction='y', plot_data = True)\n",
    "GeMpy.plot_potential_field(geo_data, sol[0,1,:], 25)"
   ]
  },
  {
   "cell_type": "code",
   "execution_count": 60,
   "metadata": {
    "collapsed": false
   },
   "outputs": [],
   "source": [
    "# Importing the data from csv files and settign extent and resolution\n",
    "geo_data = GeMpy.import_data([0,10,0,10,-10, 0],[ 50, 50, 50],\n",
    "                         path_f = \"./GeoModeller/test_b/test_b_Foliations.csv\",\n",
    "                        path_i = \"./GeoModeller/test_b/test_b_Points.csv\")\n",
    "\n",
    "data_interp = GeMpy.set_interpolator(geo_data,\n",
    "                                     dtype=\"float64\",\n",
    "                                     verbose=['solve_kriging'])"
   ]
  },
  {
   "cell_type": "code",
   "execution_count": 61,
   "metadata": {
    "collapsed": true
   },
   "outputs": [],
   "source": [
    "# This cell will go to the backend\n",
    "\n",
    "# Set all the theano shared parameters and return the symbolic variables (the input of the theano function)\n",
    "input_data_T = data_interp.interpolator.tg.input_parameters_list()\n",
    "\n",
    "# Prepare the input data (interfaces, foliations data) to call the theano function.\n",
    "#Also set a few theano shared variables with the len of formations series and so on\n",
    "input_data_P = data_interp.interpolator.data_prep(u_grade=[3]) \n",
    "\n",
    "# Compile the theano function.\n",
    "compiled_f3 = theano.function(input_data_T, data_interp.interpolator.tg.whole_block_model(),\n",
    "                            #on_unused_input='ignore',\n",
    "                            allow_input_downcast=True, profile=True)\n",
    "\n"
   ]
  },
  {
   "cell_type": "code",
   "execution_count": 62,
   "metadata": {
    "collapsed": false
   },
   "outputs": [
    {
     "name": "stdout",
     "output_type": "stream",
     "text": [
      "Dual Kriging parameters __str__ = [ 0.318122  0.        1.039766  2.666622 -2.427945 -0.043572  0.        0.793337]\n"
     ]
    }
   ],
   "source": [
    "sol3 = compiled_f3(input_data_P[0], input_data_P[1], input_data_P[2], input_data_P[3],input_data_P[4], input_data_P[5])"
   ]
  },
  {
   "cell_type": "code",
   "execution_count": null,
   "metadata": {
    "collapsed": true
   },
   "outputs": [],
   "source": []
  }
 ],
 "metadata": {
  "kernelspec": {
   "display_name": "Python 3",
   "language": "python",
   "name": "python3"
  },
  "language_info": {
   "codemirror_mode": {
    "name": "ipython",
    "version": 3
   },
   "file_extension": ".py",
   "mimetype": "text/x-python",
   "name": "python",
   "nbconvert_exporter": "python",
   "pygments_lexer": "ipython3",
   "version": "3.6.1"
  },
  "latex_envs": {
   "LaTeX_envs_menu_present": true,
   "autocomplete": true,
   "bibliofile": "biblio.bib",
   "cite_by": "apalike",
   "current_citInitial": 1,
   "eqLabelWithNumbers": true,
   "eqNumInitial": 1,
   "hotkeys": {
    "equation": "Ctrl-E",
    "itemize": "Ctrl-I"
   },
   "labels_anchors": false,
   "latex_user_defs": false,
   "report_style_numbering": false,
   "user_envs_cfg": false
  },
  "toc": {
   "colors": {
    "hover_highlight": "#DAA520",
    "running_highlight": "#FF0000",
    "selected_highlight": "#FFD700"
   },
   "moveMenuLeft": true,
   "nav_menu": {
    "height": "12px",
    "width": "252px"
   },
   "navigate_menu": true,
   "number_sections": true,
   "sideBar": true,
   "threshold": 4,
   "toc_cell": false,
   "toc_section_display": "block",
   "toc_window_display": false,
   "widenNotebook": false
  }
 },
 "nbformat": 4,
 "nbformat_minor": 0
}
